{
 "cells": [
  {
   "cell_type": "code",
   "execution_count": 1,
   "metadata": {},
   "outputs": [],
   "source": [
    "import os\n",
    "import healpy as hp\n",
    "import matplotlib.pyplot as plt\n",
    "import numpy as np\n",
    "from astropy.io import fits\n",
    "%matplotlib inline"
   ]
  },
  {
   "cell_type": "code",
   "execution_count": 2,
   "metadata": {},
   "outputs": [],
   "source": [
    "hp.disable_warnings()"
   ]
  },
  {
   "cell_type": "code",
   "execution_count": 3,
   "metadata": {},
   "outputs": [],
   "source": [
    "plt.style.use(\"seaborn-talk\")"
   ]
  },
  {
   "cell_type": "code",
   "execution_count": 4,
   "metadata": {},
   "outputs": [],
   "source": [
    "import pysm3 as pysm\n",
    "import pysm3.units as u"
   ]
  },
  {
   "cell_type": "code",
   "execution_count": 5,
   "metadata": {},
   "outputs": [],
   "source": [
    "lmax = 1000\n",
    "nside = 2048"
   ]
  },
  {
   "cell_type": "code",
   "execution_count": 58,
   "metadata": {},
   "outputs": [],
   "source": [
    "comp = \"I\"\n",
    "# comp = \"QU\""
   ]
  },
  {
   "cell_type": "code",
   "execution_count": 7,
   "metadata": {},
   "outputs": [
    {
     "data": {
      "text/plain": [
       "[(0, 'I')]"
      ]
     },
     "execution_count": 7,
     "metadata": {},
     "output_type": "execute_result"
    }
   ],
   "source": [
    "components = list(enumerate(comp))\n",
    "components"
   ]
  },
  {
   "cell_type": "code",
   "execution_count": 8,
   "metadata": {},
   "outputs": [],
   "source": [
    "i_pols = [1,2] if comp == \"QU\" else [0]"
   ]
  },
  {
   "cell_type": "code",
   "execution_count": 9,
   "metadata": {},
   "outputs": [],
   "source": [
    "import pymaster as nmt"
   ]
  },
  {
   "cell_type": "code",
   "execution_count": 10,
   "metadata": {},
   "outputs": [],
   "source": [
    "binning = nmt.NmtBin(nside=nside, nlb=1, lmax=lmax, is_Dell=True)"
   ]
  },
  {
   "cell_type": "code",
   "execution_count": 11,
   "metadata": {},
   "outputs": [],
   "source": [
    "ell = binning.get_effective_ells()"
   ]
  },
  {
   "cell_type": "code",
   "execution_count": 12,
   "metadata": {},
   "outputs": [],
   "source": [
    "def run_namaster(m, mask):\n",
    "    \"\"\"Run NaMaster for a QU map\n",
    "    \n",
    "    uses a binning object defined globally\"\"\"\n",
    "    f_2 = nmt.NmtField(mask, m)   \n",
    "    cl_namaster = nmt.compute_full_master(f_2, f_2, binning)\n",
    "    return (cl_namaster[0],) if len(m) != 2 else (cl_namaster[0], cl_namaster[3])"
   ]
  },
  {
   "cell_type": "markdown",
   "metadata": {},
   "source": [
    "## Mask"
   ]
  },
  {
   "cell_type": "code",
   "execution_count": 13,
   "metadata": {},
   "outputs": [],
   "source": [
    "planck_mask_filename = \"COM_Mask_CMB-common-Mask-Int_2048_R3.00.fits\" if comp ==\"I\" else \"COM_Mask_CMB-common-Mask-Pol_2048_R3.00.fits\" "
   ]
  },
  {
   "cell_type": "code",
   "execution_count": 14,
   "metadata": {},
   "outputs": [],
   "source": [
    "planck_mask = hp.read_map(planck_mask_filename)"
   ]
  },
  {
   "cell_type": "markdown",
   "metadata": {},
   "source": [
    "## Load original GNILC map at uniform resolution"
   ]
  },
  {
   "cell_type": "code",
   "execution_count": 15,
   "metadata": {},
   "outputs": [],
   "source": [
    "dust_map_smoothed_filename = \"COM_CompMap_IQU-thermaldust-gnilc-unires_2048_R3.00.fits\""
   ]
  },
  {
   "cell_type": "code",
   "execution_count": 16,
   "metadata": {},
   "outputs": [],
   "source": [
    "KCMB_to_uKRJ = (1*u.K_CMB).to(\"uK_RJ\", equivalencies=u.cmb_equivalencies(353*u.GHz))"
   ]
  },
  {
   "cell_type": "code",
   "execution_count": 17,
   "metadata": {},
   "outputs": [
    {
     "data": {
      "text/latex": [
       "$77486.37 \\; \\mathrm{\\mu K_{{RJ}}}$"
      ],
      "text/plain": [
       "<Quantity 77486.36962953 uK_RJ>"
      ]
     },
     "execution_count": 17,
     "metadata": {},
     "output_type": "execute_result"
    }
   ],
   "source": [
    "KCMB_to_uKRJ"
   ]
  },
  {
   "cell_type": "code",
   "execution_count": 18,
   "metadata": {},
   "outputs": [],
   "source": [
    "columns = [c+\"_STOKES\" for c in comp]"
   ]
  },
  {
   "cell_type": "code",
   "execution_count": 19,
   "metadata": {},
   "outputs": [],
   "source": [
    "m_planck_smoothed = hp.read_map(dust_map_smoothed_filename, columns) * KCMB_to_uKRJ.value"
   ]
  },
  {
   "cell_type": "code",
   "execution_count": 20,
   "metadata": {},
   "outputs": [],
   "source": [
    "m_planck_smoothed = m_planck_smoothed.reshape((1,-1))"
   ]
  },
  {
   "cell_type": "code",
   "execution_count": 21,
   "metadata": {},
   "outputs": [
    {
     "data": {
      "text/plain": [
       "(1, 50331648)"
      ]
     },
     "execution_count": 21,
     "metadata": {},
     "output_type": "execute_result"
    }
   ],
   "source": [
    "m_planck_smoothed.shape"
   ]
  },
  {
   "cell_type": "code",
   "execution_count": 22,
   "metadata": {},
   "outputs": [],
   "source": [
    "cl_planck_smoothed= run_namaster(m_planck_smoothed, planck_mask)"
   ]
  },
  {
   "cell_type": "code",
   "execution_count": 23,
   "metadata": {},
   "outputs": [],
   "source": [
    "cl_planck_smoothed = np.array(cl_planck_smoothed)"
   ]
  },
  {
   "cell_type": "code",
   "execution_count": 24,
   "metadata": {},
   "outputs": [],
   "source": [
    "hp.write_cl(f\"compare_cl_gnilc_smoothed_{comp}.fits\", cl_planck_smoothed, overwrite=True)"
   ]
  },
  {
   "cell_type": "code",
   "execution_count": 25,
   "metadata": {},
   "outputs": [],
   "source": [
    "# cl_planck_smoothed = hp.read_cl(\"compare_cl_gnilc_smoothed.fits\")"
   ]
  },
  {
   "cell_type": "markdown",
   "metadata": {},
   "source": [
    "## Load original GNILC map at variable resolution"
   ]
  },
  {
   "cell_type": "code",
   "execution_count": 26,
   "metadata": {},
   "outputs": [],
   "source": [
    "dust_map_filename = \"COM_CompMap_IQU-thermaldust-gnilc-varres_2048_R3.00.fits\""
   ]
  },
  {
   "cell_type": "code",
   "execution_count": 27,
   "metadata": {},
   "outputs": [],
   "source": [
    "m_planck = hp.read_map(dust_map_filename, columns) * KCMB_to_uKRJ"
   ]
  },
  {
   "cell_type": "code",
   "execution_count": 28,
   "metadata": {},
   "outputs": [],
   "source": [
    "if m_planck.ndim == 1:\n",
    "    m_planck = m_planck.reshape((1,-1))"
   ]
  },
  {
   "cell_type": "code",
   "execution_count": 29,
   "metadata": {},
   "outputs": [],
   "source": [
    "cl_planck = run_namaster(m_planck, planck_mask)"
   ]
  },
  {
   "cell_type": "code",
   "execution_count": 30,
   "metadata": {},
   "outputs": [],
   "source": [
    "cl_planck = np.array(cl_planck)"
   ]
  },
  {
   "cell_type": "code",
   "execution_count": 31,
   "metadata": {},
   "outputs": [],
   "source": [
    "hp.write_cl(f\"compare_cl_gnilc_{comp}.fits\", cl_planck, overwrite=True)"
   ]
  },
  {
   "cell_type": "code",
   "execution_count": 32,
   "metadata": {},
   "outputs": [],
   "source": [
    "# cl_planck = hp.read_cl(\"compare_cl_gnilc.fits\")"
   ]
  },
  {
   "cell_type": "markdown",
   "metadata": {},
   "source": [
    "## Load the GNILC templates with added small scales"
   ]
  },
  {
   "cell_type": "code",
   "execution_count": 72,
   "metadata": {},
   "outputs": [],
   "source": [
    "m_template = hp.read_map(f\"gnilc_plus_smallscales_{comp}.fits\", i_pols)"
   ]
  },
  {
   "cell_type": "code",
   "execution_count": 73,
   "metadata": {},
   "outputs": [],
   "source": [
    "if m_template.ndim == 1:\n",
    "    m_template = m_template.reshape((1,-1))"
   ]
  },
  {
   "cell_type": "code",
   "execution_count": 74,
   "metadata": {},
   "outputs": [],
   "source": [
    "cl_template = run_namaster(m_template, planck_mask)"
   ]
  },
  {
   "cell_type": "code",
   "execution_count": 75,
   "metadata": {},
   "outputs": [],
   "source": [
    "hp.write_cl(f\"compare_cl_template_{comp}.fits\", cl_template, overwrite=True)"
   ]
  },
  {
   "cell_type": "code",
   "execution_count": 76,
   "metadata": {},
   "outputs": [],
   "source": [
    "# cl_template = hp.read_cl(\"compare_cl_template.fits\")"
   ]
  },
  {
   "cell_type": "code",
   "execution_count": 77,
   "metadata": {},
   "outputs": [],
   "source": [
    "m_template_scaled = hp.read_map(f\"gnilc_plus_smallscales_scaled_{comp}.fits\", i_pols)"
   ]
  },
  {
   "cell_type": "code",
   "execution_count": 78,
   "metadata": {},
   "outputs": [],
   "source": [
    "if m_template_scaled.ndim == 1:\n",
    "    m_template_scaled = m_template_scaled.reshape((1,-1))"
   ]
  },
  {
   "cell_type": "code",
   "execution_count": 79,
   "metadata": {},
   "outputs": [],
   "source": [
    "cl_template_scaled = run_namaster(m_template_scaled, planck_mask)"
   ]
  },
  {
   "cell_type": "code",
   "execution_count": 80,
   "metadata": {},
   "outputs": [],
   "source": [
    "hp.write_cl(f\"compare_cl_template_scaled_{comp}.fits\", cl_template_scaled, overwrite=True)"
   ]
  },
  {
   "cell_type": "code",
   "execution_count": 81,
   "metadata": {},
   "outputs": [],
   "source": [
    "# cl_template_scaled = hp.read_cl(\"compare_cl_template_scaled.fits\")"
   ]
  },
  {
   "cell_type": "markdown",
   "metadata": {},
   "source": [
    "## Download PySM 2 templates"
   ]
  },
  {
   "cell_type": "code",
   "execution_count": 61,
   "metadata": {},
   "outputs": [],
   "source": [
    "for c in \"tqu\":\n",
    "    filename = f\"dust_{c}_new.fits\"\n",
    "    if not os.path.exists(filename):\n",
    "        !wget https://portal.nersc.gov/project/cmb/pysm-data/pysm_2/$filename"
   ]
  },
  {
   "cell_type": "code",
   "execution_count": 62,
   "metadata": {},
   "outputs": [],
   "source": [
    "m_pysm2 = [hp.read_map(f\"dust_{c}_new.fits\") for c in comp.lower().replace(\"i\",\"t\")]"
   ]
  },
  {
   "cell_type": "code",
   "execution_count": 63,
   "metadata": {},
   "outputs": [],
   "source": [
    "cl_pysm2 = run_namaster(m_pysm2, hp.ud_grade(planck_mask, 512) == 1)"
   ]
  },
  {
   "cell_type": "markdown",
   "metadata": {},
   "source": [
    "## Compare PySM 2, the input and the output"
   ]
  },
  {
   "cell_type": "code",
   "execution_count": 83,
   "metadata": {},
   "outputs": [],
   "source": [
    "spectra_components = [\"II\"] if comp == \"I\" else [\"EE\", \"BB\"]"
   ]
  },
  {
   "cell_type": "code",
   "execution_count": 85,
   "metadata": {},
   "outputs": [
    {
     "data": {
      "image/png": "[encoded data removed]",
      "text/plain": [
       "<Figure size 720x432 with 1 Axes>"
      ]
     },
     "metadata": {
      "needs_background": "light"
     },
     "output_type": "display_data"
    }
   ],
   "source": [
    "for i_pol, pol in enumerate(spectra_components):\n",
    "    plt.figure(figsize=(10,6))\n",
    "    plt.loglog(ell, cl_pysm2[i_pol], label=\"PySM 2\")\n",
    "\n",
    "    plt.loglog(ell, cl_planck[i_pol], label=\"GNILC var res\")\n",
    "    plt.loglog(ell, cl_planck_smoothed[i_pol], label=\"GNILC uni res\")\n",
    "    #plt.loglog(ell, cl_template[i_pol], label=\"GNILC + SS\")\n",
    "    plt.loglog(ell, cl_template[i_pol], alpha=.7, label=\"GNILC + SS scaled\")\n",
    "    #plt.loglog(A_fit[pol] * ell**gamma_fit[pol], label=\"spectrum fit\")\n",
    "    #plt.axvline(ell_star, color=\"black\")\n",
    "    plt.title(pol)\n",
    "    plt.legend()\n",
    "    plt.xlim([1,1000])\n",
    "    #plt.ylim([4e-2, 4e1])\n",
    "    plt.ylabel(\"$\\ell(\\ell+1)C_\\ell/2\\pi$\")\n",
    "    plt.xlabel(\"$\\ell$\")\n",
    "    plt.grid();"
   ]
  },
  {
   "cell_type": "markdown",
   "metadata": {},
   "source": [
    "We can also compare with the dust BB plot (Figure 7) from the PySM 2 paper below\n",
    "\n",
    "![BB Dust PySM 2 Paper](BB_dust_PySM_2_paper.png)"
   ]
  },
  {
   "cell_type": "code",
   "execution_count": null,
   "metadata": {},
   "outputs": [],
   "source": [
    "m_labels = [(m_planck, \"GNILC var res\"), (m_pysm2, \"PySM 2\"),\n",
    "            (m_planck_smoothed, \"GNILC uni res\"), (m_template_scaled, \"GNILC + SS scaled\")]"
   ]
  },
  {
   "cell_type": "markdown",
   "metadata": {},
   "source": [
    "## Inspect a region of the maps\n",
    "\n",
    "As in the PySM 2 paper, see a gnomview centered at RA,DEC (0,-55), 40 degrees per side."
   ]
  },
  {
   "cell_type": "code",
   "execution_count": null,
   "metadata": {},
   "outputs": [],
   "source": [
    "for m,label in m_labels:\n",
    "    hp.gnomview(m[0],rot= (0,-55), xsize=1200, reso=2, coord=(\"G\",\"C\"),min=-3, max=6, title=label)\n",
    "    hp.graticule()"
   ]
  }
 ],
 "metadata": {
  "kernelspec": {
   "display_name": "namaster",
   "language": "python",
   "name": "namaster"
  },
  "language_info": {
   "codemirror_mode": {
    "name": "ipython",
    "version": 3
   },
   "file_extension": ".py",
   "mimetype": "text/x-python",
   "name": "python",
   "nbconvert_exporter": "python",
   "pygments_lexer": "ipython3",
   "version": "3.7.8"
  }
 },
 "nbformat": 4,
 "nbformat_minor": 4
}
