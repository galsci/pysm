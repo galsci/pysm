{
 "cells": [
  {
   "cell_type": "code",
   "execution_count": 1,
   "id": "815c1aee",
   "metadata": {
    "execution": {
     "iopub.execute_input": "2023-02-13T04:22:37.537282Z",
     "iopub.status.busy": "2023-02-13T04:22:37.534406Z",
     "iopub.status.idle": "2023-02-13T04:22:37.547137Z",
     "shell.execute_reply": "2023-02-13T04:22:37.549873Z"
    },
    "papermill": {
     "duration": 0.239907,
     "end_time": "2023-02-13T04:22:37.550932",
     "exception": false,
     "start_time": "2023-02-13T04:22:37.311025",
     "status": "completed"
    },
    "tags": []
   },
   "outputs": [],
   "source": [
    "import os\n",
    "\n",
    "os.environ[\n",
    "    \"OMP_NUM_THREADS\"\n",
    "] = \"64\"  # for jupyter.nersc.gov otherwise the notebook only uses 2 cores"
   ]
  },
  {
   "cell_type": "code",
   "execution_count": 2,
   "id": "bf398055",
   "metadata": {
    "execution": {
     "iopub.execute_input": "2023-02-13T04:22:37.940310Z",
     "iopub.status.busy": "2023-02-13T04:22:37.937431Z",
     "iopub.status.idle": "2023-02-13T04:22:51.821507Z",
     "shell.execute_reply": "2023-02-13T04:22:51.823713Z"
    },
    "papermill": {
     "duration": 14.08918,
     "end_time": "2023-02-13T04:22:51.824441",
     "exception": false,
     "start_time": "2023-02-13T04:22:37.735261",
     "status": "completed"
    },
    "tags": []
   },
   "outputs": [],
   "source": [
    "from pathlib import Path\n",
    "import healpy as hp\n",
    "import matplotlib.pyplot as plt\n",
    "import numpy as np\n",
    "import pymaster as nmt\n",
    "from astropy.io import fits\n",
    "\n",
    "%matplotlib inline"
   ]
  },
  {
   "cell_type": "code",
   "execution_count": 3,
   "id": "dabcbbab",
   "metadata": {
    "execution": {
     "iopub.execute_input": "2023-02-13T04:22:52.212234Z",
     "iopub.status.busy": "2023-02-13T04:22:52.209074Z",
     "iopub.status.idle": "2023-02-13T04:22:52.219896Z",
     "shell.execute_reply": "2023-02-13T04:22:52.216990Z"
    },
    "papermill": {
     "duration": 0.212249,
     "end_time": "2023-02-13T04:22:52.220528",
     "exception": false,
     "start_time": "2023-02-13T04:22:52.008279",
     "status": "completed"
    },
    "tags": []
   },
   "outputs": [
    {
     "name": "stderr",
     "output_type": "stream",
     "text": [
      "/tmp/ipykernel_1502823/2368332630.py:1: MatplotlibDeprecationWarning: The seaborn styles shipped by Matplotlib are deprecated since 3.6, as they no longer correspond to the styles shipped by seaborn. However, they will remain available as 'seaborn-v0_8-<style>'. Alternatively, directly use the seaborn API instead.\n",
      "  plt.style.use(\"seaborn-talk\")\n"
     ]
    }
   ],
   "source": [
    "plt.style.use(\"seaborn-talk\")"
   ]
  },
  {
   "cell_type": "code",
   "execution_count": 4,
   "id": "3b27f58d",
   "metadata": {
    "execution": {
     "iopub.execute_input": "2023-02-13T04:22:52.610086Z",
     "iopub.status.busy": "2023-02-13T04:22:52.607246Z",
     "iopub.status.idle": "2023-02-13T04:22:56.248910Z",
     "shell.execute_reply": "2023-02-13T04:22:56.246620Z"
    },
    "papermill": {
     "duration": 3.83903,
     "end_time": "2023-02-13T04:22:56.249541",
     "exception": false,
     "start_time": "2023-02-13T04:22:52.410511",
     "status": "completed"
    },
    "tags": []
   },
   "outputs": [],
   "source": [
    "import pysm3 as pysm\n",
    "import pysm3.units as u"
   ]
  },
  {
   "cell_type": "code",
   "execution_count": 5,
   "id": "989ba84d",
   "metadata": {
    "execution": {
     "iopub.execute_input": "2023-02-13T04:22:56.636740Z",
     "iopub.status.busy": "2023-02-13T04:22:56.633595Z",
     "iopub.status.idle": "2023-02-13T04:22:56.641815Z",
     "shell.execute_reply": "2023-02-13T04:22:56.644059Z"
    },
    "papermill": {
     "duration": 0.209008,
     "end_time": "2023-02-13T04:22:56.644788",
     "exception": false,
     "start_time": "2023-02-13T04:22:56.435780",
     "status": "completed"
    },
    "tags": []
   },
   "outputs": [],
   "source": [
    "nside = 2048\n",
    "lmax = 2048"
   ]
  },
  {
   "cell_type": "code",
   "execution_count": 6,
   "id": "564f338a",
   "metadata": {
    "execution": {
     "iopub.execute_input": "2023-02-13T04:22:57.032442Z",
     "iopub.status.busy": "2023-02-13T04:22:57.029274Z",
     "iopub.status.idle": "2023-02-13T04:22:57.037145Z",
     "shell.execute_reply": "2023-02-13T04:22:57.039947Z"
    },
    "papermill": {
     "duration": 0.209734,
     "end_time": "2023-02-13T04:22:57.040679",
     "exception": false,
     "start_time": "2023-02-13T04:22:56.830945",
     "status": "completed"
    },
    "tags": []
   },
   "outputs": [],
   "source": [
    "comp = \"IQU\""
   ]
  },
  {
   "cell_type": "code",
   "execution_count": 7,
   "id": "73fc5fd2",
   "metadata": {
    "execution": {
     "iopub.execute_input": "2023-02-13T04:22:57.436445Z",
     "iopub.status.busy": "2023-02-13T04:22:57.424298Z",
     "iopub.status.idle": "2023-02-13T04:22:57.456417Z",
     "shell.execute_reply": "2023-02-13T04:22:57.454043Z"
    },
    "papermill": {
     "duration": 0.231324,
     "end_time": "2023-02-13T04:22:57.457067",
     "exception": false,
     "start_time": "2023-02-13T04:22:57.225743",
     "status": "completed"
    },
    "tags": []
   },
   "outputs": [
    {
     "data": {
      "text/plain": [
       "[(0, 'I'), (1, 'Q'), (2, 'U')]"
      ]
     },
     "execution_count": 7,
     "metadata": {},
     "output_type": "execute_result"
    }
   ],
   "source": [
    "components = list(enumerate(comp))\n",
    "components"
   ]
  },
  {
   "cell_type": "code",
   "execution_count": 8,
   "id": "7e5630d6",
   "metadata": {
    "execution": {
     "iopub.execute_input": "2023-02-13T04:22:57.892303Z",
     "iopub.status.busy": "2023-02-13T04:22:57.889164Z",
     "iopub.status.idle": "2023-02-13T04:22:57.899835Z",
     "shell.execute_reply": "2023-02-13T04:22:57.897447Z"
    },
    "papermill": {
     "duration": 0.216446,
     "end_time": "2023-02-13T04:22:57.900484",
     "exception": false,
     "start_time": "2023-02-13T04:22:57.684038",
     "status": "completed"
    },
    "tags": []
   },
   "outputs": [],
   "source": [
    "spectra_components = [\"TT\", \"EE\", \"BB\"]"
   ]
  },
  {
   "cell_type": "markdown",
   "id": "97f4311d",
   "metadata": {
    "papermill": {
     "duration": 0.189497,
     "end_time": "2023-02-13T04:22:58.281314",
     "exception": false,
     "start_time": "2023-02-13T04:22:58.091817",
     "status": "completed"
    },
    "tags": []
   },
   "source": [
    "change this to True   if you want to  run namaster on notebook \n"
   ]
  },
  {
   "cell_type": "code",
   "execution_count": 9,
   "id": "ba76b9be",
   "metadata": {
    "execution": {
     "iopub.execute_input": "2023-02-13T04:22:58.676954Z",
     "iopub.status.busy": "2023-02-13T04:22:58.674043Z",
     "iopub.status.idle": "2023-02-13T04:22:58.684106Z",
     "shell.execute_reply": "2023-02-13T04:22:58.686360Z"
    },
    "papermill": {
     "duration": 0.215634,
     "end_time": "2023-02-13T04:22:58.687097",
     "exception": false,
     "start_time": "2023-02-13T04:22:58.471463",
     "status": "completed"
    },
    "tags": []
   },
   "outputs": [],
   "source": [
    "namaster_on_nb = True"
   ]
  },
  {
   "cell_type": "code",
   "execution_count": 10,
   "id": "7c57a03c",
   "metadata": {},
   "outputs": [],
   "source": [
    "produce_output = False"
   ]
  },
  {
   "cell_type": "code",
   "execution_count": 11,
   "id": "376671b1",
   "metadata": {
    "execution": {
     "iopub.execute_input": "2023-02-13T04:22:59.088824Z",
     "iopub.status.busy": "2023-02-13T04:22:59.085666Z",
     "iopub.status.idle": "2023-02-13T04:22:59.093607Z",
     "shell.execute_reply": "2023-02-13T04:22:59.095983Z"
    },
    "papermill": {
     "duration": 0.216199,
     "end_time": "2023-02-13T04:22:59.096696",
     "exception": false,
     "start_time": "2023-02-13T04:22:58.880497",
     "status": "completed"
    },
    "tags": []
   },
   "outputs": [],
   "source": [
    "datadir = Path(\"data/\")"
   ]
  },
  {
   "cell_type": "code",
   "execution_count": 12,
   "id": "4f740e7f",
   "metadata": {
    "execution": {
     "iopub.execute_input": "2023-02-13T04:22:59.499050Z",
     "iopub.status.busy": "2023-02-13T04:22:59.496083Z",
     "iopub.status.idle": "2023-02-13T04:22:59.506544Z",
     "shell.execute_reply": "2023-02-13T04:22:59.503526Z"
    },
    "papermill": {
     "duration": 0.218127,
     "end_time": "2023-02-13T04:22:59.507190",
     "exception": false,
     "start_time": "2023-02-13T04:22:59.289063",
     "status": "completed"
    },
    "tags": []
   },
   "outputs": [],
   "source": [
    "proddatadir = Path(\"production-data\") / \"dust_gnilc\" / \"raw\""
   ]
  },
  {
   "cell_type": "markdown",
   "id": "74d110e6",
   "metadata": {
    "papermill": {
     "duration": 0.19108,
     "end_time": "2023-02-13T04:22:59.892574",
     "exception": false,
     "start_time": "2023-02-13T04:22:59.701494",
     "status": "completed"
    },
    "tags": []
   },
   "source": [
    "# Setting the inputs \n",
    "## Dust maps \n",
    "- We use the  2015 GNILC intensity map from the 2nd planck release, as it encodes less contamination from CIB with 21.8' resolution https://www.dropbox.com/s/hicocet83z31ob3/COM_CompMap_Dust-GNILC-F353_2048_21p8acm.fits?dl=0\n",
    "\n",
    "- for Q and U we adopt maps from the 3rd Planck release as they were optimized for polarization studies with 80' reso.  \n",
    "\n"
   ]
  },
  {
   "cell_type": "code",
   "execution_count": 13,
   "id": "9cb64e3c",
   "metadata": {
    "execution": {
     "iopub.execute_input": "2023-02-13T04:23:00.296739Z",
     "iopub.status.busy": "2023-02-13T04:23:00.293576Z",
     "iopub.status.idle": "2023-02-13T04:23:00.304597Z",
     "shell.execute_reply": "2023-02-13T04:23:00.302276Z"
    },
    "papermill": {
     "duration": 0.219014,
     "end_time": "2023-02-13T04:23:00.305243",
     "exception": false,
     "start_time": "2023-02-13T04:23:00.086229",
     "status": "completed"
    },
    "tags": []
   },
   "outputs": [],
   "source": [
    "dust_varresI = datadir / \"COM_CompMap_Dust-GNILC-F353_2048_21p8acm.fits\""
   ]
  },
  {
   "cell_type": "code",
   "execution_count": 14,
   "id": "ad418c44",
   "metadata": {
    "execution": {
     "iopub.execute_input": "2023-02-13T04:23:00.711908Z",
     "iopub.status.busy": "2023-02-13T04:23:00.706312Z",
     "iopub.status.idle": "2023-02-13T04:23:00.725086Z",
     "shell.execute_reply": "2023-02-13T04:23:00.722199Z"
    },
    "papermill": {
     "duration": 0.225799,
     "end_time": "2023-02-13T04:23:00.725724",
     "exception": false,
     "start_time": "2023-02-13T04:23:00.499925",
     "status": "completed"
    },
    "tags": []
   },
   "outputs": [
    {
     "name": "stdout",
     "output_type": "stream",
     "text": [
      "data/COM_CompMap_Dust-GNILC-F353_2048_21p8acm.fits: No such file or directory\r\n"
     ]
    }
   ],
   "source": [
    "if not dust_varresI.exists():\n",
    "    !wget -O $dust_varresI https://portal.nersc.gov/project/cmb/pysm-data/dust_gnilc/inputs/COM_CompMap_Dust-GNILC-F353_2048_21p8acm.fits"
   ]
  },
  {
   "cell_type": "markdown",
   "id": "239ed37d",
   "metadata": {
    "papermill": {
     "duration": 0.1926,
     "end_time": "2023-02-13T04:23:01.112493",
     "exception": false,
     "start_time": "2023-02-13T04:23:00.919893",
     "status": "completed"
    },
    "tags": []
   },
   "source": [
    "Transform maps to double precision for computations"
   ]
  },
  {
   "cell_type": "code",
   "execution_count": 15,
   "id": "2e1a4ea6",
   "metadata": {
    "execution": {
     "iopub.execute_input": "2023-02-13T04:23:01.519048Z",
     "iopub.status.busy": "2023-02-13T04:23:01.516044Z",
     "iopub.status.idle": "2023-02-13T04:23:07.777378Z",
     "shell.execute_reply": "2023-02-13T04:23:07.779811Z"
    },
    "papermill": {
     "duration": 6.474031,
     "end_time": "2023-02-13T04:23:07.780541",
     "exception": false,
     "start_time": "2023-02-13T04:23:01.306510",
     "status": "completed"
    },
    "tags": []
   },
   "outputs": [
    {
     "ename": "FileNotFoundError",
     "evalue": "[Errno 2] No such file or directory: 'data/COM_CompMap_Dust-GNILC-F353_2048_21p8acm.fits'",
     "output_type": "error",
     "traceback": [
      "\u001b[0;31m---------------------------------------------------------------------------\u001b[0m",
      "\u001b[0;31mFileNotFoundError\u001b[0m                         Traceback (most recent call last)",
      "Cell \u001b[0;32mIn [15], line 1\u001b[0m\n\u001b[0;32m----> 1\u001b[0m I_planck_varres, h \u001b[38;5;241m=\u001b[39m \u001b[43mhp\u001b[49m\u001b[38;5;241;43m.\u001b[39;49m\u001b[43mread_map\u001b[49m\u001b[43m(\u001b[49m\u001b[43mdust_varresI\u001b[49m\u001b[43m,\u001b[49m\u001b[43m \u001b[49m\u001b[43mdtype\u001b[49m\u001b[38;5;241;43m=\u001b[39;49m\u001b[43mnp\u001b[49m\u001b[38;5;241;43m.\u001b[39;49m\u001b[43mfloat64\u001b[49m\u001b[43m,\u001b[49m\u001b[43m \u001b[49m\u001b[43mh\u001b[49m\u001b[38;5;241;43m=\u001b[39;49m\u001b[38;5;28;43;01mTrue\u001b[39;49;00m\u001b[43m)\u001b[49m\n",
      "File \u001b[0;32m/global/common/software/cmb/zonca/conda/pycmb/lib/python3.10/site-packages/astropy/utils/decorators.py:603\u001b[0m, in \u001b[0;36mdeprecated_renamed_argument.<locals>.decorator.<locals>.wrapper\u001b[0;34m(*args, **kwargs)\u001b[0m\n\u001b[1;32m    600\u001b[0m             msg \u001b[38;5;241m+\u001b[39m\u001b[38;5;241m=\u001b[39m \u001b[38;5;124mf\u001b[39m\u001b[38;5;124m\"\u001b[39m\u001b[38;5;130;01m\\n\u001b[39;00m\u001b[38;5;124m        Use \u001b[39m\u001b[38;5;132;01m{\u001b[39;00malternative\u001b[38;5;132;01m}\u001b[39;00m\u001b[38;5;124m instead.\u001b[39m\u001b[38;5;124m\"\u001b[39m\n\u001b[1;32m    601\u001b[0m         warnings\u001b[38;5;241m.\u001b[39mwarn(msg, warning_type, stacklevel\u001b[38;5;241m=\u001b[39m\u001b[38;5;241m2\u001b[39m)\n\u001b[0;32m--> 603\u001b[0m \u001b[38;5;28;01mreturn\u001b[39;00m \u001b[43mfunction\u001b[49m\u001b[43m(\u001b[49m\u001b[38;5;241;43m*\u001b[39;49m\u001b[43margs\u001b[49m\u001b[43m,\u001b[49m\u001b[43m \u001b[49m\u001b[38;5;241;43m*\u001b[39;49m\u001b[38;5;241;43m*\u001b[39;49m\u001b[43mkwargs\u001b[49m\u001b[43m)\u001b[49m\n",
      "File \u001b[0;32m/global/common/software/cmb/zonca/conda/pycmb/lib/python3.10/site-packages/healpy/fitsfunc.py:369\u001b[0m, in \u001b[0;36mread_map\u001b[0;34m(filename, field, dtype, nest, partial, hdu, h, verbose, memmap)\u001b[0m\n\u001b[1;32m    367\u001b[0m opened_file \u001b[38;5;241m=\u001b[39m \u001b[38;5;28;01mFalse\u001b[39;00m\n\u001b[1;32m    368\u001b[0m \u001b[38;5;28;01mif\u001b[39;00m \u001b[38;5;28misinstance\u001b[39m(filename, allowed_paths):\n\u001b[0;32m--> 369\u001b[0m     filename \u001b[38;5;241m=\u001b[39m \u001b[43mpf\u001b[49m\u001b[38;5;241;43m.\u001b[39;49m\u001b[43mopen\u001b[49m\u001b[43m(\u001b[49m\u001b[43mfilename\u001b[49m\u001b[43m,\u001b[49m\u001b[43m \u001b[49m\u001b[43mmemmap\u001b[49m\u001b[38;5;241;43m=\u001b[39;49m\u001b[43mmemmap\u001b[49m\u001b[43m)\u001b[49m\n\u001b[1;32m    370\u001b[0m     opened_file \u001b[38;5;241m=\u001b[39m \u001b[38;5;28;01mTrue\u001b[39;00m\n\u001b[1;32m    372\u001b[0m fits_hdu \u001b[38;5;241m=\u001b[39m _get_hdu(filename, hdu\u001b[38;5;241m=\u001b[39mhdu, memmap\u001b[38;5;241m=\u001b[39mmemmap)\n",
      "File \u001b[0;32m/global/common/software/cmb/zonca/conda/pycmb/lib/python3.10/site-packages/astropy/io/fits/hdu/hdulist.py:223\u001b[0m, in \u001b[0;36mfitsopen\u001b[0;34m(name, mode, memmap, save_backup, cache, lazy_load_hdus, ignore_missing_simple, use_fsspec, fsspec_kwargs, decompress_in_memory, **kwargs)\u001b[0m\n\u001b[1;32m    220\u001b[0m \u001b[38;5;28;01mif\u001b[39;00m \u001b[38;5;129;01mnot\u001b[39;00m name:\n\u001b[1;32m    221\u001b[0m     \u001b[38;5;28;01mraise\u001b[39;00m \u001b[38;5;167;01mValueError\u001b[39;00m(\u001b[38;5;124mf\u001b[39m\u001b[38;5;124m\"\u001b[39m\u001b[38;5;124mEmpty filename: \u001b[39m\u001b[38;5;132;01m{\u001b[39;00mname\u001b[38;5;132;01m!r}\u001b[39;00m\u001b[38;5;124m\"\u001b[39m)\n\u001b[0;32m--> 223\u001b[0m \u001b[38;5;28;01mreturn\u001b[39;00m \u001b[43mHDUList\u001b[49m\u001b[38;5;241;43m.\u001b[39;49m\u001b[43mfromfile\u001b[49m\u001b[43m(\u001b[49m\n\u001b[1;32m    224\u001b[0m \u001b[43m    \u001b[49m\u001b[43mname\u001b[49m\u001b[43m,\u001b[49m\n\u001b[1;32m    225\u001b[0m \u001b[43m    \u001b[49m\u001b[43mmode\u001b[49m\u001b[43m,\u001b[49m\n\u001b[1;32m    226\u001b[0m \u001b[43m    \u001b[49m\u001b[43mmemmap\u001b[49m\u001b[43m,\u001b[49m\n\u001b[1;32m    227\u001b[0m \u001b[43m    \u001b[49m\u001b[43msave_backup\u001b[49m\u001b[43m,\u001b[49m\n\u001b[1;32m    228\u001b[0m \u001b[43m    \u001b[49m\u001b[43mcache\u001b[49m\u001b[43m,\u001b[49m\n\u001b[1;32m    229\u001b[0m \u001b[43m    \u001b[49m\u001b[43mlazy_load_hdus\u001b[49m\u001b[43m,\u001b[49m\n\u001b[1;32m    230\u001b[0m \u001b[43m    \u001b[49m\u001b[43mignore_missing_simple\u001b[49m\u001b[43m,\u001b[49m\n\u001b[1;32m    231\u001b[0m \u001b[43m    \u001b[49m\u001b[43muse_fsspec\u001b[49m\u001b[38;5;241;43m=\u001b[39;49m\u001b[43muse_fsspec\u001b[49m\u001b[43m,\u001b[49m\n\u001b[1;32m    232\u001b[0m \u001b[43m    \u001b[49m\u001b[43mfsspec_kwargs\u001b[49m\u001b[38;5;241;43m=\u001b[39;49m\u001b[43mfsspec_kwargs\u001b[49m\u001b[43m,\u001b[49m\n\u001b[1;32m    233\u001b[0m \u001b[43m    \u001b[49m\u001b[43mdecompress_in_memory\u001b[49m\u001b[38;5;241;43m=\u001b[39;49m\u001b[43mdecompress_in_memory\u001b[49m\u001b[43m,\u001b[49m\n\u001b[1;32m    234\u001b[0m \u001b[43m    \u001b[49m\u001b[38;5;241;43m*\u001b[39;49m\u001b[38;5;241;43m*\u001b[39;49m\u001b[43mkwargs\u001b[49m\u001b[43m,\u001b[49m\n\u001b[1;32m    235\u001b[0m \u001b[43m\u001b[49m\u001b[43m)\u001b[49m\n",
      "File \u001b[0;32m/global/common/software/cmb/zonca/conda/pycmb/lib/python3.10/site-packages/astropy/io/fits/hdu/hdulist.py:487\u001b[0m, in \u001b[0;36mHDUList.fromfile\u001b[0;34m(cls, fileobj, mode, memmap, save_backup, cache, lazy_load_hdus, ignore_missing_simple, **kwargs)\u001b[0m\n\u001b[1;32m    468\u001b[0m \u001b[38;5;129m@classmethod\u001b[39m\n\u001b[1;32m    469\u001b[0m \u001b[38;5;28;01mdef\u001b[39;00m \u001b[38;5;21mfromfile\u001b[39m(\n\u001b[1;32m    470\u001b[0m     \u001b[38;5;28mcls\u001b[39m,\n\u001b[0;32m   (...)\u001b[0m\n\u001b[1;32m    478\u001b[0m     \u001b[38;5;241m*\u001b[39m\u001b[38;5;241m*\u001b[39mkwargs,\n\u001b[1;32m    479\u001b[0m ):\n\u001b[1;32m    480\u001b[0m     \u001b[38;5;124;03m\"\"\"\u001b[39;00m\n\u001b[1;32m    481\u001b[0m \u001b[38;5;124;03m    Creates an `HDUList` instance from a file-like object.\u001b[39;00m\n\u001b[1;32m    482\u001b[0m \n\u001b[0;32m   (...)\u001b[0m\n\u001b[1;32m    485\u001b[0m \u001b[38;5;124;03m    documentation for details of the parameters accepted by this method).\u001b[39;00m\n\u001b[1;32m    486\u001b[0m \u001b[38;5;124;03m    \"\"\"\u001b[39;00m\n\u001b[0;32m--> 487\u001b[0m     \u001b[38;5;28;01mreturn\u001b[39;00m \u001b[38;5;28;43mcls\u001b[39;49m\u001b[38;5;241;43m.\u001b[39;49m\u001b[43m_readfrom\u001b[49m\u001b[43m(\u001b[49m\n\u001b[1;32m    488\u001b[0m \u001b[43m        \u001b[49m\u001b[43mfileobj\u001b[49m\u001b[38;5;241;43m=\u001b[39;49m\u001b[43mfileobj\u001b[49m\u001b[43m,\u001b[49m\n\u001b[1;32m    489\u001b[0m \u001b[43m        \u001b[49m\u001b[43mmode\u001b[49m\u001b[38;5;241;43m=\u001b[39;49m\u001b[43mmode\u001b[49m\u001b[43m,\u001b[49m\n\u001b[1;32m    490\u001b[0m \u001b[43m        \u001b[49m\u001b[43mmemmap\u001b[49m\u001b[38;5;241;43m=\u001b[39;49m\u001b[43mmemmap\u001b[49m\u001b[43m,\u001b[49m\n\u001b[1;32m    491\u001b[0m \u001b[43m        \u001b[49m\u001b[43msave_backup\u001b[49m\u001b[38;5;241;43m=\u001b[39;49m\u001b[43msave_backup\u001b[49m\u001b[43m,\u001b[49m\n\u001b[1;32m    492\u001b[0m \u001b[43m        \u001b[49m\u001b[43mcache\u001b[49m\u001b[38;5;241;43m=\u001b[39;49m\u001b[43mcache\u001b[49m\u001b[43m,\u001b[49m\n\u001b[1;32m    493\u001b[0m \u001b[43m        \u001b[49m\u001b[43mignore_missing_simple\u001b[49m\u001b[38;5;241;43m=\u001b[39;49m\u001b[43mignore_missing_simple\u001b[49m\u001b[43m,\u001b[49m\n\u001b[1;32m    494\u001b[0m \u001b[43m        \u001b[49m\u001b[43mlazy_load_hdus\u001b[49m\u001b[38;5;241;43m=\u001b[39;49m\u001b[43mlazy_load_hdus\u001b[49m\u001b[43m,\u001b[49m\n\u001b[1;32m    495\u001b[0m \u001b[43m        \u001b[49m\u001b[38;5;241;43m*\u001b[39;49m\u001b[38;5;241;43m*\u001b[39;49m\u001b[43mkwargs\u001b[49m\u001b[43m,\u001b[49m\n\u001b[1;32m    496\u001b[0m \u001b[43m    \u001b[49m\u001b[43m)\u001b[49m\n",
      "File \u001b[0;32m/global/common/software/cmb/zonca/conda/pycmb/lib/python3.10/site-packages/astropy/io/fits/hdu/hdulist.py:1169\u001b[0m, in \u001b[0;36mHDUList._readfrom\u001b[0;34m(cls, fileobj, data, mode, memmap, cache, lazy_load_hdus, ignore_missing_simple, use_fsspec, fsspec_kwargs, decompress_in_memory, **kwargs)\u001b[0m\n\u001b[1;32m   1166\u001b[0m \u001b[38;5;28;01mif\u001b[39;00m fileobj \u001b[38;5;129;01mis\u001b[39;00m \u001b[38;5;129;01mnot\u001b[39;00m \u001b[38;5;28;01mNone\u001b[39;00m:\n\u001b[1;32m   1167\u001b[0m     \u001b[38;5;28;01mif\u001b[39;00m \u001b[38;5;129;01mnot\u001b[39;00m \u001b[38;5;28misinstance\u001b[39m(fileobj, _File):\n\u001b[1;32m   1168\u001b[0m         \u001b[38;5;66;03m# instantiate a FITS file object (ffo)\u001b[39;00m\n\u001b[0;32m-> 1169\u001b[0m         fileobj \u001b[38;5;241m=\u001b[39m \u001b[43m_File\u001b[49m\u001b[43m(\u001b[49m\n\u001b[1;32m   1170\u001b[0m \u001b[43m            \u001b[49m\u001b[43mfileobj\u001b[49m\u001b[43m,\u001b[49m\n\u001b[1;32m   1171\u001b[0m \u001b[43m            \u001b[49m\u001b[43mmode\u001b[49m\u001b[38;5;241;43m=\u001b[39;49m\u001b[43mmode\u001b[49m\u001b[43m,\u001b[49m\n\u001b[1;32m   1172\u001b[0m \u001b[43m            \u001b[49m\u001b[43mmemmap\u001b[49m\u001b[38;5;241;43m=\u001b[39;49m\u001b[43mmemmap\u001b[49m\u001b[43m,\u001b[49m\n\u001b[1;32m   1173\u001b[0m \u001b[43m            \u001b[49m\u001b[43mcache\u001b[49m\u001b[38;5;241;43m=\u001b[39;49m\u001b[43mcache\u001b[49m\u001b[43m,\u001b[49m\n\u001b[1;32m   1174\u001b[0m \u001b[43m            \u001b[49m\u001b[43muse_fsspec\u001b[49m\u001b[38;5;241;43m=\u001b[39;49m\u001b[43muse_fsspec\u001b[49m\u001b[43m,\u001b[49m\n\u001b[1;32m   1175\u001b[0m \u001b[43m            \u001b[49m\u001b[43mfsspec_kwargs\u001b[49m\u001b[38;5;241;43m=\u001b[39;49m\u001b[43mfsspec_kwargs\u001b[49m\u001b[43m,\u001b[49m\n\u001b[1;32m   1176\u001b[0m \u001b[43m            \u001b[49m\u001b[43mdecompress_in_memory\u001b[49m\u001b[38;5;241;43m=\u001b[39;49m\u001b[43mdecompress_in_memory\u001b[49m\u001b[43m,\u001b[49m\n\u001b[1;32m   1177\u001b[0m \u001b[43m        \u001b[49m\u001b[43m)\u001b[49m\n\u001b[1;32m   1178\u001b[0m     \u001b[38;5;66;03m# The Astropy mode is determined by the _File initializer if the\u001b[39;00m\n\u001b[1;32m   1179\u001b[0m     \u001b[38;5;66;03m# supplied mode was None\u001b[39;00m\n\u001b[1;32m   1180\u001b[0m     mode \u001b[38;5;241m=\u001b[39m fileobj\u001b[38;5;241m.\u001b[39mmode\n",
      "File \u001b[0;32m/global/common/software/cmb/zonca/conda/pycmb/lib/python3.10/site-packages/astropy/io/fits/file.py:218\u001b[0m, in \u001b[0;36m_File.__init__\u001b[0;34m(self, fileobj, mode, memmap, overwrite, cache, use_fsspec, fsspec_kwargs, decompress_in_memory)\u001b[0m\n\u001b[1;32m    216\u001b[0m     \u001b[38;5;28mself\u001b[39m\u001b[38;5;241m.\u001b[39m_open_fileobj(fileobj, mode, overwrite)\n\u001b[1;32m    217\u001b[0m \u001b[38;5;28;01melif\u001b[39;00m \u001b[38;5;28misinstance\u001b[39m(fileobj, (\u001b[38;5;28mstr\u001b[39m, \u001b[38;5;28mbytes\u001b[39m)):\n\u001b[0;32m--> 218\u001b[0m     \u001b[38;5;28;43mself\u001b[39;49m\u001b[38;5;241;43m.\u001b[39;49m\u001b[43m_open_filename\u001b[49m\u001b[43m(\u001b[49m\u001b[43mfileobj\u001b[49m\u001b[43m,\u001b[49m\u001b[43m \u001b[49m\u001b[43mmode\u001b[49m\u001b[43m,\u001b[49m\u001b[43m \u001b[49m\u001b[43moverwrite\u001b[49m\u001b[43m)\u001b[49m\n\u001b[1;32m    219\u001b[0m \u001b[38;5;28;01melse\u001b[39;00m:\n\u001b[1;32m    220\u001b[0m     \u001b[38;5;28mself\u001b[39m\u001b[38;5;241m.\u001b[39m_open_filelike(fileobj, mode, overwrite)\n",
      "File \u001b[0;32m/global/common/software/cmb/zonca/conda/pycmb/lib/python3.10/site-packages/astropy/io/fits/file.py:651\u001b[0m, in \u001b[0;36m_File._open_filename\u001b[0;34m(self, filename, mode, overwrite)\u001b[0m\n\u001b[1;32m    648\u001b[0m ext \u001b[38;5;241m=\u001b[39m os\u001b[38;5;241m.\u001b[39mpath\u001b[38;5;241m.\u001b[39msplitext(\u001b[38;5;28mself\u001b[39m\u001b[38;5;241m.\u001b[39mname)[\u001b[38;5;241m1\u001b[39m]\n\u001b[1;32m    650\u001b[0m \u001b[38;5;28;01mif\u001b[39;00m \u001b[38;5;129;01mnot\u001b[39;00m \u001b[38;5;28mself\u001b[39m\u001b[38;5;241m.\u001b[39m_try_read_compressed(\u001b[38;5;28mself\u001b[39m\u001b[38;5;241m.\u001b[39mname, magic, mode, ext\u001b[38;5;241m=\u001b[39mext):\n\u001b[0;32m--> 651\u001b[0m     \u001b[38;5;28mself\u001b[39m\u001b[38;5;241m.\u001b[39m_file \u001b[38;5;241m=\u001b[39m \u001b[38;5;28;43mopen\u001b[39;49m\u001b[43m(\u001b[49m\u001b[38;5;28;43mself\u001b[39;49m\u001b[38;5;241;43m.\u001b[39;49m\u001b[43mname\u001b[49m\u001b[43m,\u001b[49m\u001b[43m \u001b[49m\u001b[43mIO_FITS_MODES\u001b[49m\u001b[43m[\u001b[49m\u001b[43mmode\u001b[49m\u001b[43m]\u001b[49m\u001b[43m)\u001b[49m\n\u001b[1;32m    652\u001b[0m     \u001b[38;5;28mself\u001b[39m\u001b[38;5;241m.\u001b[39mclose_on_error \u001b[38;5;241m=\u001b[39m \u001b[38;5;28;01mTrue\u001b[39;00m\n\u001b[1;32m    654\u001b[0m \u001b[38;5;66;03m# Make certain we're back at the beginning of the file\u001b[39;00m\n\u001b[1;32m    655\u001b[0m \u001b[38;5;66;03m# BZ2File does not support seek when the file is open for writing, but\u001b[39;00m\n\u001b[1;32m    656\u001b[0m \u001b[38;5;66;03m# when opening a file for write, bz2.BZ2File always truncates anyway.\u001b[39;00m\n",
      "\u001b[0;31mFileNotFoundError\u001b[0m: [Errno 2] No such file or directory: 'data/COM_CompMap_Dust-GNILC-F353_2048_21p8acm.fits'"
     ]
    }
   ],
   "source": [
    "I_planck_varres, h = hp.read_map(dust_varresI, dtype=np.float64, h=True)"
   ]
  },
  {
   "cell_type": "markdown",
   "id": "3156e5ae",
   "metadata": {
    "papermill": {
     "duration": 0.194779,
     "end_time": "2023-02-13T04:23:08.175489",
     "exception": false,
     "start_time": "2023-02-13T04:23:07.980710",
     "status": "completed"
    },
    "tags": []
   },
   "source": [
    "Maps from the two releases are in different units `MJy/sr` the former, and `K_CMB` the latter, we therefore need to perform some conversion to `uK_RJ`. "
   ]
  },
  {
   "cell_type": "code",
   "execution_count": null,
   "id": "ee4cff18",
   "metadata": {
    "execution": {
     "iopub.execute_input": "2023-02-13T04:23:08.587415Z",
     "iopub.status.busy": "2023-02-13T04:23:08.580647Z",
     "iopub.status.idle": "2023-02-13T04:23:12.876000Z",
     "shell.execute_reply": "2023-02-13T04:23:12.873495Z"
    },
    "papermill": {
     "duration": 4.505855,
     "end_time": "2023-02-13T04:23:12.876625",
     "exception": false,
     "start_time": "2023-02-13T04:23:08.370770",
     "status": "completed"
    },
    "tags": []
   },
   "outputs": [],
   "source": [
    "I_planck_varres <<= u.MJy / u.sr\n",
    "I_planck_varres = I_planck_varres.to(\n",
    "    \"uK_RJ\", equivalencies=u.cmb_equivalencies(353 * u.GHz)\n",
    ")"
   ]
  },
  {
   "cell_type": "code",
   "execution_count": null,
   "id": "cb2ff782",
   "metadata": {
    "execution": {
     "iopub.execute_input": "2023-02-13T04:23:13.293531Z",
     "iopub.status.busy": "2023-02-13T04:23:13.290663Z",
     "iopub.status.idle": "2023-02-13T04:23:13.298736Z",
     "shell.execute_reply": "2023-02-13T04:23:13.301122Z"
    },
    "papermill": {
     "duration": 0.222067,
     "end_time": "2023-02-13T04:23:13.301861",
     "exception": false,
     "start_time": "2023-02-13T04:23:13.079794",
     "status": "completed"
    },
    "tags": []
   },
   "outputs": [],
   "source": [
    "output_nside = 8192\n",
    "output_lmax = 2 * output_nside"
   ]
  },
  {
   "cell_type": "markdown",
   "id": "6ddf53b3",
   "metadata": {
    "papermill": {
     "duration": 0.195894,
     "end_time": "2023-02-13T04:23:13.695379",
     "exception": false,
     "start_time": "2023-02-13T04:23:13.499485",
     "status": "completed"
    },
    "tags": []
   },
   "source": [
    "## Amplitude modulation"
   ]
  },
  {
   "cell_type": "code",
   "execution_count": null,
   "id": "87bcba8f",
   "metadata": {
    "execution": {
     "iopub.execute_input": "2023-02-13T04:23:14.113606Z",
     "iopub.status.busy": "2023-02-13T04:23:14.110804Z",
     "iopub.status.idle": "2023-02-13T04:23:34.471144Z",
     "shell.execute_reply": "2023-02-13T04:23:34.468780Z"
    },
    "papermill": {
     "duration": 20.580062,
     "end_time": "2023-02-13T04:23:34.471784",
     "exception": false,
     "start_time": "2023-02-13T04:23:13.891722",
     "status": "completed"
    },
    "tags": []
   },
   "outputs": [],
   "source": [
    "modulate_amp = hp.alm2map(\n",
    "    hp.read_alm(\n",
    "        proddatadir / \"gnilc_dust_temperature_modulation_alms_lmax768.fits.gz\",\n",
    "    ).astype(np.complex128),\n",
    "    nside=output_nside,\n",
    ")"
   ]
  },
  {
   "cell_type": "markdown",
   "id": "a8e610b6",
   "metadata": {
    "papermill": {
     "duration": 0.197041,
     "end_time": "2023-02-13T04:23:34.869512",
     "exception": false,
     "start_time": "2023-02-13T04:23:34.672471",
     "status": "completed"
    },
    "tags": []
   },
   "source": [
    "## Injecting small scales to Spectral parameters "
   ]
  },
  {
   "cell_type": "code",
   "execution_count": null,
   "id": "e85992d1",
   "metadata": {
    "execution": {
     "iopub.execute_input": "2023-02-13T04:23:35.303115Z",
     "iopub.status.busy": "2023-02-13T04:23:35.298875Z",
     "iopub.status.idle": "2023-02-13T04:23:35.315048Z",
     "shell.execute_reply": "2023-02-13T04:23:35.317324Z"
    },
    "papermill": {
     "duration": 0.24709,
     "end_time": "2023-02-13T04:23:35.318042",
     "exception": false,
     "start_time": "2023-02-13T04:23:35.070952",
     "status": "completed"
    },
    "tags": []
   },
   "outputs": [],
   "source": [
    "tdfilename = \"COM_CompMap_Dust-GNILC-Model-Temperature_2048_R2.01.fits\"\n",
    "tdfile = datadir / tdfilename\n",
    "\n",
    "if not tdfile.exists():\n",
    "    !wget -O $tdfile  https://irsa.ipac.caltech.edu/data/Planck/release_2/all-sky-maps/maps/component-maps/foregrounds/$tdfilename\n",
    "\n",
    "bdfilename = \"COM_CompMap_Dust-GNILC-Model-Spectral-Index_2048_R2.01.fits\"\n",
    "bdfile = datadir / bdfilename\n",
    "\n",
    "if not bdfile.exists():\n",
    "    !wget -O $bdfile http://pla.esac.esa.int/pla/aio/product-action?MAP.MAP_ID=$bdfilename"
   ]
  },
  {
   "cell_type": "code",
   "execution_count": null,
   "id": "a5bb1a07",
   "metadata": {
    "execution": {
     "iopub.execute_input": "2023-02-13T04:23:35.736008Z",
     "iopub.status.busy": "2023-02-13T04:23:35.733066Z",
     "iopub.status.idle": "2023-02-13T04:23:42.318984Z",
     "shell.execute_reply": "2023-02-13T04:23:42.316065Z"
    },
    "papermill": {
     "duration": 6.803152,
     "end_time": "2023-02-13T04:23:42.319614",
     "exception": false,
     "start_time": "2023-02-13T04:23:35.516462",
     "status": "completed"
    },
    "tags": []
   },
   "outputs": [],
   "source": [
    "td = hp.read_map(tdfile, dtype=np.float64)\n",
    "bd = hp.read_map(bdfile, dtype=np.float64)"
   ]
  },
  {
   "cell_type": "code",
   "execution_count": null,
   "id": "513a9e44",
   "metadata": {
    "execution": {
     "iopub.execute_input": "2023-02-13T04:23:42.747163Z",
     "iopub.status.busy": "2023-02-13T04:23:42.738608Z",
     "iopub.status.idle": "2023-02-13T04:23:49.834231Z",
     "shell.execute_reply": "2023-02-13T04:23:49.831362Z"
    },
    "papermill": {
     "duration": 7.311087,
     "end_time": "2023-02-13T04:23:49.834859",
     "exception": false,
     "start_time": "2023-02-13T04:23:42.523772",
     "status": "completed"
    },
    "tags": []
   },
   "outputs": [],
   "source": [
    "cltd = hp.anafast(td, use_pixel_weights=True, lmax=lmax)\n",
    "clbd = hp.anafast(bd, use_pixel_weights=True, lmax=lmax)\n",
    "\n",
    "cl = {\"bd\": clbd, \"td\": cltd}\n",
    "dust_params = list(cl.keys())\n",
    "ell = np.arange(lmax + 1)"
   ]
  },
  {
   "cell_type": "code",
   "execution_count": null,
   "id": "efd21360-bc32-4c8b-b25d-9a4f69a68a94",
   "metadata": {},
   "outputs": [],
   "source": [
    "output_ell = np.arange(output_lmax + 1)"
   ]
  },
  {
   "cell_type": "code",
   "execution_count": null,
   "id": "298b8bf5",
   "metadata": {
    "execution": {
     "iopub.execute_input": "2023-02-13T04:23:50.256429Z",
     "iopub.status.busy": "2023-02-13T04:23:50.253338Z",
     "iopub.status.idle": "2023-02-13T04:23:50.261323Z",
     "shell.execute_reply": "2023-02-13T04:23:50.263752Z"
    },
    "papermill": {
     "duration": 0.225365,
     "end_time": "2023-02-13T04:23:50.264494",
     "exception": false,
     "start_time": "2023-02-13T04:23:50.039129",
     "status": "completed"
    },
    "tags": []
   },
   "outputs": [],
   "source": [
    "from scipy.optimize import curve_fit"
   ]
  },
  {
   "cell_type": "code",
   "execution_count": null,
   "id": "670f0daf",
   "metadata": {
    "execution": {
     "iopub.execute_input": "2023-02-13T04:23:50.684994Z",
     "iopub.status.busy": "2023-02-13T04:23:50.681894Z",
     "iopub.status.idle": "2023-02-13T04:23:50.692109Z",
     "shell.execute_reply": "2023-02-13T04:23:50.689747Z"
    },
    "papermill": {
     "duration": 0.227875,
     "end_time": "2023-02-13T04:23:50.692755",
     "exception": false,
     "start_time": "2023-02-13T04:23:50.464880",
     "status": "completed"
    },
    "tags": []
   },
   "outputs": [],
   "source": [
    "def model(ell, A, gamma):\n",
    "    out = A * ell**gamma\n",
    "    out[:2] = 0\n",
    "    return out"
   ]
  },
  {
   "cell_type": "code",
   "execution_count": null,
   "id": "4b7a43c0",
   "metadata": {
    "execution": {
     "iopub.execute_input": "2023-02-13T04:23:51.121654Z",
     "iopub.status.busy": "2023-02-13T04:23:51.115460Z",
     "iopub.status.idle": "2023-02-13T04:23:59.709207Z",
     "shell.execute_reply": "2023-02-13T04:23:59.712100Z"
    },
    "papermill": {
     "duration": 8.819319,
     "end_time": "2023-02-13T04:23:59.712857",
     "exception": false,
     "start_time": "2023-02-13T04:23:50.893538",
     "status": "completed"
    },
    "tags": []
   },
   "outputs": [],
   "source": [
    "ell_fit_low = {\"bd\": 200, \"td\": 100}\n",
    "ell_fit_high = {\"bd\": 400, \"td\": 400}\n",
    "\n",
    "A_fit, gamma_fit, A_fit_std, gamma_fit_std = {}, {}, {}, {}\n",
    "plt.figure(figsize=(25, 5))\n",
    "\n",
    "for ii, pol in enumerate(dust_params):\n",
    "    plt.subplot(131 + ii)\n",
    "    xdata = np.arange(ell_fit_low[pol], ell_fit_high[pol])\n",
    "    ydata = cl[pol][xdata]\n",
    "    (A_fit[pol], gamma_fit[pol]), cov = curve_fit(model, xdata, ydata)\n",
    "\n",
    "    A_fit_std[pol], gamma_fit_std[pol] = np.sqrt(np.diag(cov))\n",
    "    plt.loglog(ell, cl[pol], label=\" Anafast $C_\\ell$\")\n",
    "\n",
    "    plt.plot(\n",
    "        ell[ell_fit_low[pol] // 2 : ell_fit_high[pol] * 2],\n",
    "        model(\n",
    "            ell[ell_fit_low[pol] // 2 : ell_fit_high[pol] * 2],\n",
    "            A_fit[pol],\n",
    "            gamma_fit[pol],\n",
    "        ),\n",
    "        label=\"model fit\",\n",
    "    )\n",
    "\n",
    "    plt.axvline(\n",
    "        ell_fit_low[pol],\n",
    "        linestyle=\"--\",\n",
    "        color=\"black\",\n",
    "        label=\"$ \\ell={} $\".format(ell_fit_low[pol]),\n",
    "    )\n",
    "    plt.axvline(\n",
    "        ell_fit_high[pol],\n",
    "        linestyle=\"--\",\n",
    "        color=\"gray\",\n",
    "        label=\"$ \\ell={} $\".format(ell_fit_high[pol]),\n",
    "    )\n",
    "    plt.legend()\n",
    "    plt.grid()\n",
    "    plt.title(\n",
    "        f\"{pol}   spectrum for dust   \" + r\"$\\gamma_{fit}=$\" + f\"{gamma_fit[pol]:.2f}\"\n",
    "    )\n",
    "\n",
    "    plt.ylabel(\"$ C_\\ell $\")\n",
    "    plt.xlabel((\"$\\ell$\"))\n",
    "    plt.xlim(2, lmax)"
   ]
  },
  {
   "cell_type": "markdown",
   "id": "b988f9a5",
   "metadata": {
    "papermill": {
     "duration": 0.210827,
     "end_time": "2023-02-13T04:24:00.139279",
     "exception": false,
     "start_time": "2023-02-13T04:23:59.928452",
     "status": "completed"
    },
    "tags": []
   },
   "source": [
    "- We inject smaller angular scales to the maps  by extrapolating the power law fitted from the GNILC spectral parameter maps \n",
    "\n",
    "- Smaller angular scales are modulated similarly as the intensity map in pol tens formalism. \n",
    "\n",
    "- the multipoles where the fit is performed are different given the observed spectra . In any case we don't fit beyond $\\ell=400$, which is consistent with the TT analysis above \n",
    "- given the fact that we inject smaller angular scales with a steeper spectral index  than TT\n",
    "$$\\gamma_{\\beta} = -1.96, \\gamma_{Td} = -2.47, \\gamma_{TT}= -1.29$$\n",
    "\n",
    "we don't expect to injecti _small scale noise_ when rescaling at frequencies orders of magnitude lower or larger than  the reference one ( 353 GHz). \n"
   ]
  },
  {
   "cell_type": "code",
   "execution_count": null,
   "id": "da210b80",
   "metadata": {
    "execution": {
     "iopub.execute_input": "2023-02-13T04:24:00.583941Z",
     "iopub.status.busy": "2023-02-13T04:24:00.581070Z",
     "iopub.status.idle": "2023-02-13T04:24:00.590122Z",
     "shell.execute_reply": "2023-02-13T04:24:00.592330Z"
    },
    "papermill": {
     "duration": 0.24423,
     "end_time": "2023-02-13T04:24:00.593060",
     "exception": false,
     "start_time": "2023-02-13T04:24:00.348830",
     "status": "completed"
    },
    "tags": []
   },
   "outputs": [],
   "source": [
    "def sigmoid(x, x0, width, power=4):\n",
    "    \"\"\"Sigmoid function given start point and width\n",
    "    Parameters\n",
    "    ----------\n",
    "    x : array\n",
    "        input x axis\n",
    "    x0 : float\n",
    "        value of x where the sigmoid starts (not the center)\n",
    "    width : float\n",
    "        width of the transition region in unit of x\n",
    "    power : float\n",
    "        tweak the steepness of the curve\n",
    "    Returns\n",
    "    -------\n",
    "    sigmoid : array\n",
    "        sigmoid, same length of x\"\"\"\n",
    "    return 1.0 / (1 + np.exp(-power * (x - x0 - width / 2) / width))"
   ]
  },
  {
   "cell_type": "markdown",
   "id": "c4eb1ebd",
   "metadata": {
    "papermill": {
     "duration": 0.214642,
     "end_time": "2023-02-13T04:24:01.071565",
     "exception": false,
     "start_time": "2023-02-13T04:24:00.856923",
     "status": "completed"
    },
    "tags": []
   },
   "source": [
    "### Small scales"
   ]
  },
  {
   "cell_type": "code",
   "execution_count": null,
   "id": "ae128348",
   "metadata": {
    "execution": {
     "iopub.execute_input": "2023-02-13T04:24:01.515537Z",
     "iopub.status.busy": "2023-02-13T04:24:01.508984Z",
     "iopub.status.idle": "2023-02-13T04:32:32.098638Z",
     "shell.execute_reply": "2023-02-13T04:32:32.100920Z"
    },
    "papermill": {
     "duration": 510.817709,
     "end_time": "2023-02-13T04:32:32.101644",
     "exception": false,
     "start_time": "2023-02-13T04:24:01.283935",
     "status": "completed"
    },
    "tags": []
   },
   "outputs": [],
   "source": [
    "# filter small scales\n",
    "small_scales_input_cl = [\n",
    "    1\n",
    "    * model(output_ell, A_fit[pol], gamma_fit[pol])\n",
    "    * (sigmoid(output_ell, ell_fit_high[pol], ell_fit_high[pol] / 10))\n",
    "    for pol in dust_params\n",
    "]\n",
    "\n",
    "names = [\"beta\", \"Td\"]\n",
    "\n",
    "if produce_output:\n",
    "    for name, each in zip(names, small_scales_input_cl):\n",
    "        hp.write_cl(\n",
    "            proddatadir / f\"gnilc_dust_small_scales_{name}_cl_lmax{output_lmax}_2023.06.06.fits\",\n",
    "            each,\n",
    "            dtype=np.complex128,\n",
    "            overwrite=True,\n",
    "        )\n",
    "        pysm.utils.add_metadata(\n",
    "            [proddatadir / f\"gnilc_dust_small_scales_{name}_cl_lmax{output_lmax}_2023.06.06.fits\"],\n",
    "            unit=\"K**2\" if name == \"Td\" else \"\",\n",
    "        )\n",
    "\n",
    "\n",
    "np.random.seed(777)\n",
    "bd_ss_alm = hp.synalm(small_scales_input_cl[0], lmax=output_lmax)\n",
    "np.random.seed(888)\n",
    "td_ss_alm = hp.synalm(small_scales_input_cl[1], lmax=output_lmax)\n",
    "\n",
    "\n",
    "bd_ss = hp.alm2map(bd_ss_alm, nside=output_nside)\n",
    "td_ss = hp.alm2map(td_ss_alm, nside=output_nside)\n",
    "\n",
    "\n",
    "bd_ss *= modulate_amp\n",
    "td_ss *= modulate_amp"
   ]
  },
  {
   "cell_type": "code",
   "execution_count": null,
   "id": "d71656e2-930a-46eb-9667-4df078e7ec67",
   "metadata": {},
   "outputs": [],
   "source": [
    "plt.loglog(small_scales_input_cl[0], label=\"beta small scale spectrum 2023.06.06\")\n",
    "plt.loglog(hp.read_cl(\"production-data/obsolete/dust_gnilc/pysm_3.4.0b8/gnilc_dust_small_scales_beta_cl_lmax16384.fits.gz\"),\n",
    "           label=\"beta in pysm 3.4.0beta8\")\n",
    "plt.loglog(small_scales_input_cl[1], label=\"Td small scale spectrum 2023.06.06\")\n",
    "plt.loglog(hp.read_cl(\"production-data/obsolete/dust_gnilc/pysm_3.4.0b8/gnilc_dust_small_scales_Td_cl_lmax16384.fits.gz\"),\n",
    "           label=\"Td in pysm 3.4.0beta8\")\n",
    "plt.legend()\n",
    "plt.grid();"
   ]
  },
  {
   "cell_type": "code",
   "execution_count": null,
   "id": "d68ecde4-f774-4070-81b4-dcc997a1d791",
   "metadata": {},
   "outputs": [],
   "source": []
  },
  {
   "cell_type": "markdown",
   "id": "d838fac8",
   "metadata": {
    "papermill": {
     "duration": 0.215527,
     "end_time": "2023-02-13T04:32:32.535043",
     "exception": false,
     "start_time": "2023-02-13T04:32:32.319516",
     "status": "completed"
    },
    "tags": []
   },
   "source": [
    "### Large scales"
   ]
  },
  {
   "cell_type": "code",
   "execution_count": null,
   "id": "9d3ec35b",
   "metadata": {
    "execution": {
     "iopub.execute_input": "2023-02-13T04:32:32.981128Z",
     "iopub.status.busy": "2023-02-13T04:32:32.978341Z",
     "iopub.status.idle": "2023-02-13T04:32:32.987101Z",
     "shell.execute_reply": "2023-02-13T04:32:32.989763Z"
    },
    "papermill": {
     "duration": 0.24026,
     "end_time": "2023-02-13T04:32:32.990560",
     "exception": false,
     "start_time": "2023-02-13T04:32:32.750300",
     "status": "completed"
    },
    "tags": []
   },
   "outputs": [],
   "source": [
    "largescale_lmax = 1024"
   ]
  },
  {
   "cell_type": "code",
   "execution_count": null,
   "id": "a1c1607e",
   "metadata": {
    "execution": {
     "iopub.execute_input": "2023-02-13T04:32:33.463832Z",
     "iopub.status.busy": "2023-02-13T04:32:33.455653Z",
     "iopub.status.idle": "2023-02-13T04:33:20.970186Z",
     "shell.execute_reply": "2023-02-13T04:33:20.967244Z"
    },
    "papermill": {
     "duration": 47.764042,
     "end_time": "2023-02-13T04:33:20.970848",
     "exception": false,
     "start_time": "2023-02-13T04:32:33.206806",
     "status": "completed"
    },
    "tags": []
   },
   "outputs": [],
   "source": [
    "alm_bd = hp.map2alm(bd, lmax=largescale_lmax, use_pixel_weights=True)\n",
    "alm_td = hp.map2alm(td, lmax=largescale_lmax, use_pixel_weights=True)\n",
    "\n",
    "sig_func = sigmoid(ell, x0=ell_fit_high[\"bd\"], width=ell_fit_high[\"bd\"] / 10)\n",
    "bd_LS_alm = hp.almxfl(alm_bd, np.sqrt(1.0 - sig_func))\n",
    "td_LS_alm = hp.almxfl(alm_td, np.sqrt(1.0 - sig_func))\n",
    "\n",
    "if produce_output: # do not generate large scales again\n",
    "\n",
    "    for name, alm in zip(names, [bd_LS_alm, td_LS_alm]):\n",
    "\n",
    "        hp.write_alm(\n",
    "            proddatadir\n",
    "            / f\"gnilc_dust_largescale_template_{name}_alm_nside{nside}_lmax{largescale_lmax:d}.fits\",\n",
    "            alm,\n",
    "            lmax=largescale_lmax,\n",
    "            out_dtype=np.complex64,\n",
    "            overwrite=True,\n",
    "        )\n",
    "\n",
    "    pysm.utils.add_metadata(\n",
    "        [\n",
    "            proddatadir\n",
    "            / f\"gnilc_dust_largescale_template_beta_alm_nside{nside}_lmax{largescale_lmax:d}.fits\"\n",
    "        ],\n",
    "        coord=\"G\",\n",
    "        unit=\"\",\n",
    "    )\n",
    "    pysm.utils.add_metadata(\n",
    "        [\n",
    "            proddatadir\n",
    "            / f\"gnilc_dust_largescale_template_Td_alm_nside{nside}_lmax{largescale_lmax:d}.fits\"\n",
    "        ],\n",
    "        coord=\"G\",\n",
    "        unit=\"K\",\n",
    "    )\n",
    "\n",
    "bd_ls = hp.alm2map(bd_LS_alm, nside=output_nside)\n",
    "td_ls = hp.alm2map(td_LS_alm, nside=output_nside)"
   ]
  },
  {
   "cell_type": "markdown",
   "id": "a3835a36",
   "metadata": {
    "papermill": {
     "duration": 0.215747,
     "end_time": "2023-02-13T04:33:21.407486",
     "exception": false,
     "start_time": "2023-02-13T04:33:21.191739",
     "status": "completed"
    },
    "tags": []
   },
   "source": [
    "### Final map"
   ]
  },
  {
   "cell_type": "code",
   "execution_count": null,
   "id": "734338c8",
   "metadata": {
    "execution": {
     "iopub.execute_input": "2023-02-13T04:33:21.857549Z",
     "iopub.status.busy": "2023-02-13T04:33:21.854696Z",
     "iopub.status.idle": "2023-02-13T04:33:41.432939Z",
     "shell.execute_reply": "2023-02-13T04:33:41.429988Z"
    },
    "papermill": {
     "duration": 19.808654,
     "end_time": "2023-02-13T04:33:41.433596",
     "exception": false,
     "start_time": "2023-02-13T04:33:21.624942",
     "status": "completed"
    },
    "tags": []
   },
   "outputs": [],
   "source": [
    "bd_out = bd_ss + bd_ls\n",
    "td_out = td_ss + td_ls"
   ]
  },
  {
   "cell_type": "code",
   "execution_count": null,
   "id": "079a43d8",
   "metadata": {
    "execution": {
     "iopub.execute_input": "2023-02-13T04:33:41.890281Z",
     "iopub.status.busy": "2023-02-13T04:33:41.887357Z",
     "iopub.status.idle": "2023-02-13T04:33:41.896150Z",
     "shell.execute_reply": "2023-02-13T04:33:41.898614Z"
    },
    "papermill": {
     "duration": 0.242671,
     "end_time": "2023-02-13T04:33:41.899347",
     "exception": false,
     "start_time": "2023-02-13T04:33:41.656676",
     "status": "completed"
    },
    "tags": []
   },
   "outputs": [],
   "source": [
    "# hp.write_map(\n",
    "#     datadir / f\"gnilc_dust_beta_map_nside{output_nside}.fits\",\n",
    "#     bd_out,\n",
    "#     dtype=np.float32,\n",
    "#     coord=\"G\",\n",
    "#     column_units=\"\",\n",
    "#     overwrite=True,\n",
    "# )"
   ]
  },
  {
   "cell_type": "code",
   "execution_count": null,
   "id": "0331afc5",
   "metadata": {
    "execution": {
     "iopub.execute_input": "2023-02-13T04:33:42.349852Z",
     "iopub.status.busy": "2023-02-13T04:33:42.346982Z",
     "iopub.status.idle": "2023-02-13T04:33:42.358029Z",
     "shell.execute_reply": "2023-02-13T04:33:42.355186Z"
    },
    "papermill": {
     "duration": 0.2409,
     "end_time": "2023-02-13T04:33:42.358748",
     "exception": false,
     "start_time": "2023-02-13T04:33:42.117848",
     "status": "completed"
    },
    "tags": []
   },
   "outputs": [],
   "source": [
    "# hp.write_map(\n",
    "#     datadir / f\"gnilc_dust_Td_map_nside{output_nside}.fits\",\n",
    "#     td_out,\n",
    "#     dtype=np.float32,\n",
    "#     coord=\"G\",\n",
    "#     column_units=\"K\",\n",
    "#     overwrite=True,\n",
    "# )"
   ]
  },
  {
   "cell_type": "code",
   "execution_count": null,
   "id": "31bdcb20",
   "metadata": {
    "execution": {
     "iopub.execute_input": "2023-02-13T04:33:42.817815Z",
     "iopub.status.busy": "2023-02-13T04:33:42.813361Z",
     "iopub.status.idle": "2023-02-13T04:36:13.617818Z",
     "shell.execute_reply": "2023-02-13T04:36:13.614985Z"
    },
    "papermill": {
     "duration": 151.039607,
     "end_time": "2023-02-13T04:36:13.618525",
     "exception": false,
     "start_time": "2023-02-13T04:33:42.578918",
     "status": "completed"
    },
    "tags": []
   },
   "outputs": [],
   "source": [
    "cl_out = {\n",
    "    \"bd\": hp.anafast(bd_out, use_pixel_weights=True, lmax=lmax),\n",
    "    \"td\": hp.anafast(td_out, use_pixel_weights=True, lmax=lmax),\n",
    "}"
   ]
  },
  {
   "cell_type": "code",
   "execution_count": null,
   "id": "ae280a60",
   "metadata": {
    "execution": {
     "iopub.execute_input": "2023-02-13T04:36:14.090401Z",
     "iopub.status.busy": "2023-02-13T04:36:14.078255Z",
     "iopub.status.idle": "2023-02-13T04:36:18.247201Z",
     "shell.execute_reply": "2023-02-13T04:36:18.244694Z"
    },
    "papermill": {
     "duration": 4.403471,
     "end_time": "2023-02-13T04:36:18.247824",
     "exception": false,
     "start_time": "2023-02-13T04:36:13.844353",
     "status": "completed"
    },
    "tags": []
   },
   "outputs": [],
   "source": [
    "for ii, pol in enumerate(dust_params):\n",
    "    plt.loglog(ell, cl[pol], alpha=0.5, color=\"C%d\" % ii)\n",
    "    plt.loglog(ell, cl_out[pol], label=f\" {pol}   \", color=\"C%d\" % ii)\n",
    "\n",
    "    plt.legend()\n",
    "    plt.grid(True)\n",
    "    plt.plot(\n",
    "        ell[100:][2:],\n",
    "        model(ell[100:], A_fit[pol], gamma_fit[pol])[2:],\n",
    "        \"--\",\n",
    "        color=\"red\",\n",
    "    )\n",
    "    plt.axvline(ell_fit_high[pol], linestyle=\"--\", color=\"gray\")\n",
    "    plt.axvline(100, linestyle=\"--\", color=\"gray\")\n",
    "\n",
    "    plt.ylabel(\"$ C_\\ell $\")\n",
    "    plt.xlabel((\"$\\ell$\"))\n",
    "    # plt.xlim(350, 500 )\n",
    "    plt.xlim(2, lmax)"
   ]
  },
  {
   "cell_type": "code",
   "execution_count": null,
   "id": "f2f00213",
   "metadata": {
    "execution": {
     "iopub.execute_input": "2023-02-13T04:36:18.746349Z",
     "iopub.status.busy": "2023-02-13T04:36:18.735538Z",
     "iopub.status.idle": "2023-02-13T04:36:34.838527Z",
     "shell.execute_reply": "2023-02-13T04:36:34.841021Z"
    },
    "papermill": {
     "duration": 16.348774,
     "end_time": "2023-02-13T04:36:34.841774",
     "exception": false,
     "start_time": "2023-02-13T04:36:18.493000",
     "status": "completed"
    },
    "tags": []
   },
   "outputs": [],
   "source": [
    "lat = 35\n",
    "cm = plt.cm.RdBu\n",
    "plt.figure(figsize=(15, 8))\n",
    "hp.gnomview(\n",
    "    bd_out,\n",
    "    title=\"Bd  w/ small scales \",\n",
    "    rot=[0, lat],\n",
    "    reso=3.75,\n",
    "    cmap=cm,\n",
    "    xsize=320,\n",
    "    sub=234,\n",
    "    min=1.2,\n",
    "    max=1.9,\n",
    ")\n",
    "hp.gnomview(\n",
    "    bd_ss, title=\"small scales \", rot=[0, lat], reso=3.75, xsize=320, cmap=cm, sub=232\n",
    ")\n",
    "hp.gnomview(\n",
    "    I_planck_varres,\n",
    "    title=\" GNILC I MAP  \",\n",
    "    rot=[0, lat],\n",
    "    reso=3.75,\n",
    "    cmap=cm,\n",
    "    xsize=320,\n",
    "    sub=233,\n",
    ")\n",
    "\n",
    "hp.gnomview(\n",
    "    (bd),\n",
    "    title=\" Bd  GNILC  \",\n",
    "    rot=[0, lat],\n",
    "    reso=3.75,\n",
    "    xsize=320,\n",
    "    cmap=cm,\n",
    "    sub=235,\n",
    "    min=1.2,\n",
    "    max=1.9,\n",
    ")\n",
    "hp.gnomview(\n",
    "    bd_ls,\n",
    "    title=\"  Bd large scales \",\n",
    "    rot=[0, lat],\n",
    "    reso=3.75,\n",
    "    cmap=cm,\n",
    "    xsize=320,\n",
    "    sub=231,\n",
    "    min=1.2,\n",
    "    max=1.9,\n",
    ")\n",
    "\n",
    "plt.figure(figsize=(15, 8))\n",
    "hp.gnomview(\n",
    "    td_out,\n",
    "    title=\"Td  w/ small scales \",\n",
    "    rot=[0, lat],\n",
    "    reso=3.75,\n",
    "    xsize=320,\n",
    "    cmap=cm,\n",
    "    sub=234,\n",
    "    min=15,\n",
    "    max=25,\n",
    ")\n",
    "hp.gnomview(\n",
    "    td_ss, title=\"small scales \", rot=[0, lat], reso=3.75, xsize=320, sub=232, cmap=cm\n",
    ")\n",
    "hp.gnomview(\n",
    "    (modulate_amp),\n",
    "    title=\" modulation  \",\n",
    "    rot=[0, lat],\n",
    "    reso=3.75,\n",
    "    xsize=320,\n",
    "    cmap=cm,\n",
    "    sub=233,\n",
    ")\n",
    "\n",
    "hp.gnomview(\n",
    "    (td),\n",
    "    title=\" Td  GNILC  \",\n",
    "    rot=[0, lat],\n",
    "    reso=3.75,\n",
    "    xsize=320,\n",
    "    sub=235,\n",
    "    cmap=cm,\n",
    "    min=15,\n",
    "    max=25,\n",
    ")\n",
    "hp.gnomview(\n",
    "    td_ls,\n",
    "    title=\"  Td large scales \",\n",
    "    rot=[0, lat],\n",
    "    reso=3.75,\n",
    "    xsize=320,\n",
    "    cmap=cm,\n",
    "    sub=231,\n",
    "    min=15,\n",
    "    max=25,\n",
    ")"
   ]
  },
  {
   "cell_type": "markdown",
   "id": "6398e232-4833-405a-9bba-17c9f1452ce9",
   "metadata": {
    "papermill": {
     "duration": 0.304203,
     "end_time": "2023-02-13T04:36:35.456447",
     "exception": false,
     "start_time": "2023-02-13T04:36:35.152244",
     "status": "completed"
    },
    "tags": []
   },
   "source": [
    "## Galactic plane fix\n",
    "\n",
    "As in the templates, we replace the inner part of the galactic plane with the actual input data"
   ]
  },
  {
   "cell_type": "code",
   "execution_count": null,
   "id": "fcc6ddbf-235a-40d7-bcea-90ab0476f532",
   "metadata": {},
   "outputs": [],
   "source": [
    "templates_galplane_fix_mask = hp.read_map(\n",
    "    proddatadir / \"gnilc_dust_galplane.fits.gz\", 3\n",
    ")"
   ]
  },
  {
   "cell_type": "code",
   "execution_count": null,
   "id": "42463a2b-cce7-45e1-b5d9-3605e4450b8b",
   "metadata": {},
   "outputs": [],
   "source": [
    "hp.mollview(templates_galplane_fix_mask)"
   ]
  },
  {
   "cell_type": "code",
   "execution_count": null,
   "id": "29ce3f96-a31b-48ec-913f-db0d8143648b",
   "metadata": {},
   "outputs": [],
   "source": [
    "for each in [td, bd]:\n",
    "    each[templates_galplane_fix_mask == 1] = 0"
   ]
  },
  {
   "cell_type": "code",
   "execution_count": null,
   "id": "a9b18f2a-8554-44ad-9a8b-c31173d2d9e9",
   "metadata": {},
   "outputs": [],
   "source": [
    "if produce_output: # do not generate galplane fix again\n",
    "\n",
    "    hp.write_map(\n",
    "        proddatadir / \"gnilc_dust_beta_Td_galplane.fits.gz\",\n",
    "        [bd, td],\n",
    "        fits_IDL=False,\n",
    "        overwrite=True,\n",
    "        coord=\"G\",\n",
    "        column_names=[\"BETA\", \"TD\"],\n",
    "        column_units=[\"\", \"K\"],\n",
    "        dtype=np.float32,\n",
    "    )"
   ]
  },
  {
   "cell_type": "code",
   "execution_count": null,
   "id": "329d1a0d-d98b-436d-b77b-a0e500030fe1",
   "metadata": {},
   "outputs": [],
   "source": []
  }
 ],
 "metadata": {
  "@webio": {
   "lastCommId": null,
   "lastKernelId": null
  },
  "kernelspec": {
   "display_name": "pycmb",
   "language": "python",
   "name": "pycmb"
  },
  "language_info": {
   "codemirror_mode": {
    "name": "ipython",
    "version": 3
   },
   "file_extension": ".py",
   "mimetype": "text/x-python",
   "name": "python",
   "nbconvert_exporter": "python",
   "pygments_lexer": "ipython3",
   "version": "3.10.0"
  },
  "papermill": {
   "default_parameters": {},
   "duration": 859.165365,
   "end_time": "2023-02-13T04:36:43.764167",
   "environment_variables": {},
   "exception": null,
   "input_path": "gnilc_dust_spectralindex_Tdust.ipynb",
   "output_path": "data/gnilc_dust_spectralindex_Tdust_executed.ipynb",
   "parameters": {},
   "start_time": "2023-02-13T04:22:24.598802",
   "version": "2.3.3"
  },
  "toc-autonumbering": false
 },
 "nbformat": 4,
 "nbformat_minor": 5
}
