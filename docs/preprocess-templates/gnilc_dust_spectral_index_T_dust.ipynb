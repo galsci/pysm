{
 "cells": [
  {
   "cell_type": "code",
   "execution_count": null,
   "id": "1278cb77-3565-4942-81bb-bd98ff8fe74d",
   "metadata": {},
   "outputs": [],
   "source": [
    "import os\n",
    "\n",
    "os.environ[\n",
    "    \"OMP_NUM_THREADS\"\n",
    "] = \"64\"  # for jupyter.nersc.gov otherwise the notebook only uses 2 cores"
   ]
  },
  {
   "cell_type": "code",
   "execution_count": null,
   "id": "a96f6a89-a494-4ee4-ac43-99ae0d9ee6e1",
   "metadata": {},
   "outputs": [],
   "source": [
    "from pathlib import Path\n",
    "import healpy as hp\n",
    "import matplotlib.pyplot as plt\n",
    "import numpy as np\n",
    "\n",
    "# import pymaster as nmt\n",
    "from astropy.io import fits\n",
    "\n",
    "%matplotlib inline"
   ]
  },
  {
   "cell_type": "code",
   "execution_count": null,
   "id": "d8437cb7-c63c-4a62-9e4c-edd93cbdca14",
   "metadata": {},
   "outputs": [],
   "source": [
    "hp.disable_warnings()"
   ]
  },
  {
   "cell_type": "code",
   "execution_count": null,
   "id": "13fd0a35-4b6d-48af-83e9-46aaff3594e1",
   "metadata": {},
   "outputs": [],
   "source": [
    "plt.style.use(\"seaborn-talk\")"
   ]
  },
  {
   "cell_type": "code",
   "execution_count": null,
   "id": "c957d265-5419-4c10-8e0b-4fcbefd644f6",
   "metadata": {},
   "outputs": [],
   "source": [
    "import pysm3 as pysm\n",
    "import pysm3.units as u"
   ]
  },
  {
   "cell_type": "code",
   "execution_count": null,
   "id": "26a78f78-3474-4967-95e3-cb435b445bf5",
   "metadata": {},
   "outputs": [],
   "source": [
    "nside = 2048\n",
    "lmax = 2048"
   ]
  },
  {
   "cell_type": "code",
   "execution_count": null,
   "id": "642c415f-d41e-409a-a785-6b5ca15caad3",
   "metadata": {},
   "outputs": [],
   "source": [
    "comp = \"IQU\""
   ]
  },
  {
   "cell_type": "code",
   "execution_count": null,
   "id": "9a4440ac-1252-4f25-bcd5-69592e92ad04",
   "metadata": {},
   "outputs": [],
   "source": [
    "components = list(enumerate(comp))\n",
    "components"
   ]
  },
  {
   "cell_type": "code",
   "execution_count": null,
   "id": "7715df1c-f359-4a19-81d0-3e8b79d1e65b",
   "metadata": {},
   "outputs": [],
   "source": [
    "spectra_components = [\"TT\", \"EE\", \"BB\"]"
   ]
  },
  {
   "cell_type": "code",
   "execution_count": null,
   "id": "75645da6-ea8a-4659-b534-d6e23892e4ea",
   "metadata": {},
   "outputs": [],
   "source": [
    "datadir = Path(\"data\")"
   ]
  },
  {
   "cell_type": "markdown",
   "id": "abceb495-39f3-4bd4-a9d5-89ecec75f929",
   "metadata": {},
   "source": [
    "## Injecting small scales to Spectral parameters "
   ]
  },
  {
   "cell_type": "code",
   "execution_count": null,
   "id": "c5f17de6-426a-4eaa-add9-eb57b27d9aca",
   "metadata": {},
   "outputs": [],
   "source": [
    "logm = hp.read_map(datadir / \"dust_gnilc_logpoltens_varres_nomono.fits\")\n",
    "ismooth = hp.smoothing(logm, fwhm=np.radians(5), lmax=lmax)"
   ]
  },
  {
   "cell_type": "code",
   "execution_count": null,
   "id": "79e28993-616c-43fe-ad1b-3991d80a8f99",
   "metadata": {},
   "outputs": [],
   "source": [
    "b1 = 1.1\n",
    "b2 = 1.5\n",
    "a = 0.1\n",
    "minmax = lambda m, a, b: a + (b - a) * (m - m.min()) / (m.max() - m.min())\n",
    "\n",
    "modulate_amp = (ismooth) * 1.0\n",
    "val = 4.5\n",
    "mskmd = ismooth > val\n",
    "\n",
    "modulate_amp[mskmd] = minmax(ismooth[mskmd], a=b1, b=b2)\n",
    "\n",
    "modulate_amp[~mskmd] = minmax(ismooth[~mskmd], a=a, b=b1)"
   ]
  },
  {
   "cell_type": "code",
   "execution_count": null,
   "id": "f5c3d366-9912-4e16-97b7-8b5b4610f87d",
   "metadata": {},
   "outputs": [],
   "source": [
    "tdfile = datadir / \"COM_CompMap_Dust-GNILC-Model-Temperature_2048_R2.00.fits\"\n",
    "if not tdfile.exists():\n",
    "    !wget -O $tdfile  http://pla.esac.esa.int/pla/aio/product-action?MAP.MAP_ID=COM_CompMap_Dust-GNILC-Model-Temperature_2048_R2.00.fits\n",
    "bdfile = datadir / \"COM_CompMap_Dust-GNILC-Model-Spectral-Index_2048_R2.00.fits\"\n",
    "\n",
    "if not bdfile.exists():\n",
    "    !wget -O $bdfile http://pla.esac.esa.int/pla/aio/product-action?MAP.MAP_ID=COM_CompMap_Dust-GNILC-Model-Spectral-Index_2048_R2.00.fits"
   ]
  },
  {
   "cell_type": "code",
   "execution_count": null,
   "id": "3e01fb69-53ef-4427-ba9d-51413b07f4a4",
   "metadata": {},
   "outputs": [],
   "source": [
    "td = hp.read_map(tdfile)\n",
    "bd = hp.read_map(bdfile)"
   ]
  },
  {
   "cell_type": "code",
   "execution_count": null,
   "id": "a1dbd143-e37a-4cd5-ae30-8b589f0d30ba",
   "metadata": {},
   "outputs": [],
   "source": [
    "cltd = hp.anafast(td, lmax=lmax)\n",
    "clbd = hp.anafast(bd, lmax=lmax)\n",
    "\n",
    "cl = {\"bd\": clbd, \"td\": cltd}\n",
    "dust_params = list(cl.keys())\n",
    "ell = np.arange(lmax + 1)"
   ]
  },
  {
   "cell_type": "code",
   "execution_count": null,
   "id": "7e4f8a76-d292-46fb-9e82-5d966b96e97b",
   "metadata": {},
   "outputs": [],
   "source": [
    "from scipy.optimize import curve_fit"
   ]
  },
  {
   "cell_type": "code",
   "execution_count": null,
   "id": "bcec9d01-3092-4fb0-9ba3-dd76b9faa007",
   "metadata": {},
   "outputs": [],
   "source": [
    "def model(ell, A, gamma):\n",
    "    out = A * ell ** gamma\n",
    "    out[:2] = 0\n",
    "    return out"
   ]
  },
  {
   "cell_type": "code",
   "execution_count": null,
   "id": "97678e56-0622-4671-b125-49490b58545c",
   "metadata": {},
   "outputs": [],
   "source": [
    "ell_fit_low = {\"bd\": 200, \"td\": 100}\n",
    "ell_fit_high = {\"bd\": 400, \"td\": 400}\n",
    "\n",
    "A_fit, gamma_fit, A_fit_std, gamma_fit_std = {}, {}, {}, {}\n",
    "plt.figure(figsize=(25, 5))\n",
    "\n",
    "for ii, pol in enumerate(dust_params):\n",
    "    plt.subplot(131 + ii)\n",
    "    xdata = np.arange(ell_fit_low[pol], ell_fit_high[pol])\n",
    "    ydata = cl[pol][xdata]\n",
    "    (A_fit[pol], gamma_fit[pol]), cov = curve_fit(model, xdata, ydata)\n",
    "\n",
    "    A_fit_std[pol], gamma_fit_std[pol] = np.sqrt(np.diag(cov))\n",
    "    plt.loglog(ell, cl[pol], label=\" Anafast $C_\\ell$\")\n",
    "\n",
    "    plt.plot(\n",
    "        ell[ell_fit_low[pol] // 2 : ell_fit_high[pol] * 2],\n",
    "        model(\n",
    "            ell[ell_fit_low[pol] // 2 : ell_fit_high[pol] * 2],\n",
    "            A_fit[pol],\n",
    "            gamma_fit[pol],\n",
    "        ),\n",
    "        label=\"model fit\",\n",
    "    )\n",
    "\n",
    "    plt.axvline(\n",
    "        ell_fit_low[pol],\n",
    "        linestyle=\"--\",\n",
    "        color=\"black\",\n",
    "        label=\"$ \\ell={} $\".format(ell_fit_low[pol]),\n",
    "    )\n",
    "    plt.axvline(\n",
    "        ell_fit_high[pol],\n",
    "        linestyle=\"--\",\n",
    "        color=\"gray\",\n",
    "        label=\"$ \\ell={} $\".format(ell_fit_high[pol]),\n",
    "    )\n",
    "    plt.legend()\n",
    "    plt.grid()\n",
    "    plt.title(\n",
    "        f\"{pol}   spectrum for dust   \" + r\"$\\gamma_{fit}=$\" + f\"{gamma_fit[pol]:.2f}\"\n",
    "    )\n",
    "\n",
    "    plt.ylabel(\"$ C_\\ell $\")\n",
    "    plt.xlabel((\"$\\ell$\"))\n",
    "    plt.xlim(2, lmax)"
   ]
  },
  {
   "cell_type": "markdown",
   "id": "632615ba-ead5-4660-a806-f67ca594834a",
   "metadata": {},
   "source": [
    "\n",
    "- We inject smaller angular scales to the maps  by extrapolating the power law fitted from the GNILC spectral parameter maps \n",
    "\n",
    "- Smaller angular scales are modulated similarly as the intensity map in pol tens formalism. \n",
    "\n",
    "- the multipoles where the fit is performed are different given the observed spectra . In any case we don't fit beyond $\\ell=400$, which is consistent with the TT analysis above \n",
    "- given the fact that we inject smaller angular scales with a steeper spectral index  than TT\n",
    "$$\\gamma_{\\beta} = -1.96, \\gamma_{Td} = -2.47, \\gamma_{TT}= -1.29$$\n",
    "\n",
    "we don't expect to injecti _small scale noise_ when rescaling at frequencies orders of magnitude lower or larger than  the reference one ( 353 GHz). \n"
   ]
  },
  {
   "cell_type": "code",
   "execution_count": null,
   "id": "f14faf41-0c4c-4248-a189-09146754daf1",
   "metadata": {},
   "outputs": [],
   "source": [
    "def sigmoid(x, x0, width, power=4):\n",
    "    \"\"\"Sigmoid function given start point and width\n",
    "    Parameters\n",
    "    ----------\n",
    "    x : array\n",
    "        input x axis\n",
    "    x0 : float\n",
    "        value of x where the sigmoid starts (not the center)\n",
    "    width : float\n",
    "        width of the transition region in unit of x\n",
    "    power : float\n",
    "        tweak the steepness of the curve\n",
    "    Returns\n",
    "    -------\n",
    "    sigmoid : array\n",
    "        sigmoid, same length of x\"\"\"\n",
    "    return 1.0 / (1 + np.exp(-power * (x - x0 - width / 2) / width))"
   ]
  },
  {
   "cell_type": "code",
   "execution_count": null,
   "id": "030f2021-3396-4fe4-a2c8-cea316c8b56b",
   "metadata": {},
   "outputs": [],
   "source": [
    "np.random.seed(777)\n",
    "# filter small scales\n",
    "small_scales_input_cl = [\n",
    "    1\n",
    "    * model(ell, A_fit[pol], gamma_fit[pol])\n",
    "    * (sigmoid(ell, ell_fit_high[pol], ell_fit_high[pol] / 10))\n",
    "    for pol in dust_params\n",
    "]\n",
    "bd_ss_alm = hp.synalm(small_scales_input_cl[0], lmax=lmax)\n",
    "td_ss_alm = hp.synalm(small_scales_input_cl[1], lmax=lmax)\n",
    "alm_bd = hp.map2alm(bd, lmax=lmax, use_pixel_weights=True)\n",
    "alm_td = hp.map2alm(td, lmax=lmax, use_pixel_weights=True)\n",
    "\n",
    "bd_LS_alm = np.empty_like(alm_bd)\n",
    "td_LS_alm = np.empty_like(alm_bd)\n",
    "sig_func = sigmoid(ell, x0=ell_fit_high[\"bd\"], width=ell_fit_high[\"bd\"] / 10)\n",
    "bd_LS_alm = hp.almxfl(alm_bd, np.sqrt(1.0 - sig_func))\n",
    "td_LS_alm = hp.almxfl(alm_td, np.sqrt(1.0 - sig_func))\n",
    "\n",
    "bd_ss = hp.alm2map(bd_ss_alm, nside=nside)\n",
    "td_ss = hp.alm2map(td_ss_alm, nside=nside)\n",
    "\n",
    "bd_ss *= modulate_amp\n",
    "td_ss *= modulate_amp\n",
    "\n",
    "bd_ls = hp.alm2map(bd_LS_alm, nside=nside)\n",
    "td_ls = hp.alm2map(td_LS_alm, nside=nside)\n",
    "bd_out = bd_ss + bd_ls\n",
    "td_out = td_ss + td_ls"
   ]
  },
  {
   "cell_type": "code",
   "execution_count": null,
   "id": "c2e63a6f-958b-4e8f-910c-3a0e71f9919f",
   "metadata": {},
   "outputs": [],
   "source": [
    "cl_out = {\"bd\": hp.anafast(bd_out, lmax=lmax), \"td\": hp.anafast(td_out, lmax=lmax)}"
   ]
  },
  {
   "cell_type": "code",
   "execution_count": null,
   "id": "876fcfd1-d793-4a5f-95b7-6deaba14bd6a",
   "metadata": {},
   "outputs": [],
   "source": [
    "for ii, pol in enumerate(dust_params):\n",
    "    plt.loglog(ell, cl[pol], alpha=0.5, color=\"C%d\" % ii)\n",
    "    plt.loglog(ell, cl_out[pol], label=f\" {pol}   \", color=\"C%d\" % ii)\n",
    "\n",
    "    plt.legend()\n",
    "    plt.grid(True)\n",
    "    plt.plot(\n",
    "        ell[100:][2:],\n",
    "        model(ell[100:], A_fit[pol], gamma_fit[pol])[2:],\n",
    "        \"--\",\n",
    "        color=\"red\",\n",
    "    )\n",
    "    plt.axvline(ell_fit_high[pol], linestyle=\"--\", color=\"gray\")\n",
    "    plt.axvline(100, linestyle=\"--\", color=\"gray\")\n",
    "\n",
    "    plt.ylabel(\"$ C_\\ell $\")\n",
    "    plt.xlabel((\"$\\ell$\"))\n",
    "    # plt.xlim(350, 500 )\n",
    "    plt.xlim(2, lmax)"
   ]
  },
  {
   "cell_type": "code",
   "execution_count": null,
   "id": "8daafd2b-011d-4e27-9243-da092b6ce558",
   "metadata": {},
   "outputs": [],
   "source": [
    "m_planck_varres = hp.read_map(\n",
    "    datadir / \"COM_CompMap_Dust-GNILC-F353_2048_21p8acm.fits\", dtype=np.float64\n",
    ")"
   ]
  },
  {
   "cell_type": "code",
   "execution_count": null,
   "id": "7deb3d3f-a597-4fb6-bc8e-9c354b643905",
   "metadata": {},
   "outputs": [],
   "source": [
    "lat = 35\n",
    "cm = plt.cm.RdBu\n",
    "plt.figure(figsize=(15, 8))\n",
    "hp.gnomview(\n",
    "    bd_out,\n",
    "    title=\"Bd  w/ small scales \",\n",
    "    rot=[0, lat],\n",
    "    reso=3.75,\n",
    "    cmap=cm,\n",
    "    xsize=320,\n",
    "    sub=234,\n",
    "    min=1.2,\n",
    "    max=1.9,\n",
    ")\n",
    "hp.gnomview(\n",
    "    bd_ss, title=\"small scales \", rot=[0, lat], reso=3.75, xsize=320, cmap=cm, sub=232\n",
    ")\n",
    "hp.gnomview(\n",
    "    m_planck_varres,\n",
    "    title=\" GNILC I MAP  \",\n",
    "    rot=[0, lat],\n",
    "    reso=3.75,\n",
    "    cmap=cm,\n",
    "    xsize=320,\n",
    "    sub=233,\n",
    ")\n",
    "\n",
    "hp.gnomview(\n",
    "    (bd),\n",
    "    title=\" Bd  GNILC  \",\n",
    "    rot=[0, lat],\n",
    "    reso=3.75,\n",
    "    xsize=320,\n",
    "    cmap=cm,\n",
    "    sub=235,\n",
    "    min=1.2,\n",
    "    max=1.9,\n",
    ")\n",
    "hp.gnomview(\n",
    "    bd_ls,\n",
    "    title=\"  Bd large scales \",\n",
    "    rot=[0, lat],\n",
    "    reso=3.75,\n",
    "    cmap=cm,\n",
    "    xsize=320,\n",
    "    sub=231,\n",
    "    min=1.2,\n",
    "    max=1.9,\n",
    ")\n",
    "\n",
    "plt.figure(figsize=(15, 8))\n",
    "hp.gnomview(\n",
    "    td_out,\n",
    "    title=\"Td  w/ small scales \",\n",
    "    rot=[0, lat],\n",
    "    reso=3.75,\n",
    "    xsize=320,\n",
    "    cmap=cm,\n",
    "    sub=234,\n",
    "    min=15,\n",
    "    max=25,\n",
    ")\n",
    "hp.gnomview(\n",
    "    td_ss, title=\"small scales \", rot=[0, lat], reso=3.75, xsize=320, sub=232, cmap=cm\n",
    ")\n",
    "hp.gnomview(\n",
    "    (modulate_amp),\n",
    "    title=\" modulation  \",\n",
    "    rot=[0, lat],\n",
    "    reso=3.75,\n",
    "    xsize=320,\n",
    "    cmap=cm,\n",
    "    sub=233,\n",
    ")\n",
    "\n",
    "hp.gnomview(\n",
    "    (td),\n",
    "    title=\" Td  GNILC  \",\n",
    "    rot=[0, lat],\n",
    "    reso=3.75,\n",
    "    xsize=320,\n",
    "    sub=235,\n",
    "    cmap=cm,\n",
    "    min=15,\n",
    "    max=25,\n",
    ")\n",
    "hp.gnomview(\n",
    "    td_ls,\n",
    "    title=\"  Td large scales \",\n",
    "    rot=[0, lat],\n",
    "    reso=3.75,\n",
    "    xsize=320,\n",
    "    cmap=cm,\n",
    "    sub=231,\n",
    "    min=15,\n",
    "    max=25,\n",
    ")"
   ]
  },
  {
   "cell_type": "code",
   "execution_count": null,
   "id": "b4b67182-9118-4c68-b33e-1a422a140b84",
   "metadata": {},
   "outputs": [],
   "source": []
  }
 ],
 "metadata": {
  "kernelspec": {
   "display_name": "namaster",
   "language": "python",
   "name": "namaster"
  },
  "language_info": {
   "codemirror_mode": {
    "name": "ipython",
    "version": 3
   },
   "file_extension": ".py",
   "mimetype": "text/x-python",
   "name": "python",
   "nbconvert_exporter": "python",
   "pygments_lexer": "ipython3",
   "version": "3.7.8"
  }
 },
 "nbformat": 4,
 "nbformat_minor": 5
}
