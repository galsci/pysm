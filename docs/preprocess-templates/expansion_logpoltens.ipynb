{
 "cells": [
  {
   "cell_type": "code",
   "execution_count": null,
   "metadata": {},
   "outputs": [],
   "source": [
    "import os\n",
    "\n",
    "os.environ[\n",
    "    \"OMP_NUM_THREADS\"\n",
    "] = \"64\"  # for jupyter.nersc.gov otherwise the notebook only uses 2 cores"
   ]
  },
  {
   "cell_type": "code",
   "execution_count": null,
   "metadata": {},
   "outputs": [],
   "source": [
    "from pathlib import Path\n",
    "import healpy as hp\n",
    "import matplotlib.pyplot as plt\n",
    "import numpy as np\n",
    "#import pymaster as nmt\n",
    "from astropy.io import fits\n",
    "\n",
    "%matplotlib inline"
   ]
  },
  {
   "cell_type": "code",
   "execution_count": null,
   "metadata": {},
   "outputs": [],
   "source": [
    "hp.disable_warnings()"
   ]
  },
  {
   "cell_type": "code",
   "execution_count": null,
   "metadata": {},
   "outputs": [],
   "source": [
    "plt.style.use(\"seaborn-talk\")"
   ]
  },
  {
   "cell_type": "code",
   "execution_count": null,
   "metadata": {},
   "outputs": [],
   "source": [
    "import pysm3 as pysm\n",
    "import pysm3.units as u"
   ]
  },
  {
   "cell_type": "code",
   "execution_count": null,
   "metadata": {},
   "outputs": [],
   "source": [
    "nside = 2048\n",
    "lmax = 2048"
   ]
  },
  {
   "cell_type": "code",
   "execution_count": null,
   "metadata": {},
   "outputs": [],
   "source": [
    "comp = \"IQU\""
   ]
  },
  {
   "cell_type": "code",
   "execution_count": null,
   "metadata": {},
   "outputs": [],
   "source": [
    "components = list(enumerate(comp))\n",
    "components"
   ]
  },
  {
   "cell_type": "code",
   "execution_count": null,
   "metadata": {},
   "outputs": [],
   "source": [
    "spectra_components = [\"TT\", \"EE\", \"BB\"]"
   ]
  },
  {
   "cell_type": "markdown",
   "metadata": {},
   "source": [
    "change this to True   if you want to  run namaster on notebook \n"
   ]
  },
  {
   "cell_type": "code",
   "execution_count": null,
   "metadata": {},
   "outputs": [],
   "source": [
    "namaster_on_nb = False"
   ]
  },
  {
   "cell_type": "code",
   "execution_count": null,
   "metadata": {},
   "outputs": [],
   "source": [
    "datadir=Path(\"data/\")\n"
   ]
  },
  {
   "cell_type": "markdown",
   "metadata": {},
   "source": [
    "# Setting the inputs "
   ]
  },
  {
   "cell_type": "markdown",
   "metadata": {},
   "source": [
    "## Dust maps \n",
    "- We use the  2015 GNILC intensity map from the 2nd planck release, as it encodes less contamination from CIB with 21.8' resolution https://www.dropbox.com/s/hicocet83z31ob3/COM_CompMap_Dust-GNILC-F353_2048_21p8acm.fits?dl=0\n",
    "\n",
    "- for Q and U we adopt maps from the 3rd Planck release as they were optimized for polarization studies with 80' reso.  \n",
    "\n"
   ]
  },
  {
   "cell_type": "code",
   "execution_count": null,
   "metadata": {},
   "outputs": [],
   "source": [
    "dust_varresI = datadir / \"COM_CompMap_Dust-GNILC-F353_2048_21p8acm.fits\"\n",
    "dust_varresP = datadir / \"COM_CompMap_IQU-thermaldust-gnilc-varres_2048_R3.00.fits\""
   ]
  },
  {
   "cell_type": "code",
   "execution_count": null,
   "metadata": {},
   "outputs": [],
   "source": [
    "if not dust_varresI.exists():\n",
    "    !wget -O $dust_varresI https://www.dropbox.com/s/hicocet83z31ob3/COM_CompMap_Dust-GNILC-F353_2048_21p8acm.fits?dl=0"
   ]
  },
  {
   "cell_type": "code",
   "execution_count": null,
   "metadata": {},
   "outputs": [],
   "source": [
    "if not dust_varresP.exists():\n",
    "    !wget -O $dust_varresP http://pla.esac.esa.int/pla/aio/product-action?MAP.MAP_ID=COM_CompMap_IQU-thermaldust-gnilc-varres_2048_R3.00.fits"
   ]
  },
  {
   "cell_type": "markdown",
   "metadata": {},
   "source": [
    "Transform maps to double precision for computations"
   ]
  },
  {
   "cell_type": "code",
   "execution_count": null,
   "metadata": {},
   "outputs": [],
   "source": [
    "m_planck_varres, h = hp.read_map(dust_varresP, [c + \"_STOKES\" for c in comp], dtype=np.float64, h=True)\n",
    "I_planck_varres, h = hp.read_map(dust_varresI, dtype=np.float64, h=True)"
   ]
  },
  {
   "cell_type": "markdown",
   "metadata": {},
   "source": [
    "Maps from the two releases are in different units `MJy/sr` the former, and `K_CMB` the latter, we therefore need to perform some conversion to `uK_RJ`. "
   ]
  },
  {
   "cell_type": "code",
   "execution_count": null,
   "metadata": {},
   "outputs": [],
   "source": [
    "m_planck_varres <<= u.K_CMB\n",
    "I_planck_varres <<= u.MJy / u.sr\n",
    "m_planck_varres = m_planck_varres.to(\n",
    "    \"uK_RJ\", equivalencies=u.cmb_equivalencies(353 * u.GHz)\n",
    ")\n",
    "I_planck_varres = I_planck_varres.to(\n",
    "    \"uK_RJ\", equivalencies=u.cmb_equivalencies(353 * u.GHz)\n",
    ")"
   ]
  },
  {
   "cell_type": "markdown",
   "metadata": {},
   "source": [
    "then we are ready to combine both maps into one single TQU map. "
   ]
  },
  {
   "cell_type": "code",
   "execution_count": null,
   "metadata": {},
   "outputs": [],
   "source": [
    "m_planck_varres[0] = I_planck_varres\n",
    "del I_planck_varres"
   ]
  },
  {
   "cell_type": "code",
   "execution_count": null,
   "metadata": {},
   "outputs": [],
   "source": [
    "m_planck_varres.dtype"
   ]
  },
  {
   "cell_type": "markdown",
   "metadata": {},
   "source": [
    "### GAL080 Planck  mask \n",
    "\n",
    "we mask the galaxy to estimate the power spectra with Namaster before and after small scale injection. \n"
   ]
  },
  {
   "cell_type": "code",
   "execution_count": null,
   "metadata": {},
   "outputs": [],
   "source": [
    "planck_mask_filename = datadir / \"HFI_Mask_GalPlane-apo2_2048_R2.00.fits\"\n",
    "\n",
    "if not planck_mask_filename.exists():\n",
    "    !wget -O $planck_mask_filename \"http://pla.esac.esa.int/pla/aio/product-action?MAP.MAP_ID=HFI_Mask_GalPlane-apo2_2048_R2.00.fits\""
   ]
  },
  {
   "cell_type": "code",
   "execution_count": null,
   "metadata": {},
   "outputs": [],
   "source": [
    "planck_mask = hp.read_map(planck_mask_filename, [\"GAL080\"])\n",
    "\n",
    "planck_mask = np.int_(np.ma.masked_not_equal(planck_mask, 0.0).mask)\n",
    "fsky = planck_mask.sum() / planck_mask.size\n",
    "print(f\"masking {fsky} of the sky\")\n",
    "hp.mollview(planck_mask, title=f\"Planck common galactic mask, {comp}\")"
   ]
  },
  {
   "cell_type": "markdown",
   "metadata": {},
   "source": [
    "#### Monopole subtraction \n",
    "\n",
    "\n",
    "Section 2.2 of [Planck 2018 XII](https://arxiv.org/pdf/1807.06212.pdf) value reported:  0.13 MJy/sr \n",
    "\n",
    "we subtract this term only to the I map for   the pixels outside  the Galactic plane mask."
   ]
  },
  {
   "cell_type": "code",
   "execution_count": null,
   "metadata": {},
   "outputs": [],
   "source": [
    "planck2018_monopole = (0.13 * u.MJy / u.sr).to(\n",
    "    u.uK_RJ, equivalencies=u.cmb_equivalencies(353 * u.GHz)\n",
    ")\n",
    "\n",
    "m_planck_varres[0][planck_mask] -= planck2018_monopole"
   ]
  },
  {
   "cell_type": "markdown",
   "metadata": {},
   "source": [
    "\n",
    "We estimate how many pixels have I< P after we subtract the monopole "
   ]
  },
  {
   "cell_type": "code",
   "execution_count": null,
   "metadata": {},
   "outputs": [],
   "source": [
    "maskmono = m_planck_varres[0] ** 2 < m_planck_varres[1] ** 2 + m_planck_varres[2] ** 2\n",
    "print(\n",
    "    f\"{maskmono.sum() } pixels out of { maskmono.size} expected to be NaNs in Log Pol Tens maps \"\n",
    ")"
   ]
  },
  {
   "cell_type": "code",
   "execution_count": null,
   "metadata": {},
   "outputs": [],
   "source": [
    "plt.figure(figsize=(20, 5))\n",
    "for i_pol, pol in components:\n",
    "    hp.mollview(\n",
    "        m_planck_varres[i_pol],\n",
    "        title=\"Planck-GNILC 2058/2018 dust \" + pol,\n",
    "        sub=131 + i_pol,\n",
    "        unit=m_planck_varres.unit,\n",
    "        min=-300,\n",
    "        max=300,\n",
    "    )"
   ]
  },
  {
   "cell_type": "markdown",
   "metadata": {},
   "source": [
    "## Transform maps to Poltens quantities "
   ]
  },
  {
   "cell_type": "code",
   "execution_count": null,
   "metadata": {},
   "outputs": [],
   "source": [
    "def map_to_log_pol_tens(m):\n",
    "    P = np.sqrt(m[1] ** 2 + m[2] ** 2)\n",
    "    log_pol_tens = np.empty_like(m)\n",
    "    log_pol_tens[0] = np.log(m[0] ** 2 - P ** 2) / 2.0\n",
    "    log_pol_tens[1:] = m[1:] / P * np.log((m[0] + P) / (m[0] - P)) / 2.0\n",
    "    return log_pol_tens\n",
    "\n",
    "\n",
    "def log_pol_tens_to_map(log_pol_tens):\n",
    "    P = np.sqrt(log_pol_tens[1] ** 2 + log_pol_tens[2] ** 2)\n",
    "    m = np.empty_like(log_pol_tens)\n",
    "    exp_i = np.exp(log_pol_tens[0])\n",
    "    m[0] = exp_i * np.cosh(P)\n",
    "    m[1:] = log_pol_tens[1:] / P * exp_i * np.sinh(P)\n",
    "    return m\n",
    "\n",
    "\n",
    "def sigmoid(x, x0, width, power=4):\n",
    "    \"\"\"Sigmoid function given start point and width\n",
    "    Parameters\n",
    "    ----------\n",
    "    x : array\n",
    "        input x axis\n",
    "    x0 : float\n",
    "        value of x where the sigmoid starts (not the center)\n",
    "    width : float\n",
    "        width of the transition region in unit of x\n",
    "    power : float\n",
    "        tweak the steepness of the curve\n",
    "    Returns\n",
    "    -------\n",
    "    sigmoid : array\n",
    "        sigmoid, same length of x\"\"\"\n",
    "    return 1.0 / (1 + np.exp(-power * (x - x0 - width / 2) / width))"
   ]
  },
  {
   "cell_type": "code",
   "execution_count": null,
   "metadata": {},
   "outputs": [],
   "source": [
    "log_pol_tens_varres = map_to_log_pol_tens(m_planck_varres.value)"
   ]
  },
  {
   "cell_type": "markdown",
   "metadata": {},
   "source": [
    "check the transformation back and forth "
   ]
  },
  {
   "cell_type": "code",
   "execution_count": null,
   "metadata": {},
   "outputs": [],
   "source": [
    "m_back = log_pol_tens_to_map(log_pol_tens_varres)\n",
    "hp.mollview((m_planck_varres.value - m_back)[1], min=-1e-12, max=1e-12)\n",
    "del m_back"
   ]
  },
  {
   "cell_type": "markdown",
   "metadata": {},
   "source": [
    "Checking NaNs  on the Poltens map "
   ]
  },
  {
   "cell_type": "code",
   "execution_count": null,
   "metadata": {},
   "outputs": [],
   "source": [
    "print(\n",
    "    f\"{np.isnan(log_pol_tens_varres[0]).sum()  } pixels out of { maskmono.size} are NaNs in Log Pol Tens maps \"\n",
    ")"
   ]
  },
  {
   "cell_type": "code",
   "execution_count": null,
   "metadata": {},
   "outputs": [],
   "source": [
    "for i in range(3):\n",
    "    log_pol_tens_varres[i, np.isnan(log_pol_tens_varres[i])] = np.nanmedian(\n",
    "        log_pol_tens_varres[i]\n",
    "    )"
   ]
  },
  {
   "cell_type": "markdown",
   "metadata": {},
   "source": [
    "Set all the NaNs to the map median value  \n"
   ]
  },
  {
   "cell_type": "code",
   "execution_count": null,
   "metadata": {},
   "outputs": [],
   "source": [
    "assert np.isnan(log_pol_tens_varres).sum() == 0"
   ]
  },
  {
   "cell_type": "code",
   "execution_count": null,
   "metadata": {},
   "outputs": [],
   "source": [
    "hp.write_map(\n",
    "    datadir / \"dust_gnilc_logpoltens_varres_nomono.fits\",\n",
    "    log_pol_tens_varres,\n",
    "    dtype=np.float32,\n",
    "    overwrite=True,\n",
    ")"
   ]
  },
  {
   "cell_type": "code",
   "execution_count": null,
   "metadata": {},
   "outputs": [],
   "source": [
    "for i_pol, pol in components:\n",
    "    hp.mollview(\n",
    "        log_pol_tens_varres[i_pol],\n",
    "        title=\"Log Pol tensor \" + pol,\n",
    "        sub=131 + i_pol,\n",
    "        unit=m_planck_varres.unit,\n",
    "    )"
   ]
  },
  {
   "cell_type": "code",
   "execution_count": null,
   "metadata": {},
   "outputs": [],
   "source": [
    "from scipy.optimize import curve_fit"
   ]
  },
  {
   "cell_type": "code",
   "execution_count": null,
   "metadata": {},
   "outputs": [],
   "source": [
    "def model(ell, A, gamma):\n",
    "    out = A * ell ** gamma\n",
    "    out[:2] = 0\n",
    "    return out"
   ]
  },
  {
   "cell_type": "code",
   "execution_count": null,
   "metadata": {},
   "outputs": [],
   "source": [
    "def run_anafast(m, lmax):\n",
    "    clanaf = hp.anafast(m, lmax=lmax)\n",
    "    cl = {}\n",
    "    cl[\"TT\"] = clanaf[0]\n",
    "    cl[\"EE\"] = clanaf[1]\n",
    "    cl[\"BB\"] = clanaf[2]\n",
    "    cl[\"TE\"] = clanaf[3]\n",
    "    ell = np.arange(lmax + 1)\n",
    "\n",
    "    cl_norm = ell * (ell + 1) / np.pi / 2\n",
    "    cl_norm[0] = 1\n",
    "    return ell, cl_norm, cl\n",
    "\n",
    "\n",
    "def run_namaster(m, mask, lmax, nlbins=1):\n",
    "    \"\"\"Compute C_ell with NaMaster\n",
    "    Parameters\n",
    "    ----------\n",
    "    m : numpy array\n",
    "        T only or TQU HEALPix map\n",
    "    mask : numpy array\n",
    "        mask, 1D, 0 for masked pixels,\n",
    "        needs to have same Nside of the input map\n",
    "    lmax : int\n",
    "        maximum ell of the spherical harmonics transform\n",
    "    Returns\n",
    "    -------\n",
    "    ell : numpy array\n",
    "        array of ell from 0 to lmax (length lmax+1)\n",
    "    cl_norm : numpy array\n",
    "        ell (ell+1)/2pi factor to turn C_ell into D_ell\n",
    "        first element is set to 1\n",
    "    cl : dict of numpy arrays\n",
    "        dictionary of numpy arrays with all components\n",
    "        of the spectra, for now only II, EE, BB, no\n",
    "        cross-spectra\n",
    "    \"\"\"\n",
    "    nside = hp.npix2nside(len(mask))\n",
    "\n",
    "    binning = nmt.NmtBin(nside=nside, nlb=nlb, lmax=lmax, is_Dell=False)\n",
    "\n",
    "    cl = {}\n",
    "\n",
    "    f_0 = nmt.NmtField(mask, [m[0]])\n",
    "\n",
    "    if len(m) == 3:\n",
    "        f_2 = nmt.NmtField(mask, m[1:].copy())  # NaMaster masks the map in-place\n",
    "        cl_namaster = nmt.compute_full_master(f_2, f_2, binning)\n",
    "        cl[\"EE\"] = np.concatenate([[0, 0], cl_namaster[0]])\n",
    "        cl[\"BB\"] = np.concatenate([[0, 0], cl_namaster[3]])\n",
    "        cl_namaster = nmt.compute_full_master(f_0, f_2, binning)\n",
    "        cl[\"TE\"] = np.concatenate([[0, 0], cl_namaster[0]])\n",
    "    elif m.ndim == 1:\n",
    "        m = m.reshape((1, -1))\n",
    "\n",
    "    cl_namaster_I = nmt.compute_full_master(f_0, f_0, binning)\n",
    "\n",
    "    cl[\"TT\"] = np.concatenate([[0, 0], cl_namaster_I[0]])\n",
    "    ell = np.concatenate([[0, 1], binning.get_effective_ells()])\n",
    "    cl_norm = ell * (ell + 1) / np.pi / 2\n",
    "    cl_norm[0] = 1\n",
    "    return ell, cl_norm, cl"
   ]
  },
  {
   "cell_type": "code",
   "execution_count": null,
   "metadata": {},
   "outputs": [],
   "source": [
    "print(\"run anafast on masked sky  \")\n",
    "ell, cl_norm, cl = run_anafast(log_pol_tens_varres, lmax)"
   ]
  },
  {
   "cell_type": "markdown",
   "metadata": {},
   "source": [
    "## Fitting the power law from the fullsky power spectra  \n",
    "\n",
    "We firstly fit a power law spectrum in different multipole ranges.\n",
    "As we get flatter spectral indices for polarization spectra,  this will yield to  injecting smaller angular scales in TT whose power at given multipole $\\ell_*$  is smaller than EE and BB for all $\\ell>\\ell_*$. \n",
    "To avoid this we therefore force EE and BB small scales to follow the fitted TT power law. We also remark  that in this way we get EB ratio closer to ~2.  \n"
   ]
  },
  {
   "cell_type": "code",
   "execution_count": null,
   "metadata": {},
   "outputs": [],
   "source": [
    "ell_fit_low = {\"TT\":100, \"EE\":30, \"BB\":30}\n",
    "ell_fit_high = {\"TT\":400, \"EE\":110, \"BB\":110}\n",
    "A_fit, gamma_fit, A_fit_std, gamma_fit_std = {},{},{},{}\n",
    "plt.figure(figsize=(25,5))\n",
    "\n",
    "for ii, pol in enumerate(spectra_components):\n",
    "    plt.subplot(131+ii)\n",
    "    xdata = np.arange(ell_fit_low[pol], ell_fit_high[pol])\n",
    "    ydata = xdata*(xdata+1)/np.pi/2 * cl[pol][xdata]\n",
    "    (A_fit[pol], gamma_fit[pol]), cov = curve_fit(model, xdata, ydata)\n",
    "    A_fit_std[pol], gamma_fit_std[pol] = np.sqrt(np.diag(cov))\n",
    "\n",
    "    plt.loglog(ell, ell*(ell+1)/np.pi/2 * cl[pol], label=\"Anafast $C_\\ell$\")\n",
    "    plt.plot(ell[ell_fit_low[pol]//2:ell_fit_high[pol]*2], \n",
    "             model(ell[ell_fit_low[pol]//2:ell_fit_high[pol]*2], A_fit[pol], gamma_fit[pol]), label=\"power law fit\")\n",
    "    \n",
    "    plt.axvline(ell_fit_low[pol], linestyle=\"--\", color=\"black\", label=\"$ \\ell={} $\".format(ell_fit_low[pol]))\n",
    "    plt.axvline(ell_fit_high[pol], linestyle=\"--\", color=\"gray\", label=\"$ \\ell={} $\".format(ell_fit_high[pol]))\n",
    "    plt.grid()\n",
    "    plt.title(f\"{pol}   spectrum for dust Dust Pol.Tens  \" )\n",
    "\n",
    "    plt.ylabel(\"$\\ell(\\ell+1)C_\\ell/2\\pi [\\mu K_{RJ}]$\")\n",
    "    plt.xlabel((\"$\\ell$\"))\n",
    "    plt.xlim(2, lmax)\n",
    "    print(f\"Spectral index from fit for {pol}={gamma_fit[pol]}\")\n",
    "print(f\"B-to-E ratio w/ fitted power law at l= {ell_fit_high['BB']} , { A_fit['BB']/A_fit['EE' ]}\" ) \n",
    "\n",
    "for ii, pol in enumerate(spectra_components[1:] ):\n",
    "    #we change the EE and BB power laws \n",
    "    A_fit[pol] =A_fit[pol]*  ell_fit_high[pol]**( gamma_fit[pol ] - gamma_fit['TT' ] ) \n",
    "    gamma_fit[pol] = gamma_fit['TT'] \n",
    "    plt.subplot(132+ii)\n",
    "    plt.plot(ell[ell_fit_high[pol] :ell_fit_high[pol]*10], \n",
    "             model(ell[ell_fit_high[pol]:ell_fit_high[pol]*10], A_fit[pol], gamma_fit[pol]),linewidth=3, alpha=.4, color='k', \n",
    "             label=\"TT power law\")\n",
    "    \n",
    "print(f\"B-to-E ratio w/ TT power law at l= {ell_fit_high['BB']} , { A_fit['BB']/A_fit['EE' ]}\" ) \n",
    "plt.legend() \n"
   ]
  },
  {
   "cell_type": "markdown",
   "metadata": {},
   "source": [
    "### Define Modulation maps \n",
    "as the injected small scales are at different multipoles for intensity and polarization, we consider 2 different modulation maps  \n",
    "\n",
    "#### Modulation for  polarization : \n",
    "- smooth `i` map to 5 deg \n",
    "- we saturate all the pixels >4.5 to 1.1 \n",
    "- reduce the dynamic range to range from .1 to 1.1 with MinMax rescaling  \n",
    "\n",
    "#### Modulation for  intensity : \n",
    "- smooth `i` map to 5 deg \n",
    "- for  the pixels >4.5  MinMax rescaling from 1.1 to 2 \n",
    "- elsewhere MinMax rescaling  from  .1 to 1.1   "
   ]
  },
  {
   "cell_type": "code",
   "execution_count": null,
   "metadata": {},
   "outputs": [],
   "source": [
    "ismooth = hp.smoothing(log_pol_tens_varres[0], fwhm=np.radians(5), lmax=lmax)"
   ]
  },
  {
   "cell_type": "code",
   "execution_count": null,
   "metadata": {},
   "outputs": [],
   "source": [
    "b1 = 1.1\n",
    "b2 = 2\n",
    "a = 0.1\n",
    "minmax = lambda m, a, b: a + (b - a) * (m - m.min()) / (m.max() - m.min())\n",
    "\n",
    "modulate_amp_pol = (ismooth) * 1.0\n",
    "modulate_amp = (ismooth) * 1.0\n",
    "val = 4.5\n",
    "mskmd = ismooth > val\n",
    "modulate_amp_pol[mskmd] = b1\n",
    "\n",
    "modulate_amp_pol[~mskmd] = minmax(ismooth[~mskmd], a=a, b=b1)\n",
    "\n",
    "modulate_amp[mskmd] = minmax(ismooth[mskmd], a=b1, b=b2)\n",
    "\n",
    "modulate_amp[~mskmd] = minmax(ismooth[~mskmd], a=a, b=b1)"
   ]
  },
  {
   "cell_type": "code",
   "execution_count": null,
   "metadata": {},
   "outputs": [],
   "source": [
    "del ismooth, mskmd"
   ]
  },
  {
   "cell_type": "code",
   "execution_count": null,
   "metadata": {},
   "outputs": [],
   "source": [
    "hp.write_map(datadir / f\"modulate_amp_nside{nside}.fits\", modulate_amp, dtype=np.float32, overwrite=True)\n",
    "hp.write_map(\n",
    "    datadir / f\"modulate_amp_pol_nside{nside}.fits\", modulate_amp_pol, dtype=np.float32, overwrite=True\n",
    ")"
   ]
  },
  {
   "cell_type": "code",
   "execution_count": null,
   "metadata": {},
   "outputs": [],
   "source": [
    "plt.figure(figsize=(15, 5))\n",
    "hp.mollview(modulate_amp, title=\"intensity modulation\", sub=121)\n",
    "hp.mollview(modulate_amp_pol, title=\"polarization modulation\", sub=122)"
   ]
  },
  {
   "cell_type": "markdown",
   "metadata": {},
   "source": [
    "### Making maps with small scales \n",
    "1. generate the Cl  from the fit power spectra and with the sigmoid high-pass filter \n",
    "2. construct Alm  from the Cl \n",
    "3. Filter Alm encoding  small scales with the  sigmoid \n",
    "4. Estimate Alm of the fullsky poltens maps encoding large scales  with the sigmoid low-pass filter ,  \n",
    "5. Estimate maps from the Alm with large and small scales , `ls` and `ss` \n",
    "6. modulate small scales with modulation maps , i.e. `ss' =ss * modulation_maps` \n",
    "7. define new poltens maps as : `iqu = ls +ss'` \n",
    "8.  transform back to real `IQU` maps "
   ]
  },
  {
   "cell_type": "code",
   "execution_count": null,
   "metadata": {},
   "outputs": [],
   "source": [
    "output_nside = 2048 #8192\n",
    "output_lmax = 2 * output_nside\n",
    "output_ell = np.arange(output_lmax + 1)\n",
    "output_cl_norm = output_ell * (output_ell + 1) / np.pi / 2\n",
    "output_cl_norm[0] = 1"
   ]
  },
  {
   "cell_type": "code",
   "execution_count": null,
   "metadata": {},
   "outputs": [],
   "source": [
    "np.random.seed(8192)\n",
    "# filter small scales\n",
    "small_scales_input_cl = [\n",
    "    1\n",
    "    * model(output_ell, A_fit[pol], gamma_fit[pol])\n",
    "    * sigmoid(output_ell, ell_fit_high[pol], ell_fit_high[pol] / 10)\n",
    "    / output_cl_norm\n",
    "    for pol in spectra_components\n",
    "]\n",
    "hp.write_cl(\n",
    "    datadir / f\"small_scales_logpoltens_cl_lmax{output_lmax}.fits\",\n",
    "    small_scales_input_cl,\n",
    "    dtype=np.complex128,\n",
    "    overwrite=True,\n",
    ")\n",
    "alm_log_pol_tens_fullsky = hp.map2alm(\n",
    "    log_pol_tens_varres, lmax=lmax, use_pixel_weights=True\n",
    ")\n",
    "\n",
    "ii_LS_alm = np.empty_like(alm_log_pol_tens_fullsky)\n",
    "for ii, pol in enumerate(spectra_components):\n",
    "\n",
    "    sig_func = sigmoid(ell, x0=ell_fit_high[pol], width=ell_fit_high[pol] / 10)\n",
    "\n",
    "    ii_LS_alm[ii] = hp.almxfl(alm_log_pol_tens_fullsky[ii], (1.0 - sig_func) ** 0.2)\n",
    "\n",
    "log_ss = hp.synfast(\n",
    "    small_scales_input_cl + [np.zeros_like(small_scales_input_cl[0])] * 3,\n",
    "    lmax=output_lmax,\n",
    "    new=True,\n",
    "    nside=output_nside,\n",
    ")\n",
    "assert np.isnan(log_ss).sum() == 0\n",
    "log_ss[0] *= hp.ud_grade(modulate_amp, output_nside)\n",
    "log_ss[1:] *= hp.ud_grade(modulate_amp_pol, output_nside)\n",
    "assert np.isnan(log_ss).sum() == 0\n",
    "hp.write_alm(\n",
    "    datadir / f\"gnilc_largescale_logpoltens_alm_nside{nside}_lmax{lmax}_complex64.fits\",\n",
    "    ii_LS_alm,\n",
    "    out_dtype=np.complex64,\n",
    "    overwrite=True,\n",
    ")\n",
    "log_ls = hp.alm2map(ii_LS_alm, nside=output_nside)\n",
    "ii_map_out = log_ss + log_ls"
   ]
  },
  {
   "cell_type": "code",
   "execution_count": null,
   "metadata": {},
   "outputs": [],
   "source": [
    "del log_ls, ii_LS_alm"
   ]
  },
  {
   "cell_type": "code",
   "execution_count": null,
   "metadata": {},
   "outputs": [],
   "source": [
    "output_map = log_pol_tens_to_map(ii_map_out)\n",
    "\n",
    "hp.write_map(\n",
    "    datadir / f\"dust_gnilc_hybrid_out_nside{output_nside}_float32.fits\",\n",
    "    output_map,\n",
    "    dtype=np.float32,\n",
    "    overwrite=True,\n",
    ")"
   ]
  },
  {
   "cell_type": "code",
   "execution_count": null,
   "metadata": {},
   "outputs": [],
   "source": [
    "output_map_alm = hp.map2alm(output_map, lmax=output_lmax)"
   ]
  },
  {
   "cell_type": "code",
   "execution_count": null,
   "metadata": {},
   "outputs": [],
   "source": [
    "hp.write_alm(\n",
    "    datadir / f\"dust_gnilc_hybrid_out_alm_nside{output_nside}_lmax{output_lmax}_complex64.fits\",\n",
    "    output_map_alm,\n",
    "    out_dtype = np.complex64,\n",
    "    overwrite=True,\n",
    ")"
   ]
  },
  {
   "cell_type": "markdown",
   "metadata": {},
   "source": [
    "#### Plot maps "
   ]
  },
  {
   "cell_type": "code",
   "execution_count": null,
   "metadata": {},
   "outputs": [],
   "source": [
    "lat=15\n",
    "plt.figure(figsize=(15,10))\n",
    "hp.gnomview(ii_map_out[0] ,cmap='RdBu',   title='i w/ small scales ', rot=[0,lat],reso=3.75,xsize=320,  sub=234 )\n",
    "hp.gnomview(log_pol_tens_varres [0],cmap='RdBu',  title='i', rot=[0,lat],reso=3.75,xsize=320, sub=231 )\n",
    "hp.gnomview((modulate_amp),cmap='RdBu',  title=' modulation I ', rot=[0,lat],reso=3.75,xsize=320,  sub=233, )\n",
    "\n",
    "hp.gnomview((m_planck_varres [0]),cmap='RdBu',  title=' I GNILC  ', rot=[0,lat],reso=3.75,xsize=320,  sub=232, )\n",
    "hp.gnomview((log_ss)[0],cmap='RdBu',  title='  small scales ', rot=[0,lat], reso=3.75,xsize=320, sub=236, )\n",
    "hp.gnomview(output_map[0],cmap='RdBu' ,  title='I w/ small scales ', rot=[0,lat],reso=3.75,xsize=320,  sub=235 )\n",
    "\n",
    "plt.figure(figsize=(15,10))\n",
    "hp.gnomview(ii_map_out[1],cmap='RdBu' ,  title='q w/ small scales ', rot=[0,lat],reso=3.75,xsize=320,  sub=234 )\n",
    "hp.gnomview(log_pol_tens_varres [1],cmap='RdBu',  title='q', rot=[0,lat],reso=3.75,xsize=320, sub=231 )\n",
    "hp.gnomview((modulate_amp_pol),cmap='RdBu',  title=' modulation  ', rot=[0,lat],reso=3.75,xsize=320,  sub=233, )\n",
    "\n",
    "hp.gnomview((m_planck_varres [1]),cmap='RdBu',  title=' Q GNILC  ', rot=[0,lat],reso=3.75,xsize=320,  sub=232, )\n",
    "hp.gnomview((log_ss)[1],cmap='RdBu',  title='  small scales ', rot=[0,lat], reso=3.75,xsize=320, sub=236, )\n",
    "hp.gnomview(output_map[1] ,cmap='RdBu',  title='Q w/ small scales ', rot=[0,lat],reso=3.75,xsize=320,  sub=235 )\n",
    "\n"
   ]
  },
  {
   "cell_type": "code",
   "execution_count": null,
   "metadata": {},
   "outputs": [],
   "source": [
    "del log_ss, ii_map_out, modulate_amp, modulate_amp_pol"
   ]
  },
  {
   "cell_type": "code",
   "execution_count": null,
   "metadata": {},
   "outputs": [],
   "source": [
    "spectra_components += [\"TE\"]"
   ]
  },
  {
   "cell_type": "code",
   "execution_count": null,
   "metadata": {},
   "outputs": [],
   "source": [
    "output_planck_mask = hp.ud_grade(planck_mask, output_nside)"
   ]
  },
  {
   "cell_type": "code",
   "execution_count": null,
   "metadata": {},
   "outputs": [],
   "source": [
    "hp.mollview(output_planck_mask)"
   ]
  },
  {
   "cell_type": "markdown",
   "metadata": {
    "tags": []
   },
   "source": [
    "## Validate outputs estimating NaMaster power spectra on both input and outputs  \n",
    "\n",
    "we have expanded our validation by means of 3 figures of merit: \n",
    "\n",
    "1. TT,EE, BB  power spectra with Namaster \n",
    "2. B-to-E ratio  \n",
    "3. Polarization  fraction \n",
    "\n",
    "Moreover, we have considered 4   masks to evaluate the quality of the small scales injected for different $f_{sky} = 0.02,0.2, 0.4,0.8 $. \n",
    "\n",
    "Another small difference with previous analysis is that  we estimated the spectra on binned equally-spaced multipoles. We choose $\\Delta \\ell =35, 25,15,4$   respectively for the 4 masks. "
   ]
  },
  {
   "cell_type": "code",
   "execution_count": null,
   "metadata": {},
   "outputs": [],
   "source": [
    "planck_masks = {\"gal080\":hp.read_map(datadir/ \"HFI_Mask_GalPlane-apo2deg_2048_R2.00_GAL080.fits\"),\n",
    "               \"gal040\":hp.read_map(datadir/\"HFI_Mask_GalPlane-apo2_2048_R2.00_GAL040.fits\"),\n",
    "               \"gal020\":hp.read_map(datadir/ \"HFI_Mask_GalPlane-apo2_2048_R2.00_GAL020.fits\"),\n",
    "               \"BK\":hp.read_map(datadir/ \"BK15_region_Gal_apo.fits\")}\n",
    "\n",
    "planck_masks ={ k:    np.ma.masked_equal(m ,  1 ).mask  for k,m in planck_masks.items() } "
   ]
  },
  {
   "cell_type": "code",
   "execution_count": null,
   "metadata": {},
   "outputs": [],
   "source": [
    "if not fspectra.exists():\n",
    "    np.savez(fspectra, ell=ell, cl_norm=cl_norm, **cl_in)"
   ]
  },
  {
   "cell_type": "code",
   "execution_count": null,
   "metadata": {},
   "outputs": [],
   "source": [
    "nlb= {'BK':35, 'gal020':25, 'gal040':15,'gal080':4 } "
   ]
  },
  {
   "cell_type": "code",
   "execution_count": null,
   "metadata": {},
   "outputs": [],
   "source": [
    "plt.figure(figsize=(10,5))\n",
    "\n",
    "for jj, k in enumerate(planck_masks.keys())  :\n",
    "    fspectra = datadir / f\"dust_gnilc_hybrid_out_nside2048_float32_{k}_spectra.npz\"\n",
    "    if os.path.exists(fspectra):\n",
    "        print(\"read Namaster spectra  \")\n",
    "        output_ell = np.load(fspectra)[\"ell\"]\n",
    "        cl_out = {kk: np.load(fspectra)[kk] for kk in spectra_components}\n",
    "    elif namaster_on_nb:\n",
    "        print(\"run Namaster  \")\n",
    "        output_ell, output_cl_norm, cl_out = run_namaster(\n",
    "            output_map, mask=output_planck_mask, lmax=output_lmax, nlbins = nlb[k] \n",
    "        )\n",
    "        np.savez(fspectra, ell=output_ell, cl_norm=output_cl_norm, **cl_out)        \n",
    "        \n",
    "    #else:\n",
    "    #    print(\"run anafast on masked sky  \")\n",
    "    #    output_ell, cl_norm, cl_out = run_anafast(output_map * planck_mask, lmax)\n",
    "    \n",
    "    fspectra = datadir / f\"dust_gnilc_varres_no_monopole_{k}_spectra.npz\"\n",
    "    if os.path.exists(fspectra):\n",
    "        print(\"read Namaster spectra  \")\n",
    "        input_ell = np.load(fspectra)[\"ell\"]\n",
    "        cl_in = {kk: np.load(fspectra)[kk] for kk in spectra_components}\n",
    "    elif namaster_on_nb:\n",
    "        print(\"run Namaster  \")\n",
    "        input_ell, input_cl_norm, cl_in  = run_namaster(\n",
    "            m_planck_varres, mask=planck_mask, lmax=output_lmax, nlbins = nlb[k] \n",
    "        )\n",
    "        np.savez(fspectra, ell=input_ell, cl_norm=input_cl_norm, **cl_in)        \n",
    "    #else:\n",
    "    #    print(\"run anafast on masked sky  \")\n",
    "    #    ell, cl_norm, cl_out = run_anafast(output_map * planck_mask, lmax)\n",
    "    plt.subplot(2,2,jj+1 )\n",
    "    for ii, pol in enumerate([\"TT\",\"EE\", \"BB\" ]):\n",
    "        if jj==3:\n",
    "\n",
    "            plt.loglog(output_ell,  cl_out [pol],   color='C%d'%ii,   label=pol\n",
    "                 )\n",
    "        else: \n",
    "            plt.loglog(output_ell,  cl_out [pol],   color='C%d'%ii, )             \n",
    "        plt.loglog(input_ell,   cl_in [pol], color='C%d'%ii,alpha=.5,)\n",
    "\n",
    "        plt.grid()\n",
    "        plt.legend(title=(k +\" mask \"), fontsize=15)  \n",
    "        plt.ylabel(\"$ C_\\ell  [\\mu K_{RJ}]$\")\n",
    "        plt.xlabel((\"$\\ell$\"))\n",
    "        plt.xlim(10,2e3) \n",
    "plt.tight_layout() "
   ]
  },
  {
   "cell_type": "code",
   "execution_count": null,
   "metadata": {},
   "outputs": [],
   "source": [
    "plt.figure(figsize=(10,5))\n",
    "\n",
    "for jj, k in enumerate(planck_masks.keys())  :\n",
    "    fspectra = datadir / f\"dust_gnilc_hybrid_out_nside2048_float32_{k}_spectra.npz\"\n",
    "    if os.path.exists(fspectra):\n",
    "        print(\"read Namaster spectra  \")\n",
    "        output_ell = np.load(fspectra)[\"ell\"]\n",
    "        cl_out = {kk: np.load(fspectra)[kk] for kk in spectra_components}\n",
    "    elif namaster_on_nb:\n",
    "        print(\"run Namaster  \")\n",
    "        output_ell, output_cl_norm, cl_out = run_namaster(\n",
    "            output_map, mask=output_planck_mask, lmax=output_lmax, nlbins = nlb[k] \n",
    "        )\n",
    "        np.savez(fspectra, ell=output_ell, cl_norm=output_cl_norm, **cl_out)        \n",
    "        \n",
    "    #else:\n",
    "    #    print(\"run anafast on masked sky  \")\n",
    "    #    output_ell, cl_norm, cl_out = run_anafast(output_map * planck_mask, lmax)\n",
    "    \n",
    "    fspectra = datadir / f\"dust_gnilc_varres_no_monopole_{k}_spectra.npz\"\n",
    "    if os.path.exists(fspectra):\n",
    "        print(\"read Namaster spectra  \")\n",
    "        input_ell = np.load(fspectra)[\"ell\"]\n",
    "        cl_in = {kk: np.load(fspectra)[kk] for kk in spectra_components}\n",
    "    elif namaster_on_nb:\n",
    "        print(\"run Namaster  \")\n",
    "        input_ell, input_cl_norm, cl_in  = run_namaster(\n",
    "            m_planck_varres, mask=planck_mask, lmax=output_lmax, nlbins = nlb[k] \n",
    "        )\n",
    "        np.savez(fspectra, ell=input_ell, cl_norm=input_cl_norm, **cl_in)        \n",
    "    #else:\n",
    "    #    print(\"run anafast on masked sky  \")\n",
    "    #    ell, cl_norm, cl_out = run_anafast(output_map * planck_mask, lmax)\n",
    "    plt.subplot(2,2,jj+1 )\n",
    "    plt.semilogx(output_ell,  cl_out [\"BB\"]/cl_out[\"EE\"] ,   color='C%d'%0,   )\n",
    "    plt.semilogx(input_ell,   cl_in [\"BB\"]/cl_in[\"EE\"], color='C%d'%0,alpha=.5,)\n",
    "    plt.grid()\n",
    "    plt.legend(title=(k +\" mask \"), fontsize=15)  \n",
    "    plt.ylabel((\"B-to-E ratio\"))\n",
    "    plt.xlabel((\"$\\ell$\"))\n",
    "    plt.ylim(0,1) \n",
    "    plt.xlim(10,2e3 ) \n",
    "    \n",
    "plt.tight_layout() "
   ]
  },
  {
   "cell_type": "markdown",
   "metadata": {},
   "source": [
    "### Estimate Pol. fraction distribution "
   ]
  },
  {
   "cell_type": "code",
   "execution_count": null,
   "metadata": {},
   "outputs": [],
   "source": [
    "get_polfrac = lambda m: np.sqrt(m[1] ** 2 + m[2] ** 2) / m[0]"
   ]
  },
  {
   "cell_type": "code",
   "execution_count": null,
   "metadata": {},
   "outputs": [],
   "source": [
    "Pout = get_polfrac(output_map)\n",
    "Pin = get_polfrac(m_planck_varres.value)"
   ]
  },
  {
   "cell_type": "code",
   "execution_count": null,
   "metadata": {},
   "outputs": [],
   "source": [
    "plt.figure(figsize=(15, 5))\n",
    "hp.mollview(\n",
    "    np.log10(Pin), title=\" Pol.Frac input\", sub=121, min=-3, max=0, unit=\"Log10(p )\"\n",
    ")\n",
    "hp.mollview(\n",
    "    np.log10(Pout), title=\"Pol.Frac output\", sub=122, min=-3, max=0, unit=\"Log10(p)\"\n",
    ")"
   ]
  },
  {
   "cell_type": "code",
   "execution_count": null,
   "metadata": {},
   "outputs": [],
   "source": [
    "logpin = np.log10(Pin)\n",
    "logpout = np.log10(Pout)"
   ]
  },
  {
   "cell_type": "code",
   "execution_count": null,
   "metadata": {},
   "outputs": [],
   "source": [
    "plt.figure(figsize=(10,5))\n",
    "\n",
    "for jj,pm  in enumerate(planck_masks.items())  :\n",
    "    k =pm[0]\n",
    "    msk =pm[1] \n",
    "    \n",
    "    plt.subplot(2,2,jj+1 )\n",
    "    \n",
    "\n",
    "    h,edg= np.histogram(\n",
    "        logpout[msk] ,\n",
    "        bins=np.linspace(-4, 0, 100), density=True)\n",
    "    xb = np.array([(edg[i] +edg[i+1])/2 for i in range(edg.size-1)])\n",
    "    \n",
    "    plt.plot( xb,h,\n",
    "        lw=3,\n",
    "       color='C0', alpha=.5,label='output'\n",
    "\n",
    "    )\n",
    "    h, edg= np.histogram(\n",
    "        logpin[msk] ,\n",
    "        density=True ,\n",
    "        bins=np.linspace(-4, 0, 100))  \n",
    "    xb = np.array([(edg[i] +edg[i+1])/2 for i in range(edg.size-1)])\n",
    "    \n",
    "    plt.plot(xb,h , \n",
    "        lw=3,alpha=.5 ,color='C0' ,linestyle='--',label='input'\n",
    "    )\n",
    "    plt.ylabel(\"norm.counts\", fontsize=14)\n",
    "    plt.xlabel(r\"$\\log10( p )$\", fontsize=14)\n",
    "    plt.legend(title=(k +\" mask \"), fontsize=13, loc='best' )  \n",
    "    plt.xlim(-3,-0.5)         \n",
    "plt.tight_layout() \n"
   ]
  },
  {
   "cell_type": "markdown",
   "metadata": {},
   "source": [
    "## Injecting small scales to Spectral parameters "
   ]
  },
  {
   "cell_type": "code",
   "execution_count": null,
   "metadata": {},
   "outputs": [],
   "source": [
    "logm =hp.read_map( datadir/\"dust_gnilc_logpoltens_varres_nomono.fits\" )\n",
    "ismooth= hp.smoothing (logm , fwhm=np.radians(5),lmax=lmax )\n"
   ]
  },
  {
   "cell_type": "code",
   "execution_count": null,
   "metadata": {},
   "outputs": [],
   "source": [
    "b1=1.1\n",
    "b2=1.5 \n",
    "a=.1\n",
    "minmax= lambda m,a,b: a + (b-a) * (m - m .min()  )/(m .max() -m .min () )\n",
    "\n",
    "modulate_amp= (ismooth )*1. \n",
    "val=4.5\n",
    "mskmd= ismooth >val \n",
    "\n",
    "modulate_amp[mskmd]=minmax(ismooth[mskmd] , a=b1, b=b2)\n",
    "\n",
    "modulate_amp[~mskmd]=minmax(ismooth[~mskmd] , a=a, b=b1)  \n",
    "\n"
   ]
  },
  {
   "cell_type": "code",
   "execution_count": null,
   "metadata": {},
   "outputs": [],
   "source": [
    "tdfile  = datadir /\"COM_CompMap_Dust-GNILC-Model-Temperature_2048_R2.00.fits\" \n",
    "if not tdfile.exists():\n",
    "    !wget -O $tdfile  http://pla.esac.esa.int/pla/aio/product-action?MAP.MAP_ID=COM_CompMap_Dust-GNILC-Model-Temperature_2048_R2.00.fits\n",
    "bdfile  = datadir /\"COM_CompMap_Dust-GNILC-Model-Spectral-Index_2048_R2.00.fits\"\n",
    "\n",
    "if not bdfile.exists():\n",
    "    !wget -O $bdfile http://pla.esac.esa.int/pla/aio/product-action?MAP.MAP_ID=COM_CompMap_Dust-GNILC-Model-Spectral-Index_2048_R2.00.fits\n"
   ]
  },
  {
   "cell_type": "code",
   "execution_count": null,
   "metadata": {},
   "outputs": [],
   "source": [
    "td= hp.read_map(tdfile) \n",
    "bd= hp.read_map(bdfile) \n"
   ]
  },
  {
   "cell_type": "code",
   "execution_count": null,
   "metadata": {},
   "outputs": [],
   "source": [
    "cltd = hp.anafast(td, lmax=lmax) \n",
    "clbd = hp.anafast(bd, lmax=lmax) \n",
    "\n",
    "cl={'bd': clbd, 'td':cltd } \n",
    "dust_params = list(cl.keys() ) \n",
    "ell = np.arange(lmax+1  ) "
   ]
  },
  {
   "cell_type": "code",
   "execution_count": null,
   "metadata": {},
   "outputs": [],
   "source": [
    "ell_fit_low = {\"bd\":200, \"td\":100 }\n",
    "ell_fit_high = {\"bd\":400, \"td\":400 } \n",
    "\n",
    "A_fit, gamma_fit, A_fit_std, gamma_fit_std = {},{},{},{}\n",
    "plt.figure(figsize=(25,5))\n",
    "\n",
    "for ii, pol in  enumerate(dust_params ):\n",
    "    plt.subplot(131+ii)\n",
    "    xdata = np.arange(ell_fit_low[pol], ell_fit_high[pol])\n",
    "    ydata =   cl[pol][xdata]\n",
    "    (A_fit[pol], gamma_fit[pol]), cov = curve_fit(model, xdata, ydata)\n",
    "\n",
    "    A_fit_std[pol], gamma_fit_std[pol] = np.sqrt(np.diag(cov))\n",
    "    plt.loglog(ell,  cl[pol], label=\" Anafast $C_\\ell$\")\n",
    "\n",
    "    plt.plot(ell[ell_fit_low[pol]//2:ell_fit_high[pol]*2], \n",
    "             model(ell[ell_fit_low[pol]//2:ell_fit_high[pol]*2], A_fit[pol], gamma_fit[pol]), label=\"model fit\")\n",
    "    \n",
    "    plt.axvline(ell_fit_low[pol], linestyle=\"--\", color=\"black\", label=\"$ \\ell={} $\".format(ell_fit_low[pol]))\n",
    "    plt.axvline(ell_fit_high[pol], linestyle=\"--\", color=\"gray\", label=\"$ \\ell={} $\".format(ell_fit_high[pol]))\n",
    "    plt.legend()\n",
    "    plt.grid()\n",
    "    plt.title(f\"{pol}   spectrum for dust   \"+r\"$\\gamma_{fit}=$\"+f\"{gamma_fit[pol]:.2f}\")\n",
    "\n",
    "    plt.ylabel(\"$ C_\\ell $\")\n",
    "    plt.xlabel((\"$\\ell$\"))\n",
    "    plt.xlim(2, lmax)\n"
   ]
  },
  {
   "cell_type": "markdown",
   "metadata": {},
   "source": [
    "\n",
    "- We inject smaller angular scales to the maps  by extrapolating the power law fitted from the GNILC spectral parameter maps \n",
    "\n",
    "- Smaller angular scales are modulated similarly as the intensity map in pol tens formalism. \n",
    "\n",
    "- the multipoles where the fit is performed are different given the observed spectra . In any case we don't fit beyond $\\ell=400$, which is consistent with the TT analysis above \n",
    "- given the fact that we inject smaller angular scales with a steeper spectral index  than TT\n",
    "$$\\gamma_{\\beta} = -1.96, \\gamma_{Td} = -2.47, \\gamma_{TT}= -1.29$$\n",
    "\n",
    "we don't expect to injecti _small scale noise_ when rescaling at frequencies orders of magnitude lower or larger than  the reference one ( 353 GHz). \n"
   ]
  },
  {
   "cell_type": "code",
   "execution_count": null,
   "metadata": {},
   "outputs": [],
   "source": [
    "np.random.seed(777)\n",
    "#filter small scales \n",
    "small_scales_input_cl = [\n",
    "    1 \\\n",
    "    * model(ell, A_fit[pol], gamma_fit[pol]) \\\n",
    "    *  (sigmoid(ell, ell_fit_high[pol], ell_fit_high[pol]/10)  ) \n",
    "    for pol in dust_params \n",
    "]\n",
    "bd_ss_alm =hp.synalm(small_scales_input_cl[0]  ,lmax=lmax )\n",
    "td_ss_alm =hp.synalm(small_scales_input_cl[1]  ,lmax=lmax  )\n",
    "alm_bd  = hp.map2alm(  bd    , lmax=lmax, use_pixel_weights=True)\n",
    "alm_td  = hp.map2alm(  td    , lmax=lmax, use_pixel_weights=True)\n",
    "\n",
    "bd_LS_alm=np.empty_like(alm_bd)\n",
    "td_LS_alm=np.empty_like(alm_bd)\n",
    "sig_func =  sigmoid(ell, x0= ell_fit_high['bd'], width= ell_fit_high['bd' ]/10)\n",
    "bd_LS_alm= hp.almxfl(alm_bd ,  np.sqrt(1.-sig_func) ) \n",
    "td_LS_alm = hp.almxfl(alm_td ,  np.sqrt(1.-sig_func)  ) \n",
    "\n",
    "bd_ss =hp.alm2map( bd_ss_alm , nside=nside ) \n",
    "td_ss =hp.alm2map( td_ss_alm , nside=nside ) \n",
    "\n",
    "bd_ss *=modulate_amp \n",
    "td_ss *=modulate_amp\n",
    "\n",
    "bd_ls =hp.alm2map(bd_LS_alm, nside=nside ) \n",
    "td_ls =hp.alm2map(td_LS_alm, nside=nside ) \n",
    "bd_out = bd_ss + bd_ls\n",
    "td_out = td_ss + td_ls\n"
   ]
  },
  {
   "cell_type": "code",
   "execution_count": null,
   "metadata": {},
   "outputs": [],
   "source": [
    "cl_out={ 'bd':  hp.anafast(bd_out, lmax=lmax) , \n",
    "'td':  hp.anafast(td_out, lmax=lmax) } \n"
   ]
  },
  {
   "cell_type": "code",
   "execution_count": null,
   "metadata": {},
   "outputs": [],
   "source": [
    "for ii, pol in  enumerate(dust_params):\n",
    "    plt.loglog(ell,  cl[pol],  alpha=.5, color='C%d'%ii )\n",
    "    plt.loglog(ell,  cl_out[pol], label=f\" {pol}   \", color='C%d'%ii )\n",
    "        \n",
    "    plt.legend()\n",
    "    plt.grid(True)\n",
    "    plt.plot(ell[100:][2:] , \n",
    "             model(ell[100:], A_fit[pol], gamma_fit[pol])[2:]  , '--' ,color='red' )\n",
    "    plt.axvline(ell_fit_high[pol], linestyle=\"--\", color=\"gray\" )\n",
    "    plt.axvline(100 , linestyle=\"--\", color=\"gray\" )\n",
    "    \n",
    "    plt.ylabel(\"$ C_\\ell $\")\n",
    "    plt.xlabel((\"$\\ell$\"))\n",
    "    #plt.xlim(350, 500 )    \n",
    "    plt.xlim(2, lmax  )"
   ]
  },
  {
   "cell_type": "code",
   "execution_count": null,
   "metadata": {},
   "outputs": [],
   "source": [
    "lat=35\n",
    "cm= plt.cm.RdBu \n",
    "plt.figure(figsize=(15,8))\n",
    "hp.gnomview(bd_out ,  title='Bd  w/ small scales ', rot=[0,lat],reso=3.75,cmap=cm, xsize=320,  sub=234, min=1.2, max=1.9 )\n",
    "hp.gnomview(bd_ss,  title='small scales ', rot=[0,lat],reso=3.75,xsize=320,cmap=cm, sub=232 )\n",
    "hp.gnomview((m_planck_varres [0] ),  title=' GNILC I MAP  ', rot=[0,lat],reso=3.75,cmap=cm,xsize=320,  sub=233, )\n",
    "\n",
    "hp.gnomview((bd),  title=' Bd  GNILC  ', rot=[0,lat],reso=3.75,xsize=320,cmap=cm,  sub=235, min=1.2, max=1.9, )\n",
    "hp.gnomview( bd_ls ,  title='  Bd large scales ', rot=[0,lat], reso=3.75,cmap=cm,xsize=320, sub=231, min=1.2, max=1.9, )\n",
    "\n",
    "plt.figure(figsize=(15,8))\n",
    "hp.gnomview(td_out ,  title='Td  w/ small scales ', rot=[0,lat],reso=3.75,xsize=320,cmap=cm,  sub=234, min=15,max=25  )\n",
    "hp.gnomview(td_ss,  title='small scales ', rot=[0,lat],reso=3.75,xsize=320, sub=232,cmap=cm )\n",
    "hp.gnomview((modulate_amp),  title=' modulation  ', rot=[0,lat],reso=3.75,xsize=320,cmap=cm,  sub=233, )\n",
    "\n",
    "hp.gnomview((td),  title=' Td  GNILC  ', rot=[0,lat],reso=3.75,xsize=320,  sub=235,cmap=cm, min=15,max=25 )\n",
    "hp.gnomview( td_ls ,  title='  Td large scales ', rot=[0,lat], reso=3.75,xsize=320,cmap=cm, sub=231, min=15,max=25 )\n",
    "\n"
   ]
  },
  {
   "cell_type": "code",
   "execution_count": null,
   "metadata": {},
   "outputs": [],
   "source": [
    "del ismooth ,modulate_amp, bd_ss, bd_ls, td_ss, td_ls "
   ]
  }
 ],
 "metadata": {
  "kernelspec": {
   "display_name": "namaster",
   "language": "python",
   "name": "namaster"
  },
  "language_info": {
   "codemirror_mode": {
    "name": "ipython",
    "version": 3
   },
   "file_extension": ".py",
   "mimetype": "text/x-python",
   "name": "python",
   "nbconvert_exporter": "python",
   "pygments_lexer": "ipython3",
   "version": "3.7.8"
  }
 },
 "nbformat": 4,
 "nbformat_minor": 4
}
