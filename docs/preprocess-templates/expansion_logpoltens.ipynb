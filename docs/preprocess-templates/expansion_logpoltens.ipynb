{
 "cells": [
  {
   "cell_type": "code",
   "execution_count": null,
   "metadata": {},
   "outputs": [],
   "source": [
    "import os\n",
    "os.environ[\"OMP_NUM_THREADS\"] = \"64\" # for jupyter.nersc.gov otherwise the notebook only uses 2 cores"
   ]
  },
  {
   "cell_type": "code",
   "execution_count": null,
   "metadata": {},
   "outputs": [],
   "source": [
    "from pathlib import Path\n",
    "import healpy as hp\n",
    "import matplotlib.pyplot as plt\n",
    "import numpy as np\n",
    "import pymaster as nmt\n",
    "from astropy.io import fits\n",
    "%matplotlib inline"
   ]
  },
  {
   "cell_type": "code",
   "execution_count": null,
   "metadata": {},
   "outputs": [],
   "source": [
    "hp.disable_warnings()"
   ]
  },
  {
   "cell_type": "code",
   "execution_count": null,
   "metadata": {},
   "outputs": [],
   "source": [
    "plt.style.use(\"seaborn-talk\")"
   ]
  },
  {
   "cell_type": "code",
   "execution_count": null,
   "metadata": {},
   "outputs": [],
   "source": [
    "import pysm3 as pysm\n",
    "import pysm3.units as u"
   ]
  },
  {
   "cell_type": "code",
   "execution_count": null,
   "metadata": {},
   "outputs": [],
   "source": [
    "nside = 2048\n",
    "lmax = 2048"
   ]
  },
  {
   "cell_type": "code",
   "execution_count": null,
   "metadata": {},
   "outputs": [],
   "source": [
    "comp = \"IQU\""
   ]
  },
  {
   "cell_type": "code",
   "execution_count": null,
   "metadata": {},
   "outputs": [],
   "source": [
    "components = list(enumerate(comp))\n",
    "components"
   ]
  },
  {
   "cell_type": "code",
   "execution_count": null,
   "metadata": {},
   "outputs": [],
   "source": [
    "spectra_components = [\"TT\", \"EE\", \"BB\"]"
   ]
  },
  {
   "cell_type": "markdown",
   "metadata": {},
   "source": [
    "change this to True   if you want to  run namaster on notebook \n"
   ]
  },
  {
   "cell_type": "code",
   "execution_count": null,
   "metadata": {},
   "outputs": [],
   "source": [
    "namaster_on_nb=True "
   ]
  },
  {
   "cell_type": "code",
   "execution_count": null,
   "metadata": {},
   "outputs": [],
   "source": [
    "datadir = Path('data/')\n",
    "\n"
   ]
  },
  {
   "cell_type": "code",
   "execution_count": null,
   "metadata": {},
   "outputs": [],
   "source": [
    "%ls '/global/cscratch1/sd/giuspugl/workstation/FG_extension/extending_gnilc_dust/'"
   ]
  },
  {
   "cell_type": "markdown",
   "metadata": {},
   "source": [
    "# Setting the inputs "
   ]
  },
  {
   "cell_type": "markdown",
   "metadata": {},
   "source": [
    "## Dust maps \n",
    "- We use the  2015 GNILC intensity map from the 2nd planck release, as it encodes less contamination from CIB with 21.8' resolution https://www.dropbox.com/s/hicocet83z31ob3/COM_CompMap_Dust-GNILC-F353_2048_21p8acm.fits?dl=0\n",
    "\n",
    "- for Q and U we adopt maps from the 3rd Planck release as they were optimized for polarization studies with 80' reso.  \n",
    "\n"
   ]
  },
  {
   "cell_type": "code",
   "execution_count": null,
   "metadata": {},
   "outputs": [],
   "source": [
    "dust_varresI = datadir / \"COM_CompMap_Dust-GNILC-F353_2048_21p8acm.fits\"\n",
    "dust_varresP= datadir / \"COM_CompMap_IQU-thermaldust-gnilc-varres_2048_R3.00.fits\""
   ]
  },
  {
   "cell_type": "code",
   "execution_count": null,
   "metadata": {},
   "outputs": [],
   "source": [
    "if not dust_varresI.exists():\n",
    "    !wget -O $dust_varresI https://www.dropbox.com/s/hicocet83z31ob3/COM_CompMap_Dust-GNILC-F353_2048_21p8acm.fits?dl=0"
   ]
  },
  {
   "cell_type": "code",
   "execution_count": null,
   "metadata": {},
   "outputs": [],
   "source": [
    "if not dust_varresP.exists():\n",
    "    !wget -O $dust_varresP http://pla.esac.esa.int/pla/aio/product-action?MAP.MAP_ID=COM_CompMap_IQU-thermaldust-gnilc-varres_2048_R3.00.fits"
   ]
  },
  {
   "cell_type": "code",
   "execution_count": null,
   "metadata": {},
   "outputs": [],
   "source": [
    "m_planck_varres ,h = hp.read_map(dust_varresP , [c+\"_STOKES\" for c in comp], h=True)\n",
    "I_planck_varres ,h = hp.read_map(dust_varresI , h=True)"
   ]
  },
  {
   "cell_type": "markdown",
   "metadata": {},
   "source": [
    "Maps from the two releases are in different units `MJy/sr` the former, and `K_CMB` the latter, we therefore need to perform some conversion to `uK_RJ`. "
   ]
  },
  {
   "cell_type": "code",
   "execution_count": null,
   "metadata": {},
   "outputs": [],
   "source": [
    "m_planck_varres <<= u.K_CMB \n",
    "I_planck_varres <<= (u. MJy/u.sr ) \n",
    "m_planck_varres = m_planck_varres.to(\"uK_RJ\", equivalencies=u.cmb_equivalencies(353*u.GHz))\n",
    "I_planck_varres = I_planck_varres.to(\"uK_RJ\", equivalencies=u.cmb_equivalencies(353*u.GHz)) "
   ]
  },
  {
   "cell_type": "markdown",
   "metadata": {},
   "source": [
    "then we are ready to combine both maps into one single TQU map. "
   ]
  },
  {
   "cell_type": "code",
   "execution_count": null,
   "metadata": {},
   "outputs": [],
   "source": [
    "m_planck_varres[0] = I_planck_varres\n",
    "del I_planck_varres"
   ]
  },
  {
   "cell_type": "markdown",
   "metadata": {},
   "source": [
    "### GAL080 Planck  mask \n",
    "\n",
    "we mask the galaxy to estimate the power spectra with Namaster before and after small scale injection. \n"
   ]
  },
  {
   "cell_type": "code",
   "execution_count": null,
   "metadata": {},
   "outputs": [],
   "source": [
    "planck_mask_filename = datadir / \"HFI_Mask_GalPlane-apo0_2048_R2.00.fits\"\n",
    "\n",
    "if not planck_mask_filename.exists():\n",
    "    !wget -O $planck_mask_filename https://irsa.ipac.caltech.edu/data/Planck/release_2/ancillary-data/masks/HFI_Mask_GalPlane-apo0_2048_R2.00.fits"
   ]
  },
  {
   "cell_type": "code",
   "execution_count": null,
   "metadata": {},
   "outputs": [],
   "source": [
    "planck_mask =  hp.read_map(planck_mask_filename, [\"GAL080\"])\n",
    "\n",
    "planck_mask= np.int_( np.ma.masked_not_equal(planck_mask ,  0. ).mask )\n",
    "fsky= planck_mask.sum()/planck_mask.size \n",
    "print(f\"masking {fsky} of the sky\" )  \n",
    "hp.mollview(planck_mask , title=f\"Planck common galactic mask, {comp}\")"
   ]
  },
  {
   "cell_type": "markdown",
   "metadata": {},
   "source": [
    "#### Monopole subtraction \n",
    "\n",
    "\n",
    "Section 2.2 of [Planck 2018 XII](https://arxiv.org/pdf/1807.06212.pdf) value reported:  0.13 MJy/sr \n",
    "\n",
    "we subtract this term only to the I map for   the pixels outside  the Galactic plane mask."
   ]
  },
  {
   "cell_type": "code",
   "execution_count": null,
   "metadata": {},
   "outputs": [],
   "source": [
    "planck2018_monopole = (0.13*u.MJy/u.sr).to(u.uK_RJ, equivalencies=u.cmb_equivalencies(353*u.GHz) ) \n",
    "\n",
    "m_planck_varres[0][planck_mask]  -= planck2018_monopole \n"
   ]
  },
  {
   "cell_type": "markdown",
   "metadata": {},
   "source": [
    "\n",
    "We estimate how many pixels have I< P after we subtract the monopole "
   ]
  },
  {
   "cell_type": "code",
   "execution_count": null,
   "metadata": {},
   "outputs": [],
   "source": [
    "maskmono =m_planck_varres [0]**2 < m_planck_varres[1]**2+m_planck_varres[2]**2\n",
    "print(f\"{maskmono.sum() } pixels out of { maskmono.size} expected to be NaNs in Log Pol Tens maps \")"
   ]
  },
  {
   "cell_type": "code",
   "execution_count": null,
   "metadata": {},
   "outputs": [],
   "source": [
    "plt.figure(figsize=(20, 5))\n",
    "for i_pol, pol in components:\n",
    "    hp.mollview(m_planck_varres[i_pol], title=\"Planck-GNILC 2058/2018 dust \"+pol , sub=131+i_pol  , unit=m_planck_varres.unit, min=-300, max=300)\n",
    "    \n",
    "    "
   ]
  },
  {
   "cell_type": "code",
   "execution_count": null,
   "metadata": {},
   "outputs": [],
   "source": [
    "hp.write_map(datadir / \"dust_gnilc_varres_no_monopole.fits\", m_planck_varres, overwrite=True)"
   ]
  },
  {
   "cell_type": "markdown",
   "metadata": {},
   "source": [
    "## Transform maps to Poltens quantities "
   ]
  },
  {
   "cell_type": "code",
   "execution_count": null,
   "metadata": {},
   "outputs": [],
   "source": [
    "def map_to_log_pol_tens(m):\n",
    "    P = np.sqrt(m[1] ** 2 + m[2] ** 2)\n",
    "    log_pol_tens = np.empty_like(m)\n",
    "    log_pol_tens[0] = np.log(m[0] ** 2 - P ** 2) / 2.0\n",
    "    log_pol_tens[1:] = m[1:] / P * np.log((m[0] + P) / (m[0] - P)) / 2.0\n",
    "    return log_pol_tens\n",
    "\n",
    "\n",
    "def log_pol_tens_to_map(log_pol_tens):\n",
    "    P = np.sqrt(log_pol_tens[1] ** 2 + log_pol_tens[2] ** 2)\n",
    "    m = np.empty_like(log_pol_tens)\n",
    "    exp_i =np.exp(log_pol_tens[0])\n",
    "    m[0] = exp_i * np.cosh(P)\n",
    "    m[1:] = log_pol_tens[1:] / P * exp_i * np.sinh(P)\n",
    "    return m\n",
    "\n",
    "\n",
    "def sigmoid(x, x0, width, power=4):\n",
    "    \"\"\"Sigmoid function given start point and width\n",
    "    Parameters\n",
    "    ----------\n",
    "    x : array\n",
    "        input x axis\n",
    "    x0 : float\n",
    "        value of x where the sigmoid starts (not the center)\n",
    "    width : float\n",
    "        width of the transition region in unit of x\n",
    "    power : float\n",
    "        tweak the steepness of the curve\n",
    "    Returns\n",
    "    -------\n",
    "    sigmoid : array\n",
    "        sigmoid, same length of x\"\"\"\n",
    "    return 1.0 / (1 + np.exp(-power * (x - x0 - width / 2) / width))\n"
   ]
  },
  {
   "cell_type": "code",
   "execution_count": null,
   "metadata": {},
   "outputs": [],
   "source": [
    "log_pol_tens_varres = map_to_log_pol_tens(m_planck_varres .value)"
   ]
  },
  {
   "cell_type": "markdown",
   "metadata": {},
   "source": [
    "check the transformation back and forth "
   ]
  },
  {
   "cell_type": "code",
   "execution_count": null,
   "metadata": {},
   "outputs": [],
   "source": [
    "m_back   = log_pol_tens_to_map(log_pol_tens_varres ) \n",
    "hp.mollview( (m_planck_varres.value  - m_back )[1], min=-1e-12,max=1e-12 )\n",
    "del m_back "
   ]
  },
  {
   "cell_type": "markdown",
   "metadata": {},
   "source": [
    "Checking NaNs  on the Poltens map "
   ]
  },
  {
   "cell_type": "code",
   "execution_count": null,
   "metadata": {},
   "outputs": [],
   "source": [
    "print(f\"{np.isnan(log_pol_tens_varres[0]).sum()  } pixels out of { maskmono.size} are NaNs in Log Pol Tens maps \")"
   ]
  },
  {
   "cell_type": "code",
   "execution_count": null,
   "metadata": {},
   "outputs": [],
   "source": [
    "for i in range(3):\n",
    "    log_pol_tens_varres [i, np.isnan(log_pol_tens_varres[i])] = np.nanmedian(log_pol_tens_varres[i])"
   ]
  },
  {
   "cell_type": "markdown",
   "metadata": {},
   "source": [
    "Set all the NaNs to the map median value  \n"
   ]
  },
  {
   "cell_type": "code",
   "execution_count": null,
   "metadata": {},
   "outputs": [],
   "source": [
    "assert np.isnan(log_pol_tens_varres).sum() == 0"
   ]
  },
  {
   "cell_type": "code",
   "execution_count": null,
   "metadata": {},
   "outputs": [],
   "source": [
    "hp.write_map(datadir / \"dust_gnilc_logpoltens_varres_nomono.fits\", log_pol_tens_varres, overwrite=True)"
   ]
  },
  {
   "cell_type": "code",
   "execution_count": null,
   "metadata": {},
   "outputs": [],
   "source": [
    "for i_pol, pol in components:\n",
    "    hp.mollview(log_pol_tens_varres[i_pol], title=\"Log Pol tensor \"+pol , sub=131+i_pol  , unit= m_planck_varres.unit)"
   ]
  },
  {
   "cell_type": "code",
   "execution_count": null,
   "metadata": {},
   "outputs": [],
   "source": [
    "from scipy.optimize import curve_fit"
   ]
  },
  {
   "cell_type": "code",
   "execution_count": null,
   "metadata": {},
   "outputs": [],
   "source": [
    "def model(ell, A, gamma):\n",
    "    out = A * ell ** gamma\n",
    "    out[:2] = 0\n",
    "    return out"
   ]
  },
  {
   "cell_type": "code",
   "execution_count": null,
   "metadata": {},
   "outputs": [],
   "source": [
    "def run_anafast(m, lmax) : \n",
    "    clanaf=hp.anafast(m , lmax=lmax ) \n",
    "    cl ={} \n",
    "    cl[\"TT\"] = clanaf[0]\n",
    "    cl[\"EE\"] = clanaf[1]\n",
    "    cl[\"BB\"] = clanaf[2]\n",
    "    cl[\"TE\"] = clanaf[3]\n",
    "    ell = np.arange(lmax +1 ) \n",
    "    \n",
    "    cl_norm = ell * (ell + 1) / np.pi / 2\n",
    "    cl_norm[0] = 1\n",
    "    return ell,cl_norm, cl     \n",
    "\n",
    "\n",
    "\n",
    "def run_namaster(m, mask, lmax):\n",
    "    \"\"\"Compute C_ell with NaMaster\n",
    "    Parameters\n",
    "    ----------\n",
    "    m : numpy array\n",
    "        T only or TQU HEALPix map\n",
    "    mask : numpy array\n",
    "        mask, 1D, 0 for masked pixels,\n",
    "        needs to have same Nside of the input map\n",
    "    lmax : int\n",
    "        maximum ell of the spherical harmonics transform\n",
    "    Returns\n",
    "    -------\n",
    "    ell : numpy array\n",
    "        array of ell from 0 to lmax (length lmax+1)\n",
    "    cl_norm : numpy array\n",
    "        ell (ell+1)/2pi factor to turn C_ell into D_ell\n",
    "        first element is set to 1\n",
    "    cl : dict of numpy arrays\n",
    "        dictionary of numpy arrays with all components\n",
    "        of the spectra, for now only II, EE, BB, no\n",
    "        cross-spectra\n",
    "    \"\"\"\n",
    "    nside = hp.npix2nside(len(mask))\n",
    "\n",
    "    binning = nmt.NmtBin(nside=nside, nlb=1, lmax=lmax, is_Dell=False)\n",
    "\n",
    "    cl = {}\n",
    "\n",
    "    f_0 = nmt.NmtField(mask, [m[0] ])\n",
    "\n",
    "    if len(m) == 3:\n",
    "        f_2 = nmt.NmtField(mask, m[1:].copy())  # NaMaster masks the map in-place\n",
    "        cl_namaster = nmt.compute_full_master(f_2, f_2, binning)\n",
    "        cl[\"EE\"] = np.concatenate([[0, 0], cl_namaster[0]])\n",
    "        cl[\"BB\"] = np.concatenate([[0, 0], cl_namaster[3]])\n",
    "        cl_namaster = nmt.compute_full_master(f_0, f_2, binning)\n",
    "        cl[\"TE\"] = np.concatenate([[0, 0], cl_namaster[0]])\n",
    "    elif m.ndim == 1:\n",
    "        m = m.reshape((1, -1))\n",
    "\n",
    "    cl_namaster_I = nmt.compute_full_master(f_0, f_0, binning)\n",
    "\n",
    "    cl[\"TT\"] = np.concatenate([[0, 0], cl_namaster_I[0]])\n",
    "    ell = np.concatenate([[0, 1], binning.get_effective_ells()])\n",
    "    cl_norm = ell * (ell + 1) / np.pi / 2\n",
    "    cl_norm[0] = 1\n",
    "    return ell, cl_norm, cl"
   ]
  },
  {
   "cell_type": "code",
   "execution_count": null,
   "metadata": {},
   "outputs": [],
   "source": [
    "print (\"run anafast on masked sky  \")\n",
    "ell,cl_norm,cl=run_anafast(log_pol_tens_varres,lmax)    "
   ]
  },
  {
   "cell_type": "markdown",
   "metadata": {},
   "source": [
    "## Fitting the power law from the fullsky power spectra "
   ]
  },
  {
   "cell_type": "code",
   "execution_count": null,
   "metadata": {},
   "outputs": [],
   "source": [
    "ell_fit_low = {\"TT\":100, \"EE\":30, \"BB\":30}\n",
    "ell_fit_high = {\"TT\":400, \"EE\":110, \"BB\":110}\n",
    "A_fit, gamma_fit, A_fit_std, gamma_fit_std = {},{},{},{}\n",
    "plt.figure(figsize=(25,5))\n",
    "\n",
    "for ii, pol in enumerate(spectra_components):\n",
    "    plt.subplot(131+ii)\n",
    "    xdata = np.arange(ell_fit_low[pol], ell_fit_high[pol])\n",
    "    ydata = xdata*(xdata+1)/np.pi/2 * cl[pol][xdata]\n",
    "    (A_fit[pol], gamma_fit[pol]), cov = curve_fit(model, xdata, ydata)\n",
    "\n",
    "    A_fit_std[pol], gamma_fit_std[pol] = np.sqrt(np.diag(cov))\n",
    "    plt.loglog(ell, ell*(ell+1)/np.pi/2 * cl[pol], label=\"NaMaster $C_\\ell$\")\n",
    "    #plt.loglog(ell, ell*(ell+1)/np.pi/2 * cl1[pol] , label=\"Anafast $C_\\ell$\")\n",
    "    # plt.semilogx(ell, ell*(ell+1)/np.pi/2 * cl[pol], label=\"NaMaster $C_\\ell smoothed$\")\n",
    "    # plt.loglog(ell, ell*(ell+1)/np.pi/2 * cl_sigma_G[pol], label=\"SS $C_\\ell$\")\n",
    "\n",
    "    plt.plot(ell[ell_fit_low[pol]//2:ell_fit_high[pol]*2], \n",
    "             model(ell[ell_fit_low[pol]//2:ell_fit_high[pol]*2], A_fit[pol], gamma_fit[pol]), label=\"model fit\")\n",
    "    \n",
    "    #plt.plot(w_ell**2,  label=f\"Beam {c} $C_\\ell$\")\n",
    "\n",
    "    plt.axvline(ell_fit_low[pol], linestyle=\"--\", color=\"black\", label=\"$ \\ell={} $\".format(ell_fit_low[pol]))\n",
    "    plt.axvline(ell_fit_high[pol], linestyle=\"--\", color=\"gray\", label=\"$ \\ell={} $\".format(ell_fit_high[pol]))\n",
    "    plt.legend()\n",
    "    plt.grid()\n",
    "    plt.title(f\"{pol}   spectrum for dust Dust Pol.Tens  \"+r\"$\\gamma_{fit}=$\"+f\"{gamma_fit[pol]:.2f}\")\n",
    "\n",
    "    plt.ylabel(\"$\\ell(\\ell+1)C_\\ell/2\\pi [\\mu K_{RJ}]$\")\n",
    "    plt.xlabel((\"$\\ell$\"))\n",
    "    plt.xlim(2, lmax)\n",
    "    #plt.ylim(1, 30);\n",
    "    #plt.xlim(ell_fit_low[pol]//2, lmax)\n",
    "    #plt.ylim(0, 1e1 if pol == \"TT\" else 1e-3)\n"
   ]
  },
  {
   "cell_type": "markdown",
   "metadata": {},
   "source": [
    "### Define Modulation maps \n",
    "as the injected small scales are at different multipoles for intensity and polarization, we consider 2 different modulation maps  \n",
    "\n",
    "#### Modulation for  polarization : \n",
    "- smooth `i` map to 5 deg \n",
    "- we saturate all the pixels >4.5 to 1.1 \n",
    "- reduce the dynamic range to range from .1 to 1.1 with MinMax rescaling  \n",
    "\n",
    "#### Modulation for  intensity : \n",
    "- smooth `i` map to 5 deg \n",
    "- for  the pixels >4.5  MinMax rescaling from 1.1 to 2 \n",
    "- elsewhere MinMax rescaling  from  .1 to 1.1   "
   ]
  },
  {
   "cell_type": "code",
   "execution_count": null,
   "metadata": {},
   "outputs": [],
   "source": [
    "ismooth= hp.smoothing (log_pol_tens_varres[0] , fwhm=np.radians(5),lmax=lmax )\n"
   ]
  },
  {
   "cell_type": "code",
   "execution_count": null,
   "metadata": {},
   "outputs": [],
   "source": [
    "b1=1.1\n",
    "b2=2\n",
    "a=.1\n",
    "minmax= lambda m,a,b: a + (b-a) * (m - m .min()  )/(m .max() -m .min () )\n",
    "\n",
    "modulate_amp_pol= (ismooth )*1. \n",
    "modulate_amp= (ismooth )*1. \n",
    "val=4.5\n",
    "mskmd= ismooth >val \n",
    "modulate_amp_pol[mskmd]= b1\n",
    "\n",
    "modulate_amp_pol[~mskmd] =minmax(ismooth[~mskmd]  , a=a, b=b1)\n",
    "\n",
    "modulate_amp[mskmd]=minmax(ismooth[mskmd] , a=b1, b=b2)\n",
    "\n",
    "modulate_amp[~mskmd]=minmax(ismooth[~mskmd] , a=a, b=b1)  "
   ]
  },
  {
   "cell_type": "code",
   "execution_count": null,
   "metadata": {},
   "outputs": [],
   "source": [
    "plt.figure(figsize=(15, 5))\n",
    "hp.mollview(modulate_amp, title='intensity modulation', sub=121)\n",
    "hp.mollview(modulate_amp_pol, title='polarization modulation', sub=122)\n"
   ]
  },
  {
   "cell_type": "markdown",
   "metadata": {},
   "source": [
    "### Making maps with small scales \n",
    "1. generate the Cl  from the fit power spectra and with the sigmoid high-pass filter \n",
    "2. construct Alm  from the Cl \n",
    "3. Filter Alm encoding  small scales with the  sigmoid \n",
    "4. Estimate Alm of the fullsky poltens maps encoding large scales  with the sigmoid low-pass filter ,  \n",
    "5. Estimate maps from the Alm with large and small scales , `ls` and `ss` \n",
    "6. modulate small scales with modulation maps , i.e. `ss' =ss * modulation_maps` \n",
    "7. define new poltens maps as : `iqu = ls +ss'` \n",
    "8.  transform back to real `IQU` maps "
   ]
  },
  {
   "cell_type": "code",
   "execution_count": null,
   "metadata": {},
   "outputs": [],
   "source": [
    "output_nside = 8192\n",
    "output_lmax = 2*output_nside\n",
    "output_ell = np.arange(output_lmax + 1)\n",
    "output_cl_norm = output_ell * (output_ell + 1) / np.pi / 2\n",
    "output_cl_norm[0] = 1"
   ]
  },
  {
   "cell_type": "code",
   "execution_count": null,
   "metadata": {},
   "outputs": [],
   "source": [
    "np.random.seed(8192)\n",
    "#filter small scales \n",
    "small_scales_input_cl = [\n",
    "    1 \\\n",
    "    * model(output_ell, A_fit[pol], gamma_fit[pol]) \\\n",
    "    * sigmoid(output_ell, ell_fit_high[pol], ell_fit_high[pol]/10)  \n",
    "    / output_cl_norm \\\n",
    "    for pol in spectra_components\n",
    "]\n",
    "\n",
    "alm_log_pol_tens_fullsky = hp.map2alm(log_pol_tens_varres   , lmax=lmax, use_pixel_weights=True)\n",
    "\n",
    "ii_LS_alm=np.empty_like(alm_log_pol_tens_fullsky)\n",
    "for ii, pol in enumerate(spectra_components ):\n",
    "    \n",
    "    sig_func =  sigmoid(ell, x0= ell_fit_high[pol], width= ell_fit_high[pol]/10)\n",
    "    \n",
    "    ii_LS_alm[ii] = hp.almxfl(alm_log_pol_tens_fullsky[ii] , (1.-sig_func)**.2 ) \n",
    "\n",
    "log_ss = hp.synfast(small_scales_input_cl+ [np. zeros_like(small_scales_input_cl[0])]*3 ,lmax=output_lmax, new=True, nside=output_nside)\n",
    "assert np.isnan(log_ss).sum() == 0\n",
    "log_ss[0] *= hp.ud_grade(modulate_amp, output_nside)\n",
    "log_ss[1:] *= hp.ud_grade(modulate_amp_pol, output_nside)\n",
    "assert np.isnan(log_ss).sum() == 0\n",
    "log_ls =hp.alm2map(ii_LS_alm, nside=nside ) \n",
    "ii_map_out = log_ss + hp.ud_grade(log_ls, output_nside)"
   ]
  },
  {
   "cell_type": "code",
   "execution_count": null,
   "metadata": {},
   "outputs": [],
   "source": [
    "output_map = log_pol_tens_to_map(ii_map_out )\n",
    "\n",
    "hp.write_map(datadir / 'dust_gnilc_hybrid_out.fits', output_map,overwrite=True )"
   ]
  },
  {
   "cell_type": "markdown",
   "metadata": {},
   "source": [
    "#### Plot maps "
   ]
  },
  {
   "cell_type": "code",
   "execution_count": null,
   "metadata": {},
   "outputs": [],
   "source": [
    "lat=75\n",
    "plt.figure(figsize=(15,10))\n",
    "hp.gnomview(ii_map_out[0] ,  title='i w/ small scales ', rot=[0,lat],reso=3.75,xsize=320,  sub=234 )\n",
    "hp.gnomview(log_pol_tens_varres [0],  title='i', rot=[0,lat],reso=3.75,xsize=320, sub=231 )\n",
    "hp.gnomview((modulate_amp),  title=' modulation I ', rot=[0,lat],reso=3.75,xsize=320,  sub=233, )\n",
    "\n",
    "hp.gnomview((m_planck_varres [0]),  title=' I GNILC  ', rot=[0,lat],reso=3.75,xsize=320,  sub=232, )\n",
    "hp.gnomview((log_ss)[0],  title='  small scales ', rot=[0,lat], reso=3.75,xsize=320, sub=236, )\n",
    "hp.gnomview(output_map[0] ,  title='i w/ small scales ', rot=[0,lat],reso=3.75,xsize=320,  sub=235 )\n",
    "\n",
    "lat=75\n",
    "plt.figure(figsize=(15,10))\n",
    "hp.gnomview(ii_map_out[1] ,  title='q w/ small scales ', rot=[0,lat],reso=3.75,xsize=320,  sub=234 )\n",
    "hp.gnomview(log_pol_tens_varres [1],  title='q', rot=[0,lat],reso=3.75,xsize=320, sub=231 )\n",
    "hp.gnomview((modulate_amp_pol),  title=' modulation  ', rot=[0,lat],reso=3.75,xsize=320,  sub=233, )\n",
    "\n",
    "hp.gnomview((m_planck_varres [1]),  title=' Q GNILC  ', rot=[0,lat],reso=3.75,xsize=320,  sub=232, )\n",
    "hp.gnomview((log_ss)[1],  title='  small scales ', rot=[0,lat], reso=3.75,xsize=320, sub=236, )\n",
    "hp.gnomview(output_map[1] ,  title='Q w/ small scales ', rot=[0,lat],reso=3.75,xsize=320,  sub=235 )\n",
    "\n"
   ]
  },
  {
   "cell_type": "code",
   "execution_count": null,
   "metadata": {},
   "outputs": [],
   "source": [
    "spectra_components += [\"TE\"]"
   ]
  },
  {
   "cell_type": "code",
   "execution_count": null,
   "metadata": {},
   "outputs": [],
   "source": [
    "output_planck_mask = hp.ud_grade(planck_mask, output_nside) == 1"
   ]
  },
  {
   "cell_type": "code",
   "execution_count": null,
   "metadata": {},
   "outputs": [],
   "source": [
    "hp.mollview(output_planck_mask)"
   ]
  },
  {
   "cell_type": "code",
   "execution_count": null,
   "metadata": {},
   "outputs": [],
   "source": [
    "\n",
    "fspectra=datadir / \"dust_gnilc_hybrid_spectra.npz\"\n",
    "if  fspectra.exists(): \n",
    "    print(\"read Namaster spectra  \")\n",
    "    ell =np.load(fspectra)['ell']\n",
    "    cl_norm =np.load(fspectra)['cl_norm']\n",
    "    cl_in  ={kk : np.load(fspectra )[kk]  for kk in spectra_components } \n",
    "elif namaster_on_nb: \n",
    "    print(\"run Namaster  \")\n",
    "    ell,cl_norm,cl_in = run_namaster(m_planck_varres, mask=planck_mask , lmax=lmax )\n",
    "else:\n",
    "    print (\"run anafast on masked sky  \")\n",
    "    ell,cl_norm,cl_in=run_anafast(m_planck_varres *planck_mask ,lmax)\n",
    "    \n"
   ]
  },
  {
   "cell_type": "code",
   "execution_count": null,
   "metadata": {},
   "outputs": [],
   "source": [
    "if not fspectra.exists():\n",
    "    np.savez(fspectra, ell=ell, cl_norm=cl_norm, **cl_in)"
   ]
  },
  {
   "cell_type": "code",
   "execution_count": null,
   "metadata": {},
   "outputs": [],
   "source": [
    "\n",
    "fspectra=datadir / \"dust_gnilc_hybrid_out_spectra.npz\"\n",
    "if   os.path.exists(fspectra): \n",
    "    print(\"read Namaster spectra  \")\n",
    "    ell =np.load(fspectra)['ell']\n",
    "    cl_norm =np.load(fspectra)['cl_norm']\n",
    "    cl_out={kk : np.load(fspectra )[kk]  for kk in spectra_components } \n",
    "elif namaster_on_nb : \n",
    "    print(\"run Namaster  \")\n",
    "    output_ell,output_cl_norm,cl_out = run_namaster(output_map, mask=output_planck_mask , lmax=output_lmax )\n",
    "else : \n",
    "    print (\"run anafast on masked sky  \")\n",
    "    ell,cl_norm,cl_out=run_anafast(output_map*planck_mask ,lmax)    "
   ]
  },
  {
   "cell_type": "code",
   "execution_count": null,
   "metadata": {},
   "outputs": [],
   "source": [
    "if not fspectra.exists():\n",
    "    np.savez(fspectra, ell=ell, cl_norm=cl_norm, **cl_out)"
   ]
  },
  {
   "cell_type": "markdown",
   "metadata": {},
   "source": [
    "## Validate outputs estimating NaMaster power spectra on both input and outputs "
   ]
  },
  {
   "cell_type": "code",
   "execution_count": null,
   "metadata": {},
   "outputs": [],
   "source": [
    "plt.figure(figsize=(30,5))\n",
    "for ii, pol in enumerate(spectra_components):\n",
    "    plt.subplot(141+ii)\n",
    "    plt.loglog(ell, ell*(ell+1)/np.pi/2 * cl_in[pol], label=\"GNILC 2015/2018 \")\n",
    "\n",
    "    plt.plot(output_ell, output_cl_norm * cl_out  [pol],label='GNILC 2015/2018  +small scales')\n",
    "\n",
    "    try:\n",
    "        plt.axvline(ell_fit_low[pol], linestyle=\"--\", color=\"black\", label=\"$ \\ell={} $\".format(ell_fit_low[pol]))\n",
    "        plt.axvline(ell_fit_high[pol], linestyle=\"--\", color=\"gray\", label=\"$ \\ell={} $\".format(ell_fit_high[pol]))\n",
    "    except:\n",
    "        pass\n",
    "    plt.legend()\n",
    "    plt.grid()\n",
    "    plt.title(f\"{pol} power spectrum for dust  \" )\n",
    "    plt.ylabel(\"$\\ell(\\ell+1)C_\\ell/2\\pi [\\mu K_{RJ}]$\")\n",
    "    plt.xlabel((\"$\\ell$\"))\n",
    "    plt.ylim(1e-2 if pol != \"TT\" else 1e-1 , 1e4 if pol == \"TT\" else 1e2)"
   ]
  },
  {
   "cell_type": "markdown",
   "metadata": {},
   "source": [
    "### Estimate Pol. fraction distribution "
   ]
  },
  {
   "cell_type": "code",
   "execution_count": null,
   "metadata": {},
   "outputs": [],
   "source": [
    "get_polfrac = lambda m : np.sqrt(m[1]**2 +m[2]**2 )/m[0]  "
   ]
  },
  {
   "cell_type": "code",
   "execution_count": null,
   "metadata": {},
   "outputs": [],
   "source": [
    "Pout = get_polfrac(output_map) \n",
    "Pin = get_polfrac(m_planck_varres.value  )\n"
   ]
  },
  {
   "cell_type": "code",
   "execution_count": null,
   "metadata": {},
   "outputs": [],
   "source": [
    "plt.figure(figsize=(15,5))\n",
    "hp.mollview(np.log10(Pin),title=' Pol.Frac input', sub=121 , min=-3, max=0, unit='Log10(p )' )\n",
    "hp.mollview(np.log10(Pout ),title='Pol.Frac output', sub=122 , min=-3, max=0 , unit='Log10(p)'  )"
   ]
  },
  {
   "cell_type": "code",
   "execution_count": null,
   "metadata": {},
   "outputs": [],
   "source": [
    "logpin = np.log10(Pin  )\n",
    "logpout =np.log10(Pout )"
   ]
  },
  {
   "cell_type": "code",
   "execution_count": null,
   "metadata": {},
   "outputs": [],
   "source": [
    "plt.figure(figsize=(10,8))\n",
    "plt.hist(logpin ,bins=np.linspace(-4,0,50) ,  histtype='step', lw=3 , density =True, label=\"Input  \" ) \n",
    "plt.hist(logpout ,bins=np.linspace(-4,0,50) ,  histtype='step', lw=3 , density=True, label=\"Output \" ) \n",
    "plt.ylabel('norm.counts', fontsize=14)\n",
    "plt.xlabel(r'$\\log10( p )$', fontsize=14)\n",
    "plt.legend( fontsize=14, loc='upper left');"
   ]
  }
 ],
 "metadata": {
  "kernelspec": {
   "display_name": "namaster",
   "language": "python",
   "name": "namaster"
  },
  "language_info": {
   "codemirror_mode": {
    "name": "ipython",
    "version": 3
   },
   "file_extension": ".py",
   "mimetype": "text/x-python",
   "name": "python",
   "nbconvert_exporter": "python",
   "pygments_lexer": "ipython3",
   "version": "3.9.2"
  }
 },
 "nbformat": 4,
 "nbformat_minor": 4
}
