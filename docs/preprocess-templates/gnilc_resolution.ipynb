{
 "cells": [
  {
   "cell_type": "code",
   "execution_count": 1,
   "metadata": {},
   "outputs": [],
   "source": [
    "import os\n",
    "os.environ[\"OMP_NUM_THREADS\"] = \"64\""
   ]
  },
  {
   "cell_type": "code",
   "execution_count": 2,
   "metadata": {},
   "outputs": [],
   "source": [
    "import os\n",
    "import healpy as hp\n",
    "import matplotlib.pyplot as plt\n",
    "import numpy as np\n",
    "from astropy.io import fits\n",
    "%matplotlib inline"
   ]
  },
  {
   "cell_type": "code",
   "execution_count": 3,
   "metadata": {},
   "outputs": [],
   "source": [
    "hp.disable_warnings()"
   ]
  },
  {
   "cell_type": "code",
   "execution_count": 4,
   "metadata": {},
   "outputs": [],
   "source": [
    "plt.style.use(\"seaborn-talk\")"
   ]
  },
  {
   "cell_type": "code",
   "execution_count": 5,
   "metadata": {},
   "outputs": [],
   "source": [
    "import pysm3 as pysm\n",
    "import pysm3.units as u"
   ]
  },
  {
   "cell_type": "code",
   "execution_count": 6,
   "metadata": {},
   "outputs": [],
   "source": [
    "nside = 2048\n",
    "degraded_nside = 2048 # to speedup notebook for testing\n",
    "lmax = 1000"
   ]
  },
  {
   "cell_type": "code",
   "execution_count": 7,
   "metadata": {},
   "outputs": [],
   "source": [
    "planck_mask_filename_QU = \"COM_Mask_CMB-common-Mask-Pol_2048_R3.00.fits\" "
   ]
  },
  {
   "cell_type": "code",
   "execution_count": 8,
   "metadata": {},
   "outputs": [],
   "source": [
    "planck_mask_filename_I = \"COM_Mask_CMB-common-Mask-Int_2048_R3.00.fits\""
   ]
  },
  {
   "cell_type": "code",
   "execution_count": 9,
   "metadata": {},
   "outputs": [],
   "source": [
    "planck_mask_filenames= [planck_mask_filename_QU, planck_mask_filename_I]"
   ]
  },
  {
   "cell_type": "code",
   "execution_count": 10,
   "metadata": {},
   "outputs": [],
   "source": [
    "for planck_mask_filename in [planck_mask_filename_QU, planck_mask_filename_I]:\n",
    "    if not os.path.exists(os.path.join(\"data\", planck_mask_filename)):\n",
    "        !wget -O data/$planck_mask_filename https://irsa.ipac.caltech.edu/data/Planck/release_3/ancillary-data/masks/$planck_mask_filename"
   ]
  },
  {
   "cell_type": "code",
   "execution_count": 11,
   "metadata": {},
   "outputs": [
    {
     "data": {
      "text/plain": [
       "XTENSION= 'BINTABLE'           / binary table extension                         \n",
       "BITPIX  =                    8 / 8-bit bytes                                    \n",
       "NAXIS   =                    2 / 2-dimensional binary table                     \n",
       "NAXIS1  =                    4 / width of table in bytes                        \n",
       "NAXIS2  =             50331648 / number of rows in table                        \n",
       "PCOUNT  =                    0 / size of special data area                      \n",
       "GCOUNT  =                    1 / one data group (required keyword)              \n",
       "TFIELDS =                    1 / number of fields in each row                   \n",
       "COMMENT  -------------------------------------------------------------          \n",
       "COMMENT  Further details in the Planck Legacy Archive and Explanatory Supplement\n",
       "COMMENT  http://www.cosmos.esa.int/web/planck/pla/                              \n",
       "COMMENT  -------------------------------------------------------------          \n",
       "COMMENT                                                                         \n",
       "COMMENT  *** Planck params ***                                                  \n",
       "COMMENT                                                                         \n",
       "PIXTYPE = 'HEALPIX '                                                            \n",
       "COORDSYS= 'GALACTIC'           / Coordinate system                              \n",
       "ORDERING= 'NESTED  '           / Healpix ordering                               \n",
       "NSIDE   =                 2048 / Healpix Nside                                  \n",
       "BAD_DATA=      -1.63750000E+30 / Bad pixel value                                \n",
       "DATE    = '2018-04-10'         / Creation date                                  \n",
       "EXT-NAME= 'MASK-POL'           / Extension name                                 \n",
       "COMMENT                                                                         \n",
       "TTYPE1  = 'PMASK   '           / P confidence mask                              \n",
       "TFORM1  = '1E      '           / data format of field: 4-byte REAL              \n",
       "TUNIT1  = '        '           / No unit                                        "
      ]
     },
     "execution_count": 11,
     "metadata": {},
     "output_type": "execute_result"
    }
   ],
   "source": [
    "fits.open(\"data/\" + planck_mask_filename_QU)[1].header"
   ]
  },
  {
   "cell_type": "code",
   "execution_count": 12,
   "metadata": {},
   "outputs": [],
   "source": [
    "planck_mask = np.logical_and(*[hp.read_map(os.path.join(\"data\", planck_mask_filename)) for  planck_mask_filename in planck_mask_filenames])"
   ]
  },
  {
   "cell_type": "code",
   "execution_count": 13,
   "metadata": {},
   "outputs": [
    {
     "data": {
      "text/plain": [
       "array([False,  True])"
      ]
     },
     "execution_count": 13,
     "metadata": {},
     "output_type": "execute_result"
    }
   ],
   "source": [
    "np.unique(planck_mask) # no apodization"
   ]
  },
  {
   "cell_type": "code",
   "execution_count": 14,
   "metadata": {},
   "outputs": [
    {
     "data": {
      "image/png": "[encoded data removed]",
      "text/plain": [
       "<Figure size 612x388.8 with 2 Axes>"
      ]
     },
     "metadata": {
      "needs_background": "light"
     },
     "output_type": "display_data"
    }
   ],
   "source": [
    "hp.mollview(planck_mask, title=f\"Planck common galactic mask\")"
   ]
  },
  {
   "cell_type": "code",
   "execution_count": 15,
   "metadata": {},
   "outputs": [],
   "source": [
    "dust_map_filename = \"COM_CompMap_IQU-thermaldust-gnilc-varres_2048_R3.00.fits\"\n",
    "# dust_map_filename = \"COM_CompMap_Dust-GNILC-Beam-FWHM_0128_R2.00.fits\""
   ]
  },
  {
   "cell_type": "code",
   "execution_count": 16,
   "metadata": {},
   "outputs": [],
   "source": [
    "dust_map_path = os.path.join(\"data\", dust_map_filename)"
   ]
  },
  {
   "cell_type": "code",
   "execution_count": 17,
   "metadata": {},
   "outputs": [],
   "source": [
    "if not os.path.exists(dust_map_path):\n",
    "    !wget -O $dust_map_path http://pla.esac.esa.int/pla/aio/product-action?MAP.MAP_ID=$dust_map_filename"
   ]
  },
  {
   "cell_type": "code",
   "execution_count": 18,
   "metadata": {},
   "outputs": [
    {
     "data": {
      "text/plain": [
       "dtype((numpy.record, [('I_STOKES', '>f4'), ('Q_STOKES', '>f4'), ('U_STOKES', '>f4'), ('II_COV', '>f4'), ('IQ_COV', '>f4'), ('IU_COV', '>f4'), ('QQ_COV', '>f4'), ('QU_COV', '>f4'), ('UU_COV', '>f4'), ('FWHM', '>f4')]))"
      ]
     },
     "execution_count": 18,
     "metadata": {},
     "output_type": "execute_result"
    }
   ],
   "source": [
    "fits.open(dust_map_path)[1].data.dtype"
   ]
  },
  {
   "cell_type": "code",
   "execution_count": 19,
   "metadata": {},
   "outputs": [],
   "source": [
    "try:\n",
    "    fwhm = hp.read_map(dust_map_path, [\"FWHM\"])\n",
    "except KeyError:\n",
    "    fwhm = hp.read_map(dust_map_path)"
   ]
  },
  {
   "cell_type": "code",
   "execution_count": 20,
   "metadata": {},
   "outputs": [
    {
     "data": {
      "text/plain": [
       "{5.0,\n",
       " 6.999998569488525,\n",
       " 9.999995231628418,\n",
       " 15.0,\n",
       " 20.000049591064453,\n",
       " 29.999998092651367,\n",
       " 59.99995040893555,\n",
       " 80.00007629394531}"
      ]
     },
     "execution_count": 20,
     "metadata": {},
     "output_type": "execute_result"
    }
   ],
   "source": [
    "set(fwhm)"
   ]
  },
  {
   "cell_type": "code",
   "execution_count": 21,
   "metadata": {},
   "outputs": [],
   "source": [
    "fwhm = hp.ud_grade(fwhm, nside)"
   ]
  },
  {
   "cell_type": "code",
   "execution_count": 22,
   "metadata": {},
   "outputs": [
    {
     "data": {
      "image/png": "[encoded data removed]",
      "text/plain": [
       "<Figure size 612x388.8 with 2 Axes>"
      ]
     },
     "metadata": {
      "needs_background": "light"
     },
     "output_type": "display_data"
    }
   ],
   "source": [
    "hp.mollview(fwhm, xsize=5000)"
   ]
  },
  {
   "cell_type": "code",
   "execution_count": 23,
   "metadata": {},
   "outputs": [
    {
     "data": {
      "text/plain": [
       "'R3'"
      ]
     },
     "execution_count": 23,
     "metadata": {},
     "output_type": "execute_result"
    }
   ],
   "source": [
    "R = dust_map_filename.split(\".\")[-3].split(\"_\")[-1]\n",
    "R"
   ]
  },
  {
   "cell_type": "code",
   "execution_count": 24,
   "metadata": {},
   "outputs": [
    {
     "data": {
      "image/png": "[encoded data removed]",
      "text/plain": [
       "<Figure size 612x388.8 with 2 Axes>"
      ]
     },
     "metadata": {
      "needs_background": "light"
     },
     "output_type": "display_data"
    }
   ],
   "source": [
    "hp.mollview(fwhm * planck_mask, title=f\"GNILC {R} FWHM masked\")"
   ]
  },
  {
   "cell_type": "code",
   "execution_count": 25,
   "metadata": {},
   "outputs": [],
   "source": [
    "masked_fwhm = fwhm * planck_mask"
   ]
  },
  {
   "cell_type": "code",
   "execution_count": 26,
   "metadata": {},
   "outputs": [],
   "source": [
    "values = np.unique(masked_fwhm)"
   ]
  },
  {
   "cell_type": "code",
   "execution_count": 27,
   "metadata": {},
   "outputs": [
    {
     "data": {
      "text/plain": [
       "array([ 0.        ,  9.99999523, 15.        , 20.00004959, 29.99999809,\n",
       "       59.99995041, 80.00007629])"
      ]
     },
     "execution_count": 27,
     "metadata": {},
     "output_type": "execute_result"
    }
   ],
   "source": [
    "values"
   ]
  },
  {
   "cell_type": "code",
   "execution_count": 28,
   "metadata": {},
   "outputs": [
    {
     "name": "stdout",
     "output_type": "stream",
     "text": [
      "0,25.90%\n",
      "10,0.00%\n",
      "15,2.68%\n",
      "20,6.65%\n",
      "30,14.71%\n",
      "60,44.62%\n",
      "80,5.43%\n"
     ]
    }
   ],
   "source": [
    "for v in values:\n",
    "    print(\"{:.0f},{:.2f}%\".format(v,(masked_fwhm==v).sum()/len(masked_fwhm)*100))"
   ]
  },
  {
   "cell_type": "code",
   "execution_count": null,
   "metadata": {},
   "outputs": [],
   "source": []
  }
 ],
 "metadata": {
  "kernelspec": {
   "display_name": "namaster",
   "language": "python",
   "name": "namaster"
  },
  "language_info": {
   "codemirror_mode": {
    "name": "ipython",
    "version": 3
   },
   "file_extension": ".py",
   "mimetype": "text/x-python",
   "name": "python",
   "nbconvert_exporter": "python",
   "pygments_lexer": "ipython3",
   "version": "3.7.8"
  }
 },
 "nbformat": 4,
 "nbformat_minor": 4
}
