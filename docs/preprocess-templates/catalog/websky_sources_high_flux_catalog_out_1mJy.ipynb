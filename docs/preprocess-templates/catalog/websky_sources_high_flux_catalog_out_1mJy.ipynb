{
 "cells": [
  {
   "cell_type": "code",
   "execution_count": 1,
   "id": "0",
   "metadata": {
    "execution": {
     "iopub.execute_input": "2025-05-12T19:28:35.662528Z",
     "iopub.status.busy": "2025-05-12T19:28:35.662001Z",
     "iopub.status.idle": "2025-05-12T19:28:39.714962Z",
     "shell.execute_reply": "2025-05-12T19:28:39.714001Z"
    },
    "papermill": {
     "duration": 4.070078,
     "end_time": "2025-05-12T19:28:39.717113",
     "exception": false,
     "start_time": "2025-05-12T19:28:35.647035",
     "status": "completed"
    },
    "tags": []
   },
   "outputs": [],
   "source": [
    "import h5py\n",
    "import numpy as np\n",
    "import healpy as hp\n",
    "import matplotlib.pyplot as plt"
   ]
  },
  {
   "cell_type": "code",
   "execution_count": 2,
   "id": "1",
   "metadata": {
    "execution": {
     "iopub.execute_input": "2025-05-12T19:28:39.739210Z",
     "iopub.status.busy": "2025-05-12T19:28:39.738543Z",
     "iopub.status.idle": "2025-05-12T19:28:39.743992Z",
     "shell.execute_reply": "2025-05-12T19:28:39.743055Z"
    },
    "papermill": {
     "duration": 0.016583,
     "end_time": "2025-05-12T19:28:39.745601",
     "exception": false,
     "start_time": "2025-05-12T19:28:39.729018",
     "status": "completed"
    },
    "tags": []
   },
   "outputs": [],
   "source": [
    "freqs = [\n",
    "    \"18.7\",\n",
    "    \"24.5\",\n",
    "    \"44.0\",\n",
    "    \"70.0\",\n",
    "    \"100.0\",\n",
    "    \"143.0\",\n",
    "    \"217.0\",\n",
    "    \"353.0\",\n",
    "    \"545.0\",\n",
    "    \"643.0\",\n",
    "    \"729.0\",\n",
    "    \"857.0\",\n",
    "    \"906.0\",\n",
    "]"
   ]
  },
  {
   "cell_type": "code",
   "execution_count": 3,
   "id": "2",
   "metadata": {
    "execution": {
     "iopub.execute_input": "2025-05-12T19:28:39.760489Z",
     "iopub.status.busy": "2025-05-12T19:28:39.759962Z",
     "iopub.status.idle": "2025-05-12T19:28:39.790066Z",
     "shell.execute_reply": "2025-05-12T19:28:39.788946Z"
    },
    "papermill": {
     "duration": 0.039663,
     "end_time": "2025-05-12T19:28:39.792252",
     "exception": false,
     "start_time": "2025-05-12T19:28:39.752589",
     "status": "completed"
    },
    "tags": []
   },
   "outputs": [],
   "source": [
    "cat = h5py.File(\"data/matched_catalogs_2/catalog_100.0.h5\", \"r\")"
   ]
  },
  {
   "cell_type": "markdown",
   "id": "3",
   "metadata": {
    "papermill": {
     "duration": 0.007943,
     "end_time": "2025-05-12T19:28:39.811117",
     "exception": false,
     "start_time": "2025-05-12T19:28:39.803174",
     "status": "completed"
    },
    "tags": []
   },
   "source": [
    "There are no metadata in the file, I guess fluxes are in `Jy`"
   ]
  },
  {
   "cell_type": "code",
   "execution_count": 4,
   "id": "4",
   "metadata": {
    "execution": {
     "iopub.execute_input": "2025-05-12T19:28:39.824157Z",
     "iopub.status.busy": "2025-05-12T19:28:39.823609Z",
     "iopub.status.idle": "2025-05-12T19:28:39.828246Z",
     "shell.execute_reply": "2025-05-12T19:28:39.827374Z"
    },
    "papermill": {
     "duration": 0.012367,
     "end_time": "2025-05-12T19:28:39.829345",
     "exception": false,
     "start_time": "2025-05-12T19:28:39.816978",
     "status": "completed"
    },
    "tags": []
   },
   "outputs": [],
   "source": [
    "cutoff_flux = 1e-3"
   ]
  },
  {
   "cell_type": "code",
   "execution_count": 5,
   "id": "5",
   "metadata": {
    "execution": {
     "iopub.execute_input": "2025-05-12T19:28:39.840921Z",
     "iopub.status.busy": "2025-05-12T19:28:39.840409Z",
     "iopub.status.idle": "2025-05-12T19:28:45.245633Z",
     "shell.execute_reply": "2025-05-12T19:28:45.244985Z"
    },
    "papermill": {
     "duration": 5.413744,
     "end_time": "2025-05-12T19:28:45.247647",
     "exception": false,
     "start_time": "2025-05-12T19:28:39.833903",
     "status": "completed"
    },
    "tags": []
   },
   "outputs": [],
   "source": [
    "high_flux_sources_mask = cat[\"flux\"][:] > cutoff_flux"
   ]
  },
  {
   "cell_type": "code",
   "execution_count": 6,
   "id": "6",
   "metadata": {
    "execution": {
     "iopub.execute_input": "2025-05-12T19:28:45.271541Z",
     "iopub.status.busy": "2025-05-12T19:28:45.271257Z",
     "iopub.status.idle": "2025-05-12T19:28:45.405691Z",
     "shell.execute_reply": "2025-05-12T19:28:45.405150Z"
    },
    "papermill": {
     "duration": 0.149097,
     "end_time": "2025-05-12T19:28:45.408450",
     "exception": false,
     "start_time": "2025-05-12T19:28:45.259353",
     "status": "completed"
    },
    "tags": []
   },
   "outputs": [
    {
     "data": {
      "text/plain": [
       "372255"
      ]
     },
     "execution_count": 6,
     "metadata": {},
     "output_type": "execute_result"
    }
   ],
   "source": [
    "(high_flux_sources_mask).sum()"
   ]
  },
  {
   "cell_type": "code",
   "execution_count": 7,
   "id": "7",
   "metadata": {
    "execution": {
     "iopub.execute_input": "2025-05-12T19:28:45.429608Z",
     "iopub.status.busy": "2025-05-12T19:28:45.429258Z",
     "iopub.status.idle": "2025-05-12T19:28:45.586605Z",
     "shell.execute_reply": "2025-05-12T19:28:45.586047Z"
    },
    "papermill": {
     "duration": 0.167505,
     "end_time": "2025-05-12T19:28:45.588200",
     "exception": false,
     "start_time": "2025-05-12T19:28:45.420695",
     "status": "completed"
    },
    "tags": []
   },
   "outputs": [
    {
     "data": {
      "text/plain": [
       "0.13211945911740433"
      ]
     },
     "execution_count": 7,
     "metadata": {},
     "output_type": "execute_result"
    }
   ],
   "source": [
    "high_flux_sources_mask.mean() * 100"
   ]
  },
  {
   "cell_type": "code",
   "execution_count": 8,
   "id": "8",
   "metadata": {
    "execution": {
     "iopub.execute_input": "2025-05-12T19:28:45.610133Z",
     "iopub.status.busy": "2025-05-12T19:28:45.609777Z",
     "iopub.status.idle": "2025-05-12T19:28:45.627531Z",
     "shell.execute_reply": "2025-05-12T19:28:45.626428Z"
    },
    "papermill": {
     "duration": 0.029115,
     "end_time": "2025-05-12T19:28:45.629568",
     "exception": false,
     "start_time": "2025-05-12T19:28:45.600453",
     "status": "completed"
    },
    "tags": []
   },
   "outputs": [
    {
     "name": "stdout",
     "output_type": "stream",
     "text": [
      "flux [3.24291534e-07 3.16862867e-07 3.17171157e-07]\n",
      "phi [3.22861886 3.22861886 3.22861886]\n",
      "polarized flux [1.42910628e-09 1.99535624e-08 2.29563857e-09]\n",
      "theta [1.64009452 1.64009452 1.64009452]\n"
     ]
    }
   ],
   "source": [
    "for k, v in cat.items():\n",
    "    print(k, v[:3])"
   ]
  },
  {
   "cell_type": "code",
   "execution_count": 9,
   "id": "9",
   "metadata": {
    "execution": {
     "iopub.execute_input": "2025-05-12T19:28:45.651562Z",
     "iopub.status.busy": "2025-05-12T19:28:45.651066Z",
     "iopub.status.idle": "2025-05-12T19:28:45.746083Z",
     "shell.execute_reply": "2025-05-12T19:28:45.745547Z"
    },
    "papermill": {
     "duration": 0.106294,
     "end_time": "2025-05-12T19:28:45.747908",
     "exception": false,
     "start_time": "2025-05-12T19:28:45.641614",
     "status": "completed"
    },
    "tags": []
   },
   "outputs": [],
   "source": [
    "(all_indices,) = np.nonzero(high_flux_sources_mask)"
   ]
  },
  {
   "cell_type": "code",
   "execution_count": 10,
   "id": "10",
   "metadata": {
    "execution": {
     "iopub.execute_input": "2025-05-12T19:28:45.770792Z",
     "iopub.status.busy": "2025-05-12T19:28:45.770420Z",
     "iopub.status.idle": "2025-05-12T19:28:45.775746Z",
     "shell.execute_reply": "2025-05-12T19:28:45.774947Z"
    },
    "papermill": {
     "duration": 0.016971,
     "end_time": "2025-05-12T19:28:45.777221",
     "exception": false,
     "start_time": "2025-05-12T19:28:45.760250",
     "status": "completed"
    },
    "tags": []
   },
   "outputs": [
    {
     "data": {
      "text/plain": [
       "372255"
      ]
     },
     "execution_count": 10,
     "metadata": {},
     "output_type": "execute_result"
    }
   ],
   "source": [
    "len(all_indices)"
   ]
  },
  {
   "cell_type": "code",
   "execution_count": 11,
   "id": "11",
   "metadata": {
    "execution": {
     "iopub.execute_input": "2025-05-12T19:28:45.792575Z",
     "iopub.status.busy": "2025-05-12T19:28:45.792063Z",
     "iopub.status.idle": "2025-05-12T19:28:45.853603Z",
     "shell.execute_reply": "2025-05-12T19:28:45.853018Z"
    },
    "papermill": {
     "duration": 0.070421,
     "end_time": "2025-05-12T19:28:45.855186",
     "exception": false,
     "start_time": "2025-05-12T19:28:45.784765",
     "status": "completed"
    },
    "tags": []
   },
   "outputs": [],
   "source": [
    "all_indices = np.array(sorted(all_indices))"
   ]
  },
  {
   "cell_type": "markdown",
   "id": "12",
   "metadata": {
    "papermill": {
     "duration": 0.008308,
     "end_time": "2025-05-12T19:28:45.875401",
     "exception": false,
     "start_time": "2025-05-12T19:28:45.867093",
     "status": "completed"
    },
    "tags": []
   },
   "source": [
    "`all_indices` contains the index of the sources in the original Websky catalog"
   ]
  },
  {
   "cell_type": "code",
   "execution_count": 12,
   "id": "13",
   "metadata": {
    "execution": {
     "iopub.execute_input": "2025-05-12T19:28:45.888007Z",
     "iopub.status.busy": "2025-05-12T19:28:45.887655Z",
     "iopub.status.idle": "2025-05-12T19:28:45.893634Z",
     "shell.execute_reply": "2025-05-12T19:28:45.892903Z"
    },
    "papermill": {
     "duration": 0.013363,
     "end_time": "2025-05-12T19:28:45.894883",
     "exception": false,
     "start_time": "2025-05-12T19:28:45.881520",
     "status": "completed"
    },
    "tags": []
   },
   "outputs": [
    {
     "data": {
      "text/plain": [
       "array([    11253,     16428,     24110, ..., 281755117, 281755430,\n",
       "       281755795])"
      ]
     },
     "execution_count": 12,
     "metadata": {},
     "output_type": "execute_result"
    }
   ],
   "source": [
    "all_indices"
   ]
  },
  {
   "cell_type": "code",
   "execution_count": 13,
   "id": "14",
   "metadata": {
    "execution": {
     "iopub.execute_input": "2025-05-12T19:28:45.907715Z",
     "iopub.status.busy": "2025-05-12T19:28:45.907207Z",
     "iopub.status.idle": "2025-05-12T19:28:47.579726Z",
     "shell.execute_reply": "2025-05-12T19:28:47.578504Z"
    },
    "papermill": {
     "duration": 1.681277,
     "end_time": "2025-05-12T19:28:47.582125",
     "exception": false,
     "start_time": "2025-05-12T19:28:45.900848",
     "status": "completed"
    },
    "tags": []
   },
   "outputs": [],
   "source": [
    "import pandas as pd\n",
    "import xarray as xr"
   ]
  },
  {
   "cell_type": "code",
   "execution_count": 14,
   "id": "15",
   "metadata": {
    "execution": {
     "iopub.execute_input": "2025-05-12T19:28:47.605421Z",
     "iopub.status.busy": "2025-05-12T19:28:47.604760Z",
     "iopub.status.idle": "2025-05-12T19:28:47.610126Z",
     "shell.execute_reply": "2025-05-12T19:28:47.609026Z"
    },
    "papermill": {
     "duration": 0.016833,
     "end_time": "2025-05-12T19:28:47.611605",
     "exception": false,
     "start_time": "2025-05-12T19:28:47.594772",
     "status": "completed"
    },
    "tags": []
   },
   "outputs": [],
   "source": [
    "columns = [\"theta\", \"phi\", \"flux\", \"polarized flux\"]"
   ]
  },
  {
   "cell_type": "code",
   "execution_count": 15,
   "id": "16",
   "metadata": {
    "execution": {
     "iopub.execute_input": "2025-05-12T19:28:47.628568Z",
     "iopub.status.busy": "2025-05-12T19:28:47.628038Z",
     "iopub.status.idle": "2025-05-12T19:28:47.664041Z",
     "shell.execute_reply": "2025-05-12T19:28:47.663413Z"
    },
    "papermill": {
     "duration": 0.045848,
     "end_time": "2025-05-12T19:28:47.665925",
     "exception": false,
     "start_time": "2025-05-12T19:28:47.620077",
     "status": "completed"
    },
    "tags": []
   },
   "outputs": [],
   "source": [
    "flux = xr.DataArray(\n",
    "    data=np.zeros((len(all_indices), len(freqs)), dtype=np.float64),\n",
    "    coords={\"index\": all_indices, \"freq\": list(map(float, freqs))},\n",
    "    name=\"flux\",\n",
    ")\n",
    "fluxnorm = flux.copy()"
   ]
  },
  {
   "cell_type": "code",
   "execution_count": 16,
   "id": "17",
   "metadata": {
    "execution": {
     "iopub.execute_input": "2025-05-12T19:28:47.688512Z",
     "iopub.status.busy": "2025-05-12T19:28:47.688121Z",
     "iopub.status.idle": "2025-05-12T19:28:47.715110Z",
     "shell.execute_reply": "2025-05-12T19:28:47.714236Z"
    },
    "papermill": {
     "duration": 0.038874,
     "end_time": "2025-05-12T19:28:47.716913",
     "exception": false,
     "start_time": "2025-05-12T19:28:47.678039",
     "status": "completed"
    },
    "tags": []
   },
   "outputs": [],
   "source": [
    "polarized_flux = flux.copy()"
   ]
  },
  {
   "cell_type": "code",
   "execution_count": 17,
   "id": "18",
   "metadata": {
    "execution": {
     "iopub.execute_input": "2025-05-12T19:28:47.740162Z",
     "iopub.status.busy": "2025-05-12T19:28:47.739886Z",
     "iopub.status.idle": "2025-05-12T19:41:06.879586Z",
     "shell.execute_reply": "2025-05-12T19:41:06.878029Z"
    },
    "papermill": {
     "duration": 739.152176,
     "end_time": "2025-05-12T19:41:06.881662",
     "exception": false,
     "start_time": "2025-05-12T19:28:47.729486",
     "status": "completed"
    },
    "tags": []
   },
   "outputs": [
    {
     "name": "stdout",
     "output_type": "stream",
     "text": [
      "18.7\n"
     ]
    },
    {
     "name": "stdout",
     "output_type": "stream",
     "text": [
      "24.5\n"
     ]
    },
    {
     "name": "stdout",
     "output_type": "stream",
     "text": [
      "44.0\n"
     ]
    },
    {
     "name": "stdout",
     "output_type": "stream",
     "text": [
      "70.0\n"
     ]
    },
    {
     "name": "stdout",
     "output_type": "stream",
     "text": [
      "100.0\n"
     ]
    },
    {
     "name": "stdout",
     "output_type": "stream",
     "text": [
      "143.0\n"
     ]
    },
    {
     "name": "stdout",
     "output_type": "stream",
     "text": [
      "217.0\n"
     ]
    },
    {
     "name": "stdout",
     "output_type": "stream",
     "text": [
      "353.0\n"
     ]
    },
    {
     "name": "stdout",
     "output_type": "stream",
     "text": [
      "545.0\n"
     ]
    },
    {
     "name": "stdout",
     "output_type": "stream",
     "text": [
      "643.0\n"
     ]
    },
    {
     "name": "stdout",
     "output_type": "stream",
     "text": [
      "729.0\n"
     ]
    },
    {
     "name": "stdout",
     "output_type": "stream",
     "text": [
      "857.0\n"
     ]
    },
    {
     "name": "stdout",
     "output_type": "stream",
     "text": [
      "906.0\n"
     ]
    }
   ],
   "source": [
    "sources_xr = xr.Dataset(\n",
    "    {\"flux\": flux, \"polarized_flux\": polarized_flux, \"fluxnorm\": fluxnorm}\n",
    ")\n",
    "for freq in freqs:\n",
    "    print(freq)\n",
    "    cat = h5py.File(f\"data/matched_catalogs_2/catalog_{freq}.h5\", \"r\")\n",
    "    for column in [\"flux\", \"polarized_flux\"]:\n",
    "        sources_xr[column].loc[dict(index=all_indices, freq=float(freq))] = cat[\n",
    "            column.replace(\"_\", \" \")\n",
    "        ][high_flux_sources_mask]"
   ]
  },
  {
   "cell_type": "code",
   "execution_count": 18,
   "id": "19",
   "metadata": {
    "execution": {
     "iopub.execute_input": "2025-05-12T19:41:06.908885Z",
     "iopub.status.busy": "2025-05-12T19:41:06.908537Z",
     "iopub.status.idle": "2025-05-12T19:41:06.957710Z",
     "shell.execute_reply": "2025-05-12T19:41:06.956668Z"
    },
    "papermill": {
     "duration": 0.061621,
     "end_time": "2025-05-12T19:41:06.959571",
     "exception": false,
     "start_time": "2025-05-12T19:41:06.897950",
     "status": "completed"
    },
    "tags": []
   },
   "outputs": [
    {
     "data": {
      "text/html": [
       "<div><svg style=\"position: absolute; width: 0; height: 0; overflow: hidden\">\n",
       "<defs>\n",
       "<symbol id=\"icon-database\" viewBox=\"0 0 32 32\">\n",
       "<path d=\"M16 0c-8.837 0-16 2.239-16 5v4c0 2.761 7.163 5 16 5s16-2.239 16-5v-4c0-2.761-7.163-5-16-5z\"></path>\n",
       "<path d=\"M16 17c-8.837 0-16-2.239-16-5v6c0 2.761 7.163 5 16 5s16-2.239 16-5v-6c0 2.761-7.163 5-16 5z\"></path>\n",
       "<path d=\"M16 26c-8.837 0-16-2.239-16-5v6c0 2.761 7.163 5 16 5s16-2.239 16-5v-6c0 2.761-7.163 5-16 5z\"></path>\n",
       "</symbol>\n",
       "<symbol id=\"icon-file-text2\" viewBox=\"0 0 32 32\">\n",
       "<path d=\"M28.681 7.159c-0.694-0.947-1.662-2.053-2.724-3.116s-2.169-2.030-3.116-2.724c-1.612-1.182-2.393-1.319-2.841-1.319h-15.5c-1.378 0-2.5 1.121-2.5 2.5v27c0 1.378 1.122 2.5 2.5 2.5h23c1.378 0 2.5-1.122 2.5-2.5v-19.5c0-0.448-0.137-1.23-1.319-2.841zM24.543 5.457c0.959 0.959 1.712 1.825 2.268 2.543h-4.811v-4.811c0.718 0.556 1.584 1.309 2.543 2.268zM28 29.5c0 0.271-0.229 0.5-0.5 0.5h-23c-0.271 0-0.5-0.229-0.5-0.5v-27c0-0.271 0.229-0.5 0.5-0.5 0 0 15.499-0 15.5 0v7c0 0.552 0.448 1 1 1h7v19.5z\"></path>\n",
       "<path d=\"M23 26h-14c-0.552 0-1-0.448-1-1s0.448-1 1-1h14c0.552 0 1 0.448 1 1s-0.448 1-1 1z\"></path>\n",
       "<path d=\"M23 22h-14c-0.552 0-1-0.448-1-1s0.448-1 1-1h14c0.552 0 1 0.448 1 1s-0.448 1-1 1z\"></path>\n",
       "<path d=\"M23 18h-14c-0.552 0-1-0.448-1-1s0.448-1 1-1h14c0.552 0 1 0.448 1 1s-0.448 1-1 1z\"></path>\n",
       "</symbol>\n",
       "</defs>\n",
       "</svg>\n",
       "<style>/* CSS stylesheet for displaying xarray objects in jupyterlab.\n",
       " *\n",
       " */\n",
       "\n",
       ":root {\n",
       "  --xr-font-color0: var(--jp-content-font-color0, rgba(0, 0, 0, 1));\n",
       "  --xr-font-color2: var(--jp-content-font-color2, rgba(0, 0, 0, 0.54));\n",
       "  --xr-font-color3: var(--jp-content-font-color3, rgba(0, 0, 0, 0.38));\n",
       "  --xr-border-color: var(--jp-border-color2, #e0e0e0);\n",
       "  --xr-disabled-color: var(--jp-layout-color3, #bdbdbd);\n",
       "  --xr-background-color: var(--jp-layout-color0, white);\n",
       "  --xr-background-color-row-even: var(--jp-layout-color1, white);\n",
       "  --xr-background-color-row-odd: var(--jp-layout-color2, #eeeeee);\n",
       "}\n",
       "\n",
       "html[theme=dark],\n",
       "html[data-theme=dark],\n",
       "body[data-theme=dark],\n",
       "body.vscode-dark {\n",
       "  --xr-font-color0: rgba(255, 255, 255, 1);\n",
       "  --xr-font-color2: rgba(255, 255, 255, 0.54);\n",
       "  --xr-font-color3: rgba(255, 255, 255, 0.38);\n",
       "  --xr-border-color: #1F1F1F;\n",
       "  --xr-disabled-color: #515151;\n",
       "  --xr-background-color: #111111;\n",
       "  --xr-background-color-row-even: #111111;\n",
       "  --xr-background-color-row-odd: #313131;\n",
       "}\n",
       "\n",
       ".xr-wrap {\n",
       "  display: block !important;\n",
       "  min-width: 300px;\n",
       "  max-width: 700px;\n",
       "}\n",
       "\n",
       ".xr-text-repr-fallback {\n",
       "  /* fallback to plain text repr when CSS is not injected (untrusted notebook) */\n",
       "  display: none;\n",
       "}\n",
       "\n",
       ".xr-header {\n",
       "  padding-top: 6px;\n",
       "  padding-bottom: 6px;\n",
       "  margin-bottom: 4px;\n",
       "  border-bottom: solid 1px var(--xr-border-color);\n",
       "}\n",
       "\n",
       ".xr-header > div,\n",
       ".xr-header > ul {\n",
       "  display: inline;\n",
       "  margin-top: 0;\n",
       "  margin-bottom: 0;\n",
       "}\n",
       "\n",
       ".xr-obj-type,\n",
       ".xr-array-name {\n",
       "  margin-left: 2px;\n",
       "  margin-right: 10px;\n",
       "}\n",
       "\n",
       ".xr-obj-type {\n",
       "  color: var(--xr-font-color2);\n",
       "}\n",
       "\n",
       ".xr-sections {\n",
       "  padding-left: 0 !important;\n",
       "  display: grid;\n",
       "  grid-template-columns: 150px auto auto 1fr 0 20px 0 20px;\n",
       "}\n",
       "\n",
       ".xr-section-item {\n",
       "  display: contents;\n",
       "}\n",
       "\n",
       ".xr-section-item input {\n",
       "  display: inline-block;\n",
       "  opacity: 0;\n",
       "}\n",
       "\n",
       ".xr-section-item input + label {\n",
       "  color: var(--xr-disabled-color);\n",
       "}\n",
       "\n",
       ".xr-section-item input:enabled + label {\n",
       "  cursor: pointer;\n",
       "  color: var(--xr-font-color2);\n",
       "}\n",
       "\n",
       ".xr-section-item input:focus + label {\n",
       "  border: 2px solid var(--xr-font-color0);\n",
       "}\n",
       "\n",
       ".xr-section-item input:enabled + label:hover {\n",
       "  color: var(--xr-font-color0);\n",
       "}\n",
       "\n",
       ".xr-section-summary {\n",
       "  grid-column: 1;\n",
       "  color: var(--xr-font-color2);\n",
       "  font-weight: 500;\n",
       "}\n",
       "\n",
       ".xr-section-summary > span {\n",
       "  display: inline-block;\n",
       "  padding-left: 0.5em;\n",
       "}\n",
       "\n",
       ".xr-section-summary-in:disabled + label {\n",
       "  color: var(--xr-font-color2);\n",
       "}\n",
       "\n",
       ".xr-section-summary-in + label:before {\n",
       "  display: inline-block;\n",
       "  content: '►';\n",
       "  font-size: 11px;\n",
       "  width: 15px;\n",
       "  text-align: center;\n",
       "}\n",
       "\n",
       ".xr-section-summary-in:disabled + label:before {\n",
       "  color: var(--xr-disabled-color);\n",
       "}\n",
       "\n",
       ".xr-section-summary-in:checked + label:before {\n",
       "  content: '▼';\n",
       "}\n",
       "\n",
       ".xr-section-summary-in:checked + label > span {\n",
       "  display: none;\n",
       "}\n",
       "\n",
       ".xr-section-summary,\n",
       ".xr-section-inline-details {\n",
       "  padding-top: 4px;\n",
       "  padding-bottom: 4px;\n",
       "}\n",
       "\n",
       ".xr-section-inline-details {\n",
       "  grid-column: 2 / -1;\n",
       "}\n",
       "\n",
       ".xr-section-details {\n",
       "  display: none;\n",
       "  grid-column: 1 / -1;\n",
       "  margin-bottom: 5px;\n",
       "}\n",
       "\n",
       ".xr-section-summary-in:checked ~ .xr-section-details {\n",
       "  display: contents;\n",
       "}\n",
       "\n",
       ".xr-array-wrap {\n",
       "  grid-column: 1 / -1;\n",
       "  display: grid;\n",
       "  grid-template-columns: 20px auto;\n",
       "}\n",
       "\n",
       ".xr-array-wrap > label {\n",
       "  grid-column: 1;\n",
       "  vertical-align: top;\n",
       "}\n",
       "\n",
       ".xr-preview {\n",
       "  color: var(--xr-font-color3);\n",
       "}\n",
       "\n",
       ".xr-array-preview,\n",
       ".xr-array-data {\n",
       "  padding: 0 5px !important;\n",
       "  grid-column: 2;\n",
       "}\n",
       "\n",
       ".xr-array-data,\n",
       ".xr-array-in:checked ~ .xr-array-preview {\n",
       "  display: none;\n",
       "}\n",
       "\n",
       ".xr-array-in:checked ~ .xr-array-data,\n",
       ".xr-array-preview {\n",
       "  display: inline-block;\n",
       "}\n",
       "\n",
       ".xr-dim-list {\n",
       "  display: inline-block !important;\n",
       "  list-style: none;\n",
       "  padding: 0 !important;\n",
       "  margin: 0;\n",
       "}\n",
       "\n",
       ".xr-dim-list li {\n",
       "  display: inline-block;\n",
       "  padding: 0;\n",
       "  margin: 0;\n",
       "}\n",
       "\n",
       ".xr-dim-list:before {\n",
       "  content: '(';\n",
       "}\n",
       "\n",
       ".xr-dim-list:after {\n",
       "  content: ')';\n",
       "}\n",
       "\n",
       ".xr-dim-list li:not(:last-child):after {\n",
       "  content: ',';\n",
       "  padding-right: 5px;\n",
       "}\n",
       "\n",
       ".xr-has-index {\n",
       "  font-weight: bold;\n",
       "}\n",
       "\n",
       ".xr-var-list,\n",
       ".xr-var-item {\n",
       "  display: contents;\n",
       "}\n",
       "\n",
       ".xr-var-item > div,\n",
       ".xr-var-item label,\n",
       ".xr-var-item > .xr-var-name span {\n",
       "  background-color: var(--xr-background-color-row-even);\n",
       "  margin-bottom: 0;\n",
       "}\n",
       "\n",
       ".xr-var-item > .xr-var-name:hover span {\n",
       "  padding-right: 5px;\n",
       "}\n",
       "\n",
       ".xr-var-list > li:nth-child(odd) > div,\n",
       ".xr-var-list > li:nth-child(odd) > label,\n",
       ".xr-var-list > li:nth-child(odd) > .xr-var-name span {\n",
       "  background-color: var(--xr-background-color-row-odd);\n",
       "}\n",
       "\n",
       ".xr-var-name {\n",
       "  grid-column: 1;\n",
       "}\n",
       "\n",
       ".xr-var-dims {\n",
       "  grid-column: 2;\n",
       "}\n",
       "\n",
       ".xr-var-dtype {\n",
       "  grid-column: 3;\n",
       "  text-align: right;\n",
       "  color: var(--xr-font-color2);\n",
       "}\n",
       "\n",
       ".xr-var-preview {\n",
       "  grid-column: 4;\n",
       "}\n",
       "\n",
       ".xr-index-preview {\n",
       "  grid-column: 2 / 5;\n",
       "  color: var(--xr-font-color2);\n",
       "}\n",
       "\n",
       ".xr-var-name,\n",
       ".xr-var-dims,\n",
       ".xr-var-dtype,\n",
       ".xr-preview,\n",
       ".xr-attrs dt {\n",
       "  white-space: nowrap;\n",
       "  overflow: hidden;\n",
       "  text-overflow: ellipsis;\n",
       "  padding-right: 10px;\n",
       "}\n",
       "\n",
       ".xr-var-name:hover,\n",
       ".xr-var-dims:hover,\n",
       ".xr-var-dtype:hover,\n",
       ".xr-attrs dt:hover {\n",
       "  overflow: visible;\n",
       "  width: auto;\n",
       "  z-index: 1;\n",
       "}\n",
       "\n",
       ".xr-var-attrs,\n",
       ".xr-var-data,\n",
       ".xr-index-data {\n",
       "  display: none;\n",
       "  background-color: var(--xr-background-color) !important;\n",
       "  padding-bottom: 5px !important;\n",
       "}\n",
       "\n",
       ".xr-var-attrs-in:checked ~ .xr-var-attrs,\n",
       ".xr-var-data-in:checked ~ .xr-var-data,\n",
       ".xr-index-data-in:checked ~ .xr-index-data {\n",
       "  display: block;\n",
       "}\n",
       "\n",
       ".xr-var-data > table {\n",
       "  float: right;\n",
       "}\n",
       "\n",
       ".xr-var-name span,\n",
       ".xr-var-data,\n",
       ".xr-index-name div,\n",
       ".xr-index-data,\n",
       ".xr-attrs {\n",
       "  padding-left: 25px !important;\n",
       "}\n",
       "\n",
       ".xr-attrs,\n",
       ".xr-var-attrs,\n",
       ".xr-var-data,\n",
       ".xr-index-data {\n",
       "  grid-column: 1 / -1;\n",
       "}\n",
       "\n",
       "dl.xr-attrs {\n",
       "  padding: 0;\n",
       "  margin: 0;\n",
       "  display: grid;\n",
       "  grid-template-columns: 125px auto;\n",
       "}\n",
       "\n",
       ".xr-attrs dt,\n",
       ".xr-attrs dd {\n",
       "  padding: 0;\n",
       "  margin: 0;\n",
       "  float: left;\n",
       "  padding-right: 10px;\n",
       "  width: auto;\n",
       "}\n",
       "\n",
       ".xr-attrs dt {\n",
       "  font-weight: normal;\n",
       "  grid-column: 1;\n",
       "}\n",
       "\n",
       ".xr-attrs dt:hover span {\n",
       "  display: inline-block;\n",
       "  background: var(--xr-background-color);\n",
       "  padding-right: 10px;\n",
       "}\n",
       "\n",
       ".xr-attrs dd {\n",
       "  grid-column: 2;\n",
       "  white-space: pre-wrap;\n",
       "  word-break: break-all;\n",
       "}\n",
       "\n",
       ".xr-icon-database,\n",
       ".xr-icon-file-text2,\n",
       ".xr-no-icon {\n",
       "  display: inline-block;\n",
       "  vertical-align: middle;\n",
       "  width: 1em;\n",
       "  height: 1.5em !important;\n",
       "  stroke-width: 0;\n",
       "  stroke: currentColor;\n",
       "  fill: currentColor;\n",
       "}\n",
       "</style><pre class='xr-text-repr-fallback'>&lt;xarray.Dataset&gt; Size: 119MB\n",
       "Dimensions:         (index: 372255, freq: 13)\n",
       "Coordinates:\n",
       "  * index           (index) int64 3MB 11253 16428 24110 ... 281755430 281755795\n",
       "  * freq            (freq) float64 104B 18.7 24.5 44.0 ... 729.0 857.0 906.0\n",
       "Data variables:\n",
       "    flux            (index, freq) float64 39MB 0.02854 0.01962 ... 0.001688\n",
       "    polarized_flux  (index, freq) float64 39MB 0.001121 0.0004986 ... 3.246e-05\n",
       "    fluxnorm        (index, freq) float64 39MB 0.0 0.0 0.0 0.0 ... 0.0 0.0 0.0</pre><div class='xr-wrap' style='display:none'><div class='xr-header'><div class='xr-obj-type'>xarray.Dataset</div></div><ul class='xr-sections'><li class='xr-section-item'><input id='section-e28b3201-32c3-4491-8407-d640a1387444' class='xr-section-summary-in' type='checkbox' disabled ><label for='section-e28b3201-32c3-4491-8407-d640a1387444' class='xr-section-summary'  title='Expand/collapse section'>Dimensions:</label><div class='xr-section-inline-details'><ul class='xr-dim-list'><li><span class='xr-has-index'>index</span>: 372255</li><li><span class='xr-has-index'>freq</span>: 13</li></ul></div><div class='xr-section-details'></div></li><li class='xr-section-item'><input id='section-27a85838-f30b-4917-84c6-7719e16386fc' class='xr-section-summary-in' type='checkbox'  checked><label for='section-27a85838-f30b-4917-84c6-7719e16386fc' class='xr-section-summary' >Coordinates: <span>(2)</span></label><div class='xr-section-inline-details'></div><div class='xr-section-details'><ul class='xr-var-list'><li class='xr-var-item'><div class='xr-var-name'><span class='xr-has-index'>index</span></div><div class='xr-var-dims'>(index)</div><div class='xr-var-dtype'>int64</div><div class='xr-var-preview xr-preview'>11253 16428 ... 281755430 281755795</div><input id='attrs-68a16725-155d-45ca-bd53-9359e7348948' class='xr-var-attrs-in' type='checkbox' disabled><label for='attrs-68a16725-155d-45ca-bd53-9359e7348948' title='Show/Hide attributes'><svg class='icon xr-icon-file-text2'><use xlink:href='#icon-file-text2'></use></svg></label><input id='data-b878ff69-7f8b-44c0-bb19-575e86d54d22' class='xr-var-data-in' type='checkbox'><label for='data-b878ff69-7f8b-44c0-bb19-575e86d54d22' title='Show/Hide data repr'><svg class='icon xr-icon-database'><use xlink:href='#icon-database'></use></svg></label><div class='xr-var-attrs'><dl class='xr-attrs'></dl></div><div class='xr-var-data'><pre>array([    11253,     16428,     24110, ..., 281755117, 281755430, 281755795])</pre></div></li><li class='xr-var-item'><div class='xr-var-name'><span class='xr-has-index'>freq</span></div><div class='xr-var-dims'>(freq)</div><div class='xr-var-dtype'>float64</div><div class='xr-var-preview xr-preview'>18.7 24.5 44.0 ... 857.0 906.0</div><input id='attrs-3c704998-c3dd-4e22-b687-c3eab5df8ac0' class='xr-var-attrs-in' type='checkbox' disabled><label for='attrs-3c704998-c3dd-4e22-b687-c3eab5df8ac0' title='Show/Hide attributes'><svg class='icon xr-icon-file-text2'><use xlink:href='#icon-file-text2'></use></svg></label><input id='data-04a74074-2e8d-4010-b930-01e9d888732e' class='xr-var-data-in' type='checkbox'><label for='data-04a74074-2e8d-4010-b930-01e9d888732e' title='Show/Hide data repr'><svg class='icon xr-icon-database'><use xlink:href='#icon-database'></use></svg></label><div class='xr-var-attrs'><dl class='xr-attrs'></dl></div><div class='xr-var-data'><pre>array([ 18.7,  24.5,  44. ,  70. , 100. , 143. , 217. , 353. , 545. , 643. ,\n",
       "       729. , 857. , 906. ])</pre></div></li></ul></div></li><li class='xr-section-item'><input id='section-ee826b81-4950-4abf-8369-4249ab3fb410' class='xr-section-summary-in' type='checkbox'  checked><label for='section-ee826b81-4950-4abf-8369-4249ab3fb410' class='xr-section-summary' >Data variables: <span>(3)</span></label><div class='xr-section-inline-details'></div><div class='xr-section-details'><ul class='xr-var-list'><li class='xr-var-item'><div class='xr-var-name'><span>flux</span></div><div class='xr-var-dims'>(index, freq)</div><div class='xr-var-dtype'>float64</div><div class='xr-var-preview xr-preview'>0.02854 0.01962 ... 0.001688</div><input id='attrs-f950c09a-b19e-4e2c-886a-4baf6959e113' class='xr-var-attrs-in' type='checkbox' disabled><label for='attrs-f950c09a-b19e-4e2c-886a-4baf6959e113' title='Show/Hide attributes'><svg class='icon xr-icon-file-text2'><use xlink:href='#icon-file-text2'></use></svg></label><input id='data-16943ee4-be24-45a5-be54-55bbdc70682f' class='xr-var-data-in' type='checkbox'><label for='data-16943ee4-be24-45a5-be54-55bbdc70682f' title='Show/Hide data repr'><svg class='icon xr-icon-database'><use xlink:href='#icon-database'></use></svg></label><div class='xr-var-attrs'><dl class='xr-attrs'></dl></div><div class='xr-var-data'><pre>array([[0.02853885, 0.01962042, 0.0104193 , ..., 0.00049761, 0.00043035,\n",
       "        0.00040939],\n",
       "       [0.07462281, 0.04701015, 0.01973497, ..., 0.00036078, 0.00029885,\n",
       "        0.00028011],\n",
       "       [0.00986449, 0.00733716, 0.00481509, ..., 0.0005461 , 0.00049098,\n",
       "        0.00047334],\n",
       "       ...,\n",
       "       [0.00131828, 0.00119997, 0.00135572, ..., 0.0014146 , 0.00140503,\n",
       "        0.00140175],\n",
       "       [0.00196843, 0.00173202, 0.00178621, ..., 0.00128392, 0.00125407,\n",
       "        0.00124397],\n",
       "       [0.00101562, 0.00095178, 0.00116291, ..., 0.00167089, 0.00168358,\n",
       "        0.00168796]])</pre></div></li><li class='xr-var-item'><div class='xr-var-name'><span>polarized_flux</span></div><div class='xr-var-dims'>(index, freq)</div><div class='xr-var-dtype'>float64</div><div class='xr-var-preview xr-preview'>0.001121 0.0004986 ... 3.246e-05</div><input id='attrs-983c555b-87c0-412f-8095-83b863ee8aa6' class='xr-var-attrs-in' type='checkbox' disabled><label for='attrs-983c555b-87c0-412f-8095-83b863ee8aa6' title='Show/Hide attributes'><svg class='icon xr-icon-file-text2'><use xlink:href='#icon-file-text2'></use></svg></label><input id='data-bdc81385-0e21-434b-8259-3d7f7504ad0a' class='xr-var-data-in' type='checkbox'><label for='data-bdc81385-0e21-434b-8259-3d7f7504ad0a' title='Show/Hide data repr'><svg class='icon xr-icon-database'><use xlink:href='#icon-database'></use></svg></label><div class='xr-var-attrs'><dl class='xr-attrs'></dl></div><div class='xr-var-data'><pre>array([[1.12068269e-03, 4.98555717e-04, 7.24046113e-05, ...,\n",
       "        3.11687218e-05, 2.45648989e-05, 3.17132094e-06],\n",
       "       [9.41744819e-03, 2.96976970e-04, 1.30501488e-04, ...,\n",
       "        3.22987471e-05, 5.65086248e-06, 1.69376062e-06],\n",
       "       [7.76644811e-05, 6.61808008e-06, 9.53326016e-05, ...,\n",
       "        1.76184112e-05, 6.33791444e-07, 1.04503160e-05],\n",
       "       ...,\n",
       "       [4.60562251e-06, 1.46073426e-05, 2.50197045e-04, ...,\n",
       "        3.62357605e-05, 5.36425478e-06, 6.18042104e-05],\n",
       "       [5.87950126e-06, 1.00558582e-05, 1.04939129e-04, ...,\n",
       "        1.93261112e-05, 1.08091372e-05, 5.17453154e-05],\n",
       "       [5.70268412e-06, 6.20402307e-06, 1.40497898e-04, ...,\n",
       "        1.50881197e-05, 3.55578559e-05, 3.24648208e-05]])</pre></div></li><li class='xr-var-item'><div class='xr-var-name'><span>fluxnorm</span></div><div class='xr-var-dims'>(index, freq)</div><div class='xr-var-dtype'>float64</div><div class='xr-var-preview xr-preview'>0.0 0.0 0.0 0.0 ... 0.0 0.0 0.0 0.0</div><input id='attrs-d01f64bd-24d3-4105-b17e-bf4ad4d4f30b' class='xr-var-attrs-in' type='checkbox' disabled><label for='attrs-d01f64bd-24d3-4105-b17e-bf4ad4d4f30b' title='Show/Hide attributes'><svg class='icon xr-icon-file-text2'><use xlink:href='#icon-file-text2'></use></svg></label><input id='data-7b1d5972-01ec-413a-a5d4-7415ee3a7d05' class='xr-var-data-in' type='checkbox'><label for='data-7b1d5972-01ec-413a-a5d4-7415ee3a7d05' title='Show/Hide data repr'><svg class='icon xr-icon-database'><use xlink:href='#icon-database'></use></svg></label><div class='xr-var-attrs'><dl class='xr-attrs'></dl></div><div class='xr-var-data'><pre>array([[0., 0., 0., ..., 0., 0., 0.],\n",
       "       [0., 0., 0., ..., 0., 0., 0.],\n",
       "       [0., 0., 0., ..., 0., 0., 0.],\n",
       "       ...,\n",
       "       [0., 0., 0., ..., 0., 0., 0.],\n",
       "       [0., 0., 0., ..., 0., 0., 0.],\n",
       "       [0., 0., 0., ..., 0., 0., 0.]])</pre></div></li></ul></div></li><li class='xr-section-item'><input id='section-349db0bd-1f98-431d-ba67-08d53b2c842f' class='xr-section-summary-in' type='checkbox'  ><label for='section-349db0bd-1f98-431d-ba67-08d53b2c842f' class='xr-section-summary' >Indexes: <span>(2)</span></label><div class='xr-section-inline-details'></div><div class='xr-section-details'><ul class='xr-var-list'><li class='xr-var-item'><div class='xr-index-name'><div>index</div></div><div class='xr-index-preview'>PandasIndex</div><div></div><input id='index-34b79a88-b145-4db2-8cbd-03e8ddcfc662' class='xr-index-data-in' type='checkbox'/><label for='index-34b79a88-b145-4db2-8cbd-03e8ddcfc662' title='Show/Hide index repr'><svg class='icon xr-icon-database'><use xlink:href='#icon-database'></use></svg></label><div class='xr-index-data'><pre>PandasIndex(Index([    11253,     16428,     24110,     25342,     26268,     27427,\n",
       "           27855,     40649,     43434,     44634,\n",
       "       ...\n",
       "       281751967, 281752822, 281753210, 281753640, 281753799, 281754105,\n",
       "       281754532, 281755117, 281755430, 281755795],\n",
       "      dtype=&#x27;int64&#x27;, name=&#x27;index&#x27;, length=372255))</pre></div></li><li class='xr-var-item'><div class='xr-index-name'><div>freq</div></div><div class='xr-index-preview'>PandasIndex</div><div></div><input id='index-5e4e3dd8-1644-4bf9-9be9-4f21dbd9dea2' class='xr-index-data-in' type='checkbox'/><label for='index-5e4e3dd8-1644-4bf9-9be9-4f21dbd9dea2' title='Show/Hide index repr'><svg class='icon xr-icon-database'><use xlink:href='#icon-database'></use></svg></label><div class='xr-index-data'><pre>PandasIndex(Index([ 18.7,  24.5,  44.0,  70.0, 100.0, 143.0, 217.0, 353.0, 545.0, 643.0,\n",
       "       729.0, 857.0, 906.0],\n",
       "      dtype=&#x27;float64&#x27;, name=&#x27;freq&#x27;))</pre></div></li></ul></div></li><li class='xr-section-item'><input id='section-b8fea0de-27fb-44a5-9b14-456d5e2827a8' class='xr-section-summary-in' type='checkbox' disabled ><label for='section-b8fea0de-27fb-44a5-9b14-456d5e2827a8' class='xr-section-summary'  title='Expand/collapse section'>Attributes: <span>(0)</span></label><div class='xr-section-inline-details'></div><div class='xr-section-details'><dl class='xr-attrs'></dl></div></li></ul></div></div>"
      ],
      "text/plain": [
       "<xarray.Dataset> Size: 119MB\n",
       "Dimensions:         (index: 372255, freq: 13)\n",
       "Coordinates:\n",
       "  * index           (index) int64 3MB 11253 16428 24110 ... 281755430 281755795\n",
       "  * freq            (freq) float64 104B 18.7 24.5 44.0 ... 729.0 857.0 906.0\n",
       "Data variables:\n",
       "    flux            (index, freq) float64 39MB 0.02854 0.01962 ... 0.001688\n",
       "    polarized_flux  (index, freq) float64 39MB 0.001121 0.0004986 ... 3.246e-05\n",
       "    fluxnorm        (index, freq) float64 39MB 0.0 0.0 0.0 0.0 ... 0.0 0.0 0.0"
      ]
     },
     "execution_count": 18,
     "metadata": {},
     "output_type": "execute_result"
    }
   ],
   "source": [
    "sources_xr"
   ]
  },
  {
   "cell_type": "code",
   "execution_count": 19,
   "id": "20",
   "metadata": {
    "execution": {
     "iopub.execute_input": "2025-05-12T19:41:06.984658Z",
     "iopub.status.busy": "2025-05-12T19:41:06.984116Z",
     "iopub.status.idle": "2025-05-12T19:41:07.026382Z",
     "shell.execute_reply": "2025-05-12T19:41:07.025728Z"
    },
    "papermill": {
     "duration": 0.054731,
     "end_time": "2025-05-12T19:41:07.028050",
     "exception": false,
     "start_time": "2025-05-12T19:41:06.973319",
     "status": "completed"
    },
    "tags": []
   },
   "outputs": [
    {
     "name": "stdout",
     "output_type": "stream",
     "text": [
      "Index with minimum flux at 100 GHz: 64456\n",
      "Index with maximum flux at 100 GHz: 9474\n"
     ]
    }
   ],
   "source": [
    "min_idx = int(sources_xr.flux.sel(freq=100).argmin().item())\n",
    "max_idx = int(sources_xr.flux.sel(freq=100).argmax().item())\n",
    "print(\"Index with minimum flux at 100 GHz:\", min_idx)\n",
    "print(\"Index with maximum flux at 100 GHz:\", max_idx)"
   ]
  },
  {
   "cell_type": "code",
   "execution_count": 20,
   "id": "21",
   "metadata": {
    "execution": {
     "iopub.execute_input": "2025-05-12T19:41:07.051818Z",
     "iopub.status.busy": "2025-05-12T19:41:07.051537Z",
     "iopub.status.idle": "2025-05-12T19:41:07.269556Z",
     "shell.execute_reply": "2025-05-12T19:41:07.268749Z"
    },
    "papermill": {
     "duration": 0.229872,
     "end_time": "2025-05-12T19:41:07.271543",
     "exception": false,
     "start_time": "2025-05-12T19:41:07.041671",
     "status": "completed"
    },
    "tags": []
   },
   "outputs": [],
   "source": [
    "sources_xr = sources_xr.sortby(sources_xr.flux.sel(freq=100.0), ascending=False)"
   ]
  },
  {
   "cell_type": "code",
   "execution_count": 21,
   "id": "22",
   "metadata": {
    "execution": {
     "iopub.execute_input": "2025-05-12T19:41:07.297903Z",
     "iopub.status.busy": "2025-05-12T19:41:07.297512Z",
     "iopub.status.idle": "2025-05-12T19:41:07.303273Z",
     "shell.execute_reply": "2025-05-12T19:41:07.302453Z"
    },
    "papermill": {
     "duration": 0.018281,
     "end_time": "2025-05-12T19:41:07.304510",
     "exception": false,
     "start_time": "2025-05-12T19:41:07.286229",
     "status": "completed"
    },
    "tags": []
   },
   "outputs": [
    {
     "data": {
      "text/plain": [
       "3"
      ]
     },
     "execution_count": 21,
     "metadata": {},
     "output_type": "execute_result"
    }
   ],
   "source": [
    "len(sources_xr)"
   ]
  },
  {
   "cell_type": "code",
   "execution_count": 22,
   "id": "23",
   "metadata": {
    "execution": {
     "iopub.execute_input": "2025-05-12T19:41:07.321161Z",
     "iopub.status.busy": "2025-05-12T19:41:07.320659Z",
     "iopub.status.idle": "2025-05-12T19:41:07.342434Z",
     "shell.execute_reply": "2025-05-12T19:41:07.341730Z"
    },
    "papermill": {
     "duration": 0.031624,
     "end_time": "2025-05-12T19:41:07.343845",
     "exception": false,
     "start_time": "2025-05-12T19:41:07.312221",
     "status": "completed"
    },
    "tags": []
   },
   "outputs": [
    {
     "name": "stdout",
     "output_type": "stream",
     "text": [
      "Location (position) of maximum flux at 100 GHz: 0\n",
      "Location (position) of minimum flux at 100 GHz: 372254\n"
     ]
    }
   ],
   "source": [
    "max_loc = int(sources_xr.flux.sel(freq=100).argmax().item())\n",
    "min_loc = int(sources_xr.flux.sel(freq=100).argmin().item())\n",
    "print(\"Location (position) of maximum flux at 100 GHz:\", max_loc)\n",
    "print(\"Location (position) of minimum flux at 100 GHz:\", min_loc)\n"
   ]
  },
  {
   "cell_type": "code",
   "execution_count": 23,
   "id": "24",
   "metadata": {
    "execution": {
     "iopub.execute_input": "2025-05-12T19:41:07.365571Z",
     "iopub.status.busy": "2025-05-12T19:41:07.364646Z",
     "iopub.status.idle": "2025-05-12T19:41:07.379763Z",
     "shell.execute_reply": "2025-05-12T19:41:07.378713Z"
    },
    "papermill": {
     "duration": 0.027044,
     "end_time": "2025-05-12T19:41:07.381381",
     "exception": false,
     "start_time": "2025-05-12T19:41:07.354337",
     "status": "completed"
    },
    "tags": []
   },
   "outputs": [
    {
     "data": {
      "text/html": [
       "<div><svg style=\"position: absolute; width: 0; height: 0; overflow: hidden\">\n",
       "<defs>\n",
       "<symbol id=\"icon-database\" viewBox=\"0 0 32 32\">\n",
       "<path d=\"M16 0c-8.837 0-16 2.239-16 5v4c0 2.761 7.163 5 16 5s16-2.239 16-5v-4c0-2.761-7.163-5-16-5z\"></path>\n",
       "<path d=\"M16 17c-8.837 0-16-2.239-16-5v6c0 2.761 7.163 5 16 5s16-2.239 16-5v-6c0 2.761-7.163 5-16 5z\"></path>\n",
       "<path d=\"M16 26c-8.837 0-16-2.239-16-5v6c0 2.761 7.163 5 16 5s16-2.239 16-5v-6c0 2.761-7.163 5-16 5z\"></path>\n",
       "</symbol>\n",
       "<symbol id=\"icon-file-text2\" viewBox=\"0 0 32 32\">\n",
       "<path d=\"M28.681 7.159c-0.694-0.947-1.662-2.053-2.724-3.116s-2.169-2.030-3.116-2.724c-1.612-1.182-2.393-1.319-2.841-1.319h-15.5c-1.378 0-2.5 1.121-2.5 2.5v27c0 1.378 1.122 2.5 2.5 2.5h23c1.378 0 2.5-1.122 2.5-2.5v-19.5c0-0.448-0.137-1.23-1.319-2.841zM24.543 5.457c0.959 0.959 1.712 1.825 2.268 2.543h-4.811v-4.811c0.718 0.556 1.584 1.309 2.543 2.268zM28 29.5c0 0.271-0.229 0.5-0.5 0.5h-23c-0.271 0-0.5-0.229-0.5-0.5v-27c0-0.271 0.229-0.5 0.5-0.5 0 0 15.499-0 15.5 0v7c0 0.552 0.448 1 1 1h7v19.5z\"></path>\n",
       "<path d=\"M23 26h-14c-0.552 0-1-0.448-1-1s0.448-1 1-1h14c0.552 0 1 0.448 1 1s-0.448 1-1 1z\"></path>\n",
       "<path d=\"M23 22h-14c-0.552 0-1-0.448-1-1s0.448-1 1-1h14c0.552 0 1 0.448 1 1s-0.448 1-1 1z\"></path>\n",
       "<path d=\"M23 18h-14c-0.552 0-1-0.448-1-1s0.448-1 1-1h14c0.552 0 1 0.448 1 1s-0.448 1-1 1z\"></path>\n",
       "</symbol>\n",
       "</defs>\n",
       "</svg>\n",
       "<style>/* CSS stylesheet for displaying xarray objects in jupyterlab.\n",
       " *\n",
       " */\n",
       "\n",
       ":root {\n",
       "  --xr-font-color0: var(--jp-content-font-color0, rgba(0, 0, 0, 1));\n",
       "  --xr-font-color2: var(--jp-content-font-color2, rgba(0, 0, 0, 0.54));\n",
       "  --xr-font-color3: var(--jp-content-font-color3, rgba(0, 0, 0, 0.38));\n",
       "  --xr-border-color: var(--jp-border-color2, #e0e0e0);\n",
       "  --xr-disabled-color: var(--jp-layout-color3, #bdbdbd);\n",
       "  --xr-background-color: var(--jp-layout-color0, white);\n",
       "  --xr-background-color-row-even: var(--jp-layout-color1, white);\n",
       "  --xr-background-color-row-odd: var(--jp-layout-color2, #eeeeee);\n",
       "}\n",
       "\n",
       "html[theme=dark],\n",
       "html[data-theme=dark],\n",
       "body[data-theme=dark],\n",
       "body.vscode-dark {\n",
       "  --xr-font-color0: rgba(255, 255, 255, 1);\n",
       "  --xr-font-color2: rgba(255, 255, 255, 0.54);\n",
       "  --xr-font-color3: rgba(255, 255, 255, 0.38);\n",
       "  --xr-border-color: #1F1F1F;\n",
       "  --xr-disabled-color: #515151;\n",
       "  --xr-background-color: #111111;\n",
       "  --xr-background-color-row-even: #111111;\n",
       "  --xr-background-color-row-odd: #313131;\n",
       "}\n",
       "\n",
       ".xr-wrap {\n",
       "  display: block !important;\n",
       "  min-width: 300px;\n",
       "  max-width: 700px;\n",
       "}\n",
       "\n",
       ".xr-text-repr-fallback {\n",
       "  /* fallback to plain text repr when CSS is not injected (untrusted notebook) */\n",
       "  display: none;\n",
       "}\n",
       "\n",
       ".xr-header {\n",
       "  padding-top: 6px;\n",
       "  padding-bottom: 6px;\n",
       "  margin-bottom: 4px;\n",
       "  border-bottom: solid 1px var(--xr-border-color);\n",
       "}\n",
       "\n",
       ".xr-header > div,\n",
       ".xr-header > ul {\n",
       "  display: inline;\n",
       "  margin-top: 0;\n",
       "  margin-bottom: 0;\n",
       "}\n",
       "\n",
       ".xr-obj-type,\n",
       ".xr-array-name {\n",
       "  margin-left: 2px;\n",
       "  margin-right: 10px;\n",
       "}\n",
       "\n",
       ".xr-obj-type {\n",
       "  color: var(--xr-font-color2);\n",
       "}\n",
       "\n",
       ".xr-sections {\n",
       "  padding-left: 0 !important;\n",
       "  display: grid;\n",
       "  grid-template-columns: 150px auto auto 1fr 0 20px 0 20px;\n",
       "}\n",
       "\n",
       ".xr-section-item {\n",
       "  display: contents;\n",
       "}\n",
       "\n",
       ".xr-section-item input {\n",
       "  display: inline-block;\n",
       "  opacity: 0;\n",
       "}\n",
       "\n",
       ".xr-section-item input + label {\n",
       "  color: var(--xr-disabled-color);\n",
       "}\n",
       "\n",
       ".xr-section-item input:enabled + label {\n",
       "  cursor: pointer;\n",
       "  color: var(--xr-font-color2);\n",
       "}\n",
       "\n",
       ".xr-section-item input:focus + label {\n",
       "  border: 2px solid var(--xr-font-color0);\n",
       "}\n",
       "\n",
       ".xr-section-item input:enabled + label:hover {\n",
       "  color: var(--xr-font-color0);\n",
       "}\n",
       "\n",
       ".xr-section-summary {\n",
       "  grid-column: 1;\n",
       "  color: var(--xr-font-color2);\n",
       "  font-weight: 500;\n",
       "}\n",
       "\n",
       ".xr-section-summary > span {\n",
       "  display: inline-block;\n",
       "  padding-left: 0.5em;\n",
       "}\n",
       "\n",
       ".xr-section-summary-in:disabled + label {\n",
       "  color: var(--xr-font-color2);\n",
       "}\n",
       "\n",
       ".xr-section-summary-in + label:before {\n",
       "  display: inline-block;\n",
       "  content: '►';\n",
       "  font-size: 11px;\n",
       "  width: 15px;\n",
       "  text-align: center;\n",
       "}\n",
       "\n",
       ".xr-section-summary-in:disabled + label:before {\n",
       "  color: var(--xr-disabled-color);\n",
       "}\n",
       "\n",
       ".xr-section-summary-in:checked + label:before {\n",
       "  content: '▼';\n",
       "}\n",
       "\n",
       ".xr-section-summary-in:checked + label > span {\n",
       "  display: none;\n",
       "}\n",
       "\n",
       ".xr-section-summary,\n",
       ".xr-section-inline-details {\n",
       "  padding-top: 4px;\n",
       "  padding-bottom: 4px;\n",
       "}\n",
       "\n",
       ".xr-section-inline-details {\n",
       "  grid-column: 2 / -1;\n",
       "}\n",
       "\n",
       ".xr-section-details {\n",
       "  display: none;\n",
       "  grid-column: 1 / -1;\n",
       "  margin-bottom: 5px;\n",
       "}\n",
       "\n",
       ".xr-section-summary-in:checked ~ .xr-section-details {\n",
       "  display: contents;\n",
       "}\n",
       "\n",
       ".xr-array-wrap {\n",
       "  grid-column: 1 / -1;\n",
       "  display: grid;\n",
       "  grid-template-columns: 20px auto;\n",
       "}\n",
       "\n",
       ".xr-array-wrap > label {\n",
       "  grid-column: 1;\n",
       "  vertical-align: top;\n",
       "}\n",
       "\n",
       ".xr-preview {\n",
       "  color: var(--xr-font-color3);\n",
       "}\n",
       "\n",
       ".xr-array-preview,\n",
       ".xr-array-data {\n",
       "  padding: 0 5px !important;\n",
       "  grid-column: 2;\n",
       "}\n",
       "\n",
       ".xr-array-data,\n",
       ".xr-array-in:checked ~ .xr-array-preview {\n",
       "  display: none;\n",
       "}\n",
       "\n",
       ".xr-array-in:checked ~ .xr-array-data,\n",
       ".xr-array-preview {\n",
       "  display: inline-block;\n",
       "}\n",
       "\n",
       ".xr-dim-list {\n",
       "  display: inline-block !important;\n",
       "  list-style: none;\n",
       "  padding: 0 !important;\n",
       "  margin: 0;\n",
       "}\n",
       "\n",
       ".xr-dim-list li {\n",
       "  display: inline-block;\n",
       "  padding: 0;\n",
       "  margin: 0;\n",
       "}\n",
       "\n",
       ".xr-dim-list:before {\n",
       "  content: '(';\n",
       "}\n",
       "\n",
       ".xr-dim-list:after {\n",
       "  content: ')';\n",
       "}\n",
       "\n",
       ".xr-dim-list li:not(:last-child):after {\n",
       "  content: ',';\n",
       "  padding-right: 5px;\n",
       "}\n",
       "\n",
       ".xr-has-index {\n",
       "  font-weight: bold;\n",
       "}\n",
       "\n",
       ".xr-var-list,\n",
       ".xr-var-item {\n",
       "  display: contents;\n",
       "}\n",
       "\n",
       ".xr-var-item > div,\n",
       ".xr-var-item label,\n",
       ".xr-var-item > .xr-var-name span {\n",
       "  background-color: var(--xr-background-color-row-even);\n",
       "  margin-bottom: 0;\n",
       "}\n",
       "\n",
       ".xr-var-item > .xr-var-name:hover span {\n",
       "  padding-right: 5px;\n",
       "}\n",
       "\n",
       ".xr-var-list > li:nth-child(odd) > div,\n",
       ".xr-var-list > li:nth-child(odd) > label,\n",
       ".xr-var-list > li:nth-child(odd) > .xr-var-name span {\n",
       "  background-color: var(--xr-background-color-row-odd);\n",
       "}\n",
       "\n",
       ".xr-var-name {\n",
       "  grid-column: 1;\n",
       "}\n",
       "\n",
       ".xr-var-dims {\n",
       "  grid-column: 2;\n",
       "}\n",
       "\n",
       ".xr-var-dtype {\n",
       "  grid-column: 3;\n",
       "  text-align: right;\n",
       "  color: var(--xr-font-color2);\n",
       "}\n",
       "\n",
       ".xr-var-preview {\n",
       "  grid-column: 4;\n",
       "}\n",
       "\n",
       ".xr-index-preview {\n",
       "  grid-column: 2 / 5;\n",
       "  color: var(--xr-font-color2);\n",
       "}\n",
       "\n",
       ".xr-var-name,\n",
       ".xr-var-dims,\n",
       ".xr-var-dtype,\n",
       ".xr-preview,\n",
       ".xr-attrs dt {\n",
       "  white-space: nowrap;\n",
       "  overflow: hidden;\n",
       "  text-overflow: ellipsis;\n",
       "  padding-right: 10px;\n",
       "}\n",
       "\n",
       ".xr-var-name:hover,\n",
       ".xr-var-dims:hover,\n",
       ".xr-var-dtype:hover,\n",
       ".xr-attrs dt:hover {\n",
       "  overflow: visible;\n",
       "  width: auto;\n",
       "  z-index: 1;\n",
       "}\n",
       "\n",
       ".xr-var-attrs,\n",
       ".xr-var-data,\n",
       ".xr-index-data {\n",
       "  display: none;\n",
       "  background-color: var(--xr-background-color) !important;\n",
       "  padding-bottom: 5px !important;\n",
       "}\n",
       "\n",
       ".xr-var-attrs-in:checked ~ .xr-var-attrs,\n",
       ".xr-var-data-in:checked ~ .xr-var-data,\n",
       ".xr-index-data-in:checked ~ .xr-index-data {\n",
       "  display: block;\n",
       "}\n",
       "\n",
       ".xr-var-data > table {\n",
       "  float: right;\n",
       "}\n",
       "\n",
       ".xr-var-name span,\n",
       ".xr-var-data,\n",
       ".xr-index-name div,\n",
       ".xr-index-data,\n",
       ".xr-attrs {\n",
       "  padding-left: 25px !important;\n",
       "}\n",
       "\n",
       ".xr-attrs,\n",
       ".xr-var-attrs,\n",
       ".xr-var-data,\n",
       ".xr-index-data {\n",
       "  grid-column: 1 / -1;\n",
       "}\n",
       "\n",
       "dl.xr-attrs {\n",
       "  padding: 0;\n",
       "  margin: 0;\n",
       "  display: grid;\n",
       "  grid-template-columns: 125px auto;\n",
       "}\n",
       "\n",
       ".xr-attrs dt,\n",
       ".xr-attrs dd {\n",
       "  padding: 0;\n",
       "  margin: 0;\n",
       "  float: left;\n",
       "  padding-right: 10px;\n",
       "  width: auto;\n",
       "}\n",
       "\n",
       ".xr-attrs dt {\n",
       "  font-weight: normal;\n",
       "  grid-column: 1;\n",
       "}\n",
       "\n",
       ".xr-attrs dt:hover span {\n",
       "  display: inline-block;\n",
       "  background: var(--xr-background-color);\n",
       "  padding-right: 10px;\n",
       "}\n",
       "\n",
       ".xr-attrs dd {\n",
       "  grid-column: 2;\n",
       "  white-space: pre-wrap;\n",
       "  word-break: break-all;\n",
       "}\n",
       "\n",
       ".xr-icon-database,\n",
       ".xr-icon-file-text2,\n",
       ".xr-no-icon {\n",
       "  display: inline-block;\n",
       "  vertical-align: middle;\n",
       "  width: 1em;\n",
       "  height: 1.5em !important;\n",
       "  stroke-width: 0;\n",
       "  stroke: currentColor;\n",
       "  fill: currentColor;\n",
       "}\n",
       "</style><pre class='xr-text-repr-fallback'>&lt;xarray.DataArray &#x27;index&#x27; (index: 372255)&gt; Size: 3MB\n",
       "array([ 27897657, 242175600, 270516228, ..., 246732122, 263347056, 166742332])\n",
       "Coordinates:\n",
       "  * index    (index) int64 3MB 27897657 242175600 ... 263347056 166742332</pre><div class='xr-wrap' style='display:none'><div class='xr-header'><div class='xr-obj-type'>xarray.DataArray</div><div class='xr-array-name'>'index'</div><ul class='xr-dim-list'><li><span class='xr-has-index'>index</span>: 372255</li></ul></div><ul class='xr-sections'><li class='xr-section-item'><div class='xr-array-wrap'><input id='section-0f4cd26c-5bf2-4085-9b6a-f5f6486d782f' class='xr-array-in' type='checkbox' checked><label for='section-0f4cd26c-5bf2-4085-9b6a-f5f6486d782f' title='Show/hide data repr'><svg class='icon xr-icon-database'><use xlink:href='#icon-database'></use></svg></label><div class='xr-array-preview xr-preview'><span>27897657 242175600 270516228 ... 246732122 263347056 166742332</span></div><div class='xr-array-data'><pre>array([ 27897657, 242175600, 270516228, ..., 246732122, 263347056, 166742332])</pre></div></div></li><li class='xr-section-item'><input id='section-9854b34b-a641-43dc-a9d8-1ab6ccd3db43' class='xr-section-summary-in' type='checkbox'  checked><label for='section-9854b34b-a641-43dc-a9d8-1ab6ccd3db43' class='xr-section-summary' >Coordinates: <span>(1)</span></label><div class='xr-section-inline-details'></div><div class='xr-section-details'><ul class='xr-var-list'><li class='xr-var-item'><div class='xr-var-name'><span class='xr-has-index'>index</span></div><div class='xr-var-dims'>(index)</div><div class='xr-var-dtype'>int64</div><div class='xr-var-preview xr-preview'>27897657 242175600 ... 166742332</div><input id='attrs-240b74ed-f72c-4aeb-b95d-0b5a2847b1c5' class='xr-var-attrs-in' type='checkbox' disabled><label for='attrs-240b74ed-f72c-4aeb-b95d-0b5a2847b1c5' title='Show/Hide attributes'><svg class='icon xr-icon-file-text2'><use xlink:href='#icon-file-text2'></use></svg></label><input id='data-8724eff9-4ddb-42f8-80a9-6cf8f1985c8a' class='xr-var-data-in' type='checkbox'><label for='data-8724eff9-4ddb-42f8-80a9-6cf8f1985c8a' title='Show/Hide data repr'><svg class='icon xr-icon-database'><use xlink:href='#icon-database'></use></svg></label><div class='xr-var-attrs'><dl class='xr-attrs'></dl></div><div class='xr-var-data'><pre>array([ 27897657, 242175600, 270516228, ..., 246732122, 263347056, 166742332])</pre></div></li></ul></div></li><li class='xr-section-item'><input id='section-00be9deb-1ad9-4982-bba2-8f0e21a794f1' class='xr-section-summary-in' type='checkbox'  ><label for='section-00be9deb-1ad9-4982-bba2-8f0e21a794f1' class='xr-section-summary' >Indexes: <span>(1)</span></label><div class='xr-section-inline-details'></div><div class='xr-section-details'><ul class='xr-var-list'><li class='xr-var-item'><div class='xr-index-name'><div>index</div></div><div class='xr-index-preview'>PandasIndex</div><div></div><input id='index-9e2f71a8-b58c-43d4-8173-fc8e5c5bd9f3' class='xr-index-data-in' type='checkbox'/><label for='index-9e2f71a8-b58c-43d4-8173-fc8e5c5bd9f3' title='Show/Hide index repr'><svg class='icon xr-icon-database'><use xlink:href='#icon-database'></use></svg></label><div class='xr-index-data'><pre>PandasIndex(Index([ 27897657, 242175600, 270516228, 276407774, 256213631, 281544643,\n",
       "       263719520, 259533227, 251679008, 252717495,\n",
       "       ...\n",
       "       238190295, 145826702, 108046020, 232265270, 174768449, 256408684,\n",
       "       236382968, 246732122, 263347056, 166742332],\n",
       "      dtype=&#x27;int64&#x27;, name=&#x27;index&#x27;, length=372255))</pre></div></li></ul></div></li><li class='xr-section-item'><input id='section-d8fb1d82-11bd-41d2-9299-8b1412abdd3d' class='xr-section-summary-in' type='checkbox' disabled ><label for='section-d8fb1d82-11bd-41d2-9299-8b1412abdd3d' class='xr-section-summary'  title='Expand/collapse section'>Attributes: <span>(0)</span></label><div class='xr-section-inline-details'></div><div class='xr-section-details'><dl class='xr-attrs'></dl></div></li></ul></div></div>"
      ],
      "text/plain": [
       "<xarray.DataArray 'index' (index: 372255)> Size: 3MB\n",
       "array([ 27897657, 242175600, 270516228, ..., 246732122, 263347056, 166742332])\n",
       "Coordinates:\n",
       "  * index    (index) int64 3MB 27897657 242175600 ... 263347056 166742332"
      ]
     },
     "execution_count": 23,
     "metadata": {},
     "output_type": "execute_result"
    }
   ],
   "source": [
    "sources_xr.coords[\"index\"]"
   ]
  },
  {
   "cell_type": "code",
   "execution_count": 24,
   "id": "25",
   "metadata": {
    "execution": {
     "iopub.execute_input": "2025-05-12T19:41:07.403832Z",
     "iopub.status.busy": "2025-05-12T19:41:07.403297Z",
     "iopub.status.idle": "2025-05-12T19:41:07.407826Z",
     "shell.execute_reply": "2025-05-12T19:41:07.406892Z"
    },
    "papermill": {
     "duration": 0.015542,
     "end_time": "2025-05-12T19:41:07.409006",
     "exception": false,
     "start_time": "2025-05-12T19:41:07.393464",
     "status": "completed"
    },
    "tags": []
   },
   "outputs": [],
   "source": [
    "# this was needed for some missing functionality in an older version of xarray\n",
    "#sources_xr.coords[\"index\"] = np.arange(len(sources_xr.coords[\"index\"]))"
   ]
  },
  {
   "cell_type": "code",
   "execution_count": 25,
   "id": "26",
   "metadata": {
    "execution": {
     "iopub.execute_input": "2025-05-12T19:41:07.426234Z",
     "iopub.status.busy": "2025-05-12T19:41:07.425727Z",
     "iopub.status.idle": "2025-05-12T19:41:07.458949Z",
     "shell.execute_reply": "2025-05-12T19:41:07.457834Z"
    },
    "papermill": {
     "duration": 0.04292,
     "end_time": "2025-05-12T19:41:07.460911",
     "exception": false,
     "start_time": "2025-05-12T19:41:07.417991",
     "status": "completed"
    },
    "tags": []
   },
   "outputs": [],
   "source": [
    "sources_xr[\"fluxnorm\"] = sources_xr[\"flux\"] / sources_xr[\"flux\"].sel(freq=100)\n"
   ]
  },
  {
   "cell_type": "code",
   "execution_count": 26,
   "id": "27",
   "metadata": {
    "execution": {
     "iopub.execute_input": "2025-05-12T19:41:07.489525Z",
     "iopub.status.busy": "2025-05-12T19:41:07.489102Z",
     "iopub.status.idle": "2025-05-12T19:41:07.493536Z",
     "shell.execute_reply": "2025-05-12T19:41:07.492435Z"
    },
    "papermill": {
     "duration": 0.019411,
     "end_time": "2025-05-12T19:41:07.494926",
     "exception": false,
     "start_time": "2025-05-12T19:41:07.475515",
     "status": "completed"
    },
    "tags": []
   },
   "outputs": [],
   "source": [
    "#print(sources_xr[\"fluxnorm\"].loc[dict(index=s)], sources_xr[\"flux\"].loc[dict(index=s)])"
   ]
  },
  {
   "cell_type": "code",
   "execution_count": 27,
   "id": "28",
   "metadata": {
    "execution": {
     "iopub.execute_input": "2025-05-12T19:41:07.512987Z",
     "iopub.status.busy": "2025-05-12T19:41:07.512262Z",
     "iopub.status.idle": "2025-05-12T19:41:07.516879Z",
     "shell.execute_reply": "2025-05-12T19:41:07.515777Z"
    },
    "papermill": {
     "duration": 0.015158,
     "end_time": "2025-05-12T19:41:07.518183",
     "exception": false,
     "start_time": "2025-05-12T19:41:07.503025",
     "status": "completed"
    },
    "tags": []
   },
   "outputs": [],
   "source": [
    "#sources_xr.fluxnorm.plot(vmin=0, vmax=100)\n",
    "#plt.figure()\n",
    "#sources_xr.flux.plot(vmin=0, vmax=100)"
   ]
  },
  {
   "cell_type": "code",
   "execution_count": 28,
   "id": "29",
   "metadata": {
    "execution": {
     "iopub.execute_input": "2025-05-12T19:41:07.533997Z",
     "iopub.status.busy": "2025-05-12T19:41:07.533478Z",
     "iopub.status.idle": "2025-05-12T19:41:07.565286Z",
     "shell.execute_reply": "2025-05-12T19:41:07.564581Z"
    },
    "papermill": {
     "duration": 0.041643,
     "end_time": "2025-05-12T19:41:07.566907",
     "exception": false,
     "start_time": "2025-05-12T19:41:07.525264",
     "status": "completed"
    },
    "tags": []
   },
   "outputs": [],
   "source": [
    "sources_xr[\"logpolycoefflux\"] = xr.DataArray(\n",
    "    np.zeros((len(all_indices), 5), dtype=np.float64),\n",
    "    dims=[\"index\", \"power\"],\n",
    "    coords={\"power\": np.arange(5)[::-1]},\n",
    ")\n",
    "sources_xr[\"logpolycoefnorm\"] = sources_xr[\"logpolycoefflux\"].copy()\n",
    "sources_xr[\"logpolycoefpolflux\"] = sources_xr[\"logpolycoefflux\"].copy()"
   ]
  },
  {
   "cell_type": "code",
   "execution_count": 29,
   "id": "30",
   "metadata": {
    "execution": {
     "iopub.execute_input": "2025-05-12T19:41:07.594425Z",
     "iopub.status.busy": "2025-05-12T19:41:07.593884Z",
     "iopub.status.idle": "2025-05-13T05:40:24.788772Z",
     "shell.execute_reply": "2025-05-13T05:40:24.788101Z"
    },
    "papermill": {
     "duration": 35957.208226,
     "end_time": "2025-05-13T05:40:24.790473",
     "exception": false,
     "start_time": "2025-05-12T19:41:07.582247",
     "status": "completed"
    },
    "tags": []
   },
   "outputs": [
    {
     "data": {
      "application/vnd.jupyter.widget-view+json": {
       "model_id": "d11aa7e5786c43b68e9f60c8ecb2596f",
       "version_major": 2,
       "version_minor": 0
      },
      "text/plain": [
       "Fitting sources:   0%|          | 0/372255 [00:00<?, ?it/s]"
      ]
     },
     "metadata": {},
     "output_type": "display_data"
    }
   ],
   "source": [
    "from scipy.optimize import curve_fit\n",
    "import time\n",
    "\n",
    "def is_interactive():\n",
    "    try:\n",
    "        from IPython import get_ipython\n",
    "        return get_ipython() is not None\n",
    "    except ImportError:\n",
    "        return False\n",
    "\n",
    "def model(freq, a, b, c, d, e):\n",
    "    log_freq = np.log(freq)\n",
    "    return a * log_freq**4 + b * log_freq**3 + c * log_freq**2 + d * log_freq + e\n",
    "\n",
    "start_time = time.time()\n",
    "total = len(sources_xr.coords[\"index\"])\n",
    "indices = sources_xr.coords[\"index\"]\n",
    "if is_interactive():\n",
    "    from tqdm.notebook import tqdm\n",
    "    iterator = tqdm(indices, desc=\"Fitting sources\")\n",
    "else:\n",
    "    iterator = indices\n",
    "\n",
    "for i, s in enumerate(iterator):\n",
    "    sources_xr[\"logpolycoefflux\"].loc[dict(index=s)] = curve_fit(\n",
    "        model, sources_xr.coords[\"freq\"], sources_xr.flux.sel(index=s)\n",
    "    )[0]\n",
    "    sources_xr[\"logpolycoefpolflux\"].loc[dict(index=s)] = curve_fit(\n",
    "        model, sources_xr.coords[\"freq\"], sources_xr.polarized_flux.sel(index=s)\n",
    "    )[0]\n",
    "    sources_xr[\"logpolycoefnorm\"].loc[dict(index=s)] = curve_fit(\n",
    "        model, sources_xr.coords[\"freq\"], sources_xr.fluxnorm.sel(index=s)\n",
    "    )[0]\n",
    "    if (i + 1) % 100 == 0 or (i + 1) == total:\n",
    "        elapsed = time.time() - start_time\n",
    "        rate = (i + 1) / elapsed\n",
    "        remaining = (total - (i + 1)) / rate if rate > 0 else float(\"inf\")\n",
    "        msg = f\"ETA: {int(remaining // 3600)}h {int((remaining % 3600) // 60)}m\"\n",
    "        if is_interactive():\n",
    "            iterator.set_postfix_str(msg)\n",
    "        else:\n",
    "            print(f\"Processed {i+1}/{total} | {msg}\")"
   ]
  },
  {
   "cell_type": "code",
   "execution_count": 30,
   "id": "31",
   "metadata": {
    "execution": {
     "iopub.execute_input": "2025-05-13T05:40:24.821060Z",
     "iopub.status.busy": "2025-05-13T05:40:24.820424Z",
     "iopub.status.idle": "2025-05-13T05:40:24.824946Z",
     "shell.execute_reply": "2025-05-13T05:40:24.824197Z"
    },
    "papermill": {
     "duration": 0.017278,
     "end_time": "2025-05-13T05:40:24.826271",
     "exception": false,
     "start_time": "2025-05-13T05:40:24.808993",
     "status": "completed"
    },
    "tags": []
   },
   "outputs": [],
   "source": [
    "# for s in range(len(all_indices)):\n",
    "#     plt.figure()\n",
    "#     sources_xr.flux.sel(index=s).plot(marker=\"o\", linestyle=\"none\")  # , xscale=\"log\")\n",
    "#     sources_xr.fluxnorm.sel(index=s).plot(\n",
    "#         marker=\"o\", linestyle=\"none\"\n",
    "#     )  # , xscale=\"log\")\n",
    "\n",
    "#     plt.loglog(\n",
    "#         sources_xr.coords[\"freq\"],\n",
    "#         model(sources_xr.coords[\"freq\"], *sources_xr.logpolycoefflux.sel(index=s)),\n",
    "#     )\n",
    "#     plt.loglog(\n",
    "#         sources_xr.coords[\"freq\"],\n",
    "#         model(sources_xr.coords[\"freq\"], *sources_xr.logpolycoefnorm.sel(index=s)),\n",
    "#     )\n",
    "#     plt.grid()\n",
    "#     break"
   ]
  },
  {
   "cell_type": "code",
   "execution_count": 31,
   "id": "32",
   "metadata": {
    "execution": {
     "iopub.execute_input": "2025-05-13T05:40:24.845395Z",
     "iopub.status.busy": "2025-05-13T05:40:24.844718Z",
     "iopub.status.idle": "2025-05-13T05:40:24.857966Z",
     "shell.execute_reply": "2025-05-13T05:40:24.857046Z"
    },
    "papermill": {
     "duration": 0.024098,
     "end_time": "2025-05-13T05:40:24.859725",
     "exception": false,
     "start_time": "2025-05-13T05:40:24.835627",
     "status": "completed"
    },
    "tags": []
   },
   "outputs": [
    {
     "data": {
      "text/plain": [
       "(<xarray.DataArray 'logpolycoefflux' ()> Size: 8B\n",
       " array(-17557.80083613),\n",
       " <xarray.DataArray 'logpolycoefflux' ()> Size: 8B\n",
       " array(23993.59700202))"
      ]
     },
     "execution_count": 31,
     "metadata": {},
     "output_type": "execute_result"
    }
   ],
   "source": [
    "sources_xr.logpolycoefflux.min(), sources_xr.logpolycoefflux.max()"
   ]
  },
  {
   "cell_type": "code",
   "execution_count": 32,
   "id": "33",
   "metadata": {
    "execution": {
     "iopub.execute_input": "2025-05-13T05:40:24.888252Z",
     "iopub.status.busy": "2025-05-13T05:40:24.887749Z",
     "iopub.status.idle": "2025-05-13T05:40:24.892139Z",
     "shell.execute_reply": "2025-05-13T05:40:24.891254Z"
    },
    "papermill": {
     "duration": 0.017292,
     "end_time": "2025-05-13T05:40:24.893265",
     "exception": false,
     "start_time": "2025-05-13T05:40:24.875973",
     "status": "completed"
    },
    "tags": []
   },
   "outputs": [],
   "source": [
    "# plt.figure(figsize=(12, 5))\n",
    "# plt.subplot(121)\n",
    "# sources_xr.logpolycoefflux.plot(vmax=50, vmin=-50)\n",
    "# plt.subplot(122)\n",
    "# sources_xr.logpolycoefnorm.plot(vmax=50, vmin=-50)pwd"
   ]
  },
  {
   "cell_type": "code",
   "execution_count": 33,
   "id": "34",
   "metadata": {
    "execution": {
     "iopub.execute_input": "2025-05-13T05:40:24.911167Z",
     "iopub.status.busy": "2025-05-13T05:40:24.910683Z",
     "iopub.status.idle": "2025-05-13T05:40:24.915507Z",
     "shell.execute_reply": "2025-05-13T05:40:24.914688Z"
    },
    "papermill": {
     "duration": 0.01419,
     "end_time": "2025-05-13T05:40:24.916553",
     "exception": false,
     "start_time": "2025-05-13T05:40:24.902363",
     "status": "completed"
    },
    "tags": []
   },
   "outputs": [],
   "source": [
    "# plt.figure(figsize=(15, 8))\n",
    "\n",
    "# for power in range(5):\n",
    "#     plt.subplot(231 + power)\n",
    "\n",
    "#     np.fabs(sources_xr.logpolycoefflux.loc[dict(power=power)]).plot.hist(\n",
    "#         bins=np.logspace(-0, 4, 20), density=False, lw=3, label=\"fluxes\"\n",
    "#     )\n",
    "\n",
    "#     np.fabs(sources_xr.logpolycoefnorm.loc[dict(power=power)]).plot.hist(\n",
    "#         bins=np.logspace(-0, 4, 20),\n",
    "#         density=False,\n",
    "#         histtype=\"step\",\n",
    "#         lw=2,\n",
    "#         label=\"normalized fluxes\",\n",
    "#         linestyle=\"--\",\n",
    "#     )\n",
    "#     plt.grid()\n",
    "#     plt.title(f\"Power {power}\")\n",
    "#     plt.legend()\n",
    "#     plt.xscale(\"log\")\n",
    "#     plt.xlabel(None)"
   ]
  },
  {
   "cell_type": "code",
   "execution_count": 34,
   "id": "35",
   "metadata": {
    "execution": {
     "iopub.execute_input": "2025-05-13T05:40:24.930759Z",
     "iopub.status.busy": "2025-05-13T05:40:24.930278Z",
     "iopub.status.idle": "2025-05-13T05:40:24.934981Z",
     "shell.execute_reply": "2025-05-13T05:40:24.934150Z"
    },
    "papermill": {
     "duration": 0.01332,
     "end_time": "2025-05-13T05:40:24.936778",
     "exception": false,
     "start_time": "2025-05-13T05:40:24.923458",
     "status": "completed"
    },
    "tags": []
   },
   "outputs": [],
   "source": [
    "output_catalog = sources_xr[[\"logpolycoefflux\",\"logpolycoefpolflux\"]]"
   ]
  },
  {
   "cell_type": "code",
   "execution_count": 35,
   "id": "36",
   "metadata": {
    "execution": {
     "iopub.execute_input": "2025-05-13T05:40:24.962924Z",
     "iopub.status.busy": "2025-05-13T05:40:24.962440Z",
     "iopub.status.idle": "2025-05-13T05:40:24.966672Z",
     "shell.execute_reply": "2025-05-13T05:40:24.965805Z"
    },
    "papermill": {
     "duration": 0.016413,
     "end_time": "2025-05-13T05:40:24.967924",
     "exception": false,
     "start_time": "2025-05-13T05:40:24.951511",
     "status": "completed"
    },
    "tags": []
   },
   "outputs": [],
   "source": [
    "#no need to override this again\n",
    "#output_catalog[\"index\"] = all_indices"
   ]
  },
  {
   "cell_type": "code",
   "execution_count": 36,
   "id": "37",
   "metadata": {
    "execution": {
     "iopub.execute_input": "2025-05-13T05:40:24.983923Z",
     "iopub.status.busy": "2025-05-13T05:40:24.982974Z",
     "iopub.status.idle": "2025-05-13T05:40:24.988010Z",
     "shell.execute_reply": "2025-05-13T05:40:24.986941Z"
    },
    "papermill": {
     "duration": 0.013326,
     "end_time": "2025-05-13T05:40:24.989012",
     "exception": false,
     "start_time": "2025-05-13T05:40:24.975686",
     "status": "completed"
    },
    "tags": []
   },
   "outputs": [],
   "source": [
    "output_catalog.logpolycoefflux.attrs[\"units\"] = \"Jy\"\n",
    "output_catalog.logpolycoefpolflux.attrs[\"units\"] = \"Jy\""
   ]
  },
  {
   "cell_type": "code",
   "execution_count": 37,
   "id": "38",
   "metadata": {
    "execution": {
     "iopub.execute_input": "2025-05-13T05:40:25.002274Z",
     "iopub.status.busy": "2025-05-13T05:40:25.001799Z",
     "iopub.status.idle": "2025-05-13T05:41:25.420266Z",
     "shell.execute_reply": "2025-05-13T05:41:25.418766Z"
    },
    "papermill": {
     "duration": 60.427371,
     "end_time": "2025-05-13T05:41:25.422292",
     "exception": false,
     "start_time": "2025-05-13T05:40:24.994921",
     "status": "completed"
    },
    "tags": []
   },
   "outputs": [],
   "source": [
    "for coord in [\"theta\", \"phi\"]:\n",
    "    output_catalog = output_catalog.assign_coords(**{coord:((\"index\"), cat[coord][high_flux_sources_mask].astype(np.float64))})"
   ]
  },
  {
   "cell_type": "code",
   "execution_count": 38,
   "id": "39",
   "metadata": {
    "execution": {
     "iopub.execute_input": "2025-05-13T05:41:25.452945Z",
     "iopub.status.busy": "2025-05-13T05:41:25.452513Z",
     "iopub.status.idle": "2025-05-13T05:41:25.475055Z",
     "shell.execute_reply": "2025-05-13T05:41:25.474412Z"
    },
    "papermill": {
     "duration": 0.035631,
     "end_time": "2025-05-13T05:41:25.476511",
     "exception": false,
     "start_time": "2025-05-13T05:41:25.440880",
     "status": "completed"
    },
    "tags": []
   },
   "outputs": [
    {
     "data": {
      "text/html": [
       "<div><svg style=\"position: absolute; width: 0; height: 0; overflow: hidden\">\n",
       "<defs>\n",
       "<symbol id=\"icon-database\" viewBox=\"0 0 32 32\">\n",
       "<path d=\"M16 0c-8.837 0-16 2.239-16 5v4c0 2.761 7.163 5 16 5s16-2.239 16-5v-4c0-2.761-7.163-5-16-5z\"></path>\n",
       "<path d=\"M16 17c-8.837 0-16-2.239-16-5v6c0 2.761 7.163 5 16 5s16-2.239 16-5v-6c0 2.761-7.163 5-16 5z\"></path>\n",
       "<path d=\"M16 26c-8.837 0-16-2.239-16-5v6c0 2.761 7.163 5 16 5s16-2.239 16-5v-6c0 2.761-7.163 5-16 5z\"></path>\n",
       "</symbol>\n",
       "<symbol id=\"icon-file-text2\" viewBox=\"0 0 32 32\">\n",
       "<path d=\"M28.681 7.159c-0.694-0.947-1.662-2.053-2.724-3.116s-2.169-2.030-3.116-2.724c-1.612-1.182-2.393-1.319-2.841-1.319h-15.5c-1.378 0-2.5 1.121-2.5 2.5v27c0 1.378 1.122 2.5 2.5 2.5h23c1.378 0 2.5-1.122 2.5-2.5v-19.5c0-0.448-0.137-1.23-1.319-2.841zM24.543 5.457c0.959 0.959 1.712 1.825 2.268 2.543h-4.811v-4.811c0.718 0.556 1.584 1.309 2.543 2.268zM28 29.5c0 0.271-0.229 0.5-0.5 0.5h-23c-0.271 0-0.5-0.229-0.5-0.5v-27c0-0.271 0.229-0.5 0.5-0.5 0 0 15.499-0 15.5 0v7c0 0.552 0.448 1 1 1h7v19.5z\"></path>\n",
       "<path d=\"M23 26h-14c-0.552 0-1-0.448-1-1s0.448-1 1-1h14c0.552 0 1 0.448 1 1s-0.448 1-1 1z\"></path>\n",
       "<path d=\"M23 22h-14c-0.552 0-1-0.448-1-1s0.448-1 1-1h14c0.552 0 1 0.448 1 1s-0.448 1-1 1z\"></path>\n",
       "<path d=\"M23 18h-14c-0.552 0-1-0.448-1-1s0.448-1 1-1h14c0.552 0 1 0.448 1 1s-0.448 1-1 1z\"></path>\n",
       "</symbol>\n",
       "</defs>\n",
       "</svg>\n",
       "<style>/* CSS stylesheet for displaying xarray objects in jupyterlab.\n",
       " *\n",
       " */\n",
       "\n",
       ":root {\n",
       "  --xr-font-color0: var(--jp-content-font-color0, rgba(0, 0, 0, 1));\n",
       "  --xr-font-color2: var(--jp-content-font-color2, rgba(0, 0, 0, 0.54));\n",
       "  --xr-font-color3: var(--jp-content-font-color3, rgba(0, 0, 0, 0.38));\n",
       "  --xr-border-color: var(--jp-border-color2, #e0e0e0);\n",
       "  --xr-disabled-color: var(--jp-layout-color3, #bdbdbd);\n",
       "  --xr-background-color: var(--jp-layout-color0, white);\n",
       "  --xr-background-color-row-even: var(--jp-layout-color1, white);\n",
       "  --xr-background-color-row-odd: var(--jp-layout-color2, #eeeeee);\n",
       "}\n",
       "\n",
       "html[theme=dark],\n",
       "html[data-theme=dark],\n",
       "body[data-theme=dark],\n",
       "body.vscode-dark {\n",
       "  --xr-font-color0: rgba(255, 255, 255, 1);\n",
       "  --xr-font-color2: rgba(255, 255, 255, 0.54);\n",
       "  --xr-font-color3: rgba(255, 255, 255, 0.38);\n",
       "  --xr-border-color: #1F1F1F;\n",
       "  --xr-disabled-color: #515151;\n",
       "  --xr-background-color: #111111;\n",
       "  --xr-background-color-row-even: #111111;\n",
       "  --xr-background-color-row-odd: #313131;\n",
       "}\n",
       "\n",
       ".xr-wrap {\n",
       "  display: block !important;\n",
       "  min-width: 300px;\n",
       "  max-width: 700px;\n",
       "}\n",
       "\n",
       ".xr-text-repr-fallback {\n",
       "  /* fallback to plain text repr when CSS is not injected (untrusted notebook) */\n",
       "  display: none;\n",
       "}\n",
       "\n",
       ".xr-header {\n",
       "  padding-top: 6px;\n",
       "  padding-bottom: 6px;\n",
       "  margin-bottom: 4px;\n",
       "  border-bottom: solid 1px var(--xr-border-color);\n",
       "}\n",
       "\n",
       ".xr-header > div,\n",
       ".xr-header > ul {\n",
       "  display: inline;\n",
       "  margin-top: 0;\n",
       "  margin-bottom: 0;\n",
       "}\n",
       "\n",
       ".xr-obj-type,\n",
       ".xr-array-name {\n",
       "  margin-left: 2px;\n",
       "  margin-right: 10px;\n",
       "}\n",
       "\n",
       ".xr-obj-type {\n",
       "  color: var(--xr-font-color2);\n",
       "}\n",
       "\n",
       ".xr-sections {\n",
       "  padding-left: 0 !important;\n",
       "  display: grid;\n",
       "  grid-template-columns: 150px auto auto 1fr 0 20px 0 20px;\n",
       "}\n",
       "\n",
       ".xr-section-item {\n",
       "  display: contents;\n",
       "}\n",
       "\n",
       ".xr-section-item input {\n",
       "  display: inline-block;\n",
       "  opacity: 0;\n",
       "}\n",
       "\n",
       ".xr-section-item input + label {\n",
       "  color: var(--xr-disabled-color);\n",
       "}\n",
       "\n",
       ".xr-section-item input:enabled + label {\n",
       "  cursor: pointer;\n",
       "  color: var(--xr-font-color2);\n",
       "}\n",
       "\n",
       ".xr-section-item input:focus + label {\n",
       "  border: 2px solid var(--xr-font-color0);\n",
       "}\n",
       "\n",
       ".xr-section-item input:enabled + label:hover {\n",
       "  color: var(--xr-font-color0);\n",
       "}\n",
       "\n",
       ".xr-section-summary {\n",
       "  grid-column: 1;\n",
       "  color: var(--xr-font-color2);\n",
       "  font-weight: 500;\n",
       "}\n",
       "\n",
       ".xr-section-summary > span {\n",
       "  display: inline-block;\n",
       "  padding-left: 0.5em;\n",
       "}\n",
       "\n",
       ".xr-section-summary-in:disabled + label {\n",
       "  color: var(--xr-font-color2);\n",
       "}\n",
       "\n",
       ".xr-section-summary-in + label:before {\n",
       "  display: inline-block;\n",
       "  content: '►';\n",
       "  font-size: 11px;\n",
       "  width: 15px;\n",
       "  text-align: center;\n",
       "}\n",
       "\n",
       ".xr-section-summary-in:disabled + label:before {\n",
       "  color: var(--xr-disabled-color);\n",
       "}\n",
       "\n",
       ".xr-section-summary-in:checked + label:before {\n",
       "  content: '▼';\n",
       "}\n",
       "\n",
       ".xr-section-summary-in:checked + label > span {\n",
       "  display: none;\n",
       "}\n",
       "\n",
       ".xr-section-summary,\n",
       ".xr-section-inline-details {\n",
       "  padding-top: 4px;\n",
       "  padding-bottom: 4px;\n",
       "}\n",
       "\n",
       ".xr-section-inline-details {\n",
       "  grid-column: 2 / -1;\n",
       "}\n",
       "\n",
       ".xr-section-details {\n",
       "  display: none;\n",
       "  grid-column: 1 / -1;\n",
       "  margin-bottom: 5px;\n",
       "}\n",
       "\n",
       ".xr-section-summary-in:checked ~ .xr-section-details {\n",
       "  display: contents;\n",
       "}\n",
       "\n",
       ".xr-array-wrap {\n",
       "  grid-column: 1 / -1;\n",
       "  display: grid;\n",
       "  grid-template-columns: 20px auto;\n",
       "}\n",
       "\n",
       ".xr-array-wrap > label {\n",
       "  grid-column: 1;\n",
       "  vertical-align: top;\n",
       "}\n",
       "\n",
       ".xr-preview {\n",
       "  color: var(--xr-font-color3);\n",
       "}\n",
       "\n",
       ".xr-array-preview,\n",
       ".xr-array-data {\n",
       "  padding: 0 5px !important;\n",
       "  grid-column: 2;\n",
       "}\n",
       "\n",
       ".xr-array-data,\n",
       ".xr-array-in:checked ~ .xr-array-preview {\n",
       "  display: none;\n",
       "}\n",
       "\n",
       ".xr-array-in:checked ~ .xr-array-data,\n",
       ".xr-array-preview {\n",
       "  display: inline-block;\n",
       "}\n",
       "\n",
       ".xr-dim-list {\n",
       "  display: inline-block !important;\n",
       "  list-style: none;\n",
       "  padding: 0 !important;\n",
       "  margin: 0;\n",
       "}\n",
       "\n",
       ".xr-dim-list li {\n",
       "  display: inline-block;\n",
       "  padding: 0;\n",
       "  margin: 0;\n",
       "}\n",
       "\n",
       ".xr-dim-list:before {\n",
       "  content: '(';\n",
       "}\n",
       "\n",
       ".xr-dim-list:after {\n",
       "  content: ')';\n",
       "}\n",
       "\n",
       ".xr-dim-list li:not(:last-child):after {\n",
       "  content: ',';\n",
       "  padding-right: 5px;\n",
       "}\n",
       "\n",
       ".xr-has-index {\n",
       "  font-weight: bold;\n",
       "}\n",
       "\n",
       ".xr-var-list,\n",
       ".xr-var-item {\n",
       "  display: contents;\n",
       "}\n",
       "\n",
       ".xr-var-item > div,\n",
       ".xr-var-item label,\n",
       ".xr-var-item > .xr-var-name span {\n",
       "  background-color: var(--xr-background-color-row-even);\n",
       "  margin-bottom: 0;\n",
       "}\n",
       "\n",
       ".xr-var-item > .xr-var-name:hover span {\n",
       "  padding-right: 5px;\n",
       "}\n",
       "\n",
       ".xr-var-list > li:nth-child(odd) > div,\n",
       ".xr-var-list > li:nth-child(odd) > label,\n",
       ".xr-var-list > li:nth-child(odd) > .xr-var-name span {\n",
       "  background-color: var(--xr-background-color-row-odd);\n",
       "}\n",
       "\n",
       ".xr-var-name {\n",
       "  grid-column: 1;\n",
       "}\n",
       "\n",
       ".xr-var-dims {\n",
       "  grid-column: 2;\n",
       "}\n",
       "\n",
       ".xr-var-dtype {\n",
       "  grid-column: 3;\n",
       "  text-align: right;\n",
       "  color: var(--xr-font-color2);\n",
       "}\n",
       "\n",
       ".xr-var-preview {\n",
       "  grid-column: 4;\n",
       "}\n",
       "\n",
       ".xr-index-preview {\n",
       "  grid-column: 2 / 5;\n",
       "  color: var(--xr-font-color2);\n",
       "}\n",
       "\n",
       ".xr-var-name,\n",
       ".xr-var-dims,\n",
       ".xr-var-dtype,\n",
       ".xr-preview,\n",
       ".xr-attrs dt {\n",
       "  white-space: nowrap;\n",
       "  overflow: hidden;\n",
       "  text-overflow: ellipsis;\n",
       "  padding-right: 10px;\n",
       "}\n",
       "\n",
       ".xr-var-name:hover,\n",
       ".xr-var-dims:hover,\n",
       ".xr-var-dtype:hover,\n",
       ".xr-attrs dt:hover {\n",
       "  overflow: visible;\n",
       "  width: auto;\n",
       "  z-index: 1;\n",
       "}\n",
       "\n",
       ".xr-var-attrs,\n",
       ".xr-var-data,\n",
       ".xr-index-data {\n",
       "  display: none;\n",
       "  background-color: var(--xr-background-color) !important;\n",
       "  padding-bottom: 5px !important;\n",
       "}\n",
       "\n",
       ".xr-var-attrs-in:checked ~ .xr-var-attrs,\n",
       ".xr-var-data-in:checked ~ .xr-var-data,\n",
       ".xr-index-data-in:checked ~ .xr-index-data {\n",
       "  display: block;\n",
       "}\n",
       "\n",
       ".xr-var-data > table {\n",
       "  float: right;\n",
       "}\n",
       "\n",
       ".xr-var-name span,\n",
       ".xr-var-data,\n",
       ".xr-index-name div,\n",
       ".xr-index-data,\n",
       ".xr-attrs {\n",
       "  padding-left: 25px !important;\n",
       "}\n",
       "\n",
       ".xr-attrs,\n",
       ".xr-var-attrs,\n",
       ".xr-var-data,\n",
       ".xr-index-data {\n",
       "  grid-column: 1 / -1;\n",
       "}\n",
       "\n",
       "dl.xr-attrs {\n",
       "  padding: 0;\n",
       "  margin: 0;\n",
       "  display: grid;\n",
       "  grid-template-columns: 125px auto;\n",
       "}\n",
       "\n",
       ".xr-attrs dt,\n",
       ".xr-attrs dd {\n",
       "  padding: 0;\n",
       "  margin: 0;\n",
       "  float: left;\n",
       "  padding-right: 10px;\n",
       "  width: auto;\n",
       "}\n",
       "\n",
       ".xr-attrs dt {\n",
       "  font-weight: normal;\n",
       "  grid-column: 1;\n",
       "}\n",
       "\n",
       ".xr-attrs dt:hover span {\n",
       "  display: inline-block;\n",
       "  background: var(--xr-background-color);\n",
       "  padding-right: 10px;\n",
       "}\n",
       "\n",
       ".xr-attrs dd {\n",
       "  grid-column: 2;\n",
       "  white-space: pre-wrap;\n",
       "  word-break: break-all;\n",
       "}\n",
       "\n",
       ".xr-icon-database,\n",
       ".xr-icon-file-text2,\n",
       ".xr-no-icon {\n",
       "  display: inline-block;\n",
       "  vertical-align: middle;\n",
       "  width: 1em;\n",
       "  height: 1.5em !important;\n",
       "  stroke-width: 0;\n",
       "  stroke: currentColor;\n",
       "  fill: currentColor;\n",
       "}\n",
       "</style><pre class='xr-text-repr-fallback'>&lt;xarray.Dataset&gt; Size: 39MB\n",
       "Dimensions:             (index: 372255, power: 5)\n",
       "Coordinates:\n",
       "  * index               (index) int64 3MB 27897657 242175600 ... 166742332\n",
       "  * power               (power) int64 40B 4 3 2 1 0\n",
       "    theta               (index) float64 3MB 2.655 2.659 2.596 ... 1.377 1.426\n",
       "    phi                 (index) float64 3MB 4.177 3.977 4.17 ... 0.4638 0.5054\n",
       "Data variables:\n",
       "    logpolycoefflux     (index, power) float64 15MB 0.5214 -12.34 ... 0.08684\n",
       "    logpolycoefpolflux  (index, power) float64 15MB -1.76 36.18 ... 0.02163</pre><div class='xr-wrap' style='display:none'><div class='xr-header'><div class='xr-obj-type'>xarray.Dataset</div></div><ul class='xr-sections'><li class='xr-section-item'><input id='section-aa86b106-03f0-42f9-b201-7ce16b34797e' class='xr-section-summary-in' type='checkbox' disabled ><label for='section-aa86b106-03f0-42f9-b201-7ce16b34797e' class='xr-section-summary'  title='Expand/collapse section'>Dimensions:</label><div class='xr-section-inline-details'><ul class='xr-dim-list'><li><span class='xr-has-index'>index</span>: 372255</li><li><span class='xr-has-index'>power</span>: 5</li></ul></div><div class='xr-section-details'></div></li><li class='xr-section-item'><input id='section-ad8044bf-f5a9-4d48-99fa-eafc8811b1a4' class='xr-section-summary-in' type='checkbox'  checked><label for='section-ad8044bf-f5a9-4d48-99fa-eafc8811b1a4' class='xr-section-summary' >Coordinates: <span>(4)</span></label><div class='xr-section-inline-details'></div><div class='xr-section-details'><ul class='xr-var-list'><li class='xr-var-item'><div class='xr-var-name'><span class='xr-has-index'>index</span></div><div class='xr-var-dims'>(index)</div><div class='xr-var-dtype'>int64</div><div class='xr-var-preview xr-preview'>27897657 242175600 ... 166742332</div><input id='attrs-842708cb-2732-478d-8f47-b05a0d275700' class='xr-var-attrs-in' type='checkbox' disabled><label for='attrs-842708cb-2732-478d-8f47-b05a0d275700' title='Show/Hide attributes'><svg class='icon xr-icon-file-text2'><use xlink:href='#icon-file-text2'></use></svg></label><input id='data-968af0b2-7f0b-48d2-98c7-58fdc5271ed6' class='xr-var-data-in' type='checkbox'><label for='data-968af0b2-7f0b-48d2-98c7-58fdc5271ed6' title='Show/Hide data repr'><svg class='icon xr-icon-database'><use xlink:href='#icon-database'></use></svg></label><div class='xr-var-attrs'><dl class='xr-attrs'></dl></div><div class='xr-var-data'><pre>array([ 27897657, 242175600, 270516228, ..., 246732122, 263347056, 166742332])</pre></div></li><li class='xr-var-item'><div class='xr-var-name'><span class='xr-has-index'>power</span></div><div class='xr-var-dims'>(power)</div><div class='xr-var-dtype'>int64</div><div class='xr-var-preview xr-preview'>4 3 2 1 0</div><input id='attrs-4693ca7a-b615-41e6-a67b-c7dadae9dbf0' class='xr-var-attrs-in' type='checkbox' disabled><label for='attrs-4693ca7a-b615-41e6-a67b-c7dadae9dbf0' title='Show/Hide attributes'><svg class='icon xr-icon-file-text2'><use xlink:href='#icon-file-text2'></use></svg></label><input id='data-eda383a1-7ade-4ca9-bacb-0f5e68a5f3ac' class='xr-var-data-in' type='checkbox'><label for='data-eda383a1-7ade-4ca9-bacb-0f5e68a5f3ac' title='Show/Hide data repr'><svg class='icon xr-icon-database'><use xlink:href='#icon-database'></use></svg></label><div class='xr-var-attrs'><dl class='xr-attrs'></dl></div><div class='xr-var-data'><pre>array([4, 3, 2, 1, 0])</pre></div></li><li class='xr-var-item'><div class='xr-var-name'><span>theta</span></div><div class='xr-var-dims'>(index)</div><div class='xr-var-dtype'>float64</div><div class='xr-var-preview xr-preview'>2.655 2.659 2.596 ... 1.377 1.426</div><input id='attrs-28e963b1-01b6-4c2c-8abc-42f0911b9c3f' class='xr-var-attrs-in' type='checkbox' disabled><label for='attrs-28e963b1-01b6-4c2c-8abc-42f0911b9c3f' title='Show/Hide attributes'><svg class='icon xr-icon-file-text2'><use xlink:href='#icon-file-text2'></use></svg></label><input id='data-bfa395a6-f3d4-4cd3-86c0-634496b6b3cd' class='xr-var-data-in' type='checkbox'><label for='data-bfa395a6-f3d4-4cd3-86c0-634496b6b3cd' title='Show/Hide data repr'><svg class='icon xr-icon-database'><use xlink:href='#icon-database'></use></svg></label><div class='xr-var-attrs'><dl class='xr-attrs'></dl></div><div class='xr-var-data'><pre>array([2.65485716, 2.65869761, 2.59632301, ..., 1.38046789, 1.37715018,\n",
       "       1.42648816])</pre></div></li><li class='xr-var-item'><div class='xr-var-name'><span>phi</span></div><div class='xr-var-dims'>(index)</div><div class='xr-var-dtype'>float64</div><div class='xr-var-preview xr-preview'>4.177 3.977 4.17 ... 0.4638 0.5054</div><input id='attrs-a276e5eb-6094-469e-b44a-84ecfcad3f73' class='xr-var-attrs-in' type='checkbox' disabled><label for='attrs-a276e5eb-6094-469e-b44a-84ecfcad3f73' title='Show/Hide attributes'><svg class='icon xr-icon-file-text2'><use xlink:href='#icon-file-text2'></use></svg></label><input id='data-ef3f19f4-fa95-475f-8418-2f3be19fc18b' class='xr-var-data-in' type='checkbox'><label for='data-ef3f19f4-fa95-475f-8418-2f3be19fc18b' title='Show/Hide data repr'><svg class='icon xr-icon-database'><use xlink:href='#icon-database'></use></svg></label><div class='xr-var-attrs'><dl class='xr-attrs'></dl></div><div class='xr-var-data'><pre>array([4.17657375, 3.97703004, 4.17026234, ..., 0.45735464, 0.46375346,\n",
       "       0.50541824])</pre></div></li></ul></div></li><li class='xr-section-item'><input id='section-2e4a772b-0837-4874-a260-8398e8742da2' class='xr-section-summary-in' type='checkbox'  checked><label for='section-2e4a772b-0837-4874-a260-8398e8742da2' class='xr-section-summary' >Data variables: <span>(2)</span></label><div class='xr-section-inline-details'></div><div class='xr-section-details'><ul class='xr-var-list'><li class='xr-var-item'><div class='xr-var-name'><span>logpolycoefflux</span></div><div class='xr-var-dims'>(index, power)</div><div class='xr-var-dtype'>float64</div><div class='xr-var-preview xr-preview'>0.5214 -12.34 ... -0.05652 0.08684</div><input id='attrs-aeb14b28-2806-4bfe-af2c-87cc69b85fd5' class='xr-var-attrs-in' type='checkbox' ><label for='attrs-aeb14b28-2806-4bfe-af2c-87cc69b85fd5' title='Show/Hide attributes'><svg class='icon xr-icon-file-text2'><use xlink:href='#icon-file-text2'></use></svg></label><input id='data-923ed565-1313-4dc1-8d58-c456240059a4' class='xr-var-data-in' type='checkbox'><label for='data-923ed565-1313-4dc1-8d58-c456240059a4' title='Show/Hide data repr'><svg class='icon xr-icon-database'><use xlink:href='#icon-database'></use></svg></label><div class='xr-var-attrs'><dl class='xr-attrs'><dt><span>units :</span></dt><dd>Jy</dd></dl></div><div class='xr-var-data'><pre>array([[ 5.21352400e-01, -1.23354024e+01,  1.13774189e+02,\n",
       "        -4.93836646e+02,  8.72595399e+02],\n",
       "       [ 2.61441524e+01, -5.80425233e+02,  4.80132667e+03,\n",
       "        -1.75578008e+04,  2.39935970e+04],\n",
       "       [ 2.66880868e-01, -5.23683404e+00,  3.70532139e+01,\n",
       "        -1.09576844e+02,  1.22323272e+02],\n",
       "       ...,\n",
       "       [ 4.05660108e-05, -9.72696923e-04,  8.86015615e-03,\n",
       "        -3.65758529e-02,  5.83135637e-02],\n",
       "       [ 5.34233369e-05, -1.27064302e-03,  1.14441393e-02,\n",
       "        -4.65193710e-02,  7.26237416e-02],\n",
       "       [ 6.67844595e-05, -1.57728282e-03,  1.40750621e-02,\n",
       "        -5.65244951e-02,  8.68435068e-02]])</pre></div></li><li class='xr-var-item'><div class='xr-var-name'><span>logpolycoefpolflux</span></div><div class='xr-var-dims'>(index, power)</div><div class='xr-var-dtype'>float64</div><div class='xr-var-preview xr-preview'>-1.76 36.18 ... -0.01785 0.02163</div><input id='attrs-b3ccd665-aee8-459c-973c-b43c1777ea36' class='xr-var-attrs-in' type='checkbox' ><label for='attrs-b3ccd665-aee8-459c-973c-b43c1777ea36' title='Show/Hide attributes'><svg class='icon xr-icon-file-text2'><use xlink:href='#icon-file-text2'></use></svg></label><input id='data-7279aad7-8df4-4537-9409-78c972ce1f39' class='xr-var-data-in' type='checkbox'><label for='data-7279aad7-8df4-4537-9409-78c972ce1f39' title='Show/Hide data repr'><svg class='icon xr-icon-database'><use xlink:href='#icon-database'></use></svg></label><div class='xr-var-attrs'><dl class='xr-attrs'><dt><span>units :</span></dt><dd>Jy</dd></dl></div><div class='xr-var-data'><pre>array([[-1.75996758e+00,  3.61777496e+01, -2.71679505e+02,\n",
       "         8.77739069e+02, -1.01911362e+03],\n",
       "       [-1.99578096e+00,  4.08465942e+01, -3.05044085e+02,\n",
       "         9.78760643e+02, -1.12740632e+03],\n",
       "       [ 2.11514845e-01, -4.23964325e+00,  3.08037399e+01,\n",
       "        -9.56311446e+01,  1.07191630e+02],\n",
       "       ...,\n",
       "       [-1.54668160e-05,  3.13226756e-04, -2.31025331e-03,\n",
       "         7.29200519e-03, -8.18540545e-03],\n",
       "       [ 8.16796007e-06, -1.65100357e-04,  1.22179409e-03,\n",
       "        -3.92277016e-03,  4.63592341e-03],\n",
       "       [ 3.48534352e-05, -7.16857842e-04,  5.42127642e-03,\n",
       "        -1.78541146e-02,  2.16335531e-02]])</pre></div></li></ul></div></li><li class='xr-section-item'><input id='section-89b1b65b-e1e8-4df0-b8f6-923d0ab6582c' class='xr-section-summary-in' type='checkbox'  ><label for='section-89b1b65b-e1e8-4df0-b8f6-923d0ab6582c' class='xr-section-summary' >Indexes: <span>(2)</span></label><div class='xr-section-inline-details'></div><div class='xr-section-details'><ul class='xr-var-list'><li class='xr-var-item'><div class='xr-index-name'><div>index</div></div><div class='xr-index-preview'>PandasIndex</div><div></div><input id='index-988d2f86-5f5c-468b-b049-38316a79321c' class='xr-index-data-in' type='checkbox'/><label for='index-988d2f86-5f5c-468b-b049-38316a79321c' title='Show/Hide index repr'><svg class='icon xr-icon-database'><use xlink:href='#icon-database'></use></svg></label><div class='xr-index-data'><pre>PandasIndex(Index([ 27897657, 242175600, 270516228, 276407774, 256213631, 281544643,\n",
       "       263719520, 259533227, 251679008, 252717495,\n",
       "       ...\n",
       "       238190295, 145826702, 108046020, 232265270, 174768449, 256408684,\n",
       "       236382968, 246732122, 263347056, 166742332],\n",
       "      dtype=&#x27;int64&#x27;, name=&#x27;index&#x27;, length=372255))</pre></div></li><li class='xr-var-item'><div class='xr-index-name'><div>power</div></div><div class='xr-index-preview'>PandasIndex</div><div></div><input id='index-8d11a222-08e6-47c0-8321-36d6000f5907' class='xr-index-data-in' type='checkbox'/><label for='index-8d11a222-08e6-47c0-8321-36d6000f5907' title='Show/Hide index repr'><svg class='icon xr-icon-database'><use xlink:href='#icon-database'></use></svg></label><div class='xr-index-data'><pre>PandasIndex(Index([4, 3, 2, 1, 0], dtype=&#x27;int64&#x27;, name=&#x27;power&#x27;))</pre></div></li></ul></div></li><li class='xr-section-item'><input id='section-57450cdd-d00e-4f2c-8ebf-29bb6ea697b9' class='xr-section-summary-in' type='checkbox' disabled ><label for='section-57450cdd-d00e-4f2c-8ebf-29bb6ea697b9' class='xr-section-summary'  title='Expand/collapse section'>Attributes: <span>(0)</span></label><div class='xr-section-inline-details'></div><div class='xr-section-details'><dl class='xr-attrs'></dl></div></li></ul></div></div>"
      ],
      "text/plain": [
       "<xarray.Dataset> Size: 39MB\n",
       "Dimensions:             (index: 372255, power: 5)\n",
       "Coordinates:\n",
       "  * index               (index) int64 3MB 27897657 242175600 ... 166742332\n",
       "  * power               (power) int64 40B 4 3 2 1 0\n",
       "    theta               (index) float64 3MB 2.655 2.659 2.596 ... 1.377 1.426\n",
       "    phi                 (index) float64 3MB 4.177 3.977 4.17 ... 0.4638 0.5054\n",
       "Data variables:\n",
       "    logpolycoefflux     (index, power) float64 15MB 0.5214 -12.34 ... 0.08684\n",
       "    logpolycoefpolflux  (index, power) float64 15MB -1.76 36.18 ... 0.02163"
      ]
     },
     "execution_count": 38,
     "metadata": {},
     "output_type": "execute_result"
    }
   ],
   "source": [
    "output_catalog"
   ]
  },
  {
   "cell_type": "code",
   "execution_count": 39,
   "id": "40",
   "metadata": {
    "execution": {
     "iopub.execute_input": "2025-05-13T05:41:25.504418Z",
     "iopub.status.busy": "2025-05-13T05:41:25.503908Z",
     "iopub.status.idle": "2025-05-13T05:41:25.508510Z",
     "shell.execute_reply": "2025-05-13T05:41:25.507635Z"
    },
    "papermill": {
     "duration": 0.017245,
     "end_time": "2025-05-13T05:41:25.509743",
     "exception": false,
     "start_time": "2025-05-13T05:41:25.492498",
     "status": "completed"
    },
    "tags": []
   },
   "outputs": [],
   "source": [
    "output_filename = \"data/websky_high_flux_catalog_1mJy.h5\""
   ]
  },
  {
   "cell_type": "code",
   "execution_count": 40,
   "id": "41",
   "metadata": {
    "execution": {
     "iopub.execute_input": "2025-05-13T05:41:25.526381Z",
     "iopub.status.busy": "2025-05-13T05:41:25.525895Z",
     "iopub.status.idle": "2025-05-13T05:41:25.771735Z",
     "shell.execute_reply": "2025-05-13T05:41:25.770314Z"
    },
    "papermill": {
     "duration": 0.255843,
     "end_time": "2025-05-13T05:41:25.773792",
     "exception": false,
     "start_time": "2025-05-13T05:41:25.517949",
     "status": "completed"
    },
    "tags": []
   },
   "outputs": [
    {
     "name": "stdout",
     "output_type": "stream",
     "text": [
      "ls: cannot access 'data/websky_high_flux_catalog_1mJy.h5': No such file or directory\r\n"
     ]
    }
   ],
   "source": [
    "!ls -l $output_filename"
   ]
  },
  {
   "cell_type": "code",
   "execution_count": 41,
   "id": "42",
   "metadata": {
    "execution": {
     "iopub.execute_input": "2025-05-13T05:41:25.804887Z",
     "iopub.status.busy": "2025-05-13T05:41:25.804244Z",
     "iopub.status.idle": "2025-05-13T05:41:25.810992Z",
     "shell.execute_reply": "2025-05-13T05:41:25.810076Z"
    },
    "papermill": {
     "duration": 0.02096,
     "end_time": "2025-05-13T05:41:25.812524",
     "exception": false,
     "start_time": "2025-05-13T05:41:25.791564",
     "status": "completed"
    },
    "tags": []
   },
   "outputs": [],
   "source": [
    "output_catalog.coords[\"theta\"].attrs[\"units\"] = \"rad\"\n",
    "output_catalog.coords[\"phi\"].attrs[\"units\"] = \"rad\"\n",
    "output_catalog.coords[\"theta\"].attrs[\"reference_frame\"] = \"Galactic\"\n",
    "output_catalog.coords[\"phi\"].attrs[\"reference_frame\"] = \"Galactic\""
   ]
  },
  {
   "cell_type": "code",
   "execution_count": 42,
   "id": "43",
   "metadata": {
    "execution": {
     "iopub.execute_input": "2025-05-13T05:41:25.833890Z",
     "iopub.status.busy": "2025-05-13T05:41:25.833367Z",
     "iopub.status.idle": "2025-05-13T05:41:25.838360Z",
     "shell.execute_reply": "2025-05-13T05:41:25.837454Z"
    },
    "papermill": {
     "duration": 0.016316,
     "end_time": "2025-05-13T05:41:25.839675",
     "exception": false,
     "start_time": "2025-05-13T05:41:25.823359",
     "status": "completed"
    },
    "tags": []
   },
   "outputs": [],
   "source": [
    "output_catalog.attrs[\"description\"] = (\n",
    "    \"Websky catalog of sources with flux > 1 mJy at 100 GHz, fitted with a 4th order polynomial in log frequency. \"\n",
    "    \"Galactic reference frame. Sorted by flux at 100 GHz (descending). \"\n",
    "    \"The 'index' coordinate gives the original index in the Websky catalog.\"\n",
    ")"
   ]
  },
  {
   "cell_type": "code",
   "execution_count": 43,
   "id": "44",
   "metadata": {
    "execution": {
     "iopub.execute_input": "2025-05-13T05:41:25.857655Z",
     "iopub.status.busy": "2025-05-13T05:41:25.857153Z",
     "iopub.status.idle": "2025-05-13T05:41:26.153770Z",
     "shell.execute_reply": "2025-05-13T05:41:26.152612Z"
    },
    "papermill": {
     "duration": 0.3067,
     "end_time": "2025-05-13T05:41:26.155930",
     "exception": false,
     "start_time": "2025-05-13T05:41:25.849230",
     "status": "completed"
    },
    "tags": []
   },
   "outputs": [],
   "source": [
    "output_catalog.to_netcdf(output_filename, format=\"NETCDF4\", mode=\"w\")  # requires netcdf4 package"
   ]
  },
  {
   "cell_type": "code",
   "execution_count": 44,
   "id": "45",
   "metadata": {
    "execution": {
     "iopub.execute_input": "2025-05-13T05:41:26.187028Z",
     "iopub.status.busy": "2025-05-13T05:41:26.186490Z",
     "iopub.status.idle": "2025-05-13T05:41:26.416002Z",
     "shell.execute_reply": "2025-05-13T05:41:26.414572Z"
    },
    "papermill": {
     "duration": 0.244646,
     "end_time": "2025-05-13T05:41:26.418136",
     "exception": false,
     "start_time": "2025-05-13T05:41:26.173490",
     "status": "completed"
    },
    "tags": []
   },
   "outputs": [
    {
     "name": "stdout",
     "output_type": "stream",
     "text": [
      "-rw-rw-r-- 1 azonca azonca 37M May 12 22:41 data/websky_high_flux_catalog_1mJy.h5\r\n"
     ]
    }
   ],
   "source": [
    "%ls -lah $output_filename"
   ]
  },
  {
   "cell_type": "code",
   "execution_count": 45,
   "id": "46",
   "metadata": {
    "execution": {
     "iopub.execute_input": "2025-05-13T05:41:26.448495Z",
     "iopub.status.busy": "2025-05-13T05:41:26.447854Z",
     "iopub.status.idle": "2025-05-13T05:41:26.453589Z",
     "shell.execute_reply": "2025-05-13T05:41:26.452458Z"
    },
    "papermill": {
     "duration": 0.020271,
     "end_time": "2025-05-13T05:41:26.455199",
     "exception": false,
     "start_time": "2025-05-13T05:41:26.434928",
     "status": "completed"
    },
    "tags": []
   },
   "outputs": [],
   "source": [
    "import xarray"
   ]
  },
  {
   "cell_type": "code",
   "execution_count": 46,
   "id": "47",
   "metadata": {
    "execution": {
     "iopub.execute_input": "2025-05-13T05:41:26.482553Z",
     "iopub.status.busy": "2025-05-13T05:41:26.482036Z",
     "iopub.status.idle": "2025-05-13T05:41:26.590790Z",
     "shell.execute_reply": "2025-05-13T05:41:26.589919Z"
    },
    "papermill": {
     "duration": 0.121668,
     "end_time": "2025-05-13T05:41:26.592354",
     "exception": false,
     "start_time": "2025-05-13T05:41:26.470686",
     "status": "completed"
    },
    "tags": []
   },
   "outputs": [
    {
     "data": {
      "text/html": [
       "<div><svg style=\"position: absolute; width: 0; height: 0; overflow: hidden\">\n",
       "<defs>\n",
       "<symbol id=\"icon-database\" viewBox=\"0 0 32 32\">\n",
       "<path d=\"M16 0c-8.837 0-16 2.239-16 5v4c0 2.761 7.163 5 16 5s16-2.239 16-5v-4c0-2.761-7.163-5-16-5z\"></path>\n",
       "<path d=\"M16 17c-8.837 0-16-2.239-16-5v6c0 2.761 7.163 5 16 5s16-2.239 16-5v-6c0 2.761-7.163 5-16 5z\"></path>\n",
       "<path d=\"M16 26c-8.837 0-16-2.239-16-5v6c0 2.761 7.163 5 16 5s16-2.239 16-5v-6c0 2.761-7.163 5-16 5z\"></path>\n",
       "</symbol>\n",
       "<symbol id=\"icon-file-text2\" viewBox=\"0 0 32 32\">\n",
       "<path d=\"M28.681 7.159c-0.694-0.947-1.662-2.053-2.724-3.116s-2.169-2.030-3.116-2.724c-1.612-1.182-2.393-1.319-2.841-1.319h-15.5c-1.378 0-2.5 1.121-2.5 2.5v27c0 1.378 1.122 2.5 2.5 2.5h23c1.378 0 2.5-1.122 2.5-2.5v-19.5c0-0.448-0.137-1.23-1.319-2.841zM24.543 5.457c0.959 0.959 1.712 1.825 2.268 2.543h-4.811v-4.811c0.718 0.556 1.584 1.309 2.543 2.268zM28 29.5c0 0.271-0.229 0.5-0.5 0.5h-23c-0.271 0-0.5-0.229-0.5-0.5v-27c0-0.271 0.229-0.5 0.5-0.5 0 0 15.499-0 15.5 0v7c0 0.552 0.448 1 1 1h7v19.5z\"></path>\n",
       "<path d=\"M23 26h-14c-0.552 0-1-0.448-1-1s0.448-1 1-1h14c0.552 0 1 0.448 1 1s-0.448 1-1 1z\"></path>\n",
       "<path d=\"M23 22h-14c-0.552 0-1-0.448-1-1s0.448-1 1-1h14c0.552 0 1 0.448 1 1s-0.448 1-1 1z\"></path>\n",
       "<path d=\"M23 18h-14c-0.552 0-1-0.448-1-1s0.448-1 1-1h14c0.552 0 1 0.448 1 1s-0.448 1-1 1z\"></path>\n",
       "</symbol>\n",
       "</defs>\n",
       "</svg>\n",
       "<style>/* CSS stylesheet for displaying xarray objects in jupyterlab.\n",
       " *\n",
       " */\n",
       "\n",
       ":root {\n",
       "  --xr-font-color0: var(--jp-content-font-color0, rgba(0, 0, 0, 1));\n",
       "  --xr-font-color2: var(--jp-content-font-color2, rgba(0, 0, 0, 0.54));\n",
       "  --xr-font-color3: var(--jp-content-font-color3, rgba(0, 0, 0, 0.38));\n",
       "  --xr-border-color: var(--jp-border-color2, #e0e0e0);\n",
       "  --xr-disabled-color: var(--jp-layout-color3, #bdbdbd);\n",
       "  --xr-background-color: var(--jp-layout-color0, white);\n",
       "  --xr-background-color-row-even: var(--jp-layout-color1, white);\n",
       "  --xr-background-color-row-odd: var(--jp-layout-color2, #eeeeee);\n",
       "}\n",
       "\n",
       "html[theme=dark],\n",
       "html[data-theme=dark],\n",
       "body[data-theme=dark],\n",
       "body.vscode-dark {\n",
       "  --xr-font-color0: rgba(255, 255, 255, 1);\n",
       "  --xr-font-color2: rgba(255, 255, 255, 0.54);\n",
       "  --xr-font-color3: rgba(255, 255, 255, 0.38);\n",
       "  --xr-border-color: #1F1F1F;\n",
       "  --xr-disabled-color: #515151;\n",
       "  --xr-background-color: #111111;\n",
       "  --xr-background-color-row-even: #111111;\n",
       "  --xr-background-color-row-odd: #313131;\n",
       "}\n",
       "\n",
       ".xr-wrap {\n",
       "  display: block !important;\n",
       "  min-width: 300px;\n",
       "  max-width: 700px;\n",
       "}\n",
       "\n",
       ".xr-text-repr-fallback {\n",
       "  /* fallback to plain text repr when CSS is not injected (untrusted notebook) */\n",
       "  display: none;\n",
       "}\n",
       "\n",
       ".xr-header {\n",
       "  padding-top: 6px;\n",
       "  padding-bottom: 6px;\n",
       "  margin-bottom: 4px;\n",
       "  border-bottom: solid 1px var(--xr-border-color);\n",
       "}\n",
       "\n",
       ".xr-header > div,\n",
       ".xr-header > ul {\n",
       "  display: inline;\n",
       "  margin-top: 0;\n",
       "  margin-bottom: 0;\n",
       "}\n",
       "\n",
       ".xr-obj-type,\n",
       ".xr-array-name {\n",
       "  margin-left: 2px;\n",
       "  margin-right: 10px;\n",
       "}\n",
       "\n",
       ".xr-obj-type {\n",
       "  color: var(--xr-font-color2);\n",
       "}\n",
       "\n",
       ".xr-sections {\n",
       "  padding-left: 0 !important;\n",
       "  display: grid;\n",
       "  grid-template-columns: 150px auto auto 1fr 0 20px 0 20px;\n",
       "}\n",
       "\n",
       ".xr-section-item {\n",
       "  display: contents;\n",
       "}\n",
       "\n",
       ".xr-section-item input {\n",
       "  display: inline-block;\n",
       "  opacity: 0;\n",
       "}\n",
       "\n",
       ".xr-section-item input + label {\n",
       "  color: var(--xr-disabled-color);\n",
       "}\n",
       "\n",
       ".xr-section-item input:enabled + label {\n",
       "  cursor: pointer;\n",
       "  color: var(--xr-font-color2);\n",
       "}\n",
       "\n",
       ".xr-section-item input:focus + label {\n",
       "  border: 2px solid var(--xr-font-color0);\n",
       "}\n",
       "\n",
       ".xr-section-item input:enabled + label:hover {\n",
       "  color: var(--xr-font-color0);\n",
       "}\n",
       "\n",
       ".xr-section-summary {\n",
       "  grid-column: 1;\n",
       "  color: var(--xr-font-color2);\n",
       "  font-weight: 500;\n",
       "}\n",
       "\n",
       ".xr-section-summary > span {\n",
       "  display: inline-block;\n",
       "  padding-left: 0.5em;\n",
       "}\n",
       "\n",
       ".xr-section-summary-in:disabled + label {\n",
       "  color: var(--xr-font-color2);\n",
       "}\n",
       "\n",
       ".xr-section-summary-in + label:before {\n",
       "  display: inline-block;\n",
       "  content: '►';\n",
       "  font-size: 11px;\n",
       "  width: 15px;\n",
       "  text-align: center;\n",
       "}\n",
       "\n",
       ".xr-section-summary-in:disabled + label:before {\n",
       "  color: var(--xr-disabled-color);\n",
       "}\n",
       "\n",
       ".xr-section-summary-in:checked + label:before {\n",
       "  content: '▼';\n",
       "}\n",
       "\n",
       ".xr-section-summary-in:checked + label > span {\n",
       "  display: none;\n",
       "}\n",
       "\n",
       ".xr-section-summary,\n",
       ".xr-section-inline-details {\n",
       "  padding-top: 4px;\n",
       "  padding-bottom: 4px;\n",
       "}\n",
       "\n",
       ".xr-section-inline-details {\n",
       "  grid-column: 2 / -1;\n",
       "}\n",
       "\n",
       ".xr-section-details {\n",
       "  display: none;\n",
       "  grid-column: 1 / -1;\n",
       "  margin-bottom: 5px;\n",
       "}\n",
       "\n",
       ".xr-section-summary-in:checked ~ .xr-section-details {\n",
       "  display: contents;\n",
       "}\n",
       "\n",
       ".xr-array-wrap {\n",
       "  grid-column: 1 / -1;\n",
       "  display: grid;\n",
       "  grid-template-columns: 20px auto;\n",
       "}\n",
       "\n",
       ".xr-array-wrap > label {\n",
       "  grid-column: 1;\n",
       "  vertical-align: top;\n",
       "}\n",
       "\n",
       ".xr-preview {\n",
       "  color: var(--xr-font-color3);\n",
       "}\n",
       "\n",
       ".xr-array-preview,\n",
       ".xr-array-data {\n",
       "  padding: 0 5px !important;\n",
       "  grid-column: 2;\n",
       "}\n",
       "\n",
       ".xr-array-data,\n",
       ".xr-array-in:checked ~ .xr-array-preview {\n",
       "  display: none;\n",
       "}\n",
       "\n",
       ".xr-array-in:checked ~ .xr-array-data,\n",
       ".xr-array-preview {\n",
       "  display: inline-block;\n",
       "}\n",
       "\n",
       ".xr-dim-list {\n",
       "  display: inline-block !important;\n",
       "  list-style: none;\n",
       "  padding: 0 !important;\n",
       "  margin: 0;\n",
       "}\n",
       "\n",
       ".xr-dim-list li {\n",
       "  display: inline-block;\n",
       "  padding: 0;\n",
       "  margin: 0;\n",
       "}\n",
       "\n",
       ".xr-dim-list:before {\n",
       "  content: '(';\n",
       "}\n",
       "\n",
       ".xr-dim-list:after {\n",
       "  content: ')';\n",
       "}\n",
       "\n",
       ".xr-dim-list li:not(:last-child):after {\n",
       "  content: ',';\n",
       "  padding-right: 5px;\n",
       "}\n",
       "\n",
       ".xr-has-index {\n",
       "  font-weight: bold;\n",
       "}\n",
       "\n",
       ".xr-var-list,\n",
       ".xr-var-item {\n",
       "  display: contents;\n",
       "}\n",
       "\n",
       ".xr-var-item > div,\n",
       ".xr-var-item label,\n",
       ".xr-var-item > .xr-var-name span {\n",
       "  background-color: var(--xr-background-color-row-even);\n",
       "  margin-bottom: 0;\n",
       "}\n",
       "\n",
       ".xr-var-item > .xr-var-name:hover span {\n",
       "  padding-right: 5px;\n",
       "}\n",
       "\n",
       ".xr-var-list > li:nth-child(odd) > div,\n",
       ".xr-var-list > li:nth-child(odd) > label,\n",
       ".xr-var-list > li:nth-child(odd) > .xr-var-name span {\n",
       "  background-color: var(--xr-background-color-row-odd);\n",
       "}\n",
       "\n",
       ".xr-var-name {\n",
       "  grid-column: 1;\n",
       "}\n",
       "\n",
       ".xr-var-dims {\n",
       "  grid-column: 2;\n",
       "}\n",
       "\n",
       ".xr-var-dtype {\n",
       "  grid-column: 3;\n",
       "  text-align: right;\n",
       "  color: var(--xr-font-color2);\n",
       "}\n",
       "\n",
       ".xr-var-preview {\n",
       "  grid-column: 4;\n",
       "}\n",
       "\n",
       ".xr-index-preview {\n",
       "  grid-column: 2 / 5;\n",
       "  color: var(--xr-font-color2);\n",
       "}\n",
       "\n",
       ".xr-var-name,\n",
       ".xr-var-dims,\n",
       ".xr-var-dtype,\n",
       ".xr-preview,\n",
       ".xr-attrs dt {\n",
       "  white-space: nowrap;\n",
       "  overflow: hidden;\n",
       "  text-overflow: ellipsis;\n",
       "  padding-right: 10px;\n",
       "}\n",
       "\n",
       ".xr-var-name:hover,\n",
       ".xr-var-dims:hover,\n",
       ".xr-var-dtype:hover,\n",
       ".xr-attrs dt:hover {\n",
       "  overflow: visible;\n",
       "  width: auto;\n",
       "  z-index: 1;\n",
       "}\n",
       "\n",
       ".xr-var-attrs,\n",
       ".xr-var-data,\n",
       ".xr-index-data {\n",
       "  display: none;\n",
       "  background-color: var(--xr-background-color) !important;\n",
       "  padding-bottom: 5px !important;\n",
       "}\n",
       "\n",
       ".xr-var-attrs-in:checked ~ .xr-var-attrs,\n",
       ".xr-var-data-in:checked ~ .xr-var-data,\n",
       ".xr-index-data-in:checked ~ .xr-index-data {\n",
       "  display: block;\n",
       "}\n",
       "\n",
       ".xr-var-data > table {\n",
       "  float: right;\n",
       "}\n",
       "\n",
       ".xr-var-name span,\n",
       ".xr-var-data,\n",
       ".xr-index-name div,\n",
       ".xr-index-data,\n",
       ".xr-attrs {\n",
       "  padding-left: 25px !important;\n",
       "}\n",
       "\n",
       ".xr-attrs,\n",
       ".xr-var-attrs,\n",
       ".xr-var-data,\n",
       ".xr-index-data {\n",
       "  grid-column: 1 / -1;\n",
       "}\n",
       "\n",
       "dl.xr-attrs {\n",
       "  padding: 0;\n",
       "  margin: 0;\n",
       "  display: grid;\n",
       "  grid-template-columns: 125px auto;\n",
       "}\n",
       "\n",
       ".xr-attrs dt,\n",
       ".xr-attrs dd {\n",
       "  padding: 0;\n",
       "  margin: 0;\n",
       "  float: left;\n",
       "  padding-right: 10px;\n",
       "  width: auto;\n",
       "}\n",
       "\n",
       ".xr-attrs dt {\n",
       "  font-weight: normal;\n",
       "  grid-column: 1;\n",
       "}\n",
       "\n",
       ".xr-attrs dt:hover span {\n",
       "  display: inline-block;\n",
       "  background: var(--xr-background-color);\n",
       "  padding-right: 10px;\n",
       "}\n",
       "\n",
       ".xr-attrs dd {\n",
       "  grid-column: 2;\n",
       "  white-space: pre-wrap;\n",
       "  word-break: break-all;\n",
       "}\n",
       "\n",
       ".xr-icon-database,\n",
       ".xr-icon-file-text2,\n",
       ".xr-no-icon {\n",
       "  display: inline-block;\n",
       "  vertical-align: middle;\n",
       "  width: 1em;\n",
       "  height: 1.5em !important;\n",
       "  stroke-width: 0;\n",
       "  stroke: currentColor;\n",
       "  fill: currentColor;\n",
       "}\n",
       "</style><pre class='xr-text-repr-fallback'>&lt;xarray.Dataset&gt; Size: 39MB\n",
       "Dimensions:             (index: 372255, power: 5)\n",
       "Coordinates:\n",
       "  * index               (index) int64 3MB 27897657 242175600 ... 166742332\n",
       "  * power               (power) int64 40B 4 3 2 1 0\n",
       "    theta               (index) float64 3MB ...\n",
       "    phi                 (index) float64 3MB ...\n",
       "Data variables:\n",
       "    logpolycoefflux     (index, power) float64 15MB ...\n",
       "    logpolycoefpolflux  (index, power) float64 15MB ...\n",
       "Attributes:\n",
       "    description:  Websky catalog of sources with flux &gt; 1 mJy at 100 GHz, fit...</pre><div class='xr-wrap' style='display:none'><div class='xr-header'><div class='xr-obj-type'>xarray.Dataset</div></div><ul class='xr-sections'><li class='xr-section-item'><input id='section-94248977-d48a-4b6a-8a56-26b567638ccf' class='xr-section-summary-in' type='checkbox' disabled ><label for='section-94248977-d48a-4b6a-8a56-26b567638ccf' class='xr-section-summary'  title='Expand/collapse section'>Dimensions:</label><div class='xr-section-inline-details'><ul class='xr-dim-list'><li><span class='xr-has-index'>index</span>: 372255</li><li><span class='xr-has-index'>power</span>: 5</li></ul></div><div class='xr-section-details'></div></li><li class='xr-section-item'><input id='section-a8431828-3443-4cf6-9b22-a8dcab1d9ccd' class='xr-section-summary-in' type='checkbox'  checked><label for='section-a8431828-3443-4cf6-9b22-a8dcab1d9ccd' class='xr-section-summary' >Coordinates: <span>(4)</span></label><div class='xr-section-inline-details'></div><div class='xr-section-details'><ul class='xr-var-list'><li class='xr-var-item'><div class='xr-var-name'><span class='xr-has-index'>index</span></div><div class='xr-var-dims'>(index)</div><div class='xr-var-dtype'>int64</div><div class='xr-var-preview xr-preview'>27897657 242175600 ... 166742332</div><input id='attrs-e5afa9f5-658f-4def-a22b-5720bfea8fed' class='xr-var-attrs-in' type='checkbox' disabled><label for='attrs-e5afa9f5-658f-4def-a22b-5720bfea8fed' title='Show/Hide attributes'><svg class='icon xr-icon-file-text2'><use xlink:href='#icon-file-text2'></use></svg></label><input id='data-72bec48a-3acb-481d-9dc9-2ec27c992ba3' class='xr-var-data-in' type='checkbox'><label for='data-72bec48a-3acb-481d-9dc9-2ec27c992ba3' title='Show/Hide data repr'><svg class='icon xr-icon-database'><use xlink:href='#icon-database'></use></svg></label><div class='xr-var-attrs'><dl class='xr-attrs'></dl></div><div class='xr-var-data'><pre>array([ 27897657, 242175600, 270516228, ..., 246732122, 263347056, 166742332])</pre></div></li><li class='xr-var-item'><div class='xr-var-name'><span class='xr-has-index'>power</span></div><div class='xr-var-dims'>(power)</div><div class='xr-var-dtype'>int64</div><div class='xr-var-preview xr-preview'>4 3 2 1 0</div><input id='attrs-70e68b13-0d14-414d-922a-892342a9bdf3' class='xr-var-attrs-in' type='checkbox' disabled><label for='attrs-70e68b13-0d14-414d-922a-892342a9bdf3' title='Show/Hide attributes'><svg class='icon xr-icon-file-text2'><use xlink:href='#icon-file-text2'></use></svg></label><input id='data-5fb46dfa-fdbc-4602-b886-bb30e369d66d' class='xr-var-data-in' type='checkbox'><label for='data-5fb46dfa-fdbc-4602-b886-bb30e369d66d' title='Show/Hide data repr'><svg class='icon xr-icon-database'><use xlink:href='#icon-database'></use></svg></label><div class='xr-var-attrs'><dl class='xr-attrs'></dl></div><div class='xr-var-data'><pre>array([4, 3, 2, 1, 0])</pre></div></li><li class='xr-var-item'><div class='xr-var-name'><span>theta</span></div><div class='xr-var-dims'>(index)</div><div class='xr-var-dtype'>float64</div><div class='xr-var-preview xr-preview'>...</div><input id='attrs-62bb24ca-2c1d-4a78-a183-8131e48a1cd5' class='xr-var-attrs-in' type='checkbox' ><label for='attrs-62bb24ca-2c1d-4a78-a183-8131e48a1cd5' title='Show/Hide attributes'><svg class='icon xr-icon-file-text2'><use xlink:href='#icon-file-text2'></use></svg></label><input id='data-5a625a08-be20-4c1e-a500-6e5e0a3b1551' class='xr-var-data-in' type='checkbox'><label for='data-5a625a08-be20-4c1e-a500-6e5e0a3b1551' title='Show/Hide data repr'><svg class='icon xr-icon-database'><use xlink:href='#icon-database'></use></svg></label><div class='xr-var-attrs'><dl class='xr-attrs'><dt><span>units :</span></dt><dd>rad</dd><dt><span>reference_frame :</span></dt><dd>Galactic</dd></dl></div><div class='xr-var-data'><pre>[372255 values with dtype=float64]</pre></div></li><li class='xr-var-item'><div class='xr-var-name'><span>phi</span></div><div class='xr-var-dims'>(index)</div><div class='xr-var-dtype'>float64</div><div class='xr-var-preview xr-preview'>...</div><input id='attrs-357c5c3c-650c-440d-b734-2b2ec2a8f5bc' class='xr-var-attrs-in' type='checkbox' ><label for='attrs-357c5c3c-650c-440d-b734-2b2ec2a8f5bc' title='Show/Hide attributes'><svg class='icon xr-icon-file-text2'><use xlink:href='#icon-file-text2'></use></svg></label><input id='data-fc16ce97-bddf-4df0-ab31-3272739e43ac' class='xr-var-data-in' type='checkbox'><label for='data-fc16ce97-bddf-4df0-ab31-3272739e43ac' title='Show/Hide data repr'><svg class='icon xr-icon-database'><use xlink:href='#icon-database'></use></svg></label><div class='xr-var-attrs'><dl class='xr-attrs'><dt><span>units :</span></dt><dd>rad</dd><dt><span>reference_frame :</span></dt><dd>Galactic</dd></dl></div><div class='xr-var-data'><pre>[372255 values with dtype=float64]</pre></div></li></ul></div></li><li class='xr-section-item'><input id='section-5752f2d1-5b0c-474b-8977-463f8616fa10' class='xr-section-summary-in' type='checkbox'  checked><label for='section-5752f2d1-5b0c-474b-8977-463f8616fa10' class='xr-section-summary' >Data variables: <span>(2)</span></label><div class='xr-section-inline-details'></div><div class='xr-section-details'><ul class='xr-var-list'><li class='xr-var-item'><div class='xr-var-name'><span>logpolycoefflux</span></div><div class='xr-var-dims'>(index, power)</div><div class='xr-var-dtype'>float64</div><div class='xr-var-preview xr-preview'>...</div><input id='attrs-2c009cef-3ce2-4c71-9f00-b1f56d1412e6' class='xr-var-attrs-in' type='checkbox' ><label for='attrs-2c009cef-3ce2-4c71-9f00-b1f56d1412e6' title='Show/Hide attributes'><svg class='icon xr-icon-file-text2'><use xlink:href='#icon-file-text2'></use></svg></label><input id='data-3c8d8e63-d40e-43f5-ac0c-06b16c6b87a9' class='xr-var-data-in' type='checkbox'><label for='data-3c8d8e63-d40e-43f5-ac0c-06b16c6b87a9' title='Show/Hide data repr'><svg class='icon xr-icon-database'><use xlink:href='#icon-database'></use></svg></label><div class='xr-var-attrs'><dl class='xr-attrs'><dt><span>units :</span></dt><dd>Jy</dd></dl></div><div class='xr-var-data'><pre>[1861275 values with dtype=float64]</pre></div></li><li class='xr-var-item'><div class='xr-var-name'><span>logpolycoefpolflux</span></div><div class='xr-var-dims'>(index, power)</div><div class='xr-var-dtype'>float64</div><div class='xr-var-preview xr-preview'>...</div><input id='attrs-7b9142e9-76fa-4dd0-8a31-323dab5c569c' class='xr-var-attrs-in' type='checkbox' ><label for='attrs-7b9142e9-76fa-4dd0-8a31-323dab5c569c' title='Show/Hide attributes'><svg class='icon xr-icon-file-text2'><use xlink:href='#icon-file-text2'></use></svg></label><input id='data-16e06a14-20ee-488e-9071-d18849e0d335' class='xr-var-data-in' type='checkbox'><label for='data-16e06a14-20ee-488e-9071-d18849e0d335' title='Show/Hide data repr'><svg class='icon xr-icon-database'><use xlink:href='#icon-database'></use></svg></label><div class='xr-var-attrs'><dl class='xr-attrs'><dt><span>units :</span></dt><dd>Jy</dd></dl></div><div class='xr-var-data'><pre>[1861275 values with dtype=float64]</pre></div></li></ul></div></li><li class='xr-section-item'><input id='section-64bfc0ef-de40-49d9-be6b-0b1997511727' class='xr-section-summary-in' type='checkbox'  ><label for='section-64bfc0ef-de40-49d9-be6b-0b1997511727' class='xr-section-summary' >Indexes: <span>(2)</span></label><div class='xr-section-inline-details'></div><div class='xr-section-details'><ul class='xr-var-list'><li class='xr-var-item'><div class='xr-index-name'><div>index</div></div><div class='xr-index-preview'>PandasIndex</div><div></div><input id='index-eb4ef0bf-7707-4fb1-9a16-fd2fd690b369' class='xr-index-data-in' type='checkbox'/><label for='index-eb4ef0bf-7707-4fb1-9a16-fd2fd690b369' title='Show/Hide index repr'><svg class='icon xr-icon-database'><use xlink:href='#icon-database'></use></svg></label><div class='xr-index-data'><pre>PandasIndex(Index([ 27897657, 242175600, 270516228, 276407774, 256213631, 281544643,\n",
       "       263719520, 259533227, 251679008, 252717495,\n",
       "       ...\n",
       "       238190295, 145826702, 108046020, 232265270, 174768449, 256408684,\n",
       "       236382968, 246732122, 263347056, 166742332],\n",
       "      dtype=&#x27;int64&#x27;, name=&#x27;index&#x27;, length=372255))</pre></div></li><li class='xr-var-item'><div class='xr-index-name'><div>power</div></div><div class='xr-index-preview'>PandasIndex</div><div></div><input id='index-063df2fc-4071-49d4-a7ea-b3f49cc6febd' class='xr-index-data-in' type='checkbox'/><label for='index-063df2fc-4071-49d4-a7ea-b3f49cc6febd' title='Show/Hide index repr'><svg class='icon xr-icon-database'><use xlink:href='#icon-database'></use></svg></label><div class='xr-index-data'><pre>PandasIndex(Index([4, 3, 2, 1, 0], dtype=&#x27;int64&#x27;, name=&#x27;power&#x27;))</pre></div></li></ul></div></li><li class='xr-section-item'><input id='section-2fa2ee3d-9100-4b20-8797-7102770a5f95' class='xr-section-summary-in' type='checkbox'  checked><label for='section-2fa2ee3d-9100-4b20-8797-7102770a5f95' class='xr-section-summary' >Attributes: <span>(1)</span></label><div class='xr-section-inline-details'></div><div class='xr-section-details'><dl class='xr-attrs'><dt><span>description :</span></dt><dd>Websky catalog of sources with flux &gt; 1 mJy at 100 GHz, fitted with a 4th order polynomial in log frequency. Galactic reference frame. Sorted by flux at 100 GHz (descending). The &#x27;index&#x27; coordinate gives the original index in the Websky catalog.</dd></dl></div></li></ul></div></div>"
      ],
      "text/plain": [
       "<xarray.Dataset> Size: 39MB\n",
       "Dimensions:             (index: 372255, power: 5)\n",
       "Coordinates:\n",
       "  * index               (index) int64 3MB 27897657 242175600 ... 166742332\n",
       "  * power               (power) int64 40B 4 3 2 1 0\n",
       "    theta               (index) float64 3MB ...\n",
       "    phi                 (index) float64 3MB ...\n",
       "Data variables:\n",
       "    logpolycoefflux     (index, power) float64 15MB ...\n",
       "    logpolycoefpolflux  (index, power) float64 15MB ...\n",
       "Attributes:\n",
       "    description:  Websky catalog of sources with flux > 1 mJy at 100 GHz, fit..."
      ]
     },
     "execution_count": 46,
     "metadata": {},
     "output_type": "execute_result"
    }
   ],
   "source": [
    "xarray.open_dataset(output_filename)"
   ]
  },
  {
   "cell_type": "code",
   "execution_count": 47,
   "id": "48",
   "metadata": {
    "execution": {
     "iopub.execute_input": "2025-05-13T05:41:26.621166Z",
     "iopub.status.busy": "2025-05-13T05:41:26.620681Z",
     "iopub.status.idle": "2025-05-13T05:41:26.634818Z",
     "shell.execute_reply": "2025-05-13T05:41:26.633756Z"
    },
    "papermill": {
     "duration": 0.027906,
     "end_time": "2025-05-13T05:41:26.636808",
     "exception": false,
     "start_time": "2025-05-13T05:41:26.608902",
     "status": "completed"
    },
    "tags": []
   },
   "outputs": [
    {
     "data": {
      "text/plain": [
       "<HDF5 dataset \"logpolycoefflux\": shape (372255, 5), type \"<f8\">"
      ]
     },
     "execution_count": 47,
     "metadata": {},
     "output_type": "execute_result"
    }
   ],
   "source": [
    "import h5py\n",
    "f = h5py.File(output_filename, 'r')\n",
    "f[\"logpolycoefflux\"]"
   ]
  },
  {
   "cell_type": "code",
   "execution_count": 48,
   "id": "49",
   "metadata": {
    "execution": {
     "iopub.execute_input": "2025-05-13T05:41:26.666712Z",
     "iopub.status.busy": "2025-05-13T05:41:26.666189Z",
     "iopub.status.idle": "2025-05-13T05:41:26.674045Z",
     "shell.execute_reply": "2025-05-13T05:41:26.673192Z"
    },
    "papermill": {
     "duration": 0.020705,
     "end_time": "2025-05-13T05:41:26.675313",
     "exception": false,
     "start_time": "2025-05-13T05:41:26.654608",
     "status": "completed"
    },
    "tags": []
   },
   "outputs": [
    {
     "data": {
      "text/plain": [
       "b'Jy'"
      ]
     },
     "execution_count": 48,
     "metadata": {},
     "output_type": "execute_result"
    }
   ],
   "source": [
    "f[\"logpolycoefflux\"].attrs[\"units\"]"
   ]
  }
 ],
 "metadata": {
  "@webio": {
   "lastCommId": null,
   "lastKernelId": null
  },
  "kernelspec": {
   "display_name": "cmb",
   "language": "python",
   "name": "python3"
  },
  "language_info": {
   "codemirror_mode": {
    "name": "ipython",
    "version": 3
   },
   "file_extension": ".py",
   "mimetype": "text/x-python",
   "name": "python",
   "nbconvert_exporter": "python",
   "pygments_lexer": "ipython3",
   "version": "3.12.7"
  },
  "papermill": {
   "default_parameters": {},
   "duration": 36774.295671,
   "end_time": "2025-05-13T05:41:27.109850",
   "environment_variables": {},
   "exception": null,
   "input_path": "websky_sources_high_flux_catalog_out_1mJy.ipynb",
   "output_path": "websky_sources_high_flux_catalog_out_1mJy_executed.ipynb",
   "parameters": {},
   "start_time": "2025-05-12T19:28:32.814179",
   "version": "2.4.0"
  },
  "widgets": {
   "application/vnd.jupyter.widget-state+json": {
    "state": {
     "01d05274665a479785c601d2065b4cf3": {
      "model_module": "@jupyter-widgets/controls",
      "model_module_version": "2.0.0",
      "model_name": "HTMLModel",
      "state": {
       "_dom_classes": [],
       "_model_module": "@jupyter-widgets/controls",
       "_model_module_version": "2.0.0",
       "_model_name": "HTMLModel",
       "_view_count": null,
       "_view_module": "@jupyter-widgets/controls",
       "_view_module_version": "2.0.0",
       "_view_name": "HTMLView",
       "description": "",
       "description_allow_html": false,
       "layout": "IPY_MODEL_05cfdcc291c44576856788f433851103",
       "placeholder": "​",
       "style": "IPY_MODEL_e51b1021f06f47d6ab6ce1be9351e9fc",
       "tabbable": null,
       "tooltip": null,
       "value": "Fitting sources: 100%"
      }
     },
     "05cfdcc291c44576856788f433851103": {
      "model_module": "@jupyter-widgets/base",
      "model_module_version": "2.0.0",
      "model_name": "LayoutModel",
      "state": {
       "_model_module": "@jupyter-widgets/base",
       "_model_module_version": "2.0.0",
       "_model_name": "LayoutModel",
       "_view_count": null,
       "_view_module": "@jupyter-widgets/base",
       "_view_module_version": "2.0.0",
       "_view_name": "LayoutView",
       "align_content": null,
       "align_items": null,
       "align_self": null,
       "border_bottom": null,
       "border_left": null,
       "border_right": null,
       "border_top": null,
       "bottom": null,
       "display": null,
       "flex": null,
       "flex_flow": null,
       "grid_area": null,
       "grid_auto_columns": null,
       "grid_auto_flow": null,
       "grid_auto_rows": null,
       "grid_column": null,
       "grid_gap": null,
       "grid_row": null,
       "grid_template_areas": null,
       "grid_template_columns": null,
       "grid_template_rows": null,
       "height": null,
       "justify_content": null,
       "justify_items": null,
       "left": null,
       "margin": null,
       "max_height": null,
       "max_width": null,
       "min_height": null,
       "min_width": null,
       "object_fit": null,
       "object_position": null,
       "order": null,
       "overflow": null,
       "padding": null,
       "right": null,
       "top": null,
       "visibility": null,
       "width": null
      }
     },
     "0e00e57ec1764f42a3e6aa47fbce1a3a": {
      "model_module": "@jupyter-widgets/controls",
      "model_module_version": "2.0.0",
      "model_name": "HTMLStyleModel",
      "state": {
       "_model_module": "@jupyter-widgets/controls",
       "_model_module_version": "2.0.0",
       "_model_name": "HTMLStyleModel",
       "_view_count": null,
       "_view_module": "@jupyter-widgets/base",
       "_view_module_version": "2.0.0",
       "_view_name": "StyleView",
       "background": null,
       "description_width": "",
       "font_size": null,
       "text_color": null
      }
     },
     "1a32eb9eab4242fa9b6208c2fdb923e7": {
      "model_module": "@jupyter-widgets/base",
      "model_module_version": "2.0.0",
      "model_name": "LayoutModel",
      "state": {
       "_model_module": "@jupyter-widgets/base",
       "_model_module_version": "2.0.0",
       "_model_name": "LayoutModel",
       "_view_count": null,
       "_view_module": "@jupyter-widgets/base",
       "_view_module_version": "2.0.0",
       "_view_name": "LayoutView",
       "align_content": null,
       "align_items": null,
       "align_self": null,
       "border_bottom": null,
       "border_left": null,
       "border_right": null,
       "border_top": null,
       "bottom": null,
       "display": null,
       "flex": null,
       "flex_flow": null,
       "grid_area": null,
       "grid_auto_columns": null,
       "grid_auto_flow": null,
       "grid_auto_rows": null,
       "grid_column": null,
       "grid_gap": null,
       "grid_row": null,
       "grid_template_areas": null,
       "grid_template_columns": null,
       "grid_template_rows": null,
       "height": null,
       "justify_content": null,
       "justify_items": null,
       "left": null,
       "margin": null,
       "max_height": null,
       "max_width": null,
       "min_height": null,
       "min_width": null,
       "object_fit": null,
       "object_position": null,
       "order": null,
       "overflow": null,
       "padding": null,
       "right": null,
       "top": null,
       "visibility": null,
       "width": null
      }
     },
     "1f2153c487114ffabb3f00ccf7d3bb62": {
      "model_module": "@jupyter-widgets/base",
      "model_module_version": "2.0.0",
      "model_name": "LayoutModel",
      "state": {
       "_model_module": "@jupyter-widgets/base",
       "_model_module_version": "2.0.0",
       "_model_name": "LayoutModel",
       "_view_count": null,
       "_view_module": "@jupyter-widgets/base",
       "_view_module_version": "2.0.0",
       "_view_name": "LayoutView",
       "align_content": null,
       "align_items": null,
       "align_self": null,
       "border_bottom": null,
       "border_left": null,
       "border_right": null,
       "border_top": null,
       "bottom": null,
       "display": null,
       "flex": null,
       "flex_flow": null,
       "grid_area": null,
       "grid_auto_columns": null,
       "grid_auto_flow": null,
       "grid_auto_rows": null,
       "grid_column": null,
       "grid_gap": null,
       "grid_row": null,
       "grid_template_areas": null,
       "grid_template_columns": null,
       "grid_template_rows": null,
       "height": null,
       "justify_content": null,
       "justify_items": null,
       "left": null,
       "margin": null,
       "max_height": null,
       "max_width": null,
       "min_height": null,
       "min_width": null,
       "object_fit": null,
       "object_position": null,
       "order": null,
       "overflow": null,
       "padding": null,
       "right": null,
       "top": null,
       "visibility": null,
       "width": null
      }
     },
     "2df69b2cb0fc4a50a05ab6da4c76b071": {
      "model_module": "@jupyter-widgets/controls",
      "model_module_version": "2.0.0",
      "model_name": "HTMLModel",
      "state": {
       "_dom_classes": [],
       "_model_module": "@jupyter-widgets/controls",
       "_model_module_version": "2.0.0",
       "_model_name": "HTMLModel",
       "_view_count": null,
       "_view_module": "@jupyter-widgets/controls",
       "_view_module_version": "2.0.0",
       "_view_name": "HTMLView",
       "description": "",
       "description_allow_html": false,
       "layout": "IPY_MODEL_1f2153c487114ffabb3f00ccf7d3bb62",
       "placeholder": "​",
       "style": "IPY_MODEL_0e00e57ec1764f42a3e6aa47fbce1a3a",
       "tabbable": null,
       "tooltip": null,
       "value": " 372255/372255 [9:59:15&lt;00:00, 10.08it/s, ETA: 0h 0m]"
      }
     },
     "5e7b51f563914ae881569721e6c99ff4": {
      "model_module": "@jupyter-widgets/controls",
      "model_module_version": "2.0.0",
      "model_name": "FloatProgressModel",
      "state": {
       "_dom_classes": [],
       "_model_module": "@jupyter-widgets/controls",
       "_model_module_version": "2.0.0",
       "_model_name": "FloatProgressModel",
       "_view_count": null,
       "_view_module": "@jupyter-widgets/controls",
       "_view_module_version": "2.0.0",
       "_view_name": "ProgressView",
       "bar_style": "success",
       "description": "",
       "description_allow_html": false,
       "layout": "IPY_MODEL_1a32eb9eab4242fa9b6208c2fdb923e7",
       "max": 372255.0,
       "min": 0.0,
       "orientation": "horizontal",
       "style": "IPY_MODEL_8aedc3a259004481a8cedf207c90231f",
       "tabbable": null,
       "tooltip": null,
       "value": 372255.0
      }
     },
     "8aedc3a259004481a8cedf207c90231f": {
      "model_module": "@jupyter-widgets/controls",
      "model_module_version": "2.0.0",
      "model_name": "ProgressStyleModel",
      "state": {
       "_model_module": "@jupyter-widgets/controls",
       "_model_module_version": "2.0.0",
       "_model_name": "ProgressStyleModel",
       "_view_count": null,
       "_view_module": "@jupyter-widgets/base",
       "_view_module_version": "2.0.0",
       "_view_name": "StyleView",
       "bar_color": null,
       "description_width": ""
      }
     },
     "a5716e783e9944c2aa3297b65b226769": {
      "model_module": "@jupyter-widgets/base",
      "model_module_version": "2.0.0",
      "model_name": "LayoutModel",
      "state": {
       "_model_module": "@jupyter-widgets/base",
       "_model_module_version": "2.0.0",
       "_model_name": "LayoutModel",
       "_view_count": null,
       "_view_module": "@jupyter-widgets/base",
       "_view_module_version": "2.0.0",
       "_view_name": "LayoutView",
       "align_content": null,
       "align_items": null,
       "align_self": null,
       "border_bottom": null,
       "border_left": null,
       "border_right": null,
       "border_top": null,
       "bottom": null,
       "display": null,
       "flex": null,
       "flex_flow": null,
       "grid_area": null,
       "grid_auto_columns": null,
       "grid_auto_flow": null,
       "grid_auto_rows": null,
       "grid_column": null,
       "grid_gap": null,
       "grid_row": null,
       "grid_template_areas": null,
       "grid_template_columns": null,
       "grid_template_rows": null,
       "height": null,
       "justify_content": null,
       "justify_items": null,
       "left": null,
       "margin": null,
       "max_height": null,
       "max_width": null,
       "min_height": null,
       "min_width": null,
       "object_fit": null,
       "object_position": null,
       "order": null,
       "overflow": null,
       "padding": null,
       "right": null,
       "top": null,
       "visibility": null,
       "width": null
      }
     },
     "d11aa7e5786c43b68e9f60c8ecb2596f": {
      "model_module": "@jupyter-widgets/controls",
      "model_module_version": "2.0.0",
      "model_name": "HBoxModel",
      "state": {
       "_dom_classes": [],
       "_model_module": "@jupyter-widgets/controls",
       "_model_module_version": "2.0.0",
       "_model_name": "HBoxModel",
       "_view_count": null,
       "_view_module": "@jupyter-widgets/controls",
       "_view_module_version": "2.0.0",
       "_view_name": "HBoxView",
       "box_style": "",
       "children": [
        "IPY_MODEL_01d05274665a479785c601d2065b4cf3",
        "IPY_MODEL_5e7b51f563914ae881569721e6c99ff4",
        "IPY_MODEL_2df69b2cb0fc4a50a05ab6da4c76b071"
       ],
       "layout": "IPY_MODEL_a5716e783e9944c2aa3297b65b226769",
       "tabbable": null,
       "tooltip": null
      }
     },
     "e51b1021f06f47d6ab6ce1be9351e9fc": {
      "model_module": "@jupyter-widgets/controls",
      "model_module_version": "2.0.0",
      "model_name": "HTMLStyleModel",
      "state": {
       "_model_module": "@jupyter-widgets/controls",
       "_model_module_version": "2.0.0",
       "_model_name": "HTMLStyleModel",
       "_view_count": null,
       "_view_module": "@jupyter-widgets/base",
       "_view_module_version": "2.0.0",
       "_view_name": "StyleView",
       "background": null,
       "description_width": "",
       "font_size": null,
       "text_color": null
      }
     }
    },
    "version_major": 2,
    "version_minor": 0
   }
  }
 },
 "nbformat": 4,
 "nbformat_minor": 5
}