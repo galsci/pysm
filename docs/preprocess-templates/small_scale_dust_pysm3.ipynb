{
 "cells": [
  {
   "cell_type": "markdown",
   "id": "b4ce8e65-c2d9-47f6-bfc3-7dd054ce1c64",
   "metadata": {},
   "source": [
    "# GNILC Dust templates for PySM 3\n",
    "> Dust templates based on Planck GNILC maps in logarithmic polarization fraction formalism (logpoltens) with injection of simulated small scale fluctuations"
   ]
  },
  {
   "cell_type": "markdown",
   "id": "584bdc8b-5a9b-42c7-a669-b6a9e41d9afb",
   "metadata": {},
   "source": [
    "This notebook implements and validates the model at Nside 2048, see the related notebooks:\n",
    "\n",
    "* [Simplified version of this notebook ran for an output Lmax of 16384, saving all the artifacts needed to create templates at higher resolution](small_scale_dust_pysm3_generate_artifacts.ipynb)\n",
    "* [Notebooks that given the artifacts generates the templates at nside 2048, 4096 and 8192](small_scale_dust_pysm3_generate_templates.ipynb)\n",
    "\n",
    "Below a summary of the updates implemented on new dust models : \n",
    "- input templates from GNILC variable resolution and unires GNILC maps\n",
    "- two pivot scales `ell1=110`,`ell2=2000` for small scale injection (see my previous posts ) \n",
    "- spectral indices for EE, BB coming from literature , [Planck 2018 XI](https://arxiv.org/pdf/1801.04945.pdf) and for TT from [Miville-Deschenes 2016](https://www.aanda.org/articles/aa/pdf/2016/09/aa28503-16.pdf)\n",
    "- we inject small scales with non-zero TE from [Planck 2018 XI](https://arxiv.org/pdf/1801.04945.pdf)\n",
    "- Inside the GAL097 mask (i.e. along the Gal. midplane) we don't inject small scales, we simply keep the ones observed at high SNR by Planck.\n",
    "- Modulation of qu maps with a single map, p:\n",
    " i. to avoid modulation w/ negative values,\n",
    " ii. to preserve non-zero TE \n",
    "- we propose to modulate small scales as it has been done in `pysm2`(https://arxiv.org/pdf/1608.02841.pdf) ,  with a couple of differences: \n",
    " i. small scales are expected to be injected with   non-gaussian content (thanks to the  logpoltens formalism); \n",
    "ii. split the sky with  high reso pixels (nside=8) ; \n",
    "iii. use amplitude of E-mode spectra to derive the modulation template"
   ]
  },
  {
   "cell_type": "code",
   "execution_count": 1,
   "id": "7555d741-b206-49c4-9008-2a2c36743863",
   "metadata": {},
   "outputs": [],
   "source": [
    "from pathlib import Path\n",
    "import healpy as hp\n",
    "import matplotlib.pyplot as plt\n",
    "import numpy as np\n",
    "import pymaster as nmt\n",
    "from astropy.io import fits\n",
    "\n",
    "%matplotlib inline"
   ]
  },
  {
   "cell_type": "code",
   "execution_count": 2,
   "id": "ee5f84f2-60f5-47a3-af8e-8827bd058cba",
   "metadata": {},
   "outputs": [],
   "source": [
    "import os\n",
    "\n",
    "# for jupyter.nersc.gov otherwise the notebook only uses 2 cores\n",
    "\n",
    "os.environ[\"OMP_NUM_THREADS\"] = \"64\""
   ]
  },
  {
   "cell_type": "code",
   "execution_count": 3,
   "id": "1e3edd65-14fc-409f-a956-39e6539eb09a",
   "metadata": {},
   "outputs": [
    {
     "name": "stderr",
     "output_type": "stream",
     "text": [
      "/tmp/ipykernel_364148/4113119494.py:1: HealpyDeprecationWarning: The disable_warnings function is deprecated and may be removed in a future version.\n",
      "  hp.disable_warnings()\n"
     ]
    }
   ],
   "source": [
    "hp.disable_warnings()"
   ]
  },
  {
   "cell_type": "code",
   "execution_count": 4,
   "id": "6c9e2399-20c9-44a1-8f88-1923d9cb667f",
   "metadata": {},
   "outputs": [
    {
     "name": "stderr",
     "output_type": "stream",
     "text": [
      "/tmp/ipykernel_364148/2368332630.py:1: MatplotlibDeprecationWarning: The seaborn styles shipped by Matplotlib are deprecated since 3.6, as they no longer correspond to the styles shipped by seaborn. However, they will remain available as 'seaborn-v0_8-<style>'. Alternatively, directly use the seaborn API instead.\n",
      "  plt.style.use(\"seaborn-talk\")\n"
     ]
    }
   ],
   "source": [
    "plt.style.use(\"seaborn-talk\")"
   ]
  },
  {
   "cell_type": "code",
   "execution_count": 5,
   "id": "e4951457-1bf6-4ac8-b6ef-8d482aaab3ab",
   "metadata": {},
   "outputs": [],
   "source": [
    "import pysm3 as pysm\n",
    "import pysm3.units as u"
   ]
  },
  {
   "cell_type": "code",
   "execution_count": 6,
   "id": "98132cc2-19a9-427f-8124-739d3d8aa71b",
   "metadata": {},
   "outputs": [],
   "source": [
    "nside = 2048\n",
    "lmax = 2048"
   ]
  },
  {
   "cell_type": "code",
   "execution_count": 7,
   "id": "db1b63fa-16f4-46bf-b44a-754358fb0a99",
   "metadata": {},
   "outputs": [],
   "source": [
    "comp = \"IQU\""
   ]
  },
  {
   "cell_type": "code",
   "execution_count": 8,
   "id": "434c1817-3ad9-46d6-a2c1-b8f989f9bbe9",
   "metadata": {},
   "outputs": [
    {
     "data": {
      "text/plain": [
       "[(0, 'I'), (1, 'Q'), (2, 'U')]"
      ]
     },
     "execution_count": 8,
     "metadata": {},
     "output_type": "execute_result"
    }
   ],
   "source": [
    "components = list(enumerate(comp))\n",
    "components"
   ]
  },
  {
   "cell_type": "code",
   "execution_count": 9,
   "id": "ef0893e2-d7a1-428d-84a6-14a64828fe32",
   "metadata": {},
   "outputs": [],
   "source": [
    "spectra_components = [\"TT\", \"EE\", \"BB\", \"TE\"]"
   ]
  },
  {
   "cell_type": "markdown",
   "id": "3bcc4f05-9417-440f-8282-ec2e5fb1d78b",
   "metadata": {},
   "source": [
    "change this to True   if you want to  run namaster on notebook \n"
   ]
  },
  {
   "cell_type": "code",
   "execution_count": 10,
   "id": "99a8d4a6-1510-4a3a-a529-ad35f765a92b",
   "metadata": {},
   "outputs": [],
   "source": [
    "namaster_on_nb = True"
   ]
  },
  {
   "cell_type": "code",
   "execution_count": 11,
   "id": "59f1f34a-4b01-4af9-8af8-5fa7e859d310",
   "metadata": {},
   "outputs": [],
   "source": [
    "datadir = Path(\"data\")"
   ]
  },
  {
   "cell_type": "markdown",
   "id": "b867c899-b5b1-4de6-8cbe-70915efad4b8",
   "metadata": {},
   "source": [
    "# Setting the inputs \n",
    "## Dust maps \n",
    "- We use the  2015 GNILC intensity map from the 2nd planck release, as it encodes less contamination from CIB with 21.8' resolution https://portal.nersc.gov/project/cmb/pysm-data/dust_gnilc/inputs/COM_CompMap_Dust-GNILC-F353_2048_21p8acm.fits\n",
    "\n",
    "- for Q and U we adopt maps from the 3rd Planck release as they were optimized for polarization studies with 80' reso.  \n",
    "\n"
   ]
  },
  {
   "cell_type": "code",
   "execution_count": 12,
   "id": "87e5c4fb-a1d9-4a09-a20a-6e313e6a3c33",
   "metadata": {},
   "outputs": [],
   "source": [
    "gnilc_template = \"varres\"\n",
    "dust_varresI = datadir / \"COM_CompMap_Dust-GNILC-F353_2048_21p8acm.fits\"\n",
    "dust_varresP = (\n",
    "    datadir / f\"COM_CompMap_IQU-thermaldust-gnilc-{gnilc_template}_2048_R3.00.fits\"\n",
    ")"
   ]
  },
  {
   "cell_type": "code",
   "execution_count": 16,
   "id": "b8562285",
   "metadata": {},
   "outputs": [],
   "source": [
    "!rm $dust_varresP"
   ]
  },
  {
   "cell_type": "code",
   "execution_count": 17,
   "id": "cea40634-9f68-4da9-bad1-4457b53e46a4",
   "metadata": {},
   "outputs": [],
   "source": [
    "if not dust_varresI.exists():\n",
    "    !wget -O $dust_varresI https://portal.nersc.gov/project/cmb/pysm-data/dust_gnilc/inputs/COM_CompMap_Dust-GNILC-F353_2048_21p8acm.fits"
   ]
  },
  {
   "cell_type": "code",
   "execution_count": null,
   "id": "134293d5-11d9-4b70-897d-22887590f4a8",
   "metadata": {},
   "outputs": [
    {
     "name": "stdout",
     "output_type": "stream",
     "text": [
      "--2025-01-07 21:31:09--  http://pla.esac.esa.int/pla/aio/product-action?MAP.MAP_ID=COM_CompMap_IQU-thermaldust-gnilc-varres_2048_R3.00.fits\n",
      "Resolving pla.esac.esa.int (pla.esac.esa.int)... 193.147.153.153\n",
      "Connecting to pla.esac.esa.int (pla.esac.esa.int)|193.147.153.153|:80... connected.\n",
      "HTTP request sent, awaiting response... 200 \n",
      "Length: unspecified [image/fits]\n",
      "Saving to: ‘data/COM_CompMap_IQU-thermaldust-gnilc-varres_2048_R3.00.fits’\n",
      "\n",
      "data/COM_CompMap_IQ     [        <=>         ]  27.89M  --.-KB/s    in 15m 4s  \n",
      "\n",
      "2025-01-07 21:46:13 (31.6 KB/s) - Read error at byte 29247157 (Connection timed out).Retrying.\n",
      "\n",
      "--2025-01-07 21:46:14--  (try: 2)  http://pla.esac.esa.int/pla/aio/product-action?MAP.MAP_ID=COM_CompMap_IQU-thermaldust-gnilc-varres_2048_R3.00.fits\n",
      "Connecting to pla.esac.esa.int (pla.esac.esa.int)|193.147.153.153|:80... connected.\n",
      "HTTP request sent, awaiting response... 200 \n",
      "Length: unspecified [image/fits]\n",
      "Saving to: ‘data/COM_CompMap_IQU-thermaldust-gnilc-varres_2048_R3.00.fits’\n",
      "\n",
      "data/COM_CompMap_IQ     [            <=>     ]  27.82M  --.-KB/s    in 15m 5s  \n",
      "\n",
      "2025-01-07 22:01:20 (31.5 KB/s) - Read error at byte 29247157 (Connection timed out).Retrying.\n",
      "\n",
      "--2025-01-07 22:01:22--  (try: 3)  http://pla.esac.esa.int/pla/aio/product-action?MAP.MAP_ID=COM_CompMap_IQU-thermaldust-gnilc-varres_2048_R3.00.fits\n",
      "Connecting to pla.esac.esa.int (pla.esac.esa.int)|193.147.153.153|:80... connected.\n",
      "HTTP request sent, awaiting response... 200 \n",
      "Length: unspecified [image/fits]\n",
      "Saving to: ‘data/COM_CompMap_IQU-thermaldust-gnilc-varres_2048_R3.00.fits’\n",
      "\n",
      "data/COM_CompMap_IQ     [       <=>          ]  22.00M  --.-KB/s    in 15m 3s  \n",
      "\n",
      "2025-01-07 22:16:26 (24.9 KB/s) - Read error at byte 29247157 (Connection timed out).Retrying.\n",
      "\n",
      "--2025-01-07 22:16:29--  (try: 4)  http://pla.esac.esa.int/pla/aio/product-action?MAP.MAP_ID=COM_CompMap_IQU-thermaldust-gnilc-varres_2048_R3.00.fits\n",
      "Connecting to pla.esac.esa.int (pla.esac.esa.int)|193.147.153.153|:80... connected.\n",
      "HTTP request sent, awaiting response... 200 \n",
      "Length: unspecified [image/fits]\n",
      "Saving to: ‘data/COM_CompMap_IQU-thermaldust-gnilc-varres_2048_R3.00.fits’\n",
      "\n",
      "ilc-varres_2048_R3.     [         <=>        ]  19.41M  --.-KB/s               "
     ]
    }
   ],
   "source": [
    "if not dust_varresP.exists():\n",
    "    !wget -O $dust_varresP http://pla.esac.esa.int/pla/aio/product-action?MAP.MAP_ID=COM_CompMap_IQU-thermaldust-gnilc-varres_2048_R3.00.fits"
   ]
  },
  {
   "cell_type": "markdown",
   "id": "8e5a113c-4355-498e-a3e6-dfb167d2f2b2",
   "metadata": {},
   "source": [
    "Transform maps to double precision for computations"
   ]
  },
  {
   "cell_type": "code",
   "execution_count": 15,
   "id": "0b43a229-b37a-466a-a325-607505b3c0d9",
   "metadata": {},
   "outputs": [
    {
     "name": "stderr",
     "output_type": "stream",
     "text": [
      "WARNING: File may have been truncated: actual file length (404735853) is smaller than the expected size (2013275520) [astropy.io.fits.file]\n"
     ]
    },
    {
     "ename": "ValueError",
     "evalue": "cannot reshape array of size 10118180 into shape (50331648,)",
     "output_type": "error",
     "traceback": [
      "\u001b[0;31m---------------------------------------------------------------------------\u001b[0m",
      "\u001b[0;31mValueError\u001b[0m                                Traceback (most recent call last)",
      "Cell \u001b[0;32mIn [15], line 1\u001b[0m\n\u001b[0;32m----> 1\u001b[0m m_planck_varres, h \u001b[38;5;241m=\u001b[39m \u001b[43mhp\u001b[49m\u001b[38;5;241;43m.\u001b[39;49m\u001b[43mread_map\u001b[49m\u001b[43m(\u001b[49m\n\u001b[1;32m      2\u001b[0m \u001b[43m    \u001b[49m\u001b[43mdust_varresP\u001b[49m\u001b[43m,\u001b[49m\u001b[43m \u001b[49m\u001b[43m[\u001b[49m\u001b[43mc\u001b[49m\u001b[43m \u001b[49m\u001b[38;5;241;43m+\u001b[39;49m\u001b[43m \u001b[49m\u001b[38;5;124;43m\"\u001b[39;49m\u001b[38;5;124;43m_STOKES\u001b[39;49m\u001b[38;5;124;43m\"\u001b[39;49m\u001b[43m \u001b[49m\u001b[38;5;28;43;01mfor\u001b[39;49;00m\u001b[43m \u001b[49m\u001b[43mc\u001b[49m\u001b[43m \u001b[49m\u001b[38;5;129;43;01min\u001b[39;49;00m\u001b[43m \u001b[49m\u001b[43mcomp\u001b[49m\u001b[43m]\u001b[49m\u001b[43m,\u001b[49m\u001b[43m \u001b[49m\u001b[43mdtype\u001b[49m\u001b[38;5;241;43m=\u001b[39;49m\u001b[43mnp\u001b[49m\u001b[38;5;241;43m.\u001b[39;49m\u001b[43mfloat64\u001b[49m\u001b[43m,\u001b[49m\u001b[43m \u001b[49m\u001b[43mh\u001b[49m\u001b[38;5;241;43m=\u001b[39;49m\u001b[38;5;28;43;01mTrue\u001b[39;49;00m\n\u001b[1;32m      3\u001b[0m \u001b[43m)\u001b[49m\n\u001b[1;32m      4\u001b[0m I_planck_varres, h \u001b[38;5;241m=\u001b[39m hp\u001b[38;5;241m.\u001b[39mread_map(dust_varresI, dtype\u001b[38;5;241m=\u001b[39mnp\u001b[38;5;241m.\u001b[39mfloat64, h\u001b[38;5;241m=\u001b[39m\u001b[38;5;28;01mTrue\u001b[39;00m)\n",
      "File \u001b[0;32m/global/common/software/cmb/zonca/conda/pycmb/lib/python3.10/site-packages/astropy/utils/decorators.py:603\u001b[0m, in \u001b[0;36mdeprecated_renamed_argument.<locals>.decorator.<locals>.wrapper\u001b[0;34m(*args, **kwargs)\u001b[0m\n\u001b[1;32m    600\u001b[0m             msg \u001b[38;5;241m+\u001b[39m\u001b[38;5;241m=\u001b[39m \u001b[38;5;124mf\u001b[39m\u001b[38;5;124m\"\u001b[39m\u001b[38;5;130;01m\\n\u001b[39;00m\u001b[38;5;124m        Use \u001b[39m\u001b[38;5;132;01m{\u001b[39;00malternative\u001b[38;5;132;01m}\u001b[39;00m\u001b[38;5;124m instead.\u001b[39m\u001b[38;5;124m\"\u001b[39m\n\u001b[1;32m    601\u001b[0m         warnings\u001b[38;5;241m.\u001b[39mwarn(msg, warning_type, stacklevel\u001b[38;5;241m=\u001b[39m\u001b[38;5;241m2\u001b[39m)\n\u001b[0;32m--> 603\u001b[0m \u001b[38;5;28;01mreturn\u001b[39;00m \u001b[43mfunction\u001b[49m\u001b[43m(\u001b[49m\u001b[38;5;241;43m*\u001b[39;49m\u001b[43margs\u001b[49m\u001b[43m,\u001b[49m\u001b[43m \u001b[49m\u001b[38;5;241;43m*\u001b[39;49m\u001b[38;5;241;43m*\u001b[39;49m\u001b[43mkwargs\u001b[49m\u001b[43m)\u001b[49m\n",
      "File \u001b[0;32m/global/common/software/cmb/zonca/conda/pycmb/lib/python3.10/site-packages/healpy/fitsfunc.py:446\u001b[0m, in \u001b[0;36mread_map\u001b[0;34m(filename, field, dtype, nest, partial, hdu, h, verbose, memmap)\u001b[0m\n\u001b[1;32m    444\u001b[0m         m \u001b[38;5;241m=\u001b[39m fits_hdu\u001b[38;5;241m.\u001b[39mdata\u001b[38;5;241m.\u001b[39mfield(ff)\u001b[38;5;241m.\u001b[39mravel()\n\u001b[1;32m    445\u001b[0m     \u001b[38;5;28;01melse\u001b[39;00m:\n\u001b[0;32m--> 446\u001b[0m         m \u001b[38;5;241m=\u001b[39m \u001b[43mfits_hdu\u001b[49m\u001b[38;5;241;43m.\u001b[39;49m\u001b[43mdata\u001b[49m\u001b[38;5;241m.\u001b[39mfield(ff)\u001b[38;5;241m.\u001b[39mastype(curr_dtype, copy\u001b[38;5;241m=\u001b[39m\u001b[38;5;28;01mFalse\u001b[39;00m)\u001b[38;5;241m.\u001b[39mravel()\n\u001b[1;32m    447\u001b[0m \u001b[38;5;28;01mexcept\u001b[39;00m pf\u001b[38;5;241m.\u001b[39mVerifyError \u001b[38;5;28;01mas\u001b[39;00m e:\n\u001b[1;32m    448\u001b[0m     log\u001b[38;5;241m.\u001b[39mwarning(e)\n",
      "File \u001b[0;32m/global/common/software/cmb/zonca/conda/pycmb/lib/python3.10/site-packages/astropy/utils/decorators.py:836\u001b[0m, in \u001b[0;36mlazyproperty.__get__\u001b[0;34m(self, obj, owner)\u001b[0m\n\u001b[1;32m    834\u001b[0m         val \u001b[38;5;241m=\u001b[39m obj_dict\u001b[38;5;241m.\u001b[39mget(\u001b[38;5;28mself\u001b[39m\u001b[38;5;241m.\u001b[39m_key, _NotFound)\n\u001b[1;32m    835\u001b[0m         \u001b[38;5;28;01mif\u001b[39;00m val \u001b[38;5;129;01mis\u001b[39;00m _NotFound:\n\u001b[0;32m--> 836\u001b[0m             val \u001b[38;5;241m=\u001b[39m \u001b[38;5;28;43mself\u001b[39;49m\u001b[38;5;241;43m.\u001b[39;49m\u001b[43mfget\u001b[49m\u001b[43m(\u001b[49m\u001b[43mobj\u001b[49m\u001b[43m)\u001b[49m\n\u001b[1;32m    837\u001b[0m             obj_dict[\u001b[38;5;28mself\u001b[39m\u001b[38;5;241m.\u001b[39m_key] \u001b[38;5;241m=\u001b[39m val\n\u001b[1;32m    838\u001b[0m \u001b[38;5;28;01mreturn\u001b[39;00m val\n",
      "File \u001b[0;32m/global/common/software/cmb/zonca/conda/pycmb/lib/python3.10/site-packages/astropy/io/fits/hdu/table.py:407\u001b[0m, in \u001b[0;36m_TableBaseHDU.data\u001b[0;34m(self)\u001b[0m\n\u001b[1;32m    405\u001b[0m \u001b[38;5;129m@lazyproperty\u001b[39m\n\u001b[1;32m    406\u001b[0m \u001b[38;5;28;01mdef\u001b[39;00m \u001b[38;5;21mdata\u001b[39m(\u001b[38;5;28mself\u001b[39m):\n\u001b[0;32m--> 407\u001b[0m     data \u001b[38;5;241m=\u001b[39m \u001b[38;5;28;43mself\u001b[39;49m\u001b[38;5;241;43m.\u001b[39;49m\u001b[43m_get_tbdata\u001b[49m\u001b[43m(\u001b[49m\u001b[43m)\u001b[49m\n\u001b[1;32m    408\u001b[0m     data\u001b[38;5;241m.\u001b[39m_coldefs \u001b[38;5;241m=\u001b[39m \u001b[38;5;28mself\u001b[39m\u001b[38;5;241m.\u001b[39mcolumns\n\u001b[1;32m    409\u001b[0m     data\u001b[38;5;241m.\u001b[39m_character_as_bytes \u001b[38;5;241m=\u001b[39m \u001b[38;5;28mself\u001b[39m\u001b[38;5;241m.\u001b[39m_character_as_bytes\n",
      "File \u001b[0;32m/global/common/software/cmb/zonca/conda/pycmb/lib/python3.10/site-packages/astropy/io/fits/hdu/table.py:193\u001b[0m, in \u001b[0;36m_TableLikeHDU._get_tbdata\u001b[0;34m(self)\u001b[0m\n\u001b[1;32m    191\u001b[0m     data \u001b[38;5;241m=\u001b[39m raw_data[:tbsize]\u001b[38;5;241m.\u001b[39mview(dtype\u001b[38;5;241m=\u001b[39mcolumns\u001b[38;5;241m.\u001b[39mdtype, \u001b[38;5;28mtype\u001b[39m\u001b[38;5;241m=\u001b[39mnp\u001b[38;5;241m.\u001b[39mrec\u001b[38;5;241m.\u001b[39mrecarray)\n\u001b[1;32m    192\u001b[0m \u001b[38;5;28;01melse\u001b[39;00m:\n\u001b[0;32m--> 193\u001b[0m     raw_data \u001b[38;5;241m=\u001b[39m \u001b[38;5;28;43mself\u001b[39;49m\u001b[38;5;241;43m.\u001b[39;49m\u001b[43m_get_raw_data\u001b[49m\u001b[43m(\u001b[49m\u001b[38;5;28;43mself\u001b[39;49m\u001b[38;5;241;43m.\u001b[39;49m\u001b[43m_nrows\u001b[49m\u001b[43m,\u001b[49m\u001b[43m \u001b[49m\u001b[43mcolumns\u001b[49m\u001b[38;5;241;43m.\u001b[39;49m\u001b[43mdtype\u001b[49m\u001b[43m,\u001b[49m\u001b[43m \u001b[49m\u001b[38;5;28;43mself\u001b[39;49m\u001b[38;5;241;43m.\u001b[39;49m\u001b[43m_data_offset\u001b[49m\u001b[43m)\u001b[49m\n\u001b[1;32m    194\u001b[0m     \u001b[38;5;28;01mif\u001b[39;00m raw_data \u001b[38;5;129;01mis\u001b[39;00m \u001b[38;5;28;01mNone\u001b[39;00m:\n\u001b[1;32m    195\u001b[0m         \u001b[38;5;66;03m# This can happen when a brand new table HDU is being created\u001b[39;00m\n\u001b[1;32m    196\u001b[0m         \u001b[38;5;66;03m# and no data has been assigned to the columns, which case just\u001b[39;00m\n\u001b[1;32m    197\u001b[0m         \u001b[38;5;66;03m# return an empty array\u001b[39;00m\n\u001b[1;32m    198\u001b[0m         raw_data \u001b[38;5;241m=\u001b[39m np\u001b[38;5;241m.\u001b[39marray([], dtype\u001b[38;5;241m=\u001b[39mcolumns\u001b[38;5;241m.\u001b[39mdtype)\n",
      "File \u001b[0;32m/global/common/software/cmb/zonca/conda/pycmb/lib/python3.10/site-packages/astropy/io/fits/hdu/base.py:559\u001b[0m, in \u001b[0;36m_BaseHDU._get_raw_data\u001b[0;34m(self, shape, code, offset)\u001b[0m\n\u001b[1;32m    557\u001b[0m     \u001b[38;5;28;01mreturn\u001b[39;00m np\u001b[38;5;241m.\u001b[39mndarray(shape, dtype\u001b[38;5;241m=\u001b[39mcode, buffer\u001b[38;5;241m=\u001b[39m\u001b[38;5;28mself\u001b[39m\u001b[38;5;241m.\u001b[39m_buffer, offset\u001b[38;5;241m=\u001b[39moffset)\n\u001b[1;32m    558\u001b[0m \u001b[38;5;28;01melif\u001b[39;00m \u001b[38;5;28mself\u001b[39m\u001b[38;5;241m.\u001b[39m_file:\n\u001b[0;32m--> 559\u001b[0m     \u001b[38;5;28;01mreturn\u001b[39;00m \u001b[38;5;28;43mself\u001b[39;49m\u001b[38;5;241;43m.\u001b[39;49m\u001b[43m_file\u001b[49m\u001b[38;5;241;43m.\u001b[39;49m\u001b[43mreadarray\u001b[49m\u001b[43m(\u001b[49m\u001b[43moffset\u001b[49m\u001b[38;5;241;43m=\u001b[39;49m\u001b[43moffset\u001b[49m\u001b[43m,\u001b[49m\u001b[43m \u001b[49m\u001b[43mdtype\u001b[49m\u001b[38;5;241;43m=\u001b[39;49m\u001b[43mcode\u001b[49m\u001b[43m,\u001b[49m\u001b[43m \u001b[49m\u001b[43mshape\u001b[49m\u001b[38;5;241;43m=\u001b[39;49m\u001b[43mshape\u001b[49m\u001b[43m)\u001b[49m\n\u001b[1;32m    560\u001b[0m \u001b[38;5;28;01melse\u001b[39;00m:\n\u001b[1;32m    561\u001b[0m     \u001b[38;5;28;01mreturn\u001b[39;00m \u001b[38;5;28;01mNone\u001b[39;00m\n",
      "File \u001b[0;32m/global/common/software/cmb/zonca/conda/pycmb/lib/python3.10/site-packages/astropy/io/fits/file.py:410\u001b[0m, in \u001b[0;36m_File.readarray\u001b[0;34m(self, size, offset, dtype, shape)\u001b[0m\n\u001b[1;32m    408\u001b[0m         \u001b[38;5;28mself\u001b[39m\u001b[38;5;241m.\u001b[39m_file\u001b[38;5;241m.\u001b[39mseek(offset)\n\u001b[1;32m    409\u001b[0m         data \u001b[38;5;241m=\u001b[39m _array_from_file(\u001b[38;5;28mself\u001b[39m\u001b[38;5;241m.\u001b[39m_file, dtype, count)\n\u001b[0;32m--> 410\u001b[0m         \u001b[43mdata\u001b[49m\u001b[38;5;241;43m.\u001b[39;49m\u001b[43mshape\u001b[49m \u001b[38;5;241m=\u001b[39m shape\n\u001b[1;32m    411\u001b[0m         \u001b[38;5;28;01mreturn\u001b[39;00m data\n\u001b[1;32m    412\u001b[0m \u001b[38;5;28;01mfinally\u001b[39;00m:\n\u001b[1;32m    413\u001b[0m     \u001b[38;5;66;03m# Make sure we leave the file in the position we found it; on\u001b[39;00m\n\u001b[1;32m    414\u001b[0m     \u001b[38;5;66;03m# some platforms (e.g. Windows) mmaping a file handle can also\u001b[39;00m\n\u001b[1;32m    415\u001b[0m     \u001b[38;5;66;03m# reset its file pointer.\u001b[39;00m\n\u001b[1;32m    416\u001b[0m     \u001b[38;5;66;03m# Also for Windows when using mmap seek() may return weird\u001b[39;00m\n\u001b[1;32m    417\u001b[0m     \u001b[38;5;66;03m# negative values, which is fixed by calling tell() before.\u001b[39;00m\n",
      "\u001b[0;31mValueError\u001b[0m: cannot reshape array of size 10118180 into shape (50331648,)"
     ]
    }
   ],
   "source": [
    "m_planck_varres, h = hp.read_map(\n",
    "    dust_varresP, [c + \"_STOKES\" for c in comp], dtype=np.float64, h=True\n",
    ")\n",
    "I_planck_varres, h = hp.read_map(dust_varresI, dtype=np.float64, h=True)"
   ]
  },
  {
   "cell_type": "markdown",
   "id": "eba0d85c-3eda-448d-8c00-31bcb4b4ec6a",
   "metadata": {},
   "source": [
    "Maps from the two releases are in different units `MJy/sr` the former, and `K_CMB` the latter, we therefore need to perform some conversion to `uK_RJ`. "
   ]
  },
  {
   "cell_type": "code",
   "execution_count": null,
   "id": "fc284506-9442-4246-b002-f58498141163",
   "metadata": {},
   "outputs": [],
   "source": [
    "m_planck_varres <<= u.K_CMB\n",
    "I_planck_varres <<= u.MJy / u.sr\n",
    "m_planck_varres = m_planck_varres.to(\n",
    "    \"uK_RJ\", equivalencies=u.cmb_equivalencies(353 * u.GHz)\n",
    ")\n",
    "I_planck_varres = I_planck_varres.to(\n",
    "    \"uK_RJ\", equivalencies=u.cmb_equivalencies(353 * u.GHz)\n",
    ")"
   ]
  },
  {
   "cell_type": "markdown",
   "id": "6dc76669-d9dd-4df8-a7f6-14161c4e6112",
   "metadata": {},
   "source": [
    "then we are ready to combine both maps into one single TQU map. "
   ]
  },
  {
   "cell_type": "code",
   "execution_count": null,
   "id": "c57e1d34-ecaa-4a37-b8ca-007567a96b4f",
   "metadata": {},
   "outputs": [],
   "source": [
    "m_planck_varres[0] = I_planck_varres\n",
    "del I_planck_varres"
   ]
  },
  {
   "cell_type": "markdown",
   "id": "1744a6ed-10ff-4452-9424-ab3c3185208e",
   "metadata": {},
   "source": [
    "### GAL080 Planck  mask \n",
    "\n",
    "we perform the monopole removal in a region outside  the Galactic plane.  \n"
   ]
  },
  {
   "cell_type": "code",
   "execution_count": null,
   "id": "77e338b7-ffaa-4705-a2b7-503e80c98556",
   "metadata": {},
   "outputs": [],
   "source": [
    "planck_mask_filename = datadir / \"HFI_Mask_GalPlane-apo2_2048_R2.00.fits\"\n",
    "\n",
    "if not planck_mask_filename.exists():\n",
    "    !wget -O $planck_mask_filename \"http://pla.esac.esa.int/pla/aio/product-action?MAP.MAP_ID=HFI_Mask_GalPlane-apo2_2048_R2.00.fits\""
   ]
  },
  {
   "cell_type": "code",
   "execution_count": null,
   "id": "507c5fed-62e7-4c1f-87e0-e17b4d88703d",
   "metadata": {},
   "outputs": [],
   "source": [
    "planck_mask = hp.read_map(planck_mask_filename, [\"GAL080\"])\n",
    "\n",
    "planck_mask = np.int_(np.ma.masked_not_equal(planck_mask, 0.0).mask)\n",
    "fsky = planck_mask.sum() / planck_mask.size\n",
    "print(f\"masking {fsky} of the sky\")\n",
    "hp.mollview(planck_mask, title=f\"Planck common galactic mask, {comp}\")"
   ]
  },
  {
   "cell_type": "markdown",
   "id": "b9edd1b6-7c21-4bcf-b8b0-b786251a0e4e",
   "metadata": {},
   "source": [
    "#### Monopole subtraction \n",
    "\n",
    "\n",
    "Section 2.2 of [Planck 2018 XII](https://arxiv.org/pdf/1807.06212.pdf) value reported:  0.13 MJy/sr \n",
    "\n",
    "we subtract this term only to the I map for   the pixels outside  the Galactic plane mask."
   ]
  },
  {
   "cell_type": "code",
   "execution_count": null,
   "id": "3304ebb8-9cc2-47f0-9845-8b8b500fa906",
   "metadata": {},
   "outputs": [],
   "source": [
    "planck2018_monopole = (0.13 * u.MJy / u.sr).to(\n",
    "    u.uK_RJ, equivalencies=u.cmb_equivalencies(353 * u.GHz)\n",
    ")\n",
    "\n",
    "m_planck_varres[0][planck_mask] -= planck2018_monopole"
   ]
  },
  {
   "cell_type": "markdown",
   "id": "0826905e-347a-4f15-a519-3546ebc68aa0",
   "metadata": {},
   "source": [
    "\n",
    "We estimate how many pixels have I< P after we subtract the monopole "
   ]
  },
  {
   "cell_type": "code",
   "execution_count": null,
   "id": "b7bfaaa8-9e97-425f-88c7-7ecdf0cd409a",
   "metadata": {},
   "outputs": [],
   "source": [
    "maskmono = m_planck_varres[0] ** 2 < m_planck_varres[1] ** 2 + m_planck_varres[2] ** 2\n",
    "print(\n",
    "    f\"{maskmono.sum() } pixels out of { maskmono.size} expected to be NaNs in Log Pol Tens maps \"\n",
    ")"
   ]
  },
  {
   "cell_type": "code",
   "execution_count": null,
   "id": "65f72092-d770-4d2a-8936-3563f8d33e37",
   "metadata": {},
   "outputs": [],
   "source": [
    "plt.figure(figsize=(20, 5))\n",
    "for i_pol, pol in components:\n",
    "    hp.mollview(\n",
    "        m_planck_varres[i_pol],\n",
    "        title=\"Planck-GNILC 2058/2018 dust \" + pol,\n",
    "        sub=131 + i_pol,\n",
    "        unit=m_planck_varres.unit,\n",
    "        min=-300,\n",
    "        max=300,\n",
    "    )"
   ]
  },
  {
   "cell_type": "markdown",
   "id": "92c1c642-acd1-418c-a298-187d622dfd41",
   "metadata": {},
   "source": [
    "## Transform maps to Poltens quantities "
   ]
  },
  {
   "cell_type": "code",
   "execution_count": null,
   "id": "47660711-55f8-49d8-91dc-5610ae21a036",
   "metadata": {},
   "outputs": [],
   "source": [
    "def map_to_log_pol_tens(m):\n",
    "    P = np.sqrt(m[1] ** 2 + m[2] ** 2)\n",
    "    log_pol_tens = np.empty_like(m)\n",
    "    log_pol_tens[0] = np.log(m[0] ** 2 - P ** 2) / 2.0\n",
    "    log_pol_tens[1:] = m[1:] / P * np.log((m[0] + P) / (m[0] - P)) / 2.0\n",
    "    return log_pol_tens\n",
    "\n",
    "\n",
    "def log_pol_tens_to_map(log_pol_tens):\n",
    "    P = np.sqrt(log_pol_tens[1] ** 2 + log_pol_tens[2] ** 2)\n",
    "    m = np.empty_like(log_pol_tens)\n",
    "    exp_i = np.exp(log_pol_tens[0])\n",
    "    m[0] = exp_i * np.cosh(P)\n",
    "    m[1:] = log_pol_tens[1:] / P * exp_i * np.sinh(P)\n",
    "    return m\n",
    "\n",
    "\n",
    "def sigmoid(x, x0, width, power=4):\n",
    "    \"\"\"Sigmoid function given start point and width\n",
    "    Parameters\n",
    "    ----------\n",
    "    x : array\n",
    "        input x axis\n",
    "    x0 : float\n",
    "        value of x where the sigmoid starts (not the center)\n",
    "    width : float\n",
    "        width of the transition region in unit of x\n",
    "    power : float\n",
    "        tweak the steepness of the curve\n",
    "    Returns\n",
    "    -------\n",
    "    sigmoid : array\n",
    "        sigmoid, same length of x\"\"\"\n",
    "    return 1.0 / (1 + np.exp(-power * (x - x0 - width / 2) / width))"
   ]
  },
  {
   "cell_type": "code",
   "execution_count": null,
   "id": "a4798c7a-1ec9-430c-a499-b28e9d55e696",
   "metadata": {},
   "outputs": [],
   "source": [
    "log_pol_tens_varres = map_to_log_pol_tens(m_planck_varres.value)"
   ]
  },
  {
   "cell_type": "markdown",
   "id": "c9bc4c4a-82da-4a2d-8170-f03249a7285c",
   "metadata": {},
   "source": [
    "Checking NaNs  on the Poltens map "
   ]
  },
  {
   "cell_type": "code",
   "execution_count": null,
   "id": "7450ec3f-92d8-4d9e-9bbc-674e524b40a9",
   "metadata": {},
   "outputs": [],
   "source": [
    "print(\n",
    "    f\"{np.isnan(log_pol_tens_varres[0]).sum()  } pixels out of { maskmono.size} are NaNs in Log Pol Tens maps \"\n",
    ")"
   ]
  },
  {
   "cell_type": "code",
   "execution_count": null,
   "id": "4c509cdf-b7cd-47a1-8814-c3ae2560276b",
   "metadata": {},
   "outputs": [],
   "source": [
    "for i in range(3):\n",
    "    log_pol_tens_varres[i, np.isnan(log_pol_tens_varres[i])] = np.nanmedian(\n",
    "        log_pol_tens_varres[i]\n",
    "    )"
   ]
  },
  {
   "cell_type": "markdown",
   "id": "5a53f9f2-ddab-440c-a68f-417bd2ddede5",
   "metadata": {},
   "source": [
    "Set all the NaNs to the map median value  \n"
   ]
  },
  {
   "cell_type": "code",
   "execution_count": null,
   "id": "adaf518b-4b05-4ddf-87f8-368da9def8fc",
   "metadata": {},
   "outputs": [],
   "source": [
    "assert np.isnan(log_pol_tens_varres).sum() == 0"
   ]
  },
  {
   "cell_type": "code",
   "execution_count": null,
   "id": "b1e6b7b8-1c8a-4b00-adf1-9811b352dd49",
   "metadata": {},
   "outputs": [],
   "source": [
    "for i_pol, pol in components:\n",
    "    hp.mollview(\n",
    "        log_pol_tens_varres[i_pol],\n",
    "        title=\"Log Pol tensor \" + pol,\n",
    "        sub=131 + i_pol,\n",
    "        unit=m_planck_varres.unit,\n",
    "    )"
   ]
  },
  {
   "cell_type": "code",
   "execution_count": null,
   "id": "f4f86cfb-d85d-43fe-8bf2-f4945650b128",
   "metadata": {},
   "outputs": [],
   "source": [
    "from scipy.optimize import curve_fit"
   ]
  },
  {
   "cell_type": "code",
   "execution_count": null,
   "id": "7c341313-4f5f-4611-bb79-8ea6779e4672",
   "metadata": {},
   "outputs": [],
   "source": [
    "def model(ell, A, gamma):\n",
    "    out = A * ell ** gamma\n",
    "    return out"
   ]
  },
  {
   "cell_type": "code",
   "execution_count": null,
   "id": "8ad6a315-1cf1-4456-819c-34c6fab76529",
   "metadata": {},
   "outputs": [],
   "source": [
    "def run_anafast(m, lmax):\n",
    "    clanaf = hp.anafast(m, lmax=lmax)\n",
    "    cl = {}\n",
    "    cl[\"TT\"] = clanaf[0]\n",
    "    cl[\"EE\"] = clanaf[1]\n",
    "    cl[\"BB\"] = clanaf[2]\n",
    "    cl[\"TE\"] = clanaf[3]\n",
    "    ell = np.arange(lmax + 1)\n",
    "\n",
    "    cl_norm = ell * (ell + 1) / np.pi / 2\n",
    "    cl_norm[0] = 1\n",
    "    return ell, cl_norm, cl\n",
    "\n",
    "\n",
    "def run_namaster(m, mask, lmax, nlbins):\n",
    "    \"\"\"Compute C_ell with NaMaster\n",
    "    Parameters\n",
    "    ----------\n",
    "    m : numpy array\n",
    "        T only or TQU HEALPix map\n",
    "    mask : numpy array\n",
    "        mask, 1D, 0 for masked pixels,\n",
    "        needs to have same Nside of the input map\n",
    "    lmax : int\n",
    "        maximum ell of the spherical harmonics transform\n",
    "    Returns\n",
    "    -------\n",
    "    ell : numpy array\n",
    "        array of ell from 0 to lmax (length lmax+1)\n",
    "    cl_norm : numpy array\n",
    "        ell (ell+1)/2pi factor to turn C_ell into D_ell\n",
    "        first element is set to 1\n",
    "    cl : dict of numpy arrays\n",
    "        dictionary of numpy arrays with all components\n",
    "        of the spectra, for now only II, EE, BB, no\n",
    "        cross-spectra\n",
    "    \"\"\"\n",
    "\n",
    "    nside = hp.npix2nside(len(mask))\n",
    "    # b = nmt.NmtBin.from_nside_linear(nside, 16)\n",
    "    # leff = b.get_effective_ells()\n",
    "    binning = nmt.NmtBin(nside=nside, nlb=nlbins, lmax=lmax, is_Dell=False)\n",
    "\n",
    "    cl = {}\n",
    "\n",
    "    if len(m) == 3:\n",
    "        f_0 = nmt.NmtField(mask, [m[0]])\n",
    "        f_2 = nmt.NmtField(\n",
    "            mask, m[1:].copy(), purify_b=True\n",
    "        )  # NaMaster masks the map in-place\n",
    "        cl_namaster = nmt.compute_full_master(f_2, f_2, binning)\n",
    "        cl[\"EE\"] = np.concatenate([[0, 0], cl_namaster[0]])\n",
    "        cl[\"BB\"] = np.concatenate([[0, 0], cl_namaster[3]])\n",
    "        cl_namaster = nmt.compute_full_master(f_0, f_2, binning)\n",
    "        cl[\"TE\"] = np.concatenate([[0, 0], cl_namaster[0]])\n",
    "    elif m.ndim == 1:\n",
    "        m = m.reshape((1, -1))\n",
    "        f_0 = nmt.NmtField(mask, [m[0]])\n",
    "\n",
    "    cl_namaster_I = nmt.compute_full_master(f_0, f_0, binning)\n",
    "\n",
    "    cl[\"TT\"] = np.concatenate([[0, 0], cl_namaster_I[0]])\n",
    "    ell = np.concatenate([[0, 1], binning.get_effective_ells()])\n",
    "    cl_norm = ell * (ell + 1) / np.pi / 2\n",
    "    cl_norm[0] = 1\n",
    "    return ell, cl_norm, cl"
   ]
  },
  {
   "cell_type": "code",
   "execution_count": null,
   "id": "572bfc2d-fb81-4d3c-9b1c-d50d2e07d541",
   "metadata": {},
   "outputs": [],
   "source": [
    "print(\"run anafast on full  sky  \")\n",
    "ell, cl_norm, cl = run_anafast(log_pol_tens_varres, lmax)"
   ]
  },
  {
   "cell_type": "markdown",
   "id": "9a98b166-58b2-45d2-ba9e-61f774ec67f9",
   "metadata": {},
   "source": [
    "# (New) employing spectral indices from literature \n",
    "\n",
    "- https://arxiv.org/pdf/1801.04945.pdf and https://www.aanda.org/articles/aa/pdf/2016/09/aa28503-16.pdf\n",
    "- 2 pivotal scales `ell1=110` and `ell2=800 ` \n",
    "- non zero TE  spectrum \n",
    "\n"
   ]
  },
  {
   "cell_type": "code",
   "execution_count": null,
   "id": "b72443b3-b614-40b2-bcaf-ba98d2266d31",
   "metadata": {},
   "outputs": [],
   "source": [
    "ell_fit_low = {\"TT\": 50, \"EE\": 50, \"BB\": 50, \"TE\": 50}\n",
    "ell_fit_high = {\"TT\": 100, \"EE\": 100, \"BB\": 100, \"TE\": 100}\n",
    "gamma_fit2 = {\"TT\": -0.8, \"EE\": -0.42, \"BB\": -0.54, \"TE\": -0.50}\n",
    "A_fit, gamma_fit, A_fit_std, gamma_fit_std = {}, {}, {}, {}\n",
    "plt.figure(figsize=(25, 5))\n",
    "A_fit2 = {}\n",
    "smallscales = []\n",
    "\n",
    "ell_pivot = 2000\n",
    "for ii, pol in enumerate(spectra_components):\n",
    "    plt.subplot(141 + ii)\n",
    "    xdata = np.arange(ell_fit_low[pol], ell_fit_high[pol])\n",
    "    ydata = xdata * (xdata + 1) / np.pi / 2 * cl[pol][xdata]\n",
    "    (A_fit[pol], gamma_fit[pol]), cov = curve_fit(model, xdata, ydata)\n",
    "    A_fit2[pol] = np.fabs(A_fit[pol]) * ell_fit_high[pol] ** (\n",
    "        gamma_fit[pol] - gamma_fit2[pol]\n",
    "    )\n",
    "    plt.loglog(ell, ell * (ell + 1) / np.pi / 2 * cl[pol])\n",
    "    scaling = model(ell[:ell_pivot], A_fit2[pol], gamma_fit2[pol])\n",
    "    scaling[:2] = 0\n",
    "    plt.plot(ell[:ell_pivot], scaling, label=r\"$\\alpha$\" + f\"[{pol}]:{gamma_fit2[pol]}\")\n",
    "    smallscales.append(scaling)\n",
    "\n",
    "    plt.axvline(ell_fit_high[pol], linestyle=\"--\", color=\"gray\")\n",
    "    plt.axvline(ell_pivot, linestyle=\"--\", color=\"k\")\n",
    "    plt.grid()\n",
    "    plt.title(f\"{pol}   spectrum for dust Dust Pol.Tens  \")\n",
    "\n",
    "    plt.xlabel((\"$\\ell$\"))\n",
    "    plt.xlim(2, lmax)\n",
    "    plt.legend(fontsize=15)\n",
    "\n",
    "for ii, pol in enumerate(spectra_components):\n",
    "    # we change the EE and BB power laws\n",
    "    xdata = np.arange(ell_fit_high[pol], ell.size)\n",
    "    ydata = xdata * (xdata + 1) / np.pi / 2 * cl[pol][xdata]\n",
    "    (A_fit[pol], gamma_fit[pol]), cov = curve_fit(model, xdata, ydata)\n",
    "\n",
    "    plt.subplot(141 + ii)\n",
    "    if pol == \"TE\":\n",
    "        A_fit2[pol] = A_fit2[pol] * ell_pivot ** (gamma_fit2[pol] - gamma_fit2[\"TE\"])\n",
    "        scaling = model(ell[ell_pivot:], A_fit2[pol], gamma_fit2[\"TE\"])\n",
    "\n",
    "        plt.plot(\n",
    "            ell[ell_pivot:],\n",
    "            scaling,\n",
    "            linewidth=3,\n",
    "            alpha=0.4,\n",
    "            color=\"k\",\n",
    "        )\n",
    "        smallscales[ii] = np.concatenate([smallscales[ii], scaling])\n",
    "    else:\n",
    "        A_fit2[pol] = A_fit2[pol] * ell_pivot ** (gamma_fit2[pol] - gamma_fit2[\"TT\"])\n",
    "        scaling = model(ell[ell_pivot:], A_fit2[pol], gamma_fit2[\"TT\"])\n",
    "\n",
    "        plt.plot(\n",
    "            ell[ell_pivot:],\n",
    "            scaling,\n",
    "            linewidth=3,\n",
    "            alpha=0.4,\n",
    "            color=\"k\",\n",
    "        )\n",
    "        smallscales[ii] = np.concatenate([smallscales[ii], scaling])\n",
    "\n",
    "plt.subplot(141)\n",
    "\n",
    "plt.ylabel(\"$\\ell(\\ell+1)C_\\ell/2\\pi [\\mu K_{RJ}]$\")\n",
    "plt.ylim(1e-5, 1e0)\n",
    "plt.subplot(142)\n",
    "plt.ylim(1e-7, 1e-3)\n",
    "plt.subplot(143)\n",
    "plt.ylim(1e-7, 1e-3)\n",
    "plt.subplot(143)\n",
    "plt.ylim(1e-7, 1e-1)"
   ]
  },
  {
   "cell_type": "code",
   "execution_count": null,
   "id": "ee8f6a40-2ea2-4893-a7fb-7fe9de954570",
   "metadata": {},
   "outputs": [],
   "source": [
    "cl_ss = [\n",
    "    smallscales[ii] * sigmoid(ell, ell_fit_high[pol], ell_fit_high[pol] / 10) / cl_norm\n",
    "    for ii, pol in enumerate(spectra_components)\n",
    "]"
   ]
  },
  {
   "cell_type": "markdown",
   "id": "cf746501-b911-4c66-aba6-6008496b3b72",
   "metadata": {},
   "source": [
    "# (NEW)  Modulating  intensity and polarization small scales \n",
    "\n",
    "- we will produce a modulation map at a very low reso (~ 11.3 degrees), to save memory we consider `nside=512`\n",
    "- we downgrade the `iqu` map at `nside=512` for the same reason as above \n",
    "- we  considering the center of pixels  at `nside=8`  \n",
    "- we  estimate the TT and EE power spectra in a circle of 11.3 deg apodized by 5 deg and  centered in each `nside=8`   pixel \n",
    "- the modulation value in the patch   $p$ is given by : \n",
    "$$\n",
    "A _p = \\sqrt{\\frac{C_{\\ell=80, p}} {C_{ell=80,full}}  }\n",
    "$$\n",
    "- notice that in a given pixel we actually take an average value as the circles of neighbouring pixels  overlap, for this reason we have to divide the modulation map by the map encoding the  effective number of estimates \n",
    "- we apply a smoothing w/ a gaussian beam at 11.5 deg, to avoid sharp transitions . \n",
    "\n"
   ]
  },
  {
   "cell_type": "code",
   "execution_count": null,
   "id": "c43c6692-90ba-4ddb-9f80-d79df69c06fd",
   "metadata": {},
   "outputs": [],
   "source": [
    "nsidepatches = 8\n",
    "centers = np.vstack(\n",
    "    hp.pix2vec(ipix=np.arange(hp.nside2npix(nsidepatches)), nside=nsidepatches)\n",
    ").T\n",
    "mout = hp.ud_grade(log_pol_tens_varres, nside_out=512)\n",
    "\n",
    "fit_model = lambda x, Ad, alpha: Ad * (x / 100) ** (alpha)\n",
    "\n",
    "tmod = np.zeros(hp.nside2npix(hp.get_nside(mout)))\n",
    "pmod = np.zeros(hp.nside2npix(hp.get_nside(mout)))\n",
    "n_eff = np.zeros_like(mout[0])\n",
    "\n",
    "\n",
    "def bin_cell(cell, dig):\n",
    "    cb = []\n",
    "    errb = []\n",
    "    for i in np.unique(dig):\n",
    "        msk = dig == i\n",
    "        cb.append(cell[msk].mean())\n",
    "        errb.append(cell[msk].std())\n",
    "\n",
    "    return np.array(cb), np.array(errb)\n",
    "\n",
    "\n",
    "def bin_ell(ells, dig):\n",
    "    lb = []\n",
    "    dl = []\n",
    "    for i in np.unique(dig):\n",
    "        msk = dig == i\n",
    "        lb.append(ells[msk].mean())\n",
    "        dl.append((ells[msk].max() - ells[msk].min()) / 2)\n",
    "    return np.array(lb), np.array(dl)\n",
    "\n",
    "\n",
    "for ipix, c in enumerate(centers):\n",
    "    patch = np.zeros_like(mout[0])\n",
    "    maskpixs = hp.query_disc(nside=hp.get_nside(mout), vec=c, radius=np.radians(11.3))\n",
    "    patch[maskpixs] = 1\n",
    "\n",
    "    apo_patch = nmt.mask_apodization(patch, 5, apotype=\"C2\")\n",
    "    fsky = apo_patch.sum() / apo_patch.size\n",
    "\n",
    "    if ipix % 100 == 0:\n",
    "        print(ipix)\n",
    "    ellp, norm, clp = run_anafast(m=mout * apo_patch, lmax=512)\n",
    "    # bin the anafast spectra\n",
    "    digi = np.digitize(ellp, np.logspace(1, 2.5, 24))\n",
    "\n",
    "    dtt, errtt = bin_cell((clp[\"TT\"]) / fsky, digi)\n",
    "    dee, erree = bin_cell((clp[\"EE\"]) / fsky, digi)\n",
    "\n",
    "    lb, delta_l = bin_ell(ellp, digi)\n",
    "    # fit power law parameters for ell<100 for EE and 80<ell<200 for TT\n",
    "    lmask = (lb) < 100\n",
    "    lmaskt = np.logical_and((lb) < 200, lb > 80)\n",
    "    param_ee, _ = curve_fit(\n",
    "        fit_model, ydata=dee[lmask], xdata=lb[lmask], sigma=erree[lmask]\n",
    "    )\n",
    "    param_tt, _ = curve_fit(\n",
    "        fit_model, ydata=dtt[lmaskt], xdata=lb[lmaskt], sigma=errtt[lmaskt]\n",
    "    )\n",
    "    # assign modulation in the circle patch\n",
    "    l_ = 80\n",
    "\n",
    "    pmod += np.sqrt(fit_model(l_, *param_ee) / cl[\"EE\"][l_]) * apo_patch\n",
    "    tmod += np.sqrt(fit_model(l_, *param_tt) / cl[\"TT\"][l_]) * apo_patch\n",
    "    n_eff += apo_patch"
   ]
  },
  {
   "cell_type": "code",
   "execution_count": null,
   "id": "2c20459f-0fc5-458f-952a-21ca4d29a93e",
   "metadata": {},
   "outputs": [],
   "source": [
    "psm = hp.smoothing(pmod / n_eff, fwhm=np.radians(11.5))\n",
    "tsm = hp.smoothing(tmod / n_eff, fwhm=np.radians(11.5))\n",
    "hp.mollview(psm, sub=122, title=\"P Modulation\")\n",
    "hp.mollview(tsm, sub=121, title=\"I Modulation\")"
   ]
  },
  {
   "cell_type": "code",
   "execution_count": null,
   "id": "b4ff1d68-b0b1-45b0-b522-81442a0ab2b6",
   "metadata": {},
   "outputs": [],
   "source": [
    "hp.write_map(\n",
    "    datadir / \"dust_gnilc_modulation_nside512.fits\",\n",
    "    [tsm, psm],\n",
    "    column_units=\"\",\n",
    "    coord=\"G\",\n",
    "    column_names=[\"TEMPERATURE\", \"POLARISATION\"],\n",
    "    dtype=np.float32,\n",
    "    overwrite=True,\n",
    ")"
   ]
  },
  {
   "cell_type": "markdown",
   "id": "8f17e948-125e-40b2-86b9-2655fb58899c",
   "metadata": {},
   "source": [
    "### Small scale injection "
   ]
  },
  {
   "cell_type": "code",
   "execution_count": null,
   "id": "a4b06710-daf9-43af-8fbd-2bfa691c5d7c",
   "metadata": {},
   "outputs": [],
   "source": [
    "output_nside = 2048\n",
    "output_lmax = output_nside\n",
    "lmax = output_lmax\n",
    "ell = np.arange(output_lmax + 1)\n",
    "cl_norm = ell * (ell + 1) / np.pi / 2\n",
    "cl_norm[:1] = 1"
   ]
  },
  {
   "cell_type": "code",
   "execution_count": null,
   "id": "7e867e9b-a306-488c-b940-77bc22248855",
   "metadata": {},
   "outputs": [],
   "source": [
    "np.random.seed(8192)"
   ]
  },
  {
   "cell_type": "code",
   "execution_count": null,
   "id": "551b6c56-8f6a-437f-90c3-612251633a20",
   "metadata": {},
   "outputs": [],
   "source": [
    "log_ss = hp.synfast(\n",
    "    cl_ss,\n",
    "    lmax=lmax,\n",
    "    new=True,\n",
    "    nside=output_nside,\n",
    ")"
   ]
  },
  {
   "cell_type": "code",
   "execution_count": null,
   "id": "c1dec36e-bd2b-40b4-882a-726244e269ff",
   "metadata": {},
   "outputs": [],
   "source": [
    "polarization_mod = hp.ud_grade(psm, nside_out=output_nside)\n",
    "temperature_mod = hp.ud_grade(tsm, nside_out=output_nside)"
   ]
  },
  {
   "cell_type": "code",
   "execution_count": null,
   "id": "c0eee3de-00fe-4758-899f-eedb2531f687",
   "metadata": {},
   "outputs": [],
   "source": [
    "log_ss_modulated = log_ss.copy()\n",
    "log_ss_modulated[0] = log_ss[0] * temperature_mod\n",
    "log_ss_modulated[1:] = log_ss[1:] * polarization_mod"
   ]
  },
  {
   "cell_type": "code",
   "execution_count": null,
   "id": "ce9328ae-82a5-4293-93df-05890f217ce6",
   "metadata": {},
   "outputs": [],
   "source": [
    "\n",
    "alm_log_pol_tens_fullsky = hp.map2alm(\n",
    "    log_pol_tens_varres, lmax=output_lmax, use_pixel_weights=True\n",
    ")\n",
    "\n",
    "ii_LS_alm = np.empty_like(alm_log_pol_tens_fullsky)\n",
    "for ii, pol in enumerate(spectra_components[:-1]):\n",
    "\n",
    "    sig_func = sigmoid(ell, x0=ell_fit_high[pol], width=ell_fit_high[pol] / 10)\n",
    "\n",
    "    ii_LS_alm[ii] = hp.almxfl(alm_log_pol_tens_fullsky[ii], (1.0 - sig_func) ** 0.2)\n",
    "\n",
    "\n",
    "log_ls = hp.alm2map(ii_LS_alm, nside=output_nside)\n",
    "ii_outmap = log_ls + log_ss_modulated  # * planck_mask  +   (1-  planck_mask)* log_ss"
   ]
  },
  {
   "cell_type": "markdown",
   "id": "c1498cd4-581f-4dd6-bedc-31070caa1623",
   "metadata": {},
   "source": [
    "## small scales included only outside the `GAL097` planck mask \n",
    "Employ observed data inside the Gal. Plane \n"
   ]
  },
  {
   "cell_type": "code",
   "execution_count": null,
   "id": "8c9ed60a-9c2d-45ce-a96f-159835527abf",
   "metadata": {},
   "outputs": [],
   "source": [
    "galplane_mask = hp.read_map(planck_mask_filename, [\"GAL097\"])"
   ]
  },
  {
   "cell_type": "code",
   "execution_count": null,
   "id": "b1a9b426-938e-4164-8441-4801109ac06f",
   "metadata": {},
   "outputs": [],
   "source": [
    "output_map = log_pol_tens_to_map(ii_outmap)\n",
    "\n",
    "output_map = galplane_mask * output_map + (1 - galplane_mask) * m_planck_varres.value"
   ]
  },
  {
   "cell_type": "code",
   "execution_count": null,
   "id": "97261496-d957-42c0-88e6-8a96475cb3ac",
   "metadata": {},
   "outputs": [],
   "source": [
    "hp.write_map(\n",
    "    datadir / \"dust_gnilc_template_nside2048.fits\",\n",
    "    output_map,\n",
    "    column_units=\"uK_RJ\",\n",
    "    coord=\"G\",\n",
    "    dtype=np.float32,\n",
    "    overwrite=True,\n",
    ")"
   ]
  },
  {
   "cell_type": "code",
   "execution_count": null,
   "id": "1ca4b868-764f-4bf5-9a92-f6566c5b5fe9",
   "metadata": {},
   "outputs": [],
   "source": [
    "plt.figure(figsize=(15, 5))\n",
    "hp.gnomview(\n",
    "    log_ss_modulated[0],\n",
    "    reso=3.75,\n",
    "    xsize=320,\n",
    "    rot=[30, -58],\n",
    "    sub=152,\n",
    "    title=\"small-scales poltens i \",\n",
    ")\n",
    "hp.gnomview(\n",
    "    log_ls[0],\n",
    "    reso=3.75,\n",
    "    xsize=320,\n",
    "    rot=[30, -58],\n",
    "    sub=153,\n",
    "    title=\"large-scales poltens i  \",\n",
    ")\n",
    "hp.gnomview(\n",
    "    ii_outmap[0], reso=3.75, xsize=320, rot=[30, -58], sub=151, title=\"coadded i \"\n",
    ")\n",
    "hp.gnomview(\n",
    "    log_pol_tens_varres[0],\n",
    "    reso=3.75,\n",
    "    xsize=320,\n",
    "    rot=[30, -58],\n",
    "    sub=155,\n",
    "    title=\"input  i \",\n",
    ")\n",
    "hp.gnomview(\n",
    "    temperature_mod, reso=3.75, xsize=320, rot=[30, -58], sub=154, title=\"modulation i \"\n",
    ")\n",
    "\n",
    "plt.figure(figsize=(15, 5))\n",
    "hp.gnomview(\n",
    "    log_ss_modulated[1],\n",
    "    reso=3.75,\n",
    "    xsize=320,\n",
    "    rot=[30, -58],\n",
    "    sub=152,\n",
    "    title=\"small-scales poltens q\",\n",
    ")\n",
    "hp.gnomview(\n",
    "    log_ls[1],\n",
    "    reso=3.75,\n",
    "    xsize=320,\n",
    "    rot=[30, -58],\n",
    "    sub=153,\n",
    "    title=\"large-scales poltens q\",\n",
    ")\n",
    "hp.gnomview(\n",
    "    ii_outmap[1], reso=3.75, xsize=320, rot=[30, -58], sub=151, title=\"coadded q \"\n",
    ")\n",
    "hp.gnomview(\n",
    "    log_pol_tens_varres[1],\n",
    "    reso=3.75,\n",
    "    xsize=320,\n",
    "    rot=[30, -58],\n",
    "    sub=155,\n",
    "    title=\"input  q \",\n",
    ")\n",
    "hp.gnomview(\n",
    "    polarization_mod,\n",
    "    reso=3.75,\n",
    "    xsize=320,\n",
    "    rot=[30, -58],\n",
    "    sub=154,\n",
    "    title=\"modulation p  \",\n",
    ")"
   ]
  },
  {
   "cell_type": "code",
   "execution_count": null,
   "id": "70e5b4d4-04b9-493c-b935-d35c92f81765",
   "metadata": {},
   "outputs": [],
   "source": [
    "del (\n",
    "    log_ls,\n",
    "    ii_LS_alm,\n",
    "    log_ss,\n",
    "    log_ss_modulated,\n",
    "    alm_log_pol_tens_fullsky,\n",
    ")\n",
    "del temperature_mod, polarization_mod"
   ]
  },
  {
   "cell_type": "markdown",
   "id": "e3dc85ab-c71a-458e-a736-b7de39f61d34",
   "metadata": {},
   "source": [
    "### UDgrade to accelerate the Namaster computation "
   ]
  },
  {
   "cell_type": "code",
   "execution_count": null,
   "id": "36237b72-5f62-4483-bbd8-51d7c2667503",
   "metadata": {},
   "outputs": [],
   "source": [
    "output_map512 = hp.ud_grade(output_map, nside_out=512)\n",
    "input_map512 = hp.ud_grade(m_planck_varres.value, nside_out=512)"
   ]
  },
  {
   "cell_type": "code",
   "execution_count": null,
   "id": "c5f7ede9-40cb-4c1a-a95a-68b00140d8d9",
   "metadata": {},
   "outputs": [],
   "source": [
    "bkmaskfile = datadir / \"bk14_mask_gal_n0512.fits\"\n",
    "if not bkmaskfile.exists():\n",
    "    !wget -O $bkmaskfile http://bicepkeck.org/BK14_datarelease/bk14_mask_gal_n0512.fits\n",
    "maskbk = hp.read_map(bkmaskfile, verbose=False)\n",
    "idx = np.where((maskbk < 0) | (~np.isfinite(maskbk)))\n",
    "maskbk[idx] = 0"
   ]
  },
  {
   "cell_type": "code",
   "execution_count": null,
   "id": "3a7ea88b-0aa5-4685-b5b4-4d6e59fdf3fc",
   "metadata": {},
   "outputs": [],
   "source": [
    "aoa = datadir / \"weights_aoa_spsat_apo_gal_512.fits\"\n",
    "\n",
    "if not aoa.exists():\n",
    "    !wget -O $aoa \"https://portal.nersc.gov/project/cmb/pysm-data/dust_gnilc/inputs/weights_aoa_spsat_apo_gal_512.fits\""
   ]
  },
  {
   "cell_type": "code",
   "execution_count": null,
   "id": "9b99f360-1bd0-43f5-966a-d7d228f47155",
   "metadata": {},
   "outputs": [],
   "source": [
    "mask_aoa = hp.read_map(aoa, verbose=False)"
   ]
  },
  {
   "cell_type": "code",
   "execution_count": null,
   "id": "7b1286e3-a999-4176-8203-f27925c9e545",
   "metadata": {},
   "outputs": [],
   "source": [
    "planck_masks = {\n",
    "    \"GAL099\": hp.ud_grade(hp.read_map(planck_mask_filename, [\"GAL099\"]), nside_out=512),\n",
    "    \"GAL097\": hp.ud_grade(hp.read_map(planck_mask_filename, [\"GAL097\"]), nside_out=512),\n",
    "    \"GAL090\": hp.ud_grade(hp.read_map(planck_mask_filename, [\"GAL090\"]), nside_out=512),\n",
    "    \"GAL080\": hp.ud_grade(hp.read_map(planck_mask_filename, [\"GAL080\"]), nside_out=512),\n",
    "    \"GAL070\": hp.ud_grade(hp.read_map(planck_mask_filename, [\"GAL070\"]), nside_out=512),\n",
    "    \"GAL060\": hp.ud_grade(hp.read_map(planck_mask_filename, [\"GAL060\"]), nside_out=512),\n",
    "    \"GAL040\": hp.ud_grade(hp.read_map(planck_mask_filename, [\"GAL040\"]), nside_out=512),\n",
    "    \"GAL020\": hp.ud_grade(hp.read_map(planck_mask_filename, [\"GAL020\"]), nside_out=512),\n",
    "}"
   ]
  },
  {
   "cell_type": "code",
   "execution_count": null,
   "id": "96ad447c-8fbc-41bf-8056-b15eae56936d",
   "metadata": {},
   "outputs": [],
   "source": [
    "planck_masks_2048 = {\n",
    "    \"GAL099\": hp.read_map(planck_mask_filename, [\"GAL099\"]),\n",
    "    \"GAL097\": hp.read_map(planck_mask_filename, [\"GAL097\"]),\n",
    "    \"GAL090\": hp.read_map(planck_mask_filename, [\"GAL090\"]),\n",
    "    \"GAL080\": hp.read_map(planck_mask_filename, [\"GAL080\"]),\n",
    "    \"GAL070\": hp.read_map(planck_mask_filename, [\"GAL070\"]),\n",
    "    \"GAL060\": hp.read_map(planck_mask_filename, [\"GAL060\"]),\n",
    "    \"GAL040\": hp.read_map(planck_mask_filename, [\"GAL040\"]),\n",
    "    \"GAL020\": hp.read_map(planck_mask_filename, [\"GAL020\"]),\n",
    "}"
   ]
  },
  {
   "cell_type": "code",
   "execution_count": null,
   "id": "ad0a3bb7-bf7d-44cc-aea5-6727d0eac54e",
   "metadata": {},
   "outputs": [],
   "source": [
    "ell, cl_norm, clo = run_anafast(output_map512, lmax=2048)\n",
    "ell, cl_norm, cli = run_anafast(input_map512, lmax=2048)"
   ]
  },
  {
   "cell_type": "code",
   "execution_count": null,
   "id": "f9e3ce19-f182-4909-b30a-76615db0c78e",
   "metadata": {},
   "outputs": [],
   "source": [
    "colors = plt.cm.cividis(np.linspace(0, 1, len(planck_masks.keys()) + 1))"
   ]
  },
  {
   "cell_type": "code",
   "execution_count": null,
   "id": "9b95a125-a79e-4d91-a9c7-5fa715221ca5",
   "metadata": {},
   "outputs": [],
   "source": [
    "bins = {\n",
    "    \"GAL099\": 5,\n",
    "    \"GAL097\": 5,\n",
    "    \"GAL090\": 5,\n",
    "    \"GAL080\": 5,\n",
    "    \"GAL070\": 15,\n",
    "    \"GAL060\": 15,\n",
    "    \"GAL040\": 25,\n",
    "    \"GAL020\": 25,\n",
    "}\n",
    "plt.figure(figsize=(15, 10))\n",
    "import os\n",
    "\n",
    "# for jj, k in enumerate([ \"GAL080\",\"GAL070\",\"GAL040\",\"GAL020\"  ])  :\n",
    "for jj, k in enumerate(planck_masks.keys()):\n",
    "    # fspectra = datadir / f\"dust_gnilc_varres_no_monopole_gal{k[3:]}_spectra.npz\"\n",
    "    fspectra = (\n",
    "        datadir / f\"dust_gnilc_{gnilc_template}_no_monopole_gal{k[3:]}_spectra.npz\"\n",
    "    )\n",
    "    print(k)\n",
    "    if os.path.exists(fspectra):\n",
    "        input_ell = np.load(fspectra)[\"ell\"]\n",
    "        cl_in = {kk: np.load(fspectra)[kk] for kk in spectra_components + [\"TE\"]}\n",
    "    else:\n",
    "        input_ell, cl_norm, cl_in = run_namaster(\n",
    "            m=input_map512, mask=planck_masks[k], lmax=1300, nlbins=bins[k]\n",
    "        )\n",
    "        np.savez(\n",
    "            fspectra,\n",
    "            ell=input_ell,\n",
    "            TT=cl_in[\"TT\"],\n",
    "            EE=cl_in[\"EE\"],\n",
    "            BB=cl_in[\"BB\"],\n",
    "            TE=cl_in[\"TE\"],\n",
    "        )\n",
    "\n",
    "    fspectra = (\n",
    "        datadir\n",
    "        / f\"dust_gnilc_{gnilc_template}_pysm_circles_planck_gal{k[3:]}_spectra.npz\"\n",
    "    )\n",
    "    if os.path.exists(fspectra):\n",
    "        output_ell = np.load(fspectra)[\"ell\"]\n",
    "        cl_out = {kk: np.load(fspectra)[kk] for kk in spectra_components + [\"TE\"]}\n",
    "    else:\n",
    "\n",
    "        # output_ell, cl_norm, cl_out = run_namaster(m = output_map, mask =planck_masks[k] ,lmax=3000 , nlbins = bins[k]  )\n",
    "        output_ell, cl_norm, cl_out = run_namaster(\n",
    "            m=output_map512, mask=planck_masks[k], lmax=1300, nlbins=bins[k]\n",
    "        )\n",
    "        np.savez(\n",
    "            fspectra,\n",
    "            ell=output_ell,\n",
    "            TT=cl_out[\"TT\"],\n",
    "            EE=cl_out[\"EE\"],\n",
    "            BB=cl_out[\"BB\"],\n",
    "            TE=cl_out[\"TE\"],\n",
    "        )\n",
    "\n",
    "    for ii, pol in enumerate([\"TT\", \"EE\", \"BB\", \"TE\"]):\n",
    "        plt.subplot(2, 2, ii + 1)\n",
    "        if jj == 0:\n",
    "            plt.title(pol)\n",
    "            plt.loglog(\n",
    "                ell,\n",
    "                ell ** 2 * (clo[pol]),\n",
    "                label=\"Small-Scales \",\n",
    "                color=colors[0],\n",
    "            )\n",
    "            plt.loglog(\n",
    "                ell,\n",
    "                ell ** 2 * (cli[pol]),\n",
    "                \":\",\n",
    "                label=\"GNILC map \",\n",
    "                color=colors[0],\n",
    "                alpha=0.5,\n",
    "            )\n",
    "        plt.loglog(output_ell, output_ell ** 2 * (cl_out[pol]), color=colors[jj])\n",
    "        # ,label =f\"{k}\")\n",
    "        plt.loglog(\n",
    "            input_ell,\n",
    "            input_ell ** 2 * (cl_in[pol]),\n",
    "            \":\",\n",
    "            color=colors[jj + 1],\n",
    "            alpha=0.5,\n",
    "        )\n",
    "\n",
    "plt.subplot(221)\n",
    "plt.legend()\n",
    "plt.ylabel(\"$ D_\\ell  [\\mu K_{RJ}]$\")\n",
    "plt.ylim(1e0, 2e6)\n",
    "plt.xlim(2, 1e3)\n",
    "\n",
    "plt.subplot(222)\n",
    "plt.ylim(1e-1, 2e3)\n",
    "plt.xlim(2, 1e3)\n",
    "sm = plt.cm.ScalarMappable(\n",
    "    cmap=plt.cm.cividis_r, norm=plt.Normalize(vmin=20.0, vmax=100)\n",
    ")\n",
    "cb = plt.colorbar(sm)\n",
    "cb.set_label(r\" $f_{sky}$ [%]\", rotation=\"90\", fontsize=16)\n",
    "plt.subplot(223)\n",
    "plt.ylabel(\"$ D_\\ell  [\\mu K_{RJ}]$\")\n",
    "plt.xlabel((\"$\\ell$\"))\n",
    "\n",
    "plt.ylim(1e-1, 2e3)\n",
    "plt.xlim(2, 1e3)\n",
    "\n",
    "plt.subplot(224)\n",
    "plt.ylim(1e-2, 1e5)\n",
    "plt.xlim(2, 1e3)\n",
    "\n",
    "plt.xlabel((\"$\\ell$\"))\n",
    "sm = plt.cm.ScalarMappable(\n",
    "    cmap=plt.cm.cividis_r, norm=plt.Normalize(vmin=20.0, vmax=100)\n",
    ")\n",
    "cb = plt.colorbar(sm)\n",
    "cb.set_label(r\" $f_{sky}$ [%]\", rotation=\"90\", fontsize=16)\n",
    "plt.tight_layout()"
   ]
  },
  {
   "cell_type": "code",
   "execution_count": null,
   "id": "96f07e08-c5d1-437c-a66f-658b03e96c9f",
   "metadata": {},
   "outputs": [],
   "source": [
    "# plt.figure(figsize=(15,10 ))\n",
    "import os\n",
    "\n",
    "for jj, k in enumerate(planck_masks.keys()):\n",
    "\n",
    "    fspectra = datadir / f\"dust_gnilc_varres_pysm_circles_planck_gal{k[3:]}_spectra.npz\"\n",
    "    if os.path.exists(fspectra):\n",
    "        #        print(\"read Namaster spectra  \")\n",
    "        output_ell = np.load(fspectra)[\"ell\"]\n",
    "        cl_out = {kk: np.load(fspectra)[kk] for kk in spectra_components + [\"TE\"]}\n",
    "    else:\n",
    "        #        print(\"computing spectra\")\n",
    "\n",
    "        output_ell, cl_norm, cl_out = run_namaster(\n",
    "            m=output_map512, mask=planck_masks[k], lmax=1300, nlbins=bins[k]\n",
    "        )\n",
    "        np.savez(\n",
    "            fspectra,\n",
    "            ell=output_ell,\n",
    "            TT=cl_out[\"TT\"],\n",
    "            EE=cl_out[\"EE\"],\n",
    "            BB=cl_out[\"BB\"],\n",
    "            TE=cl_out[\"TE\"],\n",
    "        )\n",
    "\n",
    "    if jj == 0:\n",
    "        plt.plot(ell, (clo[\"EE\"] / clo[\"BB\"]), color=colors[0], alpha=1)\n",
    "    plt.plot(output_ell, (cl_out[\"EE\"] / cl_out[\"BB\"]), color=colors[jj + 1], alpha=1)\n",
    "\n",
    "plt.xlim(200, 1e3)\n",
    "plt.ylim(0, 3)\n",
    "sm = plt.cm.ScalarMappable(\n",
    "    cmap=plt.cm.cividis_r, norm=plt.Normalize(vmin=20.0, vmax=100)\n",
    ")\n",
    "cb = plt.colorbar(sm)\n",
    "cb.set_label(r\" $f_{sky}$ [%]\", rotation=\"90\", fontsize=16)\n",
    "plt.xlabel((\"$\\ell$\"))\n",
    "plt.ylabel((\"E-to-B ratio\"))\n",
    "\n",
    "plt.title(gnilc_template)\n",
    "plt.tight_layout()"
   ]
  },
  {
   "cell_type": "markdown",
   "id": "72d19076-a5f2-4a01-a01d-bd0aa93695c6",
   "metadata": {},
   "source": [
    "#  we further validate E and B spectra  also within the BK and Southern Hole patches"
   ]
  },
  {
   "cell_type": "code",
   "execution_count": null,
   "id": "76bffb87-2908-4d5c-a0c0-1404b230f218",
   "metadata": {},
   "outputs": [],
   "source": [
    "def ClBB(mask, mapp):\n",
    "    map1 = mapp.copy()\n",
    "    b = nmt.NmtBin.from_nside_linear(hp.get_nside(mask), 35)\n",
    "    f_2 = nmt.NmtField(mask, map1, purify_b=True)\n",
    "    cl_22 = nmt.compute_full_master(f_2, f_2, b)\n",
    "    ell_arr = b.get_effective_ells()\n",
    "    return (ell_arr, cl_22[3], cl_22[0])"
   ]
  },
  {
   "cell_type": "code",
   "execution_count": null,
   "id": "480d385e-0b00-4035-a7e7-43a30340050f",
   "metadata": {},
   "outputs": [],
   "source": [
    "import matplotlib\n",
    "import matplotlib.pyplot as plt\n",
    "from matplotlib import rc"
   ]
  },
  {
   "cell_type": "code",
   "execution_count": null,
   "id": "6d4a222b-8415-408d-941c-760fab8c058f",
   "metadata": {},
   "outputs": [],
   "source": [
    "i_dic = {}\n",
    "(ells, clBB_i, clEE_i) = ClBB(mask_aoa, input_map512[1:, :])\n",
    "\n",
    "i_dic[\"S4\"] = [clBB_i, clEE_i]\n",
    "(ells, clBB_i, clEE_i) = ClBB(maskbk, input_map512[1:, :])\n",
    "i_dic[\"BK\"] = [clBB_i, clEE_i]"
   ]
  },
  {
   "cell_type": "code",
   "execution_count": null,
   "id": "bd951df6-bf35-489d-b337-51e3abcdd997",
   "metadata": {},
   "outputs": [],
   "source": [
    "o_dic = {}\n",
    "\n",
    "(oells, clBB_o, clEE_o) = ClBB(mask_aoa, output_map512[1:, :])\n",
    "o_dic[\"S4\"] = [clBB_o, clEE_o]\n",
    "(oells, clBB_o, clEE_o) = ClBB(maskbk, output_map512[1:, :])\n",
    "o_dic[\"BK\"] = [clBB_o, clEE_o]"
   ]
  },
  {
   "cell_type": "code",
   "execution_count": null,
   "id": "dabdf48c-e20a-4b34-9c1b-73fb59307e13",
   "metadata": {},
   "outputs": [],
   "source": [
    "bk = (np.sqrt(4.4) * u.uK_CMB).to(\n",
    "    \"uK_RJ\", equivalencies=u.cmb_equivalencies(353 * u.GHz)\n",
    ")"
   ]
  },
  {
   "cell_type": "code",
   "execution_count": null,
   "id": "f61a6ae8-3db8-4a05-b39e-79db8bb52f1d",
   "metadata": {},
   "outputs": [],
   "source": [
    "plt.figure(figsize=(15, 4))\n",
    "plt.subplot(121)\n",
    "plt.title(\"EE\")\n",
    "plt.ylabel(\"$ D_\\ell\\,\\,  [\\mu K_{RJ}]$\")\n",
    "plt.xlabel((\"$\\ell$\"))\n",
    "\n",
    "plt.plot(\n",
    "    ells,\n",
    "    ells * (ells + 1.0) * i_dic[\"BK\"][1] / (2.0 * np.pi),\n",
    "    \".\",\n",
    "    alpha=0.5,\n",
    "    color=\"C0\",\n",
    "    linestyle=\":\",\n",
    ")\n",
    "plt.plot(\n",
    "    oells,\n",
    "    oells * (oells + 1.0) * o_dic[\"BK\"][1] / (2.0 * np.pi),\n",
    "    label=\"BK\",\n",
    "    color=\"C0\",\n",
    ")\n",
    "plt.plot(\n",
    "    ells,\n",
    "    ells * (ells + 1.0) * i_dic[\"S4\"][1] / (2.0 * np.pi),\n",
    "    \".\",\n",
    "    alpha=0.5,\n",
    "    color=\"C1\",\n",
    "    linestyle=\":\",\n",
    ")\n",
    "plt.plot(\n",
    "    oells,\n",
    "    oells * (oells + 1.0) * o_dic[\"S4\"][1] / (2.0 * np.pi),\n",
    "    label=\"Southern-Hole\",\n",
    "    color=\"C1\",\n",
    ")\n",
    "plt.loglog()\n",
    "plt.ylim(1e-3, 5e-1)\n",
    "plt.xlim(40, 1.5e3)\n",
    "plt.axvline(ell_fit_high[pol], linestyle=\"--\", color=\"gray\")\n",
    "plt.axvline(ell_pivot, linestyle=\"--\", color=\"k\")\n",
    "plt.subplot(122)\n",
    "plt.title(\"BB\")\n",
    "plt.xlabel((\"$\\ell$\"))\n",
    "plt.plot(\n",
    "    ells,\n",
    "    ells * (ells + 1.0) * i_dic[\"BK\"][0] / (2.0 * np.pi),\n",
    "    \".\",\n",
    "    alpha=0.5,\n",
    "    color=\"C0\",\n",
    "    linestyle=\":\",\n",
    ")\n",
    "plt.plot(\n",
    "    oells,\n",
    "    oells * (oells + 1.0) * o_dic[\"BK\"][0] / (2.0 * np.pi),\n",
    "    label=\"BK\",\n",
    "    color=\"C0\",\n",
    ")\n",
    "plt.plot(\n",
    "    ells,\n",
    "    ells * (ells + 1.0) * i_dic[\"S4\"][0] / (2.0 * np.pi),\n",
    "    \".\",\n",
    "    alpha=0.5,\n",
    "    color=\"C1\",\n",
    "    linestyle=\":\",\n",
    ")\n",
    "plt.plot(\n",
    "    oells,\n",
    "    oells * (oells + 1.0) * o_dic[\"S4\"][0] / (2.0 * np.pi),\n",
    "    label=\"S4\",\n",
    "    color=\"C1\",\n",
    ")\n",
    "plt.scatter(\n",
    "    [80.0], [(bk ** 2).value], color=\"r\", marker=\"*\", label=r\"$A_d$ BK2021 @353GHz\"\n",
    ")\n",
    "plt.loglog()\n",
    "plt.ylim(1e-3, 5e-1)\n",
    "plt.xlim(40, 1.5e3)\n",
    "plt.axvline(ell_fit_high[pol], linestyle=\"--\", color=\"gray\")\n",
    "plt.axvline(ell_pivot, linestyle=\"--\", color=\"k\")\n",
    "plt.legend()\n",
    "plt.grid()"
   ]
  },
  {
   "cell_type": "markdown",
   "id": "0f0793d1-9b0b-4916-aa3f-9c5b671c3fe5",
   "metadata": {},
   "source": [
    "## Check polarization "
   ]
  },
  {
   "cell_type": "code",
   "execution_count": null,
   "id": "c8e08db9-a78d-43fb-ac5c-47385b241a4e",
   "metadata": {},
   "outputs": [],
   "source": [
    "get_polfrac = lambda x: np.sqrt(x[1] ** 2 + x[2] ** 2) / x[0]"
   ]
  },
  {
   "cell_type": "code",
   "execution_count": null,
   "id": "474167fd-2b31-4a81-b437-0e1bbc378ff4",
   "metadata": {},
   "outputs": [],
   "source": [
    "Pout = get_polfrac(output_map)\n",
    "Pin = get_polfrac(m_planck_varres.value)\n",
    "logpin = np.log10(Pin)\n",
    "logpout = np.log10(Pout)"
   ]
  },
  {
   "cell_type": "code",
   "execution_count": null,
   "id": "0b76ee50-dd05-4619-8833-e2321687bea6",
   "metadata": {},
   "outputs": [],
   "source": [
    "planck_masks_bool = {\n",
    "    k: np.ma.masked_greater(m, 0).mask for k, m in planck_masks_2048.items()\n",
    "}"
   ]
  },
  {
   "cell_type": "code",
   "execution_count": null,
   "id": "e2e19103-f4b8-4237-99b2-2ac90a4558bf",
   "metadata": {},
   "outputs": [],
   "source": [
    "mask_aoa2048 = hp.ud_grade(mask_aoa, nside_out=2048)\n",
    "mask_bk2048 = hp.ud_grade(maskbk, nside_out=2048)"
   ]
  },
  {
   "cell_type": "code",
   "execution_count": null,
   "id": "cacced3f-d735-44da-80e9-53d797aef603",
   "metadata": {},
   "outputs": [],
   "source": [
    "plt.figure(figsize=(15, 10))\n",
    "\n",
    "for jj, pm in enumerate(planck_masks_bool.items()):\n",
    "    k = pm[0]\n",
    "    msk = pm[1]\n",
    "    print(k)\n",
    "    if k == \"GAL099\":\n",
    "        continue\n",
    "    plt.subplot(3, 3, jj)\n",
    "\n",
    "    h, edg = np.histogram(logpout[msk], bins=np.linspace(-4, 0, 100), density=True)\n",
    "    xb = np.array([(edg[i] + edg[i + 1]) / 2 for i in range(edg.size - 1)])\n",
    "\n",
    "    plt.plot(xb, h, lw=3, color=\"C0\", alpha=0.5, label=\"output\")\n",
    "    h, edg = np.histogram(logpin[msk], density=True, bins=np.linspace(-4, 0, 100))\n",
    "    xb = np.array([(edg[i] + edg[i + 1]) / 2 for i in range(edg.size - 1)])\n",
    "\n",
    "    plt.plot(xb, h, lw=3, alpha=0.5, color=\"k\", linestyle=\":\", label=\"input\")\n",
    "    plt.ylabel(\"norm.counts\", fontsize=14)\n",
    "    plt.xlabel(r\"$\\log10( p )$\", fontsize=14)\n",
    "    plt.title(k + \" mask\")\n",
    "    plt.xlim(-3, -0.5)\n",
    "\n",
    "plt.tight_layout()\n",
    "plt.subplot(331)\n",
    "plt.legend(fontsize=11, loc=\"upper left\")\n",
    "\n",
    "plt.subplot(339)\n",
    "\n",
    "h, edg = np.histogram(\n",
    "    logpout[np.ma.masked_greater(mask_bk2048, 0).mask],\n",
    "    bins=np.linspace(-4, 0, 100),\n",
    "    density=True,\n",
    ")\n",
    "xb = np.array([(edg[i] + edg[i + 1]) / 2 for i in range(edg.size - 1)])\n",
    "plt.plot(xb, h, lw=3, color=\"C0\", alpha=0.5, label=\"output\")\n",
    "h, edg = np.histogram(\n",
    "    logpin[np.ma.masked_greater(mask_bk2048, 0).mask],\n",
    "    density=True,\n",
    "    bins=np.linspace(-4, 0, 100),\n",
    ")\n",
    "xb = np.array([(edg[i] + edg[i + 1]) / 2 for i in range(edg.size - 1)])\n",
    "plt.plot(xb, h, lw=3, alpha=0.5, color=\"k\", linestyle=\":\", label=\"input\")\n",
    "plt.title(\"BK  mask\")\n",
    "\n",
    "plt.subplot(338)\n",
    "\n",
    "\n",
    "h, edg = np.histogram(\n",
    "    logpout[np.ma.masked_greater(mask_aoa2048, 0).mask],\n",
    "    bins=np.linspace(-4, 0, 100),\n",
    "    density=True,\n",
    ")\n",
    "xb = np.array([(edg[i] + edg[i + 1]) / 2 for i in range(edg.size - 1)])\n",
    "plt.plot(xb, h, lw=3, color=\"C0\", alpha=0.5, label=\"output\")\n",
    "h, edg = np.histogram(\n",
    "    logpin[np.ma.masked_greater(mask_aoa2048, 0).mask],\n",
    "    density=True,\n",
    "    bins=np.linspace(-4, 0, 100),\n",
    ")\n",
    "xb = np.array([(edg[i] + edg[i + 1]) / 2 for i in range(edg.size - 1)])\n",
    "plt.plot(xb, h, lw=3, alpha=0.5, color=\"k\", linestyle=\":\", label=\"input\")\n",
    "plt.ylabel(\"norm.counts\", fontsize=14)\n",
    "plt.xlabel(r\"$\\log10( p )$\", fontsize=14)\n",
    "plt.title(\"S4  mask\")\n",
    "plt.xlim(-3, -0.5)"
   ]
  },
  {
   "cell_type": "code",
   "execution_count": null,
   "id": "18427ab3-81ef-40e1-a974-b1f179918010",
   "metadata": {},
   "outputs": [],
   "source": []
  }
 ],
 "metadata": {
  "@webio": {
   "lastCommId": null,
   "lastKernelId": null
  },
  "kernelspec": {
   "display_name": "pycmb",
   "language": "python",
   "name": "pycmb"
  },
  "language_info": {
   "codemirror_mode": {
    "name": "ipython",
    "version": 3
   },
   "file_extension": ".py",
   "mimetype": "text/x-python",
   "name": "python",
   "nbconvert_exporter": "python",
   "pygments_lexer": "ipython3",
   "version": "3.10.0"
  }
 },
 "nbformat": 4,
 "nbformat_minor": 5
}
